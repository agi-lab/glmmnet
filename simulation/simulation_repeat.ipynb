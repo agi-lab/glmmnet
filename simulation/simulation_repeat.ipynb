{
 "cells": [
  {
   "attachments": {},
   "cell_type": "markdown",
   "metadata": {},
   "source": [
    "# Simulation Experiments (Repeat Runs)"
   ]
  },
  {
   "cell_type": "code",
   "execution_count": 1,
   "metadata": {},
   "outputs": [],
   "source": [
    "import sys\n",
    "import logging\n",
    "import numpy as np\n",
    "import pandas as pd\n",
    "import tensorflow_probability as tfp\n",
    "import seaborn as sns\n",
    "\n",
    "from tqdm import tqdm\n",
    "from sklearn import set_config\n",
    "from bokeh.io import output_notebook\n",
    "from simulate import generate_data, run_sim_experiment_light\n",
    "\n",
    "sys.path.append(\"../\")\n",
    "from utils import set_tf_loglevel"
   ]
  },
  {
   "cell_type": "code",
   "execution_count": 2,
   "metadata": {},
   "outputs": [
    {
     "data": {
      "text/html": [
       "<div class=\"bk-root\">\n",
       "        <a href=\"https://bokeh.org\" target=\"_blank\" class=\"bk-logo bk-logo-small bk-logo-notebook\"></a>\n",
       "        <span id=\"1002\">Loading BokehJS ...</span>\n",
       "    </div>\n"
      ]
     },
     "metadata": {},
     "output_type": "display_data"
    },
    {
     "data": {
      "application/javascript": "(function(root) {\n  function now() {\n    return new Date();\n  }\n\n  const force = true;\n\n  if (typeof root._bokeh_onload_callbacks === \"undefined\" || force === true) {\n    root._bokeh_onload_callbacks = [];\n    root._bokeh_is_loading = undefined;\n  }\n\nconst JS_MIME_TYPE = 'application/javascript';\n  const HTML_MIME_TYPE = 'text/html';\n  const EXEC_MIME_TYPE = 'application/vnd.bokehjs_exec.v0+json';\n  const CLASS_NAME = 'output_bokeh rendered_html';\n\n  /**\n   * Render data to the DOM node\n   */\n  function render(props, node) {\n    const script = document.createElement(\"script\");\n    node.appendChild(script);\n  }\n\n  /**\n   * Handle when an output is cleared or removed\n   */\n  function handleClearOutput(event, handle) {\n    const cell = handle.cell;\n\n    const id = cell.output_area._bokeh_element_id;\n    const server_id = cell.output_area._bokeh_server_id;\n    // Clean up Bokeh references\n    if (id != null && id in Bokeh.index) {\n      Bokeh.index[id].model.document.clear();\n      delete Bokeh.index[id];\n    }\n\n    if (server_id !== undefined) {\n      // Clean up Bokeh references\n      const cmd_clean = \"from bokeh.io.state import curstate; print(curstate().uuid_to_server['\" + server_id + \"'].get_sessions()[0].document.roots[0]._id)\";\n      cell.notebook.kernel.execute(cmd_clean, {\n        iopub: {\n          output: function(msg) {\n            const id = msg.content.text.trim();\n            if (id in Bokeh.index) {\n              Bokeh.index[id].model.document.clear();\n              delete Bokeh.index[id];\n            }\n          }\n        }\n      });\n      // Destroy server and session\n      const cmd_destroy = \"import bokeh.io.notebook as ion; ion.destroy_server('\" + server_id + \"')\";\n      cell.notebook.kernel.execute(cmd_destroy);\n    }\n  }\n\n  /**\n   * Handle when a new output is added\n   */\n  function handleAddOutput(event, handle) {\n    const output_area = handle.output_area;\n    const output = handle.output;\n\n    // limit handleAddOutput to display_data with EXEC_MIME_TYPE content only\n    if ((output.output_type != \"display_data\") || (!Object.prototype.hasOwnProperty.call(output.data, EXEC_MIME_TYPE))) {\n      return\n    }\n\n    const toinsert = output_area.element.find(\".\" + CLASS_NAME.split(' ')[0]);\n\n    if (output.metadata[EXEC_MIME_TYPE][\"id\"] !== undefined) {\n      toinsert[toinsert.length - 1].firstChild.textContent = output.data[JS_MIME_TYPE];\n      // store reference to embed id on output_area\n      output_area._bokeh_element_id = output.metadata[EXEC_MIME_TYPE][\"id\"];\n    }\n    if (output.metadata[EXEC_MIME_TYPE][\"server_id\"] !== undefined) {\n      const bk_div = document.createElement(\"div\");\n      bk_div.innerHTML = output.data[HTML_MIME_TYPE];\n      const script_attrs = bk_div.children[0].attributes;\n      for (let i = 0; i < script_attrs.length; i++) {\n        toinsert[toinsert.length - 1].firstChild.setAttribute(script_attrs[i].name, script_attrs[i].value);\n        toinsert[toinsert.length - 1].firstChild.textContent = bk_div.children[0].textContent\n      }\n      // store reference to server id on output_area\n      output_area._bokeh_server_id = output.metadata[EXEC_MIME_TYPE][\"server_id\"];\n    }\n  }\n\n  function register_renderer(events, OutputArea) {\n\n    function append_mime(data, metadata, element) {\n      // create a DOM node to render to\n      const toinsert = this.create_output_subarea(\n        metadata,\n        CLASS_NAME,\n        EXEC_MIME_TYPE\n      );\n      this.keyboard_manager.register_events(toinsert);\n      // Render to node\n      const props = {data: data, metadata: metadata[EXEC_MIME_TYPE]};\n      render(props, toinsert[toinsert.length - 1]);\n      element.append(toinsert);\n      return toinsert\n    }\n\n    /* Handle when an output is cleared or removed */\n    events.on('clear_output.CodeCell', handleClearOutput);\n    events.on('delete.Cell', handleClearOutput);\n\n    /* Handle when a new output is added */\n    events.on('output_added.OutputArea', handleAddOutput);\n\n    /**\n     * Register the mime type and append_mime function with output_area\n     */\n    OutputArea.prototype.register_mime_type(EXEC_MIME_TYPE, append_mime, {\n      /* Is output safe? */\n      safe: true,\n      /* Index of renderer in `output_area.display_order` */\n      index: 0\n    });\n  }\n\n  // register the mime type if in Jupyter Notebook environment and previously unregistered\n  if (root.Jupyter !== undefined) {\n    const events = require('base/js/events');\n    const OutputArea = require('notebook/js/outputarea').OutputArea;\n\n    if (OutputArea.prototype.mime_types().indexOf(EXEC_MIME_TYPE) == -1) {\n      register_renderer(events, OutputArea);\n    }\n  }\n  if (typeof (root._bokeh_timeout) === \"undefined\" || force === true) {\n    root._bokeh_timeout = Date.now() + 5000;\n    root._bokeh_failed_load = false;\n  }\n\n  const NB_LOAD_WARNING = {'data': {'text/html':\n     \"<div style='background-color: #fdd'>\\n\"+\n     \"<p>\\n\"+\n     \"BokehJS does not appear to have successfully loaded. If loading BokehJS from CDN, this \\n\"+\n     \"may be due to a slow or bad network connection. Possible fixes:\\n\"+\n     \"</p>\\n\"+\n     \"<ul>\\n\"+\n     \"<li>re-rerun `output_notebook()` to attempt to load from CDN again, or</li>\\n\"+\n     \"<li>use INLINE resources instead, as so:</li>\\n\"+\n     \"</ul>\\n\"+\n     \"<code>\\n\"+\n     \"from bokeh.resources import INLINE\\n\"+\n     \"output_notebook(resources=INLINE)\\n\"+\n     \"</code>\\n\"+\n     \"</div>\"}};\n\n  function display_loaded() {\n    const el = document.getElementById(\"1002\");\n    if (el != null) {\n      el.textContent = \"BokehJS is loading...\";\n    }\n    if (root.Bokeh !== undefined) {\n      if (el != null) {\n        el.textContent = \"BokehJS \" + root.Bokeh.version + \" successfully loaded.\";\n      }\n    } else if (Date.now() < root._bokeh_timeout) {\n      setTimeout(display_loaded, 100)\n    }\n  }\n\n  function run_callbacks() {\n    try {\n      root._bokeh_onload_callbacks.forEach(function(callback) {\n        if (callback != null)\n          callback();\n      });\n    } finally {\n      delete root._bokeh_onload_callbacks\n    }\n    console.debug(\"Bokeh: all callbacks have finished\");\n  }\n\n  function load_libs(css_urls, js_urls, callback) {\n    if (css_urls == null) css_urls = [];\n    if (js_urls == null) js_urls = [];\n\n    root._bokeh_onload_callbacks.push(callback);\n    if (root._bokeh_is_loading > 0) {\n      console.debug(\"Bokeh: BokehJS is being loaded, scheduling callback at\", now());\n      return null;\n    }\n    if (js_urls == null || js_urls.length === 0) {\n      run_callbacks();\n      return null;\n    }\n    console.debug(\"Bokeh: BokehJS not loaded, scheduling load and callback at\", now());\n    root._bokeh_is_loading = css_urls.length + js_urls.length;\n\n    function on_load() {\n      root._bokeh_is_loading--;\n      if (root._bokeh_is_loading === 0) {\n        console.debug(\"Bokeh: all BokehJS libraries/stylesheets loaded\");\n        run_callbacks()\n      }\n    }\n\n    function on_error(url) {\n      console.error(\"failed to load \" + url);\n    }\n\n    for (let i = 0; i < css_urls.length; i++) {\n      const url = css_urls[i];\n      const element = document.createElement(\"link\");\n      element.onload = on_load;\n      element.onerror = on_error.bind(null, url);\n      element.rel = \"stylesheet\";\n      element.type = \"text/css\";\n      element.href = url;\n      console.debug(\"Bokeh: injecting link tag for BokehJS stylesheet: \", url);\n      document.body.appendChild(element);\n    }\n\n    for (let i = 0; i < js_urls.length; i++) {\n      const url = js_urls[i];\n      const element = document.createElement('script');\n      element.onload = on_load;\n      element.onerror = on_error.bind(null, url);\n      element.async = false;\n      element.src = url;\n      console.debug(\"Bokeh: injecting script tag for BokehJS library: \", url);\n      document.head.appendChild(element);\n    }\n  };\n\n  function inject_raw_css(css) {\n    const element = document.createElement(\"style\");\n    element.appendChild(document.createTextNode(css));\n    document.body.appendChild(element);\n  }\n\n  const js_urls = [\"https://cdn.bokeh.org/bokeh/release/bokeh-2.4.3.min.js\", \"https://cdn.bokeh.org/bokeh/release/bokeh-gl-2.4.3.min.js\", \"https://cdn.bokeh.org/bokeh/release/bokeh-widgets-2.4.3.min.js\", \"https://cdn.bokeh.org/bokeh/release/bokeh-tables-2.4.3.min.js\", \"https://cdn.bokeh.org/bokeh/release/bokeh-mathjax-2.4.3.min.js\"];\n  const css_urls = [];\n\n  const inline_js = [    function(Bokeh) {\n      Bokeh.set_log_level(\"info\");\n    },\nfunction(Bokeh) {\n    }\n  ];\n\n  function run_inline_js() {\n    if (root.Bokeh !== undefined || force === true) {\n          for (let i = 0; i < inline_js.length; i++) {\n      inline_js[i].call(root, root.Bokeh);\n    }\nif (force === true) {\n        display_loaded();\n      }} else if (Date.now() < root._bokeh_timeout) {\n      setTimeout(run_inline_js, 100);\n    } else if (!root._bokeh_failed_load) {\n      console.log(\"Bokeh: BokehJS failed to load within specified timeout.\");\n      root._bokeh_failed_load = true;\n    } else if (force !== true) {\n      const cell = $(document.getElementById(\"1002\")).parents('.cell').data().cell;\n      cell.output_area.append_execute_result(NB_LOAD_WARNING)\n    }\n  }\n\n  if (root._bokeh_is_loading === 0) {\n    console.debug(\"Bokeh: BokehJS loaded, going straight to plotting\");\n    run_inline_js();\n  } else {\n    load_libs(css_urls, js_urls, function() {\n      console.debug(\"Bokeh: BokehJS plotting callback run at\", now());\n      run_inline_js();\n    });\n  }\n}(window));",
      "application/vnd.bokehjs_load.v0+json": ""
     },
     "metadata": {},
     "output_type": "display_data"
    }
   ],
   "source": [
    "# Package parameters\n",
    "# Display of sklearn pipelines\n",
    "set_config(display=\"diagram\")\n",
    "\n",
    "# Seaborn plotting style\n",
    "custom_params = {\"axes.spines.right\": False, \"axes.spines.top\": False}\n",
    "sns.set_theme(style=\"white\", rc=custom_params)\n",
    "\n",
    "# Suppress tensorflow messages\n",
    "set_tf_loglevel(logging.FATAL)\n",
    "\n",
    "# Output bokeh plots to notebook\n",
    "output_notebook()\n",
    "\n",
    "# Shorthand for tfp.distributions\n",
    "tfd = tfp.distributions"
   ]
  },
  {
   "cell_type": "markdown",
   "metadata": {},
   "source": [
    "## Experiment #1"
   ]
  },
  {
   "cell_type": "code",
   "execution_count": 3,
   "metadata": {},
   "outputs": [],
   "source": [
    "# Configure simulation parameters\n",
    "exp_id = 1                         # experiment id\n",
    "n_train = 5000                     # number of training observations\n",
    "n_test = 2500                      # number of test observations\n",
    "n = n_train + n_test               # total number of observations\n",
    "n_categories = 100                 # number of categories for the categorical variable\n",
    "f_structure = \"friedman1\"          # structure of the fixed effects f(X)\n",
    "sig2noise = np.array([4, 1, 1])    # relative signal-to-noise of the fixed effects, random effects and irreducible error\n",
    "y_dist = \"gaussian\"                # distribution of the response variable y\n",
    "inverse_link = lambda x: x         # inverse of the identity link\n",
    "cat_dist = \"balanced\"              # distribution of the categorical variable\n",
    "random_seed = 42                   # random seed for reproducibility\n",
    "log_plot = False                   # whether to plot the log transformed response and predictions\n",
    "nn_loss = \"mse\"                    # loss function for the neural network"
   ]
  },
  {
   "cell_type": "code",
   "execution_count": 4,
   "metadata": {},
   "outputs": [
    {
     "name": "stderr",
     "output_type": "stream",
     "text": [
      "  0%|          | 0/50 [00:00<?, ?it/s]"
     ]
    },
    {
     "name": "stdout",
     "output_type": "stream",
     "text": [
      "Metal device set to: Apple M1 Pro\n",
      "\n",
      "systemMemory: 16.00 GB\n",
      "maxCacheSize: 5.33 GB\n",
      "\n"
     ]
    },
    {
     "name": "stderr",
     "output_type": "stream",
     "text": [
      "2022-10-29 17:03:29.582592: W tensorflow/core/platform/profile_utils/cpu_utils.cc:128] Failed to get CPU frequency: 0 Hz\n"
     ]
    },
    {
     "name": "stdout",
     "output_type": "stream",
     "text": [
      "Restoring model weights from the end of the best epoch: 103.\n",
      "Epoch 153: early stopping\n",
      "79/79 [==============================] - 0s 2ms/step\n",
      "Restoring model weights from the end of the best epoch: 103.\n",
      "Epoch 153: early stopping\n"
     ]
    },
    {
     "name": "stderr",
     "output_type": "stream",
     "text": [
      "100%|██████████| 100/100 [00:02<00:00, 33.36it/s]\n"
     ]
    },
    {
     "name": "stdout",
     "output_type": "stream",
     "text": [
      "Restoring model weights from the end of the best epoch: 100.\n",
      "Epoch 150: early stopping\n"
     ]
    },
    {
     "name": "stderr",
     "output_type": "stream",
     "text": [
      "100%|██████████| 100/100 [00:03<00:00, 29.78it/s]\n",
      "/var/folders/d1/sg_qr5nx5t5586ls8g_n98_80000gn/T/ipykernel_21748/965276818.py:16: FutureWarning: The frame.append method is deprecated and will be removed from pandas in a future version. Use pandas.concat instead.\n",
      "  results = results.append(result.assign(run=i + 1), ignore_index=True)\n",
      "  2%|▏         | 1/50 [01:26<1:10:24, 86.21s/it]"
     ]
    },
    {
     "name": "stdout",
     "output_type": "stream",
     "text": [
      "Restoring model weights from the end of the best epoch: 62.\n",
      "Epoch 112: early stopping\n",
      "79/79 [==============================] - 0s 2ms/step\n",
      "Restoring model weights from the end of the best epoch: 110.\n",
      "Epoch 160: early stopping\n"
     ]
    },
    {
     "name": "stderr",
     "output_type": "stream",
     "text": [
      "100%|██████████| 100/100 [00:03<00:00, 30.93it/s]\n"
     ]
    },
    {
     "name": "stdout",
     "output_type": "stream",
     "text": [
      "Restoring model weights from the end of the best epoch: 228.\n",
      "Epoch 278: early stopping\n"
     ]
    },
    {
     "name": "stderr",
     "output_type": "stream",
     "text": [
      "100%|██████████| 100/100 [00:03<00:00, 30.26it/s]\n",
      "/var/folders/d1/sg_qr5nx5t5586ls8g_n98_80000gn/T/ipykernel_21748/965276818.py:16: FutureWarning: The frame.append method is deprecated and will be removed from pandas in a future version. Use pandas.concat instead.\n",
      "  results = results.append(result.assign(run=i + 1), ignore_index=True)\n",
      "  4%|▍         | 2/50 [03:11<1:18:10, 97.72s/it]"
     ]
    },
    {
     "name": "stdout",
     "output_type": "stream",
     "text": [
      "Restoring model weights from the end of the best epoch: 84.\n",
      "Epoch 134: early stopping\n",
      "79/79 [==============================] - 0s 2ms/step\n",
      "Restoring model weights from the end of the best epoch: 95.\n",
      "Epoch 145: early stopping\n"
     ]
    },
    {
     "name": "stderr",
     "output_type": "stream",
     "text": [
      "100%|██████████| 100/100 [00:03<00:00, 28.28it/s]\n"
     ]
    },
    {
     "name": "stdout",
     "output_type": "stream",
     "text": [
      "Restoring model weights from the end of the best epoch: 89.\n",
      "Epoch 139: early stopping\n"
     ]
    },
    {
     "name": "stderr",
     "output_type": "stream",
     "text": [
      "100%|██████████| 100/100 [00:03<00:00, 30.70it/s]\n",
      "/var/folders/d1/sg_qr5nx5t5586ls8g_n98_80000gn/T/ipykernel_21748/965276818.py:16: FutureWarning: The frame.append method is deprecated and will be removed from pandas in a future version. Use pandas.concat instead.\n",
      "  results = results.append(result.assign(run=i + 1), ignore_index=True)\n",
      "  6%|▌         | 3/50 [04:32<1:10:22, 89.84s/it]"
     ]
    },
    {
     "name": "stdout",
     "output_type": "stream",
     "text": [
      "Restoring model weights from the end of the best epoch: 86.\n",
      "Epoch 136: early stopping\n",
      "79/79 [==============================] - 0s 2ms/step\n",
      "Restoring model weights from the end of the best epoch: 107.\n",
      "Epoch 157: early stopping\n"
     ]
    },
    {
     "name": "stderr",
     "output_type": "stream",
     "text": [
      "100%|██████████| 100/100 [00:03<00:00, 29.74it/s]\n"
     ]
    },
    {
     "name": "stdout",
     "output_type": "stream",
     "text": [
      "Restoring model weights from the end of the best epoch: 159.\n",
      "Epoch 209: early stopping\n"
     ]
    },
    {
     "name": "stderr",
     "output_type": "stream",
     "text": [
      "100%|██████████| 100/100 [00:03<00:00, 29.06it/s]\n",
      "/var/folders/d1/sg_qr5nx5t5586ls8g_n98_80000gn/T/ipykernel_21748/965276818.py:16: FutureWarning: The frame.append method is deprecated and will be removed from pandas in a future version. Use pandas.concat instead.\n",
      "  results = results.append(result.assign(run=i + 1), ignore_index=True)\n",
      "  8%|▊         | 4/50 [06:07<1:10:29, 91.95s/it]"
     ]
    },
    {
     "name": "stdout",
     "output_type": "stream",
     "text": [
      "Restoring model weights from the end of the best epoch: 48.\n",
      "Epoch 98: early stopping\n",
      "79/79 [==============================] - 0s 2ms/step\n",
      "Restoring model weights from the end of the best epoch: 113.\n",
      "Epoch 163: early stopping\n"
     ]
    },
    {
     "name": "stderr",
     "output_type": "stream",
     "text": [
      "100%|██████████| 100/100 [00:03<00:00, 27.66it/s]\n"
     ]
    },
    {
     "name": "stdout",
     "output_type": "stream",
     "text": [
      "Restoring model weights from the end of the best epoch: 89.\n",
      "Epoch 139: early stopping\n"
     ]
    },
    {
     "name": "stderr",
     "output_type": "stream",
     "text": [
      "100%|██████████| 100/100 [00:03<00:00, 28.98it/s]\n",
      "/var/folders/d1/sg_qr5nx5t5586ls8g_n98_80000gn/T/ipykernel_21748/965276818.py:16: FutureWarning: The frame.append method is deprecated and will be removed from pandas in a future version. Use pandas.concat instead.\n",
      "  results = results.append(result.assign(run=i + 1), ignore_index=True)\n",
      " 10%|█         | 5/50 [07:24<1:04:46, 86.36s/it]"
     ]
    },
    {
     "name": "stdout",
     "output_type": "stream",
     "text": [
      "Restoring model weights from the end of the best epoch: 80.\n",
      "Epoch 130: early stopping\n",
      "79/79 [==============================] - 0s 2ms/step\n",
      "Restoring model weights from the end of the best epoch: 101.\n",
      "Epoch 151: early stopping\n"
     ]
    },
    {
     "name": "stderr",
     "output_type": "stream",
     "text": [
      "100%|██████████| 100/100 [00:03<00:00, 28.66it/s]\n"
     ]
    },
    {
     "name": "stdout",
     "output_type": "stream",
     "text": [
      "Restoring model weights from the end of the best epoch: 148.\n",
      "Epoch 198: early stopping\n"
     ]
    },
    {
     "name": "stderr",
     "output_type": "stream",
     "text": [
      "100%|██████████| 100/100 [00:03<00:00, 28.19it/s]\n",
      "/var/folders/d1/sg_qr5nx5t5586ls8g_n98_80000gn/T/ipykernel_21748/965276818.py:16: FutureWarning: The frame.append method is deprecated and will be removed from pandas in a future version. Use pandas.concat instead.\n",
      "  results = results.append(result.assign(run=i + 1), ignore_index=True)\n",
      " 12%|█▏        | 6/50 [08:52<1:03:47, 86.99s/it]"
     ]
    },
    {
     "name": "stdout",
     "output_type": "stream",
     "text": [
      "Restoring model weights from the end of the best epoch: 113.\n",
      "Epoch 163: early stopping\n",
      "79/79 [==============================] - 0s 2ms/step\n",
      "Restoring model weights from the end of the best epoch: 78.\n",
      "Epoch 128: early stopping\n"
     ]
    },
    {
     "name": "stderr",
     "output_type": "stream",
     "text": [
      "100%|██████████| 100/100 [00:03<00:00, 27.80it/s]\n"
     ]
    },
    {
     "name": "stdout",
     "output_type": "stream",
     "text": [
      "Restoring model weights from the end of the best epoch: 282.\n",
      "Epoch 332: early stopping\n"
     ]
    },
    {
     "name": "stderr",
     "output_type": "stream",
     "text": [
      "100%|██████████| 100/100 [00:03<00:00, 26.54it/s]\n",
      "/var/folders/d1/sg_qr5nx5t5586ls8g_n98_80000gn/T/ipykernel_21748/965276818.py:16: FutureWarning: The frame.append method is deprecated and will be removed from pandas in a future version. Use pandas.concat instead.\n",
      "  results = results.append(result.assign(run=i + 1), ignore_index=True)\n",
      " 14%|█▍        | 7/50 [10:49<1:09:29, 96.97s/it]"
     ]
    },
    {
     "name": "stdout",
     "output_type": "stream",
     "text": [
      "Restoring model weights from the end of the best epoch: 56.\n",
      "Epoch 106: early stopping\n",
      "79/79 [==============================] - 0s 2ms/step\n",
      "Restoring model weights from the end of the best epoch: 159.\n",
      "Epoch 209: early stopping\n"
     ]
    },
    {
     "name": "stderr",
     "output_type": "stream",
     "text": [
      "100%|██████████| 100/100 [00:04<00:00, 24.87it/s]\n"
     ]
    },
    {
     "name": "stdout",
     "output_type": "stream",
     "text": [
      "Restoring model weights from the end of the best epoch: 118.\n",
      "Epoch 168: early stopping\n"
     ]
    },
    {
     "name": "stderr",
     "output_type": "stream",
     "text": [
      "100%|██████████| 100/100 [00:03<00:00, 27.82it/s]\n",
      "/var/folders/d1/sg_qr5nx5t5586ls8g_n98_80000gn/T/ipykernel_21748/965276818.py:16: FutureWarning: The frame.append method is deprecated and will be removed from pandas in a future version. Use pandas.concat instead.\n",
      "  results = results.append(result.assign(run=i + 1), ignore_index=True)\n",
      " 16%|█▌        | 8/50 [12:22<1:07:01, 95.76s/it]"
     ]
    },
    {
     "name": "stdout",
     "output_type": "stream",
     "text": [
      "Restoring model weights from the end of the best epoch: 75.\n",
      "Epoch 125: early stopping\n",
      "79/79 [==============================] - 0s 2ms/step\n",
      "Restoring model weights from the end of the best epoch: 92.\n",
      "Epoch 142: early stopping\n"
     ]
    },
    {
     "name": "stderr",
     "output_type": "stream",
     "text": [
      "100%|██████████| 100/100 [00:03<00:00, 27.02it/s]\n"
     ]
    },
    {
     "name": "stdout",
     "output_type": "stream",
     "text": [
      "Restoring model weights from the end of the best epoch: 163.\n",
      "Epoch 213: early stopping\n"
     ]
    },
    {
     "name": "stderr",
     "output_type": "stream",
     "text": [
      "100%|██████████| 100/100 [00:03<00:00, 25.09it/s]\n",
      "/var/folders/d1/sg_qr5nx5t5586ls8g_n98_80000gn/T/ipykernel_21748/965276818.py:16: FutureWarning: The frame.append method is deprecated and will be removed from pandas in a future version. Use pandas.concat instead.\n",
      "  results = results.append(result.assign(run=i + 1), ignore_index=True)\n",
      " 18%|█▊        | 9/50 [14:00<1:05:51, 96.39s/it]"
     ]
    },
    {
     "name": "stdout",
     "output_type": "stream",
     "text": [
      "Restoring model weights from the end of the best epoch: 74.\n",
      "Epoch 124: early stopping\n",
      "79/79 [==============================] - 0s 3ms/step\n",
      "Restoring model weights from the end of the best epoch: 104.\n",
      "Epoch 154: early stopping\n"
     ]
    },
    {
     "name": "stderr",
     "output_type": "stream",
     "text": [
      "100%|██████████| 100/100 [00:03<00:00, 26.71it/s]\n"
     ]
    },
    {
     "name": "stdout",
     "output_type": "stream",
     "text": [
      "Restoring model weights from the end of the best epoch: 125.\n",
      "Epoch 175: early stopping\n"
     ]
    },
    {
     "name": "stderr",
     "output_type": "stream",
     "text": [
      "100%|██████████| 100/100 [00:03<00:00, 27.08it/s]\n",
      "/var/folders/d1/sg_qr5nx5t5586ls8g_n98_80000gn/T/ipykernel_21748/965276818.py:16: FutureWarning: The frame.append method is deprecated and will be removed from pandas in a future version. Use pandas.concat instead.\n",
      "  results = results.append(result.assign(run=i + 1), ignore_index=True)\n",
      " 20%|██        | 10/50 [15:30<1:02:54, 94.37s/it]"
     ]
    },
    {
     "name": "stdout",
     "output_type": "stream",
     "text": [
      "Restoring model weights from the end of the best epoch: 49.\n",
      "Epoch 99: early stopping\n",
      "79/79 [==============================] - 0s 2ms/step\n",
      "Restoring model weights from the end of the best epoch: 140.\n",
      "Epoch 190: early stopping\n"
     ]
    },
    {
     "name": "stderr",
     "output_type": "stream",
     "text": [
      "100%|██████████| 100/100 [00:03<00:00, 26.69it/s]\n"
     ]
    },
    {
     "name": "stdout",
     "output_type": "stream",
     "text": [
      "Restoring model weights from the end of the best epoch: 75.\n",
      "Epoch 125: early stopping\n"
     ]
    },
    {
     "name": "stderr",
     "output_type": "stream",
     "text": [
      "100%|██████████| 100/100 [00:03<00:00, 27.63it/s]\n",
      "/var/folders/d1/sg_qr5nx5t5586ls8g_n98_80000gn/T/ipykernel_21748/965276818.py:16: FutureWarning: The frame.append method is deprecated and will be removed from pandas in a future version. Use pandas.concat instead.\n",
      "  results = results.append(result.assign(run=i + 1), ignore_index=True)\n",
      " 22%|██▏       | 11/50 [16:54<59:13, 91.12s/it]  "
     ]
    },
    {
     "name": "stdout",
     "output_type": "stream",
     "text": [
      "Restoring model weights from the end of the best epoch: 100.\n",
      "Epoch 150: early stopping\n",
      "79/79 [==============================] - 0s 2ms/step\n",
      "Restoring model weights from the end of the best epoch: 64.\n",
      "Epoch 114: early stopping\n"
     ]
    },
    {
     "name": "stderr",
     "output_type": "stream",
     "text": [
      "100%|██████████| 100/100 [00:04<00:00, 24.73it/s]\n"
     ]
    },
    {
     "name": "stdout",
     "output_type": "stream",
     "text": [
      "Restoring model weights from the end of the best epoch: 161.\n",
      "Epoch 211: early stopping\n"
     ]
    },
    {
     "name": "stderr",
     "output_type": "stream",
     "text": [
      "100%|██████████| 100/100 [00:04<00:00, 23.37it/s]\n",
      "/var/folders/d1/sg_qr5nx5t5586ls8g_n98_80000gn/T/ipykernel_21748/965276818.py:16: FutureWarning: The frame.append method is deprecated and will be removed from pandas in a future version. Use pandas.concat instead.\n",
      "  results = results.append(result.assign(run=i + 1), ignore_index=True)\n",
      " 24%|██▍       | 12/50 [18:27<58:01, 91.61s/it]"
     ]
    },
    {
     "name": "stdout",
     "output_type": "stream",
     "text": [
      "Restoring model weights from the end of the best epoch: 103.\n",
      "Epoch 153: early stopping\n",
      "79/79 [==============================] - 0s 2ms/step\n",
      "Restoring model weights from the end of the best epoch: 131.\n",
      "Epoch 181: early stopping\n"
     ]
    },
    {
     "name": "stderr",
     "output_type": "stream",
     "text": [
      "100%|██████████| 100/100 [00:04<00:00, 23.43it/s]\n"
     ]
    },
    {
     "name": "stdout",
     "output_type": "stream",
     "text": [
      "Restoring model weights from the end of the best epoch: 421.\n",
      "Epoch 471: early stopping\n"
     ]
    },
    {
     "name": "stderr",
     "output_type": "stream",
     "text": [
      "100%|██████████| 100/100 [00:04<00:00, 23.50it/s]\n",
      "/var/folders/d1/sg_qr5nx5t5586ls8g_n98_80000gn/T/ipykernel_21748/965276818.py:16: FutureWarning: The frame.append method is deprecated and will be removed from pandas in a future version. Use pandas.concat instead.\n",
      "  results = results.append(result.assign(run=i + 1), ignore_index=True)\n",
      " 26%|██▌       | 13/50 [20:57<1:07:25, 109.34s/it]"
     ]
    },
    {
     "name": "stdout",
     "output_type": "stream",
     "text": [
      "Restoring model weights from the end of the best epoch: 78.\n",
      "Epoch 128: early stopping\n",
      "79/79 [==============================] - 0s 2ms/step\n",
      "Restoring model weights from the end of the best epoch: 92.\n",
      "Epoch 142: early stopping\n"
     ]
    },
    {
     "name": "stderr",
     "output_type": "stream",
     "text": [
      "100%|██████████| 100/100 [00:04<00:00, 21.31it/s]\n"
     ]
    },
    {
     "name": "stdout",
     "output_type": "stream",
     "text": [
      "Restoring model weights from the end of the best epoch: 67.\n",
      "Epoch 117: early stopping\n"
     ]
    },
    {
     "name": "stderr",
     "output_type": "stream",
     "text": [
      "100%|██████████| 100/100 [00:04<00:00, 23.26it/s]\n",
      "/var/folders/d1/sg_qr5nx5t5586ls8g_n98_80000gn/T/ipykernel_21748/965276818.py:16: FutureWarning: The frame.append method is deprecated and will be removed from pandas in a future version. Use pandas.concat instead.\n",
      "  results = results.append(result.assign(run=i + 1), ignore_index=True)\n",
      " 28%|██▊       | 14/50 [22:14<59:52, 99.79s/it]   "
     ]
    },
    {
     "name": "stdout",
     "output_type": "stream",
     "text": [
      "Restoring model weights from the end of the best epoch: 55.\n",
      "Epoch 105: early stopping\n",
      "79/79 [==============================] - 0s 2ms/step\n",
      "Restoring model weights from the end of the best epoch: 79.\n",
      "Epoch 129: early stopping\n"
     ]
    },
    {
     "name": "stderr",
     "output_type": "stream",
     "text": [
      "100%|██████████| 100/100 [00:04<00:00, 22.44it/s]\n"
     ]
    },
    {
     "name": "stdout",
     "output_type": "stream",
     "text": [
      "Restoring model weights from the end of the best epoch: 138.\n",
      "Epoch 188: early stopping\n"
     ]
    },
    {
     "name": "stderr",
     "output_type": "stream",
     "text": [
      "100%|██████████| 100/100 [00:04<00:00, 22.41it/s]\n",
      "/var/folders/d1/sg_qr5nx5t5586ls8g_n98_80000gn/T/ipykernel_21748/965276818.py:16: FutureWarning: The frame.append method is deprecated and will be removed from pandas in a future version. Use pandas.concat instead.\n",
      "  results = results.append(result.assign(run=i + 1), ignore_index=True)\n",
      " 30%|███       | 15/50 [23:39<55:26, 95.05s/it]"
     ]
    },
    {
     "name": "stdout",
     "output_type": "stream",
     "text": [
      "Restoring model weights from the end of the best epoch: 104.\n",
      "Epoch 154: early stopping\n",
      "79/79 [==============================] - 0s 2ms/step\n",
      "Restoring model weights from the end of the best epoch: 114.\n",
      "Epoch 164: early stopping\n"
     ]
    },
    {
     "name": "stderr",
     "output_type": "stream",
     "text": [
      "100%|██████████| 100/100 [00:04<00:00, 22.62it/s]\n"
     ]
    },
    {
     "name": "stdout",
     "output_type": "stream",
     "text": [
      "Restoring model weights from the end of the best epoch: 200.\n",
      "Epoch 250: early stopping\n"
     ]
    },
    {
     "name": "stderr",
     "output_type": "stream",
     "text": [
      "100%|██████████| 100/100 [00:04<00:00, 22.51it/s]\n",
      "/var/folders/d1/sg_qr5nx5t5586ls8g_n98_80000gn/T/ipykernel_21748/965276818.py:16: FutureWarning: The frame.append method is deprecated and will be removed from pandas in a future version. Use pandas.concat instead.\n",
      "  results = results.append(result.assign(run=i + 1), ignore_index=True)\n",
      " 32%|███▏      | 16/50 [25:25<55:53, 98.64s/it]"
     ]
    },
    {
     "name": "stdout",
     "output_type": "stream",
     "text": [
      "Restoring model weights from the end of the best epoch: 75.\n",
      "Epoch 125: early stopping\n",
      "79/79 [==============================] - 0s 2ms/step\n",
      "Restoring model weights from the end of the best epoch: 123.\n",
      "Epoch 173: early stopping\n"
     ]
    },
    {
     "name": "stderr",
     "output_type": "stream",
     "text": [
      "100%|██████████| 100/100 [00:04<00:00, 22.29it/s]\n"
     ]
    },
    {
     "name": "stdout",
     "output_type": "stream",
     "text": [
      "Restoring model weights from the end of the best epoch: 115.\n",
      "Epoch 165: early stopping\n"
     ]
    },
    {
     "name": "stderr",
     "output_type": "stream",
     "text": [
      "100%|██████████| 100/100 [00:04<00:00, 20.37it/s]\n",
      "/var/folders/d1/sg_qr5nx5t5586ls8g_n98_80000gn/T/ipykernel_21748/965276818.py:16: FutureWarning: The frame.append method is deprecated and will be removed from pandas in a future version. Use pandas.concat instead.\n",
      "  results = results.append(result.assign(run=i + 1), ignore_index=True)\n",
      " 34%|███▍      | 17/50 [26:57<53:01, 96.40s/it]"
     ]
    },
    {
     "name": "stdout",
     "output_type": "stream",
     "text": [
      "Restoring model weights from the end of the best epoch: 105.\n",
      "Epoch 155: early stopping\n",
      "79/79 [==============================] - 0s 2ms/step\n",
      "Restoring model weights from the end of the best epoch: 89.\n",
      "Epoch 139: early stopping\n"
     ]
    },
    {
     "name": "stderr",
     "output_type": "stream",
     "text": [
      "100%|██████████| 100/100 [00:04<00:00, 21.23it/s]\n"
     ]
    },
    {
     "name": "stdout",
     "output_type": "stream",
     "text": [
      "Restoring model weights from the end of the best epoch: 256.\n",
      "Epoch 306: early stopping\n"
     ]
    },
    {
     "name": "stderr",
     "output_type": "stream",
     "text": [
      "100%|██████████| 100/100 [00:04<00:00, 21.57it/s]\n",
      "/var/folders/d1/sg_qr5nx5t5586ls8g_n98_80000gn/T/ipykernel_21748/965276818.py:16: FutureWarning: The frame.append method is deprecated and will be removed from pandas in a future version. Use pandas.concat instead.\n",
      "  results = results.append(result.assign(run=i + 1), ignore_index=True)\n",
      " 36%|███▌      | 18/50 [28:57<55:12, 103.50s/it]"
     ]
    },
    {
     "name": "stdout",
     "output_type": "stream",
     "text": [
      "Restoring model weights from the end of the best epoch: 75.\n",
      "Epoch 125: early stopping\n",
      "79/79 [==============================] - 0s 3ms/step\n",
      "Restoring model weights from the end of the best epoch: 95.\n",
      "Epoch 145: early stopping\n"
     ]
    },
    {
     "name": "stderr",
     "output_type": "stream",
     "text": [
      "100%|██████████| 100/100 [00:04<00:00, 20.47it/s]\n"
     ]
    },
    {
     "name": "stdout",
     "output_type": "stream",
     "text": [
      "Restoring model weights from the end of the best epoch: 107.\n",
      "Epoch 157: early stopping\n"
     ]
    },
    {
     "name": "stderr",
     "output_type": "stream",
     "text": [
      "100%|██████████| 100/100 [00:04<00:00, 21.29it/s]\n",
      "/var/folders/d1/sg_qr5nx5t5586ls8g_n98_80000gn/T/ipykernel_21748/965276818.py:16: FutureWarning: The frame.append method is deprecated and will be removed from pandas in a future version. Use pandas.concat instead.\n",
      "  results = results.append(result.assign(run=i + 1), ignore_index=True)\n",
      " 38%|███▊      | 19/50 [30:24<50:59, 98.69s/it] "
     ]
    },
    {
     "name": "stdout",
     "output_type": "stream",
     "text": [
      "Restoring model weights from the end of the best epoch: 57.\n",
      "Epoch 107: early stopping\n",
      "79/79 [==============================] - 0s 3ms/step\n",
      "Restoring model weights from the end of the best epoch: 216.\n",
      "Epoch 266: early stopping\n"
     ]
    },
    {
     "name": "stderr",
     "output_type": "stream",
     "text": [
      "100%|██████████| 100/100 [00:04<00:00, 20.85it/s]\n"
     ]
    },
    {
     "name": "stdout",
     "output_type": "stream",
     "text": [
      "Restoring model weights from the end of the best epoch: 95.\n",
      "Epoch 145: early stopping\n"
     ]
    },
    {
     "name": "stderr",
     "output_type": "stream",
     "text": [
      "100%|██████████| 100/100 [00:04<00:00, 21.34it/s]\n",
      "/var/folders/d1/sg_qr5nx5t5586ls8g_n98_80000gn/T/ipykernel_21748/965276818.py:16: FutureWarning: The frame.append method is deprecated and will be removed from pandas in a future version. Use pandas.concat instead.\n",
      "  results = results.append(result.assign(run=i + 1), ignore_index=True)\n",
      " 40%|████      | 20/50 [32:10<50:22, 100.75s/it]"
     ]
    },
    {
     "name": "stdout",
     "output_type": "stream",
     "text": [
      "Restoring model weights from the end of the best epoch: 100.\n",
      "Epoch 150: early stopping\n",
      "79/79 [==============================] - 0s 3ms/step\n",
      "Restoring model weights from the end of the best epoch: 169.\n",
      "Epoch 219: early stopping\n"
     ]
    },
    {
     "name": "stderr",
     "output_type": "stream",
     "text": [
      "100%|██████████| 100/100 [00:04<00:00, 20.30it/s]\n"
     ]
    },
    {
     "name": "stdout",
     "output_type": "stream",
     "text": [
      "Restoring model weights from the end of the best epoch: 350.\n",
      "Epoch 400: early stopping\n"
     ]
    },
    {
     "name": "stderr",
     "output_type": "stream",
     "text": [
      "100%|██████████| 100/100 [00:05<00:00, 19.59it/s]\n",
      "/var/folders/d1/sg_qr5nx5t5586ls8g_n98_80000gn/T/ipykernel_21748/965276818.py:16: FutureWarning: The frame.append method is deprecated and will be removed from pandas in a future version. Use pandas.concat instead.\n",
      "  results = results.append(result.assign(run=i + 1), ignore_index=True)\n",
      " 42%|████▏     | 21/50 [34:41<55:57, 115.77s/it]"
     ]
    },
    {
     "name": "stdout",
     "output_type": "stream",
     "text": [
      "Restoring model weights from the end of the best epoch: 80.\n",
      "Epoch 130: early stopping\n",
      "79/79 [==============================] - 0s 2ms/step\n",
      "Restoring model weights from the end of the best epoch: 161.\n",
      "Epoch 211: early stopping\n"
     ]
    },
    {
     "name": "stderr",
     "output_type": "stream",
     "text": [
      "100%|██████████| 100/100 [00:04<00:00, 21.04it/s]\n"
     ]
    },
    {
     "name": "stdout",
     "output_type": "stream",
     "text": [
      "Restoring model weights from the end of the best epoch: 138.\n",
      "Epoch 188: early stopping\n"
     ]
    },
    {
     "name": "stderr",
     "output_type": "stream",
     "text": [
      "100%|██████████| 100/100 [00:04<00:00, 20.78it/s]\n",
      "/var/folders/d1/sg_qr5nx5t5586ls8g_n98_80000gn/T/ipykernel_21748/965276818.py:16: FutureWarning: The frame.append method is deprecated and will be removed from pandas in a future version. Use pandas.concat instead.\n",
      "  results = results.append(result.assign(run=i + 1), ignore_index=True)\n",
      " 44%|████▍     | 22/50 [36:28<52:49, 113.20s/it]"
     ]
    },
    {
     "name": "stdout",
     "output_type": "stream",
     "text": [
      "Restoring model weights from the end of the best epoch: 97.\n",
      "Epoch 147: early stopping\n",
      "79/79 [==============================] - 0s 2ms/step\n",
      "Restoring model weights from the end of the best epoch: 103.\n",
      "Epoch 153: early stopping\n"
     ]
    },
    {
     "name": "stderr",
     "output_type": "stream",
     "text": [
      "100%|██████████| 100/100 [00:04<00:00, 20.90it/s]\n"
     ]
    },
    {
     "name": "stdout",
     "output_type": "stream",
     "text": [
      "Restoring model weights from the end of the best epoch: 185.\n",
      "Epoch 235: early stopping\n"
     ]
    },
    {
     "name": "stderr",
     "output_type": "stream",
     "text": [
      "100%|██████████| 100/100 [00:04<00:00, 20.37it/s]\n",
      "/var/folders/d1/sg_qr5nx5t5586ls8g_n98_80000gn/T/ipykernel_21748/965276818.py:16: FutureWarning: The frame.append method is deprecated and will be removed from pandas in a future version. Use pandas.concat instead.\n",
      "  results = results.append(result.assign(run=i + 1), ignore_index=True)\n",
      " 46%|████▌     | 23/50 [38:16<50:14, 111.64s/it]"
     ]
    },
    {
     "name": "stdout",
     "output_type": "stream",
     "text": [
      "Restoring model weights from the end of the best epoch: 64.\n",
      "Epoch 114: early stopping\n",
      "79/79 [==============================] - 0s 3ms/step\n",
      "Restoring model weights from the end of the best epoch: 99.\n",
      "Epoch 149: early stopping\n"
     ]
    },
    {
     "name": "stderr",
     "output_type": "stream",
     "text": [
      "100%|██████████| 100/100 [00:04<00:00, 20.74it/s]\n"
     ]
    },
    {
     "name": "stdout",
     "output_type": "stream",
     "text": [
      "Restoring model weights from the end of the best epoch: 139.\n",
      "Epoch 189: early stopping\n"
     ]
    },
    {
     "name": "stderr",
     "output_type": "stream",
     "text": [
      "100%|██████████| 100/100 [00:04<00:00, 20.58it/s]\n",
      "/var/folders/d1/sg_qr5nx5t5586ls8g_n98_80000gn/T/ipykernel_21748/965276818.py:16: FutureWarning: The frame.append method is deprecated and will be removed from pandas in a future version. Use pandas.concat instead.\n",
      "  results = results.append(result.assign(run=i + 1), ignore_index=True)\n",
      " 48%|████▊     | 24/50 [39:52<46:19, 106.92s/it]"
     ]
    },
    {
     "name": "stdout",
     "output_type": "stream",
     "text": [
      "Restoring model weights from the end of the best epoch: 47.\n",
      "Epoch 97: early stopping\n",
      "79/79 [==============================] - 0s 3ms/step\n",
      "Restoring model weights from the end of the best epoch: 93.\n",
      "Epoch 143: early stopping\n"
     ]
    },
    {
     "name": "stderr",
     "output_type": "stream",
     "text": [
      "100%|██████████| 100/100 [00:04<00:00, 20.68it/s]\n"
     ]
    },
    {
     "name": "stdout",
     "output_type": "stream",
     "text": [
      "Restoring model weights from the end of the best epoch: 74.\n",
      "Epoch 124: early stopping\n"
     ]
    },
    {
     "name": "stderr",
     "output_type": "stream",
     "text": [
      "100%|██████████| 100/100 [00:04<00:00, 20.46it/s]\n",
      "/var/folders/d1/sg_qr5nx5t5586ls8g_n98_80000gn/T/ipykernel_21748/965276818.py:16: FutureWarning: The frame.append method is deprecated and will be removed from pandas in a future version. Use pandas.concat instead.\n",
      "  results = results.append(result.assign(run=i + 1), ignore_index=True)\n",
      " 50%|█████     | 25/50 [41:13<41:20, 99.24s/it] "
     ]
    },
    {
     "name": "stdout",
     "output_type": "stream",
     "text": [
      "Restoring model weights from the end of the best epoch: 75.\n",
      "Epoch 125: early stopping\n",
      "79/79 [==============================] - 0s 3ms/step\n",
      "Restoring model weights from the end of the best epoch: 78.\n",
      "Epoch 128: early stopping\n"
     ]
    },
    {
     "name": "stderr",
     "output_type": "stream",
     "text": [
      "100%|██████████| 100/100 [00:05<00:00, 18.79it/s]\n"
     ]
    },
    {
     "name": "stdout",
     "output_type": "stream",
     "text": [
      "Restoring model weights from the end of the best epoch: 324.\n",
      "Epoch 374: early stopping\n"
     ]
    },
    {
     "name": "stderr",
     "output_type": "stream",
     "text": [
      "100%|██████████| 100/100 [00:04<00:00, 20.12it/s]\n",
      "/var/folders/d1/sg_qr5nx5t5586ls8g_n98_80000gn/T/ipykernel_21748/965276818.py:16: FutureWarning: The frame.append method is deprecated and will be removed from pandas in a future version. Use pandas.concat instead.\n",
      "  results = results.append(result.assign(run=i + 1), ignore_index=True)\n",
      " 52%|█████▏    | 26/50 [43:19<42:58, 107.42s/it]"
     ]
    },
    {
     "name": "stdout",
     "output_type": "stream",
     "text": [
      "Restoring model weights from the end of the best epoch: 46.\n",
      "Epoch 96: early stopping\n",
      "79/79 [==============================] - 0s 3ms/step\n",
      "Restoring model weights from the end of the best epoch: 91.\n",
      "Epoch 141: early stopping\n"
     ]
    },
    {
     "name": "stderr",
     "output_type": "stream",
     "text": [
      "100%|██████████| 100/100 [00:04<00:00, 20.62it/s]\n"
     ]
    },
    {
     "name": "stdout",
     "output_type": "stream",
     "text": [
      "Restoring model weights from the end of the best epoch: 116.\n",
      "Epoch 166: early stopping\n"
     ]
    },
    {
     "name": "stderr",
     "output_type": "stream",
     "text": [
      "100%|██████████| 100/100 [00:04<00:00, 20.33it/s]\n",
      "/var/folders/d1/sg_qr5nx5t5586ls8g_n98_80000gn/T/ipykernel_21748/965276818.py:16: FutureWarning: The frame.append method is deprecated and will be removed from pandas in a future version. Use pandas.concat instead.\n",
      "  results = results.append(result.assign(run=i + 1), ignore_index=True)\n",
      " 54%|█████▍    | 27/50 [44:50<39:14, 102.38s/it]"
     ]
    },
    {
     "name": "stdout",
     "output_type": "stream",
     "text": [
      "Restoring model weights from the end of the best epoch: 62.\n",
      "Epoch 112: early stopping\n",
      "79/79 [==============================] - 0s 3ms/step\n",
      "Restoring model weights from the end of the best epoch: 160.\n",
      "Epoch 210: early stopping\n"
     ]
    },
    {
     "name": "stderr",
     "output_type": "stream",
     "text": [
      "100%|██████████| 100/100 [00:05<00:00, 19.95it/s]\n"
     ]
    },
    {
     "name": "stdout",
     "output_type": "stream",
     "text": [
      "Restoring model weights from the end of the best epoch: 198.\n",
      "Epoch 248: early stopping\n"
     ]
    },
    {
     "name": "stderr",
     "output_type": "stream",
     "text": [
      "100%|██████████| 100/100 [00:06<00:00, 16.35it/s]\n",
      "/var/folders/d1/sg_qr5nx5t5586ls8g_n98_80000gn/T/ipykernel_21748/965276818.py:16: FutureWarning: The frame.append method is deprecated and will be removed from pandas in a future version. Use pandas.concat instead.\n",
      "  results = results.append(result.assign(run=i + 1), ignore_index=True)\n",
      " 56%|█████▌    | 28/50 [46:51<39:37, 108.08s/it]"
     ]
    },
    {
     "name": "stdout",
     "output_type": "stream",
     "text": [
      "Restoring model weights from the end of the best epoch: 75.\n",
      "Epoch 125: early stopping\n",
      "79/79 [==============================] - 0s 3ms/step\n",
      "Restoring model weights from the end of the best epoch: 88.\n",
      "Epoch 138: early stopping\n"
     ]
    },
    {
     "name": "stderr",
     "output_type": "stream",
     "text": [
      "100%|██████████| 100/100 [00:06<00:00, 16.01it/s]\n"
     ]
    },
    {
     "name": "stdout",
     "output_type": "stream",
     "text": [
      "Restoring model weights from the end of the best epoch: 58.\n",
      "Epoch 108: early stopping\n"
     ]
    },
    {
     "name": "stderr",
     "output_type": "stream",
     "text": [
      "100%|██████████| 100/100 [00:06<00:00, 14.92it/s]\n",
      "/var/folders/d1/sg_qr5nx5t5586ls8g_n98_80000gn/T/ipykernel_21748/965276818.py:16: FutureWarning: The frame.append method is deprecated and will be removed from pandas in a future version. Use pandas.concat instead.\n",
      "  results = results.append(result.assign(run=i + 1), ignore_index=True)\n",
      " 58%|█████▊    | 29/50 [48:18<35:36, 101.74s/it]"
     ]
    },
    {
     "name": "stdout",
     "output_type": "stream",
     "text": [
      "Restoring model weights from the end of the best epoch: 99.\n",
      "Epoch 149: early stopping\n",
      "79/79 [==============================] - 0s 3ms/step\n",
      "Restoring model weights from the end of the best epoch: 93.\n",
      "Epoch 143: early stopping\n"
     ]
    },
    {
     "name": "stderr",
     "output_type": "stream",
     "text": [
      "100%|██████████| 100/100 [00:06<00:00, 15.86it/s]\n"
     ]
    },
    {
     "name": "stdout",
     "output_type": "stream",
     "text": [
      "Restoring model weights from the end of the best epoch: 138.\n",
      "Epoch 188: early stopping\n"
     ]
    },
    {
     "name": "stderr",
     "output_type": "stream",
     "text": [
      "100%|██████████| 100/100 [00:06<00:00, 15.81it/s]\n",
      "/var/folders/d1/sg_qr5nx5t5586ls8g_n98_80000gn/T/ipykernel_21748/965276818.py:16: FutureWarning: The frame.append method is deprecated and will be removed from pandas in a future version. Use pandas.concat instead.\n",
      "  results = results.append(result.assign(run=i + 1), ignore_index=True)\n",
      " 60%|██████    | 30/50 [50:04<34:17, 102.89s/it]"
     ]
    },
    {
     "name": "stdout",
     "output_type": "stream",
     "text": [
      "Restoring model weights from the end of the best epoch: 59.\n",
      "Epoch 109: early stopping\n",
      "79/79 [==============================] - 0s 3ms/step\n",
      "Restoring model weights from the end of the best epoch: 88.\n",
      "Epoch 138: early stopping\n"
     ]
    },
    {
     "name": "stderr",
     "output_type": "stream",
     "text": [
      "100%|██████████| 100/100 [00:06<00:00, 15.67it/s]\n"
     ]
    },
    {
     "name": "stdout",
     "output_type": "stream",
     "text": [
      "Restoring model weights from the end of the best epoch: 132.\n",
      "Epoch 182: early stopping\n"
     ]
    },
    {
     "name": "stderr",
     "output_type": "stream",
     "text": [
      "100%|██████████| 100/100 [00:06<00:00, 15.56it/s]\n",
      "/var/folders/d1/sg_qr5nx5t5586ls8g_n98_80000gn/T/ipykernel_21748/965276818.py:16: FutureWarning: The frame.append method is deprecated and will be removed from pandas in a future version. Use pandas.concat instead.\n",
      "  results = results.append(result.assign(run=i + 1), ignore_index=True)\n",
      " 62%|██████▏   | 31/50 [51:44<32:17, 101.96s/it]"
     ]
    },
    {
     "name": "stdout",
     "output_type": "stream",
     "text": [
      "Restoring model weights from the end of the best epoch: 112.\n",
      "Epoch 162: early stopping\n",
      "79/79 [==============================] - 0s 3ms/step\n",
      "Restoring model weights from the end of the best epoch: 76.\n",
      "Epoch 126: early stopping\n"
     ]
    },
    {
     "name": "stderr",
     "output_type": "stream",
     "text": [
      "100%|██████████| 100/100 [00:06<00:00, 14.44it/s]\n"
     ]
    },
    {
     "name": "stdout",
     "output_type": "stream",
     "text": [
      "Restoring model weights from the end of the best epoch: 241.\n",
      "Epoch 291: early stopping\n"
     ]
    },
    {
     "name": "stderr",
     "output_type": "stream",
     "text": [
      "100%|██████████| 100/100 [00:06<00:00, 15.53it/s]\n",
      "/var/folders/d1/sg_qr5nx5t5586ls8g_n98_80000gn/T/ipykernel_21748/965276818.py:16: FutureWarning: The frame.append method is deprecated and will be removed from pandas in a future version. Use pandas.concat instead.\n",
      "  results = results.append(result.assign(run=i + 1), ignore_index=True)\n",
      " 64%|██████▍   | 32/50 [53:49<32:38, 108.80s/it]"
     ]
    },
    {
     "name": "stdout",
     "output_type": "stream",
     "text": [
      "Restoring model weights from the end of the best epoch: 97.\n",
      "Epoch 147: early stopping\n",
      "79/79 [==============================] - 0s 3ms/step\n",
      "Restoring model weights from the end of the best epoch: 129.\n",
      "Epoch 179: early stopping\n"
     ]
    },
    {
     "name": "stderr",
     "output_type": "stream",
     "text": [
      "100%|██████████| 100/100 [00:06<00:00, 15.31it/s]\n"
     ]
    },
    {
     "name": "stdout",
     "output_type": "stream",
     "text": [
      "Restoring model weights from the end of the best epoch: 202.\n",
      "Epoch 252: early stopping\n"
     ]
    },
    {
     "name": "stderr",
     "output_type": "stream",
     "text": [
      "100%|██████████| 100/100 [00:06<00:00, 15.43it/s]\n",
      "/var/folders/d1/sg_qr5nx5t5586ls8g_n98_80000gn/T/ipykernel_21748/965276818.py:16: FutureWarning: The frame.append method is deprecated and will be removed from pandas in a future version. Use pandas.concat instead.\n",
      "  results = results.append(result.assign(run=i + 1), ignore_index=True)\n",
      " 66%|██████▌   | 33/50 [55:56<32:25, 114.47s/it]"
     ]
    },
    {
     "name": "stdout",
     "output_type": "stream",
     "text": [
      "Restoring model weights from the end of the best epoch: 69.\n",
      "Epoch 119: early stopping\n",
      "79/79 [==============================] - 0s 2ms/step\n",
      "Restoring model weights from the end of the best epoch: 105.\n",
      "Epoch 155: early stopping\n"
     ]
    },
    {
     "name": "stderr",
     "output_type": "stream",
     "text": [
      "100%|██████████| 100/100 [00:06<00:00, 15.14it/s]\n"
     ]
    },
    {
     "name": "stdout",
     "output_type": "stream",
     "text": [
      "Restoring model weights from the end of the best epoch: 73.\n",
      "Epoch 123: early stopping\n"
     ]
    },
    {
     "name": "stderr",
     "output_type": "stream",
     "text": [
      "100%|██████████| 100/100 [00:06<00:00, 15.19it/s]\n",
      "/var/folders/d1/sg_qr5nx5t5586ls8g_n98_80000gn/T/ipykernel_21748/965276818.py:16: FutureWarning: The frame.append method is deprecated and will be removed from pandas in a future version. Use pandas.concat instead.\n",
      "  results = results.append(result.assign(run=i + 1), ignore_index=True)\n",
      " 68%|██████▊   | 34/50 [57:32<29:02, 108.91s/it]"
     ]
    },
    {
     "name": "stdout",
     "output_type": "stream",
     "text": [
      "Restoring model weights from the end of the best epoch: 83.\n",
      "Epoch 133: early stopping\n",
      "79/79 [==============================] - 0s 3ms/step\n",
      "Restoring model weights from the end of the best epoch: 85.\n",
      "Epoch 135: early stopping\n"
     ]
    },
    {
     "name": "stderr",
     "output_type": "stream",
     "text": [
      "100%|██████████| 100/100 [00:06<00:00, 14.93it/s]\n"
     ]
    },
    {
     "name": "stdout",
     "output_type": "stream",
     "text": [
      "Restoring model weights from the end of the best epoch: 162.\n",
      "Epoch 212: early stopping\n"
     ]
    },
    {
     "name": "stderr",
     "output_type": "stream",
     "text": [
      "100%|██████████| 100/100 [00:06<00:00, 14.82it/s]\n",
      "/var/folders/d1/sg_qr5nx5t5586ls8g_n98_80000gn/T/ipykernel_21748/965276818.py:16: FutureWarning: The frame.append method is deprecated and will be removed from pandas in a future version. Use pandas.concat instead.\n",
      "  results = results.append(result.assign(run=i + 1), ignore_index=True)\n",
      " 70%|███████   | 35/50 [59:25<27:33, 110.23s/it]"
     ]
    },
    {
     "name": "stdout",
     "output_type": "stream",
     "text": [
      "Restoring model weights from the end of the best epoch: 155.\n",
      "Epoch 205: early stopping\n",
      "79/79 [==============================] - 0s 3ms/step\n",
      "Restoring model weights from the end of the best epoch: 114.\n",
      "Epoch 164: early stopping\n"
     ]
    },
    {
     "name": "stderr",
     "output_type": "stream",
     "text": [
      "100%|██████████| 100/100 [00:06<00:00, 14.89it/s]\n"
     ]
    },
    {
     "name": "stdout",
     "output_type": "stream",
     "text": [
      "Restoring model weights from the end of the best epoch: 84.\n",
      "Epoch 134: early stopping\n"
     ]
    },
    {
     "name": "stderr",
     "output_type": "stream",
     "text": [
      "100%|██████████| 100/100 [00:06<00:00, 14.42it/s]\n",
      "/var/folders/d1/sg_qr5nx5t5586ls8g_n98_80000gn/T/ipykernel_21748/965276818.py:16: FutureWarning: The frame.append method is deprecated and will be removed from pandas in a future version. Use pandas.concat instead.\n",
      "  results = results.append(result.assign(run=i + 1), ignore_index=True)\n",
      " 72%|███████▏  | 36/50 [1:01:19<25:56, 111.18s/it]"
     ]
    },
    {
     "name": "stdout",
     "output_type": "stream",
     "text": [
      "Restoring model weights from the end of the best epoch: 73.\n",
      "Epoch 123: early stopping\n",
      "79/79 [==============================] - 0s 3ms/step\n",
      "Restoring model weights from the end of the best epoch: 75.\n",
      "Epoch 125: early stopping\n"
     ]
    },
    {
     "name": "stderr",
     "output_type": "stream",
     "text": [
      "100%|██████████| 100/100 [00:06<00:00, 14.77it/s]\n"
     ]
    },
    {
     "name": "stdout",
     "output_type": "stream",
     "text": [
      "Restoring model weights from the end of the best epoch: 109.\n",
      "Epoch 159: early stopping\n"
     ]
    },
    {
     "name": "stderr",
     "output_type": "stream",
     "text": [
      "100%|██████████| 100/100 [00:06<00:00, 14.68it/s]\n",
      "/var/folders/d1/sg_qr5nx5t5586ls8g_n98_80000gn/T/ipykernel_21748/965276818.py:16: FutureWarning: The frame.append method is deprecated and will be removed from pandas in a future version. Use pandas.concat instead.\n",
      "  results = results.append(result.assign(run=i + 1), ignore_index=True)\n",
      " 74%|███████▍  | 37/50 [1:02:59<23:23, 107.98s/it]"
     ]
    },
    {
     "name": "stdout",
     "output_type": "stream",
     "text": [
      "Restoring model weights from the end of the best epoch: 58.\n",
      "Epoch 108: early stopping\n",
      "79/79 [==============================] - 0s 3ms/step\n",
      "Restoring model weights from the end of the best epoch: 100.\n",
      "Epoch 150: early stopping\n"
     ]
    },
    {
     "name": "stderr",
     "output_type": "stream",
     "text": [
      "100%|██████████| 100/100 [00:07<00:00, 14.23it/s]\n"
     ]
    },
    {
     "name": "stdout",
     "output_type": "stream",
     "text": [
      "Restoring model weights from the end of the best epoch: 301.\n",
      "Epoch 351: early stopping\n"
     ]
    },
    {
     "name": "stderr",
     "output_type": "stream",
     "text": [
      "100%|██████████| 100/100 [00:07<00:00, 14.01it/s]\n",
      "/var/folders/d1/sg_qr5nx5t5586ls8g_n98_80000gn/T/ipykernel_21748/965276818.py:16: FutureWarning: The frame.append method is deprecated and will be removed from pandas in a future version. Use pandas.concat instead.\n",
      "  results = results.append(result.assign(run=i + 1), ignore_index=True)\n",
      " 76%|███████▌  | 38/50 [1:05:23<23:45, 118.78s/it]"
     ]
    },
    {
     "name": "stdout",
     "output_type": "stream",
     "text": [
      "Restoring model weights from the end of the best epoch: 97.\n",
      "Epoch 147: early stopping\n",
      "79/79 [==============================] - 0s 3ms/step\n",
      "Restoring model weights from the end of the best epoch: 125.\n",
      "Epoch 175: early stopping\n"
     ]
    },
    {
     "name": "stderr",
     "output_type": "stream",
     "text": [
      "100%|██████████| 100/100 [00:07<00:00, 14.23it/s]\n"
     ]
    },
    {
     "name": "stdout",
     "output_type": "stream",
     "text": [
      "Restoring model weights from the end of the best epoch: 164.\n",
      "Epoch 214: early stopping\n"
     ]
    },
    {
     "name": "stderr",
     "output_type": "stream",
     "text": [
      "100%|██████████| 100/100 [00:06<00:00, 14.46it/s]\n",
      "/var/folders/d1/sg_qr5nx5t5586ls8g_n98_80000gn/T/ipykernel_21748/965276818.py:16: FutureWarning: The frame.append method is deprecated and will be removed from pandas in a future version. Use pandas.concat instead.\n",
      "  results = results.append(result.assign(run=i + 1), ignore_index=True)\n",
      " 78%|███████▊  | 39/50 [1:07:28<22:04, 120.41s/it]"
     ]
    },
    {
     "name": "stdout",
     "output_type": "stream",
     "text": [
      "Restoring model weights from the end of the best epoch: 87.\n",
      "Epoch 137: early stopping\n",
      "79/79 [==============================] - 0s 3ms/step\n",
      "Restoring model weights from the end of the best epoch: 99.\n",
      "Epoch 149: early stopping\n"
     ]
    },
    {
     "name": "stderr",
     "output_type": "stream",
     "text": [
      "100%|██████████| 100/100 [00:07<00:00, 14.19it/s]\n"
     ]
    },
    {
     "name": "stdout",
     "output_type": "stream",
     "text": [
      "Restoring model weights from the end of the best epoch: 122.\n",
      "Epoch 172: early stopping\n"
     ]
    },
    {
     "name": "stderr",
     "output_type": "stream",
     "text": [
      "100%|██████████| 100/100 [00:07<00:00, 14.06it/s]\n",
      "/var/folders/d1/sg_qr5nx5t5586ls8g_n98_80000gn/T/ipykernel_21748/965276818.py:16: FutureWarning: The frame.append method is deprecated and will be removed from pandas in a future version. Use pandas.concat instead.\n",
      "  results = results.append(result.assign(run=i + 1), ignore_index=True)\n",
      " 80%|████████  | 40/50 [1:09:17<19:31, 117.13s/it]"
     ]
    },
    {
     "name": "stdout",
     "output_type": "stream",
     "text": [
      "Restoring model weights from the end of the best epoch: 79.\n",
      "Epoch 129: early stopping\n",
      "79/79 [==============================] - 0s 3ms/step\n",
      "Restoring model weights from the end of the best epoch: 75.\n",
      "Epoch 125: early stopping\n"
     ]
    },
    {
     "name": "stderr",
     "output_type": "stream",
     "text": [
      "100%|██████████| 100/100 [00:07<00:00, 13.26it/s]\n"
     ]
    },
    {
     "name": "stdout",
     "output_type": "stream",
     "text": [
      "Restoring model weights from the end of the best epoch: 54.\n",
      "Epoch 104: early stopping\n"
     ]
    },
    {
     "name": "stderr",
     "output_type": "stream",
     "text": [
      "100%|██████████| 100/100 [00:07<00:00, 13.92it/s]\n",
      "/var/folders/d1/sg_qr5nx5t5586ls8g_n98_80000gn/T/ipykernel_21748/965276818.py:16: FutureWarning: The frame.append method is deprecated and will be removed from pandas in a future version. Use pandas.concat instead.\n",
      "  results = results.append(result.assign(run=i + 1), ignore_index=True)\n",
      " 82%|████████▏ | 41/50 [1:10:50<16:27, 109.76s/it]"
     ]
    },
    {
     "name": "stdout",
     "output_type": "stream",
     "text": [
      "Restoring model weights from the end of the best epoch: 72.\n",
      "Epoch 122: early stopping\n",
      "79/79 [==============================] - 0s 3ms/step\n",
      "Restoring model weights from the end of the best epoch: 95.\n",
      "Epoch 145: early stopping\n"
     ]
    },
    {
     "name": "stderr",
     "output_type": "stream",
     "text": [
      "100%|██████████| 100/100 [00:07<00:00, 14.05it/s]\n"
     ]
    },
    {
     "name": "stdout",
     "output_type": "stream",
     "text": [
      "Restoring model weights from the end of the best epoch: 178.\n",
      "Epoch 228: early stopping\n"
     ]
    },
    {
     "name": "stderr",
     "output_type": "stream",
     "text": [
      "100%|██████████| 100/100 [00:07<00:00, 14.08it/s]\n",
      "/var/folders/d1/sg_qr5nx5t5586ls8g_n98_80000gn/T/ipykernel_21748/965276818.py:16: FutureWarning: The frame.append method is deprecated and will be removed from pandas in a future version. Use pandas.concat instead.\n",
      "  results = results.append(result.assign(run=i + 1), ignore_index=True)\n",
      " 84%|████████▍ | 42/50 [1:12:49<15:00, 112.53s/it]"
     ]
    },
    {
     "name": "stdout",
     "output_type": "stream",
     "text": [
      "Restoring model weights from the end of the best epoch: 80.\n",
      "Epoch 130: early stopping\n",
      "79/79 [==============================] - 1s 3ms/step\n",
      "Restoring model weights from the end of the best epoch: 76.\n",
      "Epoch 126: early stopping\n"
     ]
    },
    {
     "name": "stderr",
     "output_type": "stream",
     "text": [
      "100%|██████████| 100/100 [00:07<00:00, 13.99it/s]\n"
     ]
    },
    {
     "name": "stdout",
     "output_type": "stream",
     "text": [
      "Restoring model weights from the end of the best epoch: 55.\n",
      "Epoch 105: early stopping\n"
     ]
    },
    {
     "name": "stderr",
     "output_type": "stream",
     "text": [
      "100%|██████████| 100/100 [00:07<00:00, 13.91it/s]\n",
      "/var/folders/d1/sg_qr5nx5t5586ls8g_n98_80000gn/T/ipykernel_21748/965276818.py:16: FutureWarning: The frame.append method is deprecated and will be removed from pandas in a future version. Use pandas.concat instead.\n",
      "  results = results.append(result.assign(run=i + 1), ignore_index=True)\n",
      " 86%|████████▌ | 43/50 [1:14:24<12:30, 107.27s/it]"
     ]
    },
    {
     "name": "stdout",
     "output_type": "stream",
     "text": [
      "Restoring model weights from the end of the best epoch: 85.\n",
      "Epoch 135: early stopping\n",
      "79/79 [==============================] - 1s 3ms/step\n",
      "Restoring model weights from the end of the best epoch: 60.\n",
      "Epoch 110: early stopping\n"
     ]
    },
    {
     "name": "stderr",
     "output_type": "stream",
     "text": [
      "100%|██████████| 100/100 [00:07<00:00, 13.76it/s]\n"
     ]
    },
    {
     "name": "stdout",
     "output_type": "stream",
     "text": [
      "Restoring model weights from the end of the best epoch: 134.\n",
      "Epoch 184: early stopping\n"
     ]
    },
    {
     "name": "stderr",
     "output_type": "stream",
     "text": [
      "100%|██████████| 100/100 [00:07<00:00, 13.15it/s]\n",
      "/var/folders/d1/sg_qr5nx5t5586ls8g_n98_80000gn/T/ipykernel_21748/965276818.py:16: FutureWarning: The frame.append method is deprecated and will be removed from pandas in a future version. Use pandas.concat instead.\n",
      "  results = results.append(result.assign(run=i + 1), ignore_index=True)\n",
      " 88%|████████▊ | 44/50 [1:16:13<10:47, 107.89s/it]"
     ]
    },
    {
     "name": "stdout",
     "output_type": "stream",
     "text": [
      "Restoring model weights from the end of the best epoch: 134.\n",
      "Epoch 184: early stopping\n",
      "79/79 [==============================] - 0s 3ms/step\n",
      "Restoring model weights from the end of the best epoch: 95.\n",
      "Epoch 145: early stopping\n"
     ]
    },
    {
     "name": "stderr",
     "output_type": "stream",
     "text": [
      "100%|██████████| 100/100 [00:07<00:00, 13.62it/s]\n"
     ]
    },
    {
     "name": "stdout",
     "output_type": "stream",
     "text": [
      "Restoring model weights from the end of the best epoch: 58.\n",
      "Epoch 108: early stopping\n"
     ]
    },
    {
     "name": "stderr",
     "output_type": "stream",
     "text": [
      "100%|██████████| 100/100 [00:07<00:00, 13.56it/s]\n",
      "/var/folders/d1/sg_qr5nx5t5586ls8g_n98_80000gn/T/ipykernel_21748/965276818.py:16: FutureWarning: The frame.append method is deprecated and will be removed from pandas in a future version. Use pandas.concat instead.\n",
      "  results = results.append(result.assign(run=i + 1), ignore_index=True)\n",
      " 90%|█████████ | 45/50 [1:17:59<08:55, 107.19s/it]"
     ]
    },
    {
     "name": "stdout",
     "output_type": "stream",
     "text": [
      "Restoring model weights from the end of the best epoch: 65.\n",
      "Epoch 115: early stopping\n",
      "79/79 [==============================] - 0s 3ms/step\n",
      "Restoring model weights from the end of the best epoch: 123.\n",
      "Epoch 173: early stopping\n"
     ]
    },
    {
     "name": "stderr",
     "output_type": "stream",
     "text": [
      "100%|██████████| 100/100 [00:07<00:00, 13.26it/s]\n"
     ]
    },
    {
     "name": "stdout",
     "output_type": "stream",
     "text": [
      "Restoring model weights from the end of the best epoch: 171.\n",
      "Epoch 221: early stopping\n"
     ]
    },
    {
     "name": "stderr",
     "output_type": "stream",
     "text": [
      "100%|██████████| 100/100 [00:07<00:00, 13.19it/s]\n",
      "/var/folders/d1/sg_qr5nx5t5586ls8g_n98_80000gn/T/ipykernel_21748/965276818.py:16: FutureWarning: The frame.append method is deprecated and will be removed from pandas in a future version. Use pandas.concat instead.\n",
      "  results = results.append(result.assign(run=i + 1), ignore_index=True)\n",
      " 92%|█████████▏| 46/50 [1:20:05<07:31, 112.90s/it]"
     ]
    },
    {
     "name": "stdout",
     "output_type": "stream",
     "text": [
      "Restoring model weights from the end of the best epoch: 78.\n",
      "Epoch 128: early stopping\n",
      "79/79 [==============================] - 0s 3ms/step\n",
      "Restoring model weights from the end of the best epoch: 81.\n",
      "Epoch 131: early stopping\n"
     ]
    },
    {
     "name": "stderr",
     "output_type": "stream",
     "text": [
      "100%|██████████| 100/100 [00:07<00:00, 13.07it/s]\n"
     ]
    },
    {
     "name": "stdout",
     "output_type": "stream",
     "text": [
      "Restoring model weights from the end of the best epoch: 130.\n",
      "Epoch 180: early stopping\n"
     ]
    },
    {
     "name": "stderr",
     "output_type": "stream",
     "text": [
      "100%|██████████| 100/100 [00:07<00:00, 13.24it/s]\n",
      "/var/folders/d1/sg_qr5nx5t5586ls8g_n98_80000gn/T/ipykernel_21748/965276818.py:16: FutureWarning: The frame.append method is deprecated and will be removed from pandas in a future version. Use pandas.concat instead.\n",
      "  results = results.append(result.assign(run=i + 1), ignore_index=True)\n",
      " 94%|█████████▍| 47/50 [1:21:58<05:38, 112.86s/it]"
     ]
    },
    {
     "name": "stdout",
     "output_type": "stream",
     "text": [
      "Restoring model weights from the end of the best epoch: 55.\n",
      "Epoch 105: early stopping\n",
      "79/79 [==============================] - 0s 3ms/step\n",
      "Restoring model weights from the end of the best epoch: 177.\n",
      "Epoch 227: early stopping\n"
     ]
    },
    {
     "name": "stderr",
     "output_type": "stream",
     "text": [
      "100%|██████████| 100/100 [00:08<00:00, 12.39it/s]\n"
     ]
    },
    {
     "name": "stdout",
     "output_type": "stream",
     "text": [
      "Restoring model weights from the end of the best epoch: 106.\n",
      "Epoch 156: early stopping\n"
     ]
    },
    {
     "name": "stderr",
     "output_type": "stream",
     "text": [
      "100%|██████████| 100/100 [00:07<00:00, 13.20it/s]\n",
      "/var/folders/d1/sg_qr5nx5t5586ls8g_n98_80000gn/T/ipykernel_21748/965276818.py:16: FutureWarning: The frame.append method is deprecated and will be removed from pandas in a future version. Use pandas.concat instead.\n",
      "  results = results.append(result.assign(run=i + 1), ignore_index=True)\n",
      " 96%|█████████▌| 48/50 [1:23:59<03:50, 115.35s/it]"
     ]
    },
    {
     "name": "stdout",
     "output_type": "stream",
     "text": [
      "Restoring model weights from the end of the best epoch: 79.\n",
      "Epoch 129: early stopping\n",
      "79/79 [==============================] - 0s 3ms/step\n",
      "Restoring model weights from the end of the best epoch: 95.\n",
      "Epoch 145: early stopping\n"
     ]
    },
    {
     "name": "stderr",
     "output_type": "stream",
     "text": [
      "100%|██████████| 100/100 [00:07<00:00, 12.98it/s]\n"
     ]
    },
    {
     "name": "stdout",
     "output_type": "stream",
     "text": [
      "Restoring model weights from the end of the best epoch: 167.\n",
      "Epoch 217: early stopping\n"
     ]
    },
    {
     "name": "stderr",
     "output_type": "stream",
     "text": [
      "100%|██████████| 100/100 [00:07<00:00, 13.03it/s]\n",
      "/var/folders/d1/sg_qr5nx5t5586ls8g_n98_80000gn/T/ipykernel_21748/965276818.py:16: FutureWarning: The frame.append method is deprecated and will be removed from pandas in a future version. Use pandas.concat instead.\n",
      "  results = results.append(result.assign(run=i + 1), ignore_index=True)\n",
      " 98%|█████████▊| 49/50 [1:26:01<01:57, 117.47s/it]"
     ]
    },
    {
     "name": "stdout",
     "output_type": "stream",
     "text": [
      "Restoring model weights from the end of the best epoch: 110.\n",
      "Epoch 160: early stopping\n",
      "79/79 [==============================] - 0s 4ms/step\n",
      "Restoring model weights from the end of the best epoch: 149.\n",
      "Epoch 199: early stopping\n"
     ]
    },
    {
     "name": "stderr",
     "output_type": "stream",
     "text": [
      "100%|██████████| 100/100 [00:07<00:00, 13.36it/s]\n"
     ]
    },
    {
     "name": "stdout",
     "output_type": "stream",
     "text": [
      "Restoring model weights from the end of the best epoch: 209.\n",
      "Epoch 259: early stopping\n"
     ]
    },
    {
     "name": "stderr",
     "output_type": "stream",
     "text": [
      "100%|██████████| 100/100 [00:07<00:00, 12.94it/s]\n",
      "/var/folders/d1/sg_qr5nx5t5586ls8g_n98_80000gn/T/ipykernel_21748/965276818.py:16: FutureWarning: The frame.append method is deprecated and will be removed from pandas in a future version. Use pandas.concat instead.\n",
      "  results = results.append(result.assign(run=i + 1), ignore_index=True)\n",
      "100%|██████████| 50/50 [1:28:25<00:00, 106.10s/it]\n"
     ]
    }
   ],
   "source": [
    "repeats = 50\n",
    "results = pd.DataFrame()\n",
    "for i in tqdm(range(repeats)):\n",
    "    # Generate data\n",
    "    sim_data = generate_data(\n",
    "        exp_id=exp_id, n_train=n_train, n_test=n_test, n_categories=n_categories,\n",
    "        f_structure=f_structure, signal_to_noise=sig2noise, y_dist=y_dist,\n",
    "        inverse_link=inverse_link, cat_dist=cat_dist, random_state=random_seed + i,\n",
    "        overwrite=\"auto\", suffix=f\"_{i + 1:02d}\"\n",
    "    )\n",
    "    # Run simulation experiment\n",
    "    result = run_sim_experiment_light(\n",
    "        exp_id=exp_id, sim_data=sim_data, y_dist=y_dist, random_state=random_seed + i, suffix=f\"_{i + 1:02d}\")\n",
    "    # Add run number to result\n",
    "    result = pd.DataFrame(result).transpose().rename_axis(\"model\").reset_index()\n",
    "    results = results.append(result.assign(run=i + 1), ignore_index=True)"
   ]
  },
  {
   "cell_type": "code",
   "execution_count": 5,
   "metadata": {},
   "outputs": [
    {
     "data": {
      "text/html": [
       "<div>\n",
       "<style scoped>\n",
       "    .dataframe tbody tr th:only-of-type {\n",
       "        vertical-align: middle;\n",
       "    }\n",
       "\n",
       "    .dataframe tbody tr th {\n",
       "        vertical-align: top;\n",
       "    }\n",
       "\n",
       "    .dataframe thead th {\n",
       "        text-align: right;\n",
       "    }\n",
       "</style>\n",
       "<table border=\"1\" class=\"dataframe\">\n",
       "  <thead>\n",
       "    <tr style=\"text-align: right;\">\n",
       "      <th></th>\n",
       "      <th>model</th>\n",
       "      <th>MAE</th>\n",
       "      <th>MedAE</th>\n",
       "      <th>MedPE</th>\n",
       "      <th>RMSE</th>\n",
       "      <th>R2</th>\n",
       "      <th>RMSE_avg</th>\n",
       "      <th>RMSE_avg_weighted</th>\n",
       "      <th>CRPS</th>\n",
       "      <th>run</th>\n",
       "    </tr>\n",
       "  </thead>\n",
       "  <tbody>\n",
       "    <tr>\n",
       "      <th>0</th>\n",
       "      <td>GLM_ignore_cat</td>\n",
       "      <td>0.201685</td>\n",
       "      <td>0.167776</td>\n",
       "      <td>0.241261</td>\n",
       "      <td>0.253070</td>\n",
       "      <td>0.393101</td>\n",
       "      <td>0.162121</td>\n",
       "      <td>0.163193</td>\n",
       "      <td>0.142726</td>\n",
       "      <td>1</td>\n",
       "    </tr>\n",
       "    <tr>\n",
       "      <th>1</th>\n",
       "      <td>GLM_one_hot</td>\n",
       "      <td>0.158725</td>\n",
       "      <td>0.133163</td>\n",
       "      <td>0.190165</td>\n",
       "      <td>0.199791</td>\n",
       "      <td>0.621744</td>\n",
       "      <td>0.050725</td>\n",
       "      <td>0.049830</td>\n",
       "      <td>0.112325</td>\n",
       "      <td>1</td>\n",
       "    </tr>\n",
       "    <tr>\n",
       "      <th>2</th>\n",
       "      <td>GLM_GLMM_enc</td>\n",
       "      <td>0.161100</td>\n",
       "      <td>0.137835</td>\n",
       "      <td>0.195181</td>\n",
       "      <td>0.202471</td>\n",
       "      <td>0.611527</td>\n",
       "      <td>0.060452</td>\n",
       "      <td>0.059762</td>\n",
       "      <td>0.113977</td>\n",
       "      <td>1</td>\n",
       "    </tr>\n",
       "    <tr>\n",
       "      <th>3</th>\n",
       "      <td>GBM_ignore_cat</td>\n",
       "      <td>0.187594</td>\n",
       "      <td>0.159129</td>\n",
       "      <td>0.224299</td>\n",
       "      <td>0.234456</td>\n",
       "      <td>0.479096</td>\n",
       "      <td>0.160345</td>\n",
       "      <td>0.160990</td>\n",
       "      <td>0.132433</td>\n",
       "      <td>1</td>\n",
       "    </tr>\n",
       "    <tr>\n",
       "      <th>4</th>\n",
       "      <td>GBM_one_hot</td>\n",
       "      <td>0.177074</td>\n",
       "      <td>0.151548</td>\n",
       "      <td>0.212506</td>\n",
       "      <td>0.219489</td>\n",
       "      <td>0.543480</td>\n",
       "      <td>0.129341</td>\n",
       "      <td>0.130297</td>\n",
       "      <td>0.124384</td>\n",
       "      <td>1</td>\n",
       "    </tr>\n",
       "    <tr>\n",
       "      <th>...</th>\n",
       "      <td>...</td>\n",
       "      <td>...</td>\n",
       "      <td>...</td>\n",
       "      <td>...</td>\n",
       "      <td>...</td>\n",
       "      <td>...</td>\n",
       "      <td>...</td>\n",
       "      <td>...</td>\n",
       "      <td>...</td>\n",
       "      <td>...</td>\n",
       "    </tr>\n",
       "    <tr>\n",
       "      <th>595</th>\n",
       "      <td>GBM_ee</td>\n",
       "      <td>0.187012</td>\n",
       "      <td>0.159104</td>\n",
       "      <td>0.214053</td>\n",
       "      <td>0.235045</td>\n",
       "      <td>0.512119</td>\n",
       "      <td>0.159479</td>\n",
       "      <td>0.156170</td>\n",
       "      <td>0.132632</td>\n",
       "      <td>50</td>\n",
       "    </tr>\n",
       "    <tr>\n",
       "      <th>596</th>\n",
       "      <td>GLMM</td>\n",
       "      <td>0.162380</td>\n",
       "      <td>0.137000</td>\n",
       "      <td>0.195689</td>\n",
       "      <td>0.203843</td>\n",
       "      <td>0.633052</td>\n",
       "      <td>0.063064</td>\n",
       "      <td>0.061637</td>\n",
       "      <td>0.114972</td>\n",
       "      <td>50</td>\n",
       "    </tr>\n",
       "    <tr>\n",
       "      <th>597</th>\n",
       "      <td>GPBoost</td>\n",
       "      <td>0.167205</td>\n",
       "      <td>0.143085</td>\n",
       "      <td>0.207814</td>\n",
       "      <td>0.207978</td>\n",
       "      <td>0.618015</td>\n",
       "      <td>0.059962</td>\n",
       "      <td>0.058054</td>\n",
       "      <td>0.117985</td>\n",
       "      <td>50</td>\n",
       "    </tr>\n",
       "    <tr>\n",
       "      <th>598</th>\n",
       "      <td>GLMMNet</td>\n",
       "      <td>0.144663</td>\n",
       "      <td>0.121525</td>\n",
       "      <td>0.178158</td>\n",
       "      <td>0.180662</td>\n",
       "      <td>0.711767</td>\n",
       "      <td>0.055121</td>\n",
       "      <td>0.054607</td>\n",
       "      <td>0.102586</td>\n",
       "      <td>50</td>\n",
       "    </tr>\n",
       "    <tr>\n",
       "      <th>599</th>\n",
       "      <td>GLMMNet_dropout</td>\n",
       "      <td>0.166814</td>\n",
       "      <td>0.143509</td>\n",
       "      <td>0.220274</td>\n",
       "      <td>0.208325</td>\n",
       "      <td>0.616739</td>\n",
       "      <td>0.113164</td>\n",
       "      <td>0.113325</td>\n",
       "      <td>0.118166</td>\n",
       "      <td>50</td>\n",
       "    </tr>\n",
       "  </tbody>\n",
       "</table>\n",
       "<p>600 rows × 10 columns</p>\n",
       "</div>"
      ],
      "text/plain": [
       "               model       MAE     MedAE     MedPE      RMSE        R2  \\\n",
       "0     GLM_ignore_cat  0.201685  0.167776  0.241261  0.253070  0.393101   \n",
       "1        GLM_one_hot  0.158725  0.133163  0.190165  0.199791  0.621744   \n",
       "2       GLM_GLMM_enc  0.161100  0.137835  0.195181  0.202471  0.611527   \n",
       "3     GBM_ignore_cat  0.187594  0.159129  0.224299  0.234456  0.479096   \n",
       "4        GBM_one_hot  0.177074  0.151548  0.212506  0.219489  0.543480   \n",
       "..               ...       ...       ...       ...       ...       ...   \n",
       "595           GBM_ee  0.187012  0.159104  0.214053  0.235045  0.512119   \n",
       "596             GLMM  0.162380  0.137000  0.195689  0.203843  0.633052   \n",
       "597          GPBoost  0.167205  0.143085  0.207814  0.207978  0.618015   \n",
       "598          GLMMNet  0.144663  0.121525  0.178158  0.180662  0.711767   \n",
       "599  GLMMNet_dropout  0.166814  0.143509  0.220274  0.208325  0.616739   \n",
       "\n",
       "     RMSE_avg  RMSE_avg_weighted      CRPS  run  \n",
       "0    0.162121           0.163193  0.142726    1  \n",
       "1    0.050725           0.049830  0.112325    1  \n",
       "2    0.060452           0.059762  0.113977    1  \n",
       "3    0.160345           0.160990  0.132433    1  \n",
       "4    0.129341           0.130297  0.124384    1  \n",
       "..        ...                ...       ...  ...  \n",
       "595  0.159479           0.156170  0.132632   50  \n",
       "596  0.063064           0.061637  0.114972   50  \n",
       "597  0.059962           0.058054  0.117985   50  \n",
       "598  0.055121           0.054607  0.102586   50  \n",
       "599  0.113164           0.113325  0.118166   50  \n",
       "\n",
       "[600 rows x 10 columns]"
      ]
     },
     "execution_count": 5,
     "metadata": {},
     "output_type": "execute_result"
    }
   ],
   "source": [
    "results.to_csv(f\"models/experiment_{exp_id}/repeats.csv\", index=False)\n",
    "results"
   ]
  },
  {
   "cell_type": "markdown",
   "metadata": {},
   "source": [
    "## Experiment #2"
   ]
  },
  {
   "cell_type": "code",
   "execution_count": 7,
   "metadata": {},
   "outputs": [],
   "source": [
    "# Configure simulation parameters\n",
    "exp_id = 2                         # experiment id\n",
    "sig2noise = np.array([4, 1, 1])    # relative signal-to-noise of the fixed effects, random effects and irreducible error\n",
    "y_dist = \"gamma\"                   # distribution of the response variable y\n",
    "inverse_link = np.exp              # inverse of the log link\n",
    "cat_dist = \"balanced\"              # distribution of the categorical variable\n",
    "random_seed = 42 + 4               # random seed for reproducibility\n",
    "log_plot = True                    # whether to plot the log transformed response and predictions\n",
    "nn_loss = \"mse\"                    # loss function for the neural network (entity embedding model)"
   ]
  },
  {
   "cell_type": "code",
   "execution_count": 9,
   "metadata": {},
   "outputs": [
    {
     "name": "stderr",
     "output_type": "stream",
     "text": [
      "  0%|          | 0/50 [00:00<?, ?it/s]"
     ]
    },
    {
     "name": "stdout",
     "output_type": "stream",
     "text": [
      "Restoring model weights from the end of the best epoch: 41.\n",
      "Epoch 91: early stopping\n",
      "79/79 [==============================] - 1s 4ms/step\n",
      "Restoring model weights from the end of the best epoch: 144.\n",
      "Epoch 194: early stopping\n"
     ]
    },
    {
     "name": "stderr",
     "output_type": "stream",
     "text": [
      "100%|██████████| 100/100 [00:07<00:00, 12.70it/s]\n"
     ]
    },
    {
     "name": "stdout",
     "output_type": "stream",
     "text": [
      "Restoring model weights from the end of the best epoch: 263.\n",
      "Epoch 313: early stopping\n"
     ]
    },
    {
     "name": "stderr",
     "output_type": "stream",
     "text": [
      "100%|██████████| 100/100 [00:07<00:00, 12.60it/s]\n",
      "/var/folders/d1/sg_qr5nx5t5586ls8g_n98_80000gn/T/ipykernel_29385/965276818.py:16: FutureWarning: The frame.append method is deprecated and will be removed from pandas in a future version. Use pandas.concat instead.\n",
      "  results = results.append(result.assign(run=i + 1), ignore_index=True)\n",
      "  2%|▏         | 1/50 [02:35<2:06:49, 155.29s/it]"
     ]
    },
    {
     "name": "stdout",
     "output_type": "stream",
     "text": [
      "Restoring model weights from the end of the best epoch: 43.\n",
      "Epoch 93: early stopping\n",
      "79/79 [==============================] - 0s 3ms/step\n",
      "Restoring model weights from the end of the best epoch: 124.\n",
      "Epoch 174: early stopping\n"
     ]
    },
    {
     "name": "stderr",
     "output_type": "stream",
     "text": [
      "100%|██████████| 100/100 [00:07<00:00, 12.75it/s]\n"
     ]
    },
    {
     "name": "stdout",
     "output_type": "stream",
     "text": [
      "Restoring model weights from the end of the best epoch: 152.\n",
      "Epoch 202: early stopping\n"
     ]
    },
    {
     "name": "stderr",
     "output_type": "stream",
     "text": [
      "100%|██████████| 100/100 [00:07<00:00, 12.63it/s]\n",
      "/var/folders/d1/sg_qr5nx5t5586ls8g_n98_80000gn/T/ipykernel_29385/965276818.py:16: FutureWarning: The frame.append method is deprecated and will be removed from pandas in a future version. Use pandas.concat instead.\n",
      "  results = results.append(result.assign(run=i + 1), ignore_index=True)\n",
      "  4%|▍         | 2/50 [04:36<1:48:22, 135.47s/it]"
     ]
    },
    {
     "name": "stdout",
     "output_type": "stream",
     "text": [
      "Restoring model weights from the end of the best epoch: 26.\n",
      "Epoch 76: early stopping\n",
      "79/79 [==============================] - 0s 3ms/step\n",
      "Restoring model weights from the end of the best epoch: 137.\n",
      "Epoch 187: early stopping\n"
     ]
    },
    {
     "name": "stderr",
     "output_type": "stream",
     "text": [
      "100%|██████████| 100/100 [00:07<00:00, 12.76it/s]\n"
     ]
    },
    {
     "name": "stdout",
     "output_type": "stream",
     "text": [
      "Restoring model weights from the end of the best epoch: 202.\n",
      "Epoch 252: early stopping\n"
     ]
    },
    {
     "name": "stderr",
     "output_type": "stream",
     "text": [
      "100%|██████████| 100/100 [00:07<00:00, 12.74it/s]\n",
      "/var/folders/d1/sg_qr5nx5t5586ls8g_n98_80000gn/T/ipykernel_29385/965276818.py:16: FutureWarning: The frame.append method is deprecated and will be removed from pandas in a future version. Use pandas.concat instead.\n",
      "  results = results.append(result.assign(run=i + 1), ignore_index=True)\n",
      "  6%|▌         | 3/50 [06:53<1:46:23, 135.83s/it]"
     ]
    },
    {
     "name": "stdout",
     "output_type": "stream",
     "text": [
      "Restoring model weights from the end of the best epoch: 37.\n",
      "Epoch 87: early stopping\n",
      "79/79 [==============================] - 0s 4ms/step\n",
      "Restoring model weights from the end of the best epoch: 101.\n",
      "Epoch 151: early stopping\n"
     ]
    },
    {
     "name": "stderr",
     "output_type": "stream",
     "text": [
      "100%|██████████| 100/100 [00:07<00:00, 12.66it/s]\n",
      "100%|██████████| 100/100 [00:07<00:00, 12.67it/s]\n",
      "/var/folders/d1/sg_qr5nx5t5586ls8g_n98_80000gn/T/ipykernel_29385/965276818.py:16: FutureWarning: The frame.append method is deprecated and will be removed from pandas in a future version. Use pandas.concat instead.\n",
      "  results = results.append(result.assign(run=i + 1), ignore_index=True)\n",
      "  8%|▊         | 4/50 [09:47<1:55:54, 151.19s/it]"
     ]
    },
    {
     "name": "stdout",
     "output_type": "stream",
     "text": [
      "Restoring model weights from the end of the best epoch: 19.\n",
      "Epoch 69: early stopping\n",
      "79/79 [==============================] - 0s 4ms/step\n",
      "Restoring model weights from the end of the best epoch: 97.\n",
      "Epoch 147: early stopping\n"
     ]
    },
    {
     "name": "stderr",
     "output_type": "stream",
     "text": [
      "100%|██████████| 100/100 [00:07<00:00, 12.63it/s]\n"
     ]
    },
    {
     "name": "stdout",
     "output_type": "stream",
     "text": [
      "Restoring model weights from the end of the best epoch: 271.\n",
      "Epoch 321: early stopping\n"
     ]
    },
    {
     "name": "stderr",
     "output_type": "stream",
     "text": [
      "100%|██████████| 100/100 [00:08<00:00, 12.37it/s]\n",
      "/var/folders/d1/sg_qr5nx5t5586ls8g_n98_80000gn/T/ipykernel_29385/965276818.py:16: FutureWarning: The frame.append method is deprecated and will be removed from pandas in a future version. Use pandas.concat instead.\n",
      "  results = results.append(result.assign(run=i + 1), ignore_index=True)\n",
      " 10%|█         | 5/50 [12:04<1:49:33, 146.07s/it]"
     ]
    },
    {
     "name": "stdout",
     "output_type": "stream",
     "text": [
      "Restoring model weights from the end of the best epoch: 29.\n",
      "Epoch 79: early stopping\n",
      "79/79 [==============================] - 1s 4ms/step\n",
      "Restoring model weights from the end of the best epoch: 79.\n",
      "Epoch 129: early stopping\n"
     ]
    },
    {
     "name": "stderr",
     "output_type": "stream",
     "text": [
      "100%|██████████| 100/100 [00:07<00:00, 12.60it/s]\n"
     ]
    },
    {
     "name": "stdout",
     "output_type": "stream",
     "text": [
      "Restoring model weights from the end of the best epoch: 319.\n",
      "Epoch 369: early stopping\n"
     ]
    },
    {
     "name": "stderr",
     "output_type": "stream",
     "text": [
      "100%|██████████| 100/100 [00:08<00:00, 12.43it/s]\n",
      "/var/folders/d1/sg_qr5nx5t5586ls8g_n98_80000gn/T/ipykernel_29385/965276818.py:16: FutureWarning: The frame.append method is deprecated and will be removed from pandas in a future version. Use pandas.concat instead.\n",
      "  results = results.append(result.assign(run=i + 1), ignore_index=True)\n",
      " 12%|█▏        | 6/50 [14:28<1:46:36, 145.37s/it]"
     ]
    },
    {
     "name": "stdout",
     "output_type": "stream",
     "text": [
      "Restoring model weights from the end of the best epoch: 46.\n",
      "Epoch 96: early stopping\n",
      "79/79 [==============================] - 1s 4ms/step\n",
      "Restoring model weights from the end of the best epoch: 118.\n",
      "Epoch 168: early stopping\n"
     ]
    },
    {
     "name": "stderr",
     "output_type": "stream",
     "text": [
      "100%|██████████| 100/100 [00:08<00:00, 12.12it/s]\n",
      "100%|██████████| 100/100 [00:08<00:00, 11.29it/s]\n",
      "/var/folders/d1/sg_qr5nx5t5586ls8g_n98_80000gn/T/ipykernel_29385/965276818.py:16: FutureWarning: The frame.append method is deprecated and will be removed from pandas in a future version. Use pandas.concat instead.\n",
      "  results = results.append(result.assign(run=i + 1), ignore_index=True)\n",
      " 14%|█▍        | 7/50 [17:29<1:52:32, 157.04s/it]"
     ]
    },
    {
     "name": "stdout",
     "output_type": "stream",
     "text": [
      "Restoring model weights from the end of the best epoch: 44.\n",
      "Epoch 94: early stopping\n",
      "79/79 [==============================] - 1s 3ms/step\n",
      "Restoring model weights from the end of the best epoch: 140.\n",
      "Epoch 190: early stopping\n"
     ]
    },
    {
     "name": "stderr",
     "output_type": "stream",
     "text": [
      "100%|██████████| 100/100 [00:08<00:00, 12.18it/s]\n"
     ]
    },
    {
     "name": "stdout",
     "output_type": "stream",
     "text": [
      "Restoring model weights from the end of the best epoch: 210.\n",
      "Epoch 260: early stopping\n"
     ]
    },
    {
     "name": "stderr",
     "output_type": "stream",
     "text": [
      "100%|██████████| 100/100 [00:08<00:00, 12.05it/s]\n",
      "/var/folders/d1/sg_qr5nx5t5586ls8g_n98_80000gn/T/ipykernel_29385/965276818.py:16: FutureWarning: The frame.append method is deprecated and will be removed from pandas in a future version. Use pandas.concat instead.\n",
      "  results = results.append(result.assign(run=i + 1), ignore_index=True)\n",
      " 16%|█▌        | 8/50 [19:49<1:46:06, 151.58s/it]"
     ]
    },
    {
     "name": "stdout",
     "output_type": "stream",
     "text": [
      "Restoring model weights from the end of the best epoch: 28.\n",
      "Epoch 78: early stopping\n",
      "79/79 [==============================] - 1s 3ms/step\n",
      "Restoring model weights from the end of the best epoch: 137.\n",
      "Epoch 187: early stopping\n"
     ]
    },
    {
     "name": "stderr",
     "output_type": "stream",
     "text": [
      "100%|██████████| 100/100 [00:08<00:00, 12.09it/s]\n"
     ]
    },
    {
     "name": "stdout",
     "output_type": "stream",
     "text": [
      "Restoring model weights from the end of the best epoch: 175.\n",
      "Epoch 225: early stopping\n"
     ]
    },
    {
     "name": "stderr",
     "output_type": "stream",
     "text": [
      "100%|██████████| 100/100 [00:08<00:00, 11.88it/s]\n",
      "/var/folders/d1/sg_qr5nx5t5586ls8g_n98_80000gn/T/ipykernel_29385/965276818.py:16: FutureWarning: The frame.append method is deprecated and will be removed from pandas in a future version. Use pandas.concat instead.\n",
      "  results = results.append(result.assign(run=i + 1), ignore_index=True)\n",
      " 18%|█▊        | 9/50 [21:59<1:38:48, 144.60s/it]"
     ]
    },
    {
     "name": "stdout",
     "output_type": "stream",
     "text": [
      "Restoring model weights from the end of the best epoch: 53.\n",
      "Epoch 103: early stopping\n",
      "79/79 [==============================] - 1s 4ms/step\n",
      "Restoring model weights from the end of the best epoch: 182.\n",
      "Epoch 232: early stopping\n"
     ]
    },
    {
     "name": "stderr",
     "output_type": "stream",
     "text": [
      "100%|██████████| 100/100 [00:08<00:00, 11.85it/s]\n"
     ]
    },
    {
     "name": "stdout",
     "output_type": "stream",
     "text": [
      "Restoring model weights from the end of the best epoch: 355.\n",
      "Epoch 405: early stopping\n"
     ]
    },
    {
     "name": "stderr",
     "output_type": "stream",
     "text": [
      "100%|██████████| 100/100 [00:11<00:00,  8.94it/s]\n",
      "/var/folders/d1/sg_qr5nx5t5586ls8g_n98_80000gn/T/ipykernel_29385/965276818.py:16: FutureWarning: The frame.append method is deprecated and will be removed from pandas in a future version. Use pandas.concat instead.\n",
      "  results = results.append(result.assign(run=i + 1), ignore_index=True)\n",
      " 20%|██        | 10/50 [24:59<1:43:47, 155.68s/it]"
     ]
    },
    {
     "name": "stdout",
     "output_type": "stream",
     "text": [
      "Restoring model weights from the end of the best epoch: 20.\n",
      "Epoch 70: early stopping\n",
      "79/79 [==============================] - 0s 3ms/step\n",
      "Restoring model weights from the end of the best epoch: 105.\n",
      "Epoch 155: early stopping\n"
     ]
    },
    {
     "name": "stderr",
     "output_type": "stream",
     "text": [
      "100%|██████████| 100/100 [00:11<00:00,  8.96it/s]\n"
     ]
    },
    {
     "name": "stdout",
     "output_type": "stream",
     "text": [
      "Restoring model weights from the end of the best epoch: 231.\n",
      "Epoch 281: early stopping\n"
     ]
    },
    {
     "name": "stderr",
     "output_type": "stream",
     "text": [
      "100%|██████████| 100/100 [00:11<00:00,  8.73it/s]\n",
      "/var/folders/d1/sg_qr5nx5t5586ls8g_n98_80000gn/T/ipykernel_29385/965276818.py:16: FutureWarning: The frame.append method is deprecated and will be removed from pandas in a future version. Use pandas.concat instead.\n",
      "  results = results.append(result.assign(run=i + 1), ignore_index=True)\n",
      " 22%|██▏       | 11/50 [27:24<1:39:07, 152.51s/it]"
     ]
    },
    {
     "name": "stdout",
     "output_type": "stream",
     "text": [
      "Restoring model weights from the end of the best epoch: 43.\n",
      "Epoch 93: early stopping\n",
      "79/79 [==============================] - 1s 3ms/step\n",
      "Restoring model weights from the end of the best epoch: 156.\n",
      "Epoch 206: early stopping\n"
     ]
    },
    {
     "name": "stderr",
     "output_type": "stream",
     "text": [
      "100%|██████████| 100/100 [00:11<00:00,  8.80it/s]\n"
     ]
    },
    {
     "name": "stdout",
     "output_type": "stream",
     "text": [
      "Restoring model weights from the end of the best epoch: 150.\n",
      "Epoch 200: early stopping\n"
     ]
    },
    {
     "name": "stderr",
     "output_type": "stream",
     "text": [
      "100%|██████████| 100/100 [00:11<00:00,  8.84it/s]\n",
      "/var/folders/d1/sg_qr5nx5t5586ls8g_n98_80000gn/T/ipykernel_29385/965276818.py:16: FutureWarning: The frame.append method is deprecated and will be removed from pandas in a future version. Use pandas.concat instead.\n",
      "  results = results.append(result.assign(run=i + 1), ignore_index=True)\n",
      " 24%|██▍       | 12/50 [29:43<1:33:57, 148.35s/it]"
     ]
    },
    {
     "name": "stdout",
     "output_type": "stream",
     "text": [
      "Restoring model weights from the end of the best epoch: 25.\n",
      "Epoch 75: early stopping\n",
      "79/79 [==============================] - 1s 3ms/step\n",
      "Restoring model weights from the end of the best epoch: 162.\n",
      "Epoch 212: early stopping\n"
     ]
    },
    {
     "name": "stderr",
     "output_type": "stream",
     "text": [
      "100%|██████████| 100/100 [00:11<00:00,  8.73it/s]\n"
     ]
    },
    {
     "name": "stdout",
     "output_type": "stream",
     "text": [
      "Restoring model weights from the end of the best epoch: 224.\n",
      "Epoch 274: early stopping\n"
     ]
    },
    {
     "name": "stderr",
     "output_type": "stream",
     "text": [
      "100%|██████████| 100/100 [00:11<00:00,  8.67it/s]\n",
      "/var/folders/d1/sg_qr5nx5t5586ls8g_n98_80000gn/T/ipykernel_29385/965276818.py:16: FutureWarning: The frame.append method is deprecated and will be removed from pandas in a future version. Use pandas.concat instead.\n",
      "  results = results.append(result.assign(run=i + 1), ignore_index=True)\n",
      " 26%|██▌       | 13/50 [32:17<1:32:32, 150.06s/it]"
     ]
    },
    {
     "name": "stdout",
     "output_type": "stream",
     "text": [
      "Restoring model weights from the end of the best epoch: 28.\n",
      "Epoch 78: early stopping\n",
      "79/79 [==============================] - 1s 3ms/step\n",
      "Restoring model weights from the end of the best epoch: 131.\n",
      "Epoch 181: early stopping\n"
     ]
    },
    {
     "name": "stderr",
     "output_type": "stream",
     "text": [
      "100%|██████████| 100/100 [00:11<00:00,  9.06it/s]\n"
     ]
    },
    {
     "name": "stdout",
     "output_type": "stream",
     "text": [
      "Restoring model weights from the end of the best epoch: 304.\n",
      "Epoch 354: early stopping\n"
     ]
    },
    {
     "name": "stderr",
     "output_type": "stream",
     "text": [
      "100%|██████████| 100/100 [00:11<00:00,  8.83it/s]\n",
      "/var/folders/d1/sg_qr5nx5t5586ls8g_n98_80000gn/T/ipykernel_29385/965276818.py:16: FutureWarning: The frame.append method is deprecated and will be removed from pandas in a future version. Use pandas.concat instead.\n",
      "  results = results.append(result.assign(run=i + 1), ignore_index=True)\n",
      " 28%|██▊       | 14/50 [34:58<1:32:02, 153.41s/it]"
     ]
    },
    {
     "name": "stdout",
     "output_type": "stream",
     "text": [
      "Restoring model weights from the end of the best epoch: 47.\n",
      "Epoch 97: early stopping\n",
      "79/79 [==============================] - 1s 4ms/step\n",
      "Restoring model weights from the end of the best epoch: 142.\n",
      "Epoch 192: early stopping\n"
     ]
    },
    {
     "name": "stderr",
     "output_type": "stream",
     "text": [
      "100%|██████████| 100/100 [00:11<00:00,  8.65it/s]\n"
     ]
    },
    {
     "name": "stdout",
     "output_type": "stream",
     "text": [
      "Restoring model weights from the end of the best epoch: 267.\n",
      "Epoch 317: early stopping\n"
     ]
    },
    {
     "name": "stderr",
     "output_type": "stream",
     "text": [
      "100%|██████████| 100/100 [00:11<00:00,  8.72it/s]\n",
      "/var/folders/d1/sg_qr5nx5t5586ls8g_n98_80000gn/T/ipykernel_29385/965276818.py:16: FutureWarning: The frame.append method is deprecated and will be removed from pandas in a future version. Use pandas.concat instead.\n",
      "  results = results.append(result.assign(run=i + 1), ignore_index=True)\n",
      " 30%|███       | 15/50 [37:37<1:30:20, 154.87s/it]"
     ]
    },
    {
     "name": "stdout",
     "output_type": "stream",
     "text": [
      "Restoring model weights from the end of the best epoch: 54.\n",
      "Epoch 104: early stopping\n",
      "79/79 [==============================] - 1s 4ms/step\n",
      "Restoring model weights from the end of the best epoch: 142.\n",
      "Epoch 192: early stopping\n"
     ]
    },
    {
     "name": "stderr",
     "output_type": "stream",
     "text": [
      "100%|██████████| 100/100 [00:11<00:00,  8.82it/s]\n",
      "100%|██████████| 100/100 [00:11<00:00,  8.60it/s]\n",
      "/var/folders/d1/sg_qr5nx5t5586ls8g_n98_80000gn/T/ipykernel_29385/965276818.py:16: FutureWarning: The frame.append method is deprecated and will be removed from pandas in a future version. Use pandas.concat instead.\n",
      "  results = results.append(result.assign(run=i + 1), ignore_index=True)\n",
      " 32%|███▏      | 16/50 [40:49<1:34:07, 166.10s/it]"
     ]
    },
    {
     "name": "stdout",
     "output_type": "stream",
     "text": [
      "Restoring model weights from the end of the best epoch: 34.\n",
      "Epoch 84: early stopping\n",
      "79/79 [==============================] - 1s 4ms/step\n",
      "Restoring model weights from the end of the best epoch: 163.\n",
      "Epoch 213: early stopping\n"
     ]
    },
    {
     "name": "stderr",
     "output_type": "stream",
     "text": [
      "100%|██████████| 100/100 [00:11<00:00,  8.56it/s]\n"
     ]
    },
    {
     "name": "stdout",
     "output_type": "stream",
     "text": [
      "Restoring model weights from the end of the best epoch: 277.\n",
      "Epoch 327: early stopping\n"
     ]
    },
    {
     "name": "stderr",
     "output_type": "stream",
     "text": [
      "100%|██████████| 100/100 [00:11<00:00,  8.76it/s]\n",
      "/var/folders/d1/sg_qr5nx5t5586ls8g_n98_80000gn/T/ipykernel_29385/965276818.py:16: FutureWarning: The frame.append method is deprecated and will be removed from pandas in a future version. Use pandas.concat instead.\n",
      "  results = results.append(result.assign(run=i + 1), ignore_index=True)\n",
      " 34%|███▍      | 17/50 [43:33<1:30:59, 165.45s/it]"
     ]
    },
    {
     "name": "stdout",
     "output_type": "stream",
     "text": [
      "Restoring model weights from the end of the best epoch: 33.\n",
      "Epoch 83: early stopping\n",
      "79/79 [==============================] - 1s 4ms/step\n",
      "Restoring model weights from the end of the best epoch: 113.\n",
      "Epoch 163: early stopping\n"
     ]
    },
    {
     "name": "stderr",
     "output_type": "stream",
     "text": [
      "100%|██████████| 100/100 [00:11<00:00,  8.65it/s]\n"
     ]
    },
    {
     "name": "stdout",
     "output_type": "stream",
     "text": [
      "Restoring model weights from the end of the best epoch: 236.\n",
      "Epoch 286: early stopping\n"
     ]
    },
    {
     "name": "stderr",
     "output_type": "stream",
     "text": [
      "100%|██████████| 100/100 [00:11<00:00,  8.45it/s]\n",
      "/var/folders/d1/sg_qr5nx5t5586ls8g_n98_80000gn/T/ipykernel_29385/965276818.py:16: FutureWarning: The frame.append method is deprecated and will be removed from pandas in a future version. Use pandas.concat instead.\n",
      "  results = results.append(result.assign(run=i + 1), ignore_index=True)\n",
      " 36%|███▌      | 18/50 [45:56<1:24:40, 158.77s/it]"
     ]
    },
    {
     "name": "stdout",
     "output_type": "stream",
     "text": [
      "Restoring model weights from the end of the best epoch: 35.\n",
      "Epoch 85: early stopping\n",
      "79/79 [==============================] - 1s 4ms/step\n",
      "Restoring model weights from the end of the best epoch: 99.\n",
      "Epoch 149: early stopping\n"
     ]
    },
    {
     "name": "stderr",
     "output_type": "stream",
     "text": [
      "100%|██████████| 100/100 [00:11<00:00,  8.50it/s]\n"
     ]
    },
    {
     "name": "stdout",
     "output_type": "stream",
     "text": [
      "Restoring model weights from the end of the best epoch: 336.\n",
      "Epoch 386: early stopping\n"
     ]
    },
    {
     "name": "stderr",
     "output_type": "stream",
     "text": [
      "100%|██████████| 100/100 [00:11<00:00,  8.35it/s]\n",
      "/var/folders/d1/sg_qr5nx5t5586ls8g_n98_80000gn/T/ipykernel_29385/965276818.py:16: FutureWarning: The frame.append method is deprecated and will be removed from pandas in a future version. Use pandas.concat instead.\n",
      "  results = results.append(result.assign(run=i + 1), ignore_index=True)\n",
      " 38%|███▊      | 19/50 [48:41<1:22:56, 160.53s/it]"
     ]
    },
    {
     "name": "stdout",
     "output_type": "stream",
     "text": [
      "Restoring model weights from the end of the best epoch: 36.\n",
      "Epoch 86: early stopping\n",
      "79/79 [==============================] - 1s 4ms/step\n",
      "Restoring model weights from the end of the best epoch: 88.\n",
      "Epoch 138: early stopping\n"
     ]
    },
    {
     "name": "stderr",
     "output_type": "stream",
     "text": [
      "100%|██████████| 100/100 [00:11<00:00,  8.34it/s]\n",
      "100%|██████████| 100/100 [00:12<00:00,  8.30it/s]\n",
      "/var/folders/d1/sg_qr5nx5t5586ls8g_n98_80000gn/T/ipykernel_29385/965276818.py:16: FutureWarning: The frame.append method is deprecated and will be removed from pandas in a future version. Use pandas.concat instead.\n",
      "  results = results.append(result.assign(run=i + 1), ignore_index=True)\n",
      " 40%|████      | 20/50 [51:46<1:24:00, 168.01s/it]"
     ]
    },
    {
     "name": "stdout",
     "output_type": "stream",
     "text": [
      "Restoring model weights from the end of the best epoch: 36.\n",
      "Epoch 86: early stopping\n",
      "79/79 [==============================] - 1s 6ms/step\n",
      "Restoring model weights from the end of the best epoch: 111.\n",
      "Epoch 161: early stopping\n"
     ]
    },
    {
     "name": "stderr",
     "output_type": "stream",
     "text": [
      "100%|██████████| 100/100 [00:12<00:00,  8.32it/s]\n"
     ]
    },
    {
     "name": "stdout",
     "output_type": "stream",
     "text": [
      "Restoring model weights from the end of the best epoch: 275.\n",
      "Epoch 325: early stopping\n"
     ]
    },
    {
     "name": "stderr",
     "output_type": "stream",
     "text": [
      "100%|██████████| 100/100 [00:12<00:00,  7.98it/s]\n",
      "/var/folders/d1/sg_qr5nx5t5586ls8g_n98_80000gn/T/ipykernel_29385/965276818.py:16: FutureWarning: The frame.append method is deprecated and will be removed from pandas in a future version. Use pandas.concat instead.\n",
      "  results = results.append(result.assign(run=i + 1), ignore_index=True)\n",
      " 42%|████▏     | 21/50 [54:27<1:20:08, 165.82s/it]"
     ]
    },
    {
     "name": "stdout",
     "output_type": "stream",
     "text": [
      "Restoring model weights from the end of the best epoch: 32.\n",
      "Epoch 82: early stopping\n",
      "79/79 [==============================] - 1s 4ms/step\n",
      "Restoring model weights from the end of the best epoch: 116.\n",
      "Epoch 166: early stopping\n"
     ]
    },
    {
     "name": "stderr",
     "output_type": "stream",
     "text": [
      "100%|██████████| 100/100 [00:12<00:00,  7.91it/s]\n"
     ]
    },
    {
     "name": "stdout",
     "output_type": "stream",
     "text": [
      "Restoring model weights from the end of the best epoch: 135.\n",
      "Epoch 185: early stopping\n"
     ]
    },
    {
     "name": "stderr",
     "output_type": "stream",
     "text": [
      "100%|██████████| 100/100 [00:12<00:00,  8.14it/s]\n",
      "/var/folders/d1/sg_qr5nx5t5586ls8g_n98_80000gn/T/ipykernel_29385/965276818.py:16: FutureWarning: The frame.append method is deprecated and will be removed from pandas in a future version. Use pandas.concat instead.\n",
      "  results = results.append(result.assign(run=i + 1), ignore_index=True)\n",
      " 44%|████▍     | 22/50 [56:40<1:12:46, 155.93s/it]"
     ]
    },
    {
     "name": "stdout",
     "output_type": "stream",
     "text": [
      "Restoring model weights from the end of the best epoch: 42.\n",
      "Epoch 92: early stopping\n",
      "79/79 [==============================] - 1s 6ms/step\n",
      "Restoring model weights from the end of the best epoch: 155.\n",
      "Epoch 205: early stopping\n"
     ]
    },
    {
     "name": "stderr",
     "output_type": "stream",
     "text": [
      "100%|██████████| 100/100 [00:12<00:00,  8.19it/s]\n",
      "100%|██████████| 100/100 [00:12<00:00,  8.08it/s]\n",
      "/var/folders/d1/sg_qr5nx5t5586ls8g_n98_80000gn/T/ipykernel_29385/965276818.py:16: FutureWarning: The frame.append method is deprecated and will be removed from pandas in a future version. Use pandas.concat instead.\n",
      "  results = results.append(result.assign(run=i + 1), ignore_index=True)\n",
      " 46%|████▌     | 23/50 [1:00:01<1:16:19, 169.62s/it]"
     ]
    },
    {
     "name": "stdout",
     "output_type": "stream",
     "text": [
      "Restoring model weights from the end of the best epoch: 41.\n",
      "Epoch 91: early stopping\n",
      "79/79 [==============================] - 1s 4ms/step\n",
      "Restoring model weights from the end of the best epoch: 124.\n",
      "Epoch 174: early stopping\n"
     ]
    },
    {
     "name": "stderr",
     "output_type": "stream",
     "text": [
      "100%|██████████| 100/100 [00:12<00:00,  8.02it/s]\n"
     ]
    },
    {
     "name": "stdout",
     "output_type": "stream",
     "text": [
      "Restoring model weights from the end of the best epoch: 247.\n",
      "Epoch 297: early stopping\n"
     ]
    },
    {
     "name": "stderr",
     "output_type": "stream",
     "text": [
      "100%|██████████| 100/100 [00:12<00:00,  8.03it/s]\n",
      "/var/folders/d1/sg_qr5nx5t5586ls8g_n98_80000gn/T/ipykernel_29385/965276818.py:16: FutureWarning: The frame.append method is deprecated and will be removed from pandas in a future version. Use pandas.concat instead.\n",
      "  results = results.append(result.assign(run=i + 1), ignore_index=True)\n",
      " 48%|████▊     | 24/50 [1:02:38<1:11:53, 165.90s/it]"
     ]
    },
    {
     "name": "stdout",
     "output_type": "stream",
     "text": [
      "Restoring model weights from the end of the best epoch: 25.\n",
      "Epoch 75: early stopping\n",
      "79/79 [==============================] - 1s 4ms/step\n",
      "Restoring model weights from the end of the best epoch: 122.\n",
      "Epoch 172: early stopping\n"
     ]
    },
    {
     "name": "stderr",
     "output_type": "stream",
     "text": [
      "100%|██████████| 100/100 [00:12<00:00,  8.02it/s]\n"
     ]
    },
    {
     "name": "stdout",
     "output_type": "stream",
     "text": [
      "Restoring model weights from the end of the best epoch: 243.\n",
      "Epoch 293: early stopping\n"
     ]
    },
    {
     "name": "stderr",
     "output_type": "stream",
     "text": [
      "100%|██████████| 100/100 [00:12<00:00,  7.86it/s]\n",
      "/var/folders/d1/sg_qr5nx5t5586ls8g_n98_80000gn/T/ipykernel_29385/965276818.py:16: FutureWarning: The frame.append method is deprecated and will be removed from pandas in a future version. Use pandas.concat instead.\n",
      "  results = results.append(result.assign(run=i + 1), ignore_index=True)\n",
      " 50%|█████     | 25/50 [1:05:14<1:07:50, 162.82s/it]"
     ]
    },
    {
     "name": "stdout",
     "output_type": "stream",
     "text": [
      "Restoring model weights from the end of the best epoch: 27.\n",
      "Epoch 77: early stopping\n",
      "79/79 [==============================] - 1s 5ms/step\n",
      "Restoring model weights from the end of the best epoch: 126.\n",
      "Epoch 176: early stopping\n"
     ]
    },
    {
     "name": "stderr",
     "output_type": "stream",
     "text": [
      "100%|██████████| 100/100 [00:12<00:00,  7.81it/s]\n"
     ]
    },
    {
     "name": "stdout",
     "output_type": "stream",
     "text": [
      "Restoring model weights from the end of the best epoch: 392.\n",
      "Epoch 442: early stopping\n"
     ]
    },
    {
     "name": "stderr",
     "output_type": "stream",
     "text": [
      "100%|██████████| 100/100 [00:12<00:00,  7.90it/s]\n",
      "/var/folders/d1/sg_qr5nx5t5586ls8g_n98_80000gn/T/ipykernel_29385/965276818.py:16: FutureWarning: The frame.append method is deprecated and will be removed from pandas in a future version. Use pandas.concat instead.\n",
      "  results = results.append(result.assign(run=i + 1), ignore_index=True)\n",
      " 52%|█████▏    | 26/50 [1:08:18<1:07:39, 169.16s/it]"
     ]
    },
    {
     "name": "stdout",
     "output_type": "stream",
     "text": [
      "Restoring model weights from the end of the best epoch: 26.\n",
      "Epoch 76: early stopping\n",
      "79/79 [==============================] - 1s 4ms/step\n",
      "Restoring model weights from the end of the best epoch: 102.\n",
      "Epoch 152: early stopping\n"
     ]
    },
    {
     "name": "stderr",
     "output_type": "stream",
     "text": [
      "100%|██████████| 100/100 [00:13<00:00,  7.67it/s]\n"
     ]
    },
    {
     "name": "stdout",
     "output_type": "stream",
     "text": [
      "Restoring model weights from the end of the best epoch: 185.\n",
      "Epoch 235: early stopping\n"
     ]
    },
    {
     "name": "stderr",
     "output_type": "stream",
     "text": [
      "100%|██████████| 100/100 [00:12<00:00,  7.82it/s]\n",
      "/var/folders/d1/sg_qr5nx5t5586ls8g_n98_80000gn/T/ipykernel_29385/965276818.py:16: FutureWarning: The frame.append method is deprecated and will be removed from pandas in a future version. Use pandas.concat instead.\n",
      "  results = results.append(result.assign(run=i + 1), ignore_index=True)\n",
      " 54%|█████▍    | 27/50 [1:10:40<1:01:41, 160.94s/it]"
     ]
    },
    {
     "name": "stdout",
     "output_type": "stream",
     "text": [
      "Restoring model weights from the end of the best epoch: 43.\n",
      "Epoch 93: early stopping\n",
      "79/79 [==============================] - 1s 6ms/step\n",
      "Restoring model weights from the end of the best epoch: 92.\n",
      "Epoch 142: early stopping\n"
     ]
    },
    {
     "name": "stderr",
     "output_type": "stream",
     "text": [
      "100%|██████████| 100/100 [00:12<00:00,  7.83it/s]\n"
     ]
    },
    {
     "name": "stdout",
     "output_type": "stream",
     "text": [
      "Restoring model weights from the end of the best epoch: 406.\n",
      "Epoch 456: early stopping\n"
     ]
    },
    {
     "name": "stderr",
     "output_type": "stream",
     "text": [
      "100%|██████████| 100/100 [00:12<00:00,  7.75it/s]\n",
      "/var/folders/d1/sg_qr5nx5t5586ls8g_n98_80000gn/T/ipykernel_29385/965276818.py:16: FutureWarning: The frame.append method is deprecated and will be removed from pandas in a future version. Use pandas.concat instead.\n",
      "  results = results.append(result.assign(run=i + 1), ignore_index=True)\n",
      " 56%|█████▌    | 28/50 [1:13:44<1:01:34, 167.95s/it]"
     ]
    },
    {
     "name": "stdout",
     "output_type": "stream",
     "text": [
      "Restoring model weights from the end of the best epoch: 20.\n",
      "Epoch 70: early stopping\n",
      "79/79 [==============================] - 1s 4ms/step\n",
      "Restoring model weights from the end of the best epoch: 107.\n",
      "Epoch 157: early stopping\n"
     ]
    },
    {
     "name": "stderr",
     "output_type": "stream",
     "text": [
      "100%|██████████| 100/100 [00:12<00:00,  7.79it/s]\n",
      "100%|██████████| 100/100 [00:13<00:00,  7.59it/s]\n",
      "/var/folders/d1/sg_qr5nx5t5586ls8g_n98_80000gn/T/ipykernel_29385/965276818.py:16: FutureWarning: The frame.append method is deprecated and will be removed from pandas in a future version. Use pandas.concat instead.\n",
      "  results = results.append(result.assign(run=i + 1), ignore_index=True)\n",
      " 58%|█████▊    | 29/50 [1:17:01<1:01:48, 176.58s/it]"
     ]
    },
    {
     "name": "stdout",
     "output_type": "stream",
     "text": [
      "Restoring model weights from the end of the best epoch: 42.\n",
      "Epoch 92: early stopping\n",
      "79/79 [==============================] - 1s 6ms/step\n",
      "Restoring model weights from the end of the best epoch: 120.\n",
      "Epoch 170: early stopping\n"
     ]
    },
    {
     "name": "stderr",
     "output_type": "stream",
     "text": [
      "100%|██████████| 100/100 [00:13<00:00,  7.53it/s]\n"
     ]
    },
    {
     "name": "stdout",
     "output_type": "stream",
     "text": [
      "Restoring model weights from the end of the best epoch: 137.\n",
      "Epoch 187: early stopping\n"
     ]
    },
    {
     "name": "stderr",
     "output_type": "stream",
     "text": [
      "100%|██████████| 100/100 [00:13<00:00,  7.49it/s]\n",
      "/var/folders/d1/sg_qr5nx5t5586ls8g_n98_80000gn/T/ipykernel_29385/965276818.py:16: FutureWarning: The frame.append method is deprecated and will be removed from pandas in a future version. Use pandas.concat instead.\n",
      "  results = results.append(result.assign(run=i + 1), ignore_index=True)\n",
      " 60%|██████    | 30/50 [1:19:26<55:40, 167.04s/it]  "
     ]
    },
    {
     "name": "stdout",
     "output_type": "stream",
     "text": [
      "Restoring model weights from the end of the best epoch: 36.\n",
      "Epoch 86: early stopping\n",
      "79/79 [==============================] - 1s 4ms/step\n",
      "Restoring model weights from the end of the best epoch: 152.\n",
      "Epoch 202: early stopping\n"
     ]
    },
    {
     "name": "stderr",
     "output_type": "stream",
     "text": [
      "100%|██████████| 100/100 [00:13<00:00,  7.57it/s]\n"
     ]
    },
    {
     "name": "stdout",
     "output_type": "stream",
     "text": [
      "Restoring model weights from the end of the best epoch: 202.\n",
      "Epoch 252: early stopping\n"
     ]
    },
    {
     "name": "stderr",
     "output_type": "stream",
     "text": [
      "100%|██████████| 100/100 [00:13<00:00,  7.22it/s]\n",
      "/var/folders/d1/sg_qr5nx5t5586ls8g_n98_80000gn/T/ipykernel_29385/965276818.py:16: FutureWarning: The frame.append method is deprecated and will be removed from pandas in a future version. Use pandas.concat instead.\n",
      "  results = results.append(result.assign(run=i + 1), ignore_index=True)\n",
      " 62%|██████▏   | 31/50 [1:22:08<52:30, 165.79s/it]"
     ]
    },
    {
     "name": "stdout",
     "output_type": "stream",
     "text": [
      "Restoring model weights from the end of the best epoch: 27.\n",
      "Epoch 77: early stopping\n",
      "79/79 [==============================] - 1s 6ms/step\n",
      "Restoring model weights from the end of the best epoch: 135.\n",
      "Epoch 185: early stopping\n"
     ]
    },
    {
     "name": "stderr",
     "output_type": "stream",
     "text": [
      "100%|██████████| 100/100 [00:13<00:00,  7.26it/s]\n"
     ]
    },
    {
     "name": "stdout",
     "output_type": "stream",
     "text": [
      "Restoring model weights from the end of the best epoch: 269.\n",
      "Epoch 319: early stopping\n"
     ]
    },
    {
     "name": "stderr",
     "output_type": "stream",
     "text": [
      "100%|██████████| 100/100 [00:14<00:00,  7.12it/s]\n",
      "/var/folders/d1/sg_qr5nx5t5586ls8g_n98_80000gn/T/ipykernel_29385/965276818.py:16: FutureWarning: The frame.append method is deprecated and will be removed from pandas in a future version. Use pandas.concat instead.\n",
      "  results = results.append(result.assign(run=i + 1), ignore_index=True)\n",
      " 64%|██████▍   | 32/50 [1:25:03<50:30, 168.36s/it]"
     ]
    },
    {
     "name": "stdout",
     "output_type": "stream",
     "text": [
      "Restoring model weights from the end of the best epoch: 32.\n",
      "Epoch 82: early stopping\n",
      "79/79 [==============================] - 1s 4ms/step\n",
      "Restoring model weights from the end of the best epoch: 75.\n",
      "Epoch 125: early stopping\n"
     ]
    },
    {
     "name": "stderr",
     "output_type": "stream",
     "text": [
      "100%|██████████| 100/100 [00:14<00:00,  6.91it/s]\n"
     ]
    },
    {
     "name": "stdout",
     "output_type": "stream",
     "text": [
      "Restoring model weights from the end of the best epoch: 254.\n",
      "Epoch 304: early stopping\n"
     ]
    },
    {
     "name": "stderr",
     "output_type": "stream",
     "text": [
      "100%|██████████| 100/100 [00:14<00:00,  7.13it/s]\n",
      "/var/folders/d1/sg_qr5nx5t5586ls8g_n98_80000gn/T/ipykernel_29385/965276818.py:16: FutureWarning: The frame.append method is deprecated and will be removed from pandas in a future version. Use pandas.concat instead.\n",
      "  results = results.append(result.assign(run=i + 1), ignore_index=True)\n",
      " 66%|██████▌   | 33/50 [1:27:44<47:05, 166.19s/it]"
     ]
    },
    {
     "name": "stdout",
     "output_type": "stream",
     "text": [
      "Restoring model weights from the end of the best epoch: 43.\n",
      "Epoch 93: early stopping\n",
      "79/79 [==============================] - 1s 4ms/step\n",
      "Restoring model weights from the end of the best epoch: 170.\n",
      "Epoch 220: early stopping\n"
     ]
    },
    {
     "name": "stderr",
     "output_type": "stream",
     "text": [
      "100%|██████████| 100/100 [00:14<00:00,  6.97it/s]\n",
      "100%|██████████| 100/100 [00:14<00:00,  6.86it/s]\n",
      "/var/folders/d1/sg_qr5nx5t5586ls8g_n98_80000gn/T/ipykernel_29385/965276818.py:16: FutureWarning: The frame.append method is deprecated and will be removed from pandas in a future version. Use pandas.concat instead.\n",
      "  results = results.append(result.assign(run=i + 1), ignore_index=True)\n",
      " 68%|██████▊   | 34/50 [1:31:19<48:14, 180.90s/it]"
     ]
    },
    {
     "name": "stdout",
     "output_type": "stream",
     "text": [
      "Restoring model weights from the end of the best epoch: 51.\n",
      "Epoch 101: early stopping\n",
      "79/79 [==============================] - 1s 5ms/step\n",
      "Restoring model weights from the end of the best epoch: 155.\n",
      "Epoch 205: early stopping\n"
     ]
    },
    {
     "name": "stderr",
     "output_type": "stream",
     "text": [
      "100%|██████████| 100/100 [00:14<00:00,  7.02it/s]\n",
      "100%|██████████| 100/100 [00:14<00:00,  6.97it/s]\n",
      "/var/folders/d1/sg_qr5nx5t5586ls8g_n98_80000gn/T/ipykernel_29385/965276818.py:16: FutureWarning: The frame.append method is deprecated and will be removed from pandas in a future version. Use pandas.concat instead.\n",
      "  results = results.append(result.assign(run=i + 1), ignore_index=True)\n",
      " 70%|███████   | 35/50 [1:34:58<48:04, 192.30s/it]"
     ]
    },
    {
     "name": "stdout",
     "output_type": "stream",
     "text": [
      "Restoring model weights from the end of the best epoch: 27.\n",
      "Epoch 77: early stopping\n",
      "79/79 [==============================] - 1s 5ms/step\n",
      "Restoring model weights from the end of the best epoch: 99.\n",
      "Epoch 149: early stopping\n"
     ]
    },
    {
     "name": "stderr",
     "output_type": "stream",
     "text": [
      "100%|██████████| 100/100 [00:14<00:00,  6.88it/s]\n"
     ]
    },
    {
     "name": "stdout",
     "output_type": "stream",
     "text": [
      "Restoring model weights from the end of the best epoch: 187.\n",
      "Epoch 237: early stopping\n"
     ]
    },
    {
     "name": "stderr",
     "output_type": "stream",
     "text": [
      "100%|██████████| 100/100 [00:14<00:00,  6.85it/s]\n",
      "/var/folders/d1/sg_qr5nx5t5586ls8g_n98_80000gn/T/ipykernel_29385/965276818.py:16: FutureWarning: The frame.append method is deprecated and will be removed from pandas in a future version. Use pandas.concat instead.\n",
      "  results = results.append(result.assign(run=i + 1), ignore_index=True)\n",
      " 72%|███████▏  | 36/50 [1:37:39<42:42, 183.02s/it]"
     ]
    },
    {
     "name": "stdout",
     "output_type": "stream",
     "text": [
      "Restoring model weights from the end of the best epoch: 35.\n",
      "Epoch 85: early stopping\n",
      "79/79 [==============================] - 1s 4ms/step\n",
      "Restoring model weights from the end of the best epoch: 101.\n",
      "Epoch 151: early stopping\n"
     ]
    },
    {
     "name": "stderr",
     "output_type": "stream",
     "text": [
      "100%|██████████| 100/100 [00:14<00:00,  6.87it/s]\n"
     ]
    },
    {
     "name": "stdout",
     "output_type": "stream",
     "text": [
      "Restoring model weights from the end of the best epoch: 183.\n",
      "Epoch 233: early stopping\n"
     ]
    },
    {
     "name": "stderr",
     "output_type": "stream",
     "text": [
      "100%|██████████| 100/100 [00:14<00:00,  6.72it/s]\n",
      "/var/folders/d1/sg_qr5nx5t5586ls8g_n98_80000gn/T/ipykernel_29385/965276818.py:16: FutureWarning: The frame.append method is deprecated and will be removed from pandas in a future version. Use pandas.concat instead.\n",
      "  results = results.append(result.assign(run=i + 1), ignore_index=True)\n",
      " 74%|███████▍  | 37/50 [1:40:17<38:01, 175.50s/it]"
     ]
    },
    {
     "name": "stdout",
     "output_type": "stream",
     "text": [
      "Restoring model weights from the end of the best epoch: 63.\n",
      "Epoch 113: early stopping\n",
      "79/79 [==============================] - 1s 7ms/step\n",
      "Restoring model weights from the end of the best epoch: 101.\n",
      "Epoch 151: early stopping\n"
     ]
    },
    {
     "name": "stderr",
     "output_type": "stream",
     "text": [
      "100%|██████████| 100/100 [00:14<00:00,  6.76it/s]\n"
     ]
    },
    {
     "name": "stdout",
     "output_type": "stream",
     "text": [
      "Restoring model weights from the end of the best epoch: 149.\n",
      "Epoch 199: early stopping\n"
     ]
    },
    {
     "name": "stderr",
     "output_type": "stream",
     "text": [
      "100%|██████████| 100/100 [00:14<00:00,  6.73it/s]\n",
      "/var/folders/d1/sg_qr5nx5t5586ls8g_n98_80000gn/T/ipykernel_29385/965276818.py:16: FutureWarning: The frame.append method is deprecated and will be removed from pandas in a future version. Use pandas.concat instead.\n",
      "  results = results.append(result.assign(run=i + 1), ignore_index=True)\n",
      " 76%|███████▌  | 38/50 [1:42:58<34:12, 171.02s/it]"
     ]
    },
    {
     "name": "stdout",
     "output_type": "stream",
     "text": [
      "Restoring model weights from the end of the best epoch: 40.\n",
      "Epoch 90: early stopping\n",
      "79/79 [==============================] - 1s 6ms/step\n",
      "Restoring model weights from the end of the best epoch: 194.\n",
      "Epoch 244: early stopping\n"
     ]
    },
    {
     "name": "stderr",
     "output_type": "stream",
     "text": [
      "100%|██████████| 100/100 [00:15<00:00,  6.65it/s]\n"
     ]
    },
    {
     "name": "stdout",
     "output_type": "stream",
     "text": [
      "Restoring model weights from the end of the best epoch: 255.\n",
      "Epoch 305: early stopping\n"
     ]
    },
    {
     "name": "stderr",
     "output_type": "stream",
     "text": [
      "100%|██████████| 100/100 [00:15<00:00,  6.66it/s]\n",
      "/var/folders/d1/sg_qr5nx5t5586ls8g_n98_80000gn/T/ipykernel_29385/965276818.py:16: FutureWarning: The frame.append method is deprecated and will be removed from pandas in a future version. Use pandas.concat instead.\n",
      "  results = results.append(result.assign(run=i + 1), ignore_index=True)\n",
      " 78%|███████▊  | 39/50 [1:46:08<32:22, 176.60s/it]"
     ]
    },
    {
     "name": "stdout",
     "output_type": "stream",
     "text": [
      "Restoring model weights from the end of the best epoch: 34.\n",
      "Epoch 84: early stopping\n",
      "79/79 [==============================] - 1s 4ms/step\n",
      "Restoring model weights from the end of the best epoch: 139.\n",
      "Epoch 189: early stopping\n"
     ]
    },
    {
     "name": "stderr",
     "output_type": "stream",
     "text": [
      "100%|██████████| 100/100 [00:15<00:00,  6.34it/s]\n"
     ]
    },
    {
     "name": "stdout",
     "output_type": "stream",
     "text": [
      "Restoring model weights from the end of the best epoch: 242.\n",
      "Epoch 292: early stopping\n"
     ]
    },
    {
     "name": "stderr",
     "output_type": "stream",
     "text": [
      "100%|██████████| 100/100 [00:15<00:00,  6.66it/s]\n",
      "/var/folders/d1/sg_qr5nx5t5586ls8g_n98_80000gn/T/ipykernel_29385/965276818.py:16: FutureWarning: The frame.append method is deprecated and will be removed from pandas in a future version. Use pandas.concat instead.\n",
      "  results = results.append(result.assign(run=i + 1), ignore_index=True)\n",
      " 80%|████████  | 40/50 [1:49:06<29:31, 177.14s/it]"
     ]
    },
    {
     "name": "stdout",
     "output_type": "stream",
     "text": [
      "Restoring model weights from the end of the best epoch: 37.\n",
      "Epoch 87: early stopping\n",
      "79/79 [==============================] - 1s 6ms/step\n",
      "Restoring model weights from the end of the best epoch: 128.\n",
      "Epoch 178: early stopping\n"
     ]
    },
    {
     "name": "stderr",
     "output_type": "stream",
     "text": [
      "100%|██████████| 100/100 [00:15<00:00,  6.66it/s]\n"
     ]
    },
    {
     "name": "stdout",
     "output_type": "stream",
     "text": [
      "Restoring model weights from the end of the best epoch: 335.\n",
      "Epoch 385: early stopping\n"
     ]
    },
    {
     "name": "stderr",
     "output_type": "stream",
     "text": [
      "100%|██████████| 100/100 [00:15<00:00,  6.40it/s]\n",
      "/var/folders/d1/sg_qr5nx5t5586ls8g_n98_80000gn/T/ipykernel_29385/965276818.py:16: FutureWarning: The frame.append method is deprecated and will be removed from pandas in a future version. Use pandas.concat instead.\n",
      "  results = results.append(result.assign(run=i + 1), ignore_index=True)\n",
      " 82%|████████▏ | 41/50 [1:52:21<27:22, 182.52s/it]"
     ]
    },
    {
     "name": "stdout",
     "output_type": "stream",
     "text": [
      "Restoring model weights from the end of the best epoch: 50.\n",
      "Epoch 100: early stopping\n",
      "79/79 [==============================] - 1s 8ms/step\n",
      "Restoring model weights from the end of the best epoch: 135.\n",
      "Epoch 185: early stopping\n"
     ]
    },
    {
     "name": "stderr",
     "output_type": "stream",
     "text": [
      "100%|██████████| 100/100 [00:15<00:00,  6.60it/s]\n",
      "100%|██████████| 100/100 [00:15<00:00,  6.44it/s]\n",
      "/var/folders/d1/sg_qr5nx5t5586ls8g_n98_80000gn/T/ipykernel_29385/965276818.py:16: FutureWarning: The frame.append method is deprecated and will be removed from pandas in a future version. Use pandas.concat instead.\n",
      "  results = results.append(result.assign(run=i + 1), ignore_index=True)\n",
      " 84%|████████▍ | 42/50 [1:56:07<26:04, 195.52s/it]"
     ]
    },
    {
     "name": "stdout",
     "output_type": "stream",
     "text": [
      "Restoring model weights from the end of the best epoch: 28.\n",
      "Epoch 78: early stopping\n",
      "79/79 [==============================] - 1s 7ms/step\n",
      "Restoring model weights from the end of the best epoch: 140.\n",
      "Epoch 190: early stopping\n"
     ]
    },
    {
     "name": "stderr",
     "output_type": "stream",
     "text": [
      "100%|██████████| 100/100 [00:15<00:00,  6.35it/s]\n",
      "100%|██████████| 100/100 [00:15<00:00,  6.46it/s]\n",
      "/var/folders/d1/sg_qr5nx5t5586ls8g_n98_80000gn/T/ipykernel_29385/965276818.py:16: FutureWarning: The frame.append method is deprecated and will be removed from pandas in a future version. Use pandas.concat instead.\n",
      "  results = results.append(result.assign(run=i + 1), ignore_index=True)\n",
      " 86%|████████▌ | 43/50 [1:59:55<23:56, 205.21s/it]"
     ]
    },
    {
     "name": "stdout",
     "output_type": "stream",
     "text": [
      "Restoring model weights from the end of the best epoch: 23.\n",
      "Epoch 73: early stopping\n",
      "79/79 [==============================] - 2s 10ms/step\n",
      "Restoring model weights from the end of the best epoch: 127.\n",
      "Epoch 177: early stopping\n"
     ]
    },
    {
     "name": "stderr",
     "output_type": "stream",
     "text": [
      "100%|██████████| 100/100 [00:20<00:00,  4.96it/s]\n"
     ]
    },
    {
     "name": "stdout",
     "output_type": "stream",
     "text": [
      "Restoring model weights from the end of the best epoch: 208.\n",
      "Epoch 258: early stopping\n"
     ]
    },
    {
     "name": "stderr",
     "output_type": "stream",
     "text": [
      "100%|██████████| 100/100 [00:21<00:00,  4.69it/s]\n",
      "/var/folders/d1/sg_qr5nx5t5586ls8g_n98_80000gn/T/ipykernel_29385/965276818.py:16: FutureWarning: The frame.append method is deprecated and will be removed from pandas in a future version. Use pandas.concat instead.\n",
      "  results = results.append(result.assign(run=i + 1), ignore_index=True)\n",
      " 88%|████████▊ | 44/50 [2:03:04<20:02, 200.48s/it]"
     ]
    },
    {
     "name": "stdout",
     "output_type": "stream",
     "text": [
      "Restoring model weights from the end of the best epoch: 50.\n",
      "Epoch 100: early stopping\n",
      "79/79 [==============================] - 1s 8ms/step\n",
      "Restoring model weights from the end of the best epoch: 126.\n",
      "Epoch 176: early stopping\n"
     ]
    },
    {
     "name": "stderr",
     "output_type": "stream",
     "text": [
      "100%|██████████| 100/100 [00:14<00:00,  6.94it/s]\n"
     ]
    },
    {
     "name": "stdout",
     "output_type": "stream",
     "text": [
      "Restoring model weights from the end of the best epoch: 206.\n",
      "Epoch 256: early stopping\n"
     ]
    },
    {
     "name": "stderr",
     "output_type": "stream",
     "text": [
      "100%|██████████| 100/100 [00:13<00:00,  7.22it/s]\n",
      "/var/folders/d1/sg_qr5nx5t5586ls8g_n98_80000gn/T/ipykernel_29385/965276818.py:16: FutureWarning: The frame.append method is deprecated and will be removed from pandas in a future version. Use pandas.concat instead.\n",
      "  results = results.append(result.assign(run=i + 1), ignore_index=True)\n",
      " 90%|█████████ | 45/50 [2:05:57<16:00, 192.12s/it]"
     ]
    },
    {
     "name": "stdout",
     "output_type": "stream",
     "text": [
      "Restoring model weights from the end of the best epoch: 53.\n",
      "Epoch 103: early stopping\n",
      "79/79 [==============================] - 2s 10ms/step\n",
      "Restoring model weights from the end of the best epoch: 112.\n",
      "Epoch 162: early stopping\n"
     ]
    },
    {
     "name": "stderr",
     "output_type": "stream",
     "text": [
      "100%|██████████| 100/100 [00:14<00:00,  7.08it/s]\n"
     ]
    },
    {
     "name": "stdout",
     "output_type": "stream",
     "text": [
      "Restoring model weights from the end of the best epoch: 439.\n",
      "Epoch 489: early stopping\n"
     ]
    },
    {
     "name": "stderr",
     "output_type": "stream",
     "text": [
      "100%|██████████| 100/100 [05:18<00:00,  3.18s/it]\n",
      "/var/folders/d1/sg_qr5nx5t5586ls8g_n98_80000gn/T/ipykernel_29385/965276818.py:16: FutureWarning: The frame.append method is deprecated and will be removed from pandas in a future version. Use pandas.concat instead.\n",
      "  results = results.append(result.assign(run=i + 1), ignore_index=True)\n",
      " 92%|█████████▏| 46/50 [2:14:53<19:41, 295.43s/it]"
     ]
    },
    {
     "name": "stdout",
     "output_type": "stream",
     "text": [
      "Restoring model weights from the end of the best epoch: 28.\n",
      "Epoch 78: early stopping\n",
      "79/79 [==============================] - 1s 5ms/step\n",
      "Restoring model weights from the end of the best epoch: 110.\n",
      "Epoch 160: early stopping\n"
     ]
    },
    {
     "name": "stderr",
     "output_type": "stream",
     "text": [
      "100%|██████████| 100/100 [01:03<00:00,  1.57it/s]\n"
     ]
    },
    {
     "name": "stdout",
     "output_type": "stream",
     "text": [
      "Restoring model weights from the end of the best epoch: 260.\n",
      "Epoch 310: early stopping\n"
     ]
    },
    {
     "name": "stderr",
     "output_type": "stream",
     "text": [
      "100%|██████████| 100/100 [00:13<00:00,  7.28it/s]\n",
      "/var/folders/d1/sg_qr5nx5t5586ls8g_n98_80000gn/T/ipykernel_29385/965276818.py:16: FutureWarning: The frame.append method is deprecated and will be removed from pandas in a future version. Use pandas.concat instead.\n",
      "  results = results.append(result.assign(run=i + 1), ignore_index=True)\n",
      " 94%|█████████▍| 47/50 [2:18:38<13:42, 274.26s/it]"
     ]
    },
    {
     "name": "stdout",
     "output_type": "stream",
     "text": [
      "Restoring model weights from the end of the best epoch: 62.\n",
      "Epoch 112: early stopping\n",
      "79/79 [==============================] - 1s 7ms/step\n",
      "Restoring model weights from the end of the best epoch: 131.\n",
      "Epoch 181: early stopping\n"
     ]
    },
    {
     "name": "stderr",
     "output_type": "stream",
     "text": [
      "100%|██████████| 100/100 [00:13<00:00,  7.26it/s]\n"
     ]
    },
    {
     "name": "stdout",
     "output_type": "stream",
     "text": [
      "Restoring model weights from the end of the best epoch: 341.\n",
      "Epoch 391: early stopping\n"
     ]
    },
    {
     "name": "stderr",
     "output_type": "stream",
     "text": [
      "100%|██████████| 100/100 [00:14<00:00,  6.97it/s]\n",
      "/var/folders/d1/sg_qr5nx5t5586ls8g_n98_80000gn/T/ipykernel_29385/965276818.py:16: FutureWarning: The frame.append method is deprecated and will be removed from pandas in a future version. Use pandas.concat instead.\n",
      "  results = results.append(result.assign(run=i + 1), ignore_index=True)\n",
      " 96%|█████████▌| 48/50 [2:22:13<08:32, 256.36s/it]"
     ]
    },
    {
     "name": "stdout",
     "output_type": "stream",
     "text": [
      "Restoring model weights from the end of the best epoch: 36.\n",
      "Epoch 86: early stopping\n",
      "79/79 [==============================] - 1s 4ms/step\n",
      "Restoring model weights from the end of the best epoch: 123.\n",
      "Epoch 173: early stopping\n"
     ]
    },
    {
     "name": "stderr",
     "output_type": "stream",
     "text": [
      "100%|██████████| 100/100 [00:15<00:00,  6.33it/s]\n"
     ]
    },
    {
     "name": "stdout",
     "output_type": "stream",
     "text": [
      "Restoring model weights from the end of the best epoch: 342.\n",
      "Epoch 392: early stopping\n"
     ]
    },
    {
     "name": "stderr",
     "output_type": "stream",
     "text": [
      "100%|██████████| 100/100 [00:18<00:00,  5.41it/s]\n",
      "/var/folders/d1/sg_qr5nx5t5586ls8g_n98_80000gn/T/ipykernel_29385/965276818.py:16: FutureWarning: The frame.append method is deprecated and will be removed from pandas in a future version. Use pandas.concat instead.\n",
      "  results = results.append(result.assign(run=i + 1), ignore_index=True)\n",
      " 98%|█████████▊| 49/50 [2:25:44<04:02, 242.81s/it]"
     ]
    },
    {
     "name": "stdout",
     "output_type": "stream",
     "text": [
      "Restoring model weights from the end of the best epoch: 28.\n",
      "Epoch 78: early stopping\n",
      "79/79 [==============================] - 1s 5ms/step\n",
      "Restoring model weights from the end of the best epoch: 119.\n",
      "Epoch 169: early stopping\n"
     ]
    },
    {
     "name": "stderr",
     "output_type": "stream",
     "text": [
      "100%|██████████| 100/100 [00:14<00:00,  7.09it/s]\n"
     ]
    },
    {
     "name": "stdout",
     "output_type": "stream",
     "text": [
      "Restoring model weights from the end of the best epoch: 253.\n",
      "Epoch 303: early stopping\n"
     ]
    },
    {
     "name": "stderr",
     "output_type": "stream",
     "text": [
      "100%|██████████| 100/100 [00:14<00:00,  6.92it/s]\n",
      "/var/folders/d1/sg_qr5nx5t5586ls8g_n98_80000gn/T/ipykernel_29385/965276818.py:16: FutureWarning: The frame.append method is deprecated and will be removed from pandas in a future version. Use pandas.concat instead.\n",
      "  results = results.append(result.assign(run=i + 1), ignore_index=True)\n",
      "100%|██████████| 50/50 [2:28:49<00:00, 178.58s/it]\n"
     ]
    }
   ],
   "source": [
    "repeats = 50\n",
    "results = pd.DataFrame()\n",
    "for i in tqdm(range(repeats)):\n",
    "    # Generate data\n",
    "    sim_data = generate_data(\n",
    "        exp_id=exp_id, n_train=n_train, n_test=n_test, n_categories=n_categories,\n",
    "        f_structure=f_structure, signal_to_noise=sig2noise, y_dist=y_dist,\n",
    "        inverse_link=inverse_link, cat_dist=cat_dist, random_state=random_seed + i,\n",
    "        overwrite=\"auto\", suffix=f\"_{i + 1:02d}\"\n",
    "    )\n",
    "    # Run simulation experiment\n",
    "    result = run_sim_experiment_light(\n",
    "        exp_id=exp_id, sim_data=sim_data, y_dist=y_dist, random_state=random_seed + i, suffix=f\"_{i + 1:02d}\")\n",
    "    # Add run number to result\n",
    "    result = pd.DataFrame(result).transpose().rename_axis(\"model\").reset_index()\n",
    "    results = results.append(result.assign(run=i + 1), ignore_index=True)"
   ]
  },
  {
   "cell_type": "code",
   "execution_count": 10,
   "metadata": {},
   "outputs": [
    {
     "data": {
      "text/html": [
       "<div>\n",
       "<style scoped>\n",
       "    .dataframe tbody tr th:only-of-type {\n",
       "        vertical-align: middle;\n",
       "    }\n",
       "\n",
       "    .dataframe tbody tr th {\n",
       "        vertical-align: top;\n",
       "    }\n",
       "\n",
       "    .dataframe thead th {\n",
       "        text-align: right;\n",
       "    }\n",
       "</style>\n",
       "<table border=\"1\" class=\"dataframe\">\n",
       "  <thead>\n",
       "    <tr style=\"text-align: right;\">\n",
       "      <th></th>\n",
       "      <th>model</th>\n",
       "      <th>MAE</th>\n",
       "      <th>MedAE</th>\n",
       "      <th>MedPE</th>\n",
       "      <th>RMSE</th>\n",
       "      <th>R2</th>\n",
       "      <th>RMSE_avg</th>\n",
       "      <th>RMSE_avg_weighted</th>\n",
       "      <th>CRPS</th>\n",
       "      <th>run</th>\n",
       "    </tr>\n",
       "  </thead>\n",
       "  <tbody>\n",
       "    <tr>\n",
       "      <th>0</th>\n",
       "      <td>GLM_ignore_cat</td>\n",
       "      <td>0.263093</td>\n",
       "      <td>0.223305</td>\n",
       "      <td>0.304475</td>\n",
       "      <td>0.329276</td>\n",
       "      <td>0.213444</td>\n",
       "      <td>0.096269</td>\n",
       "      <td>0.096299</td>\n",
       "      <td>0.185710</td>\n",
       "      <td>1</td>\n",
       "    </tr>\n",
       "    <tr>\n",
       "      <th>1</th>\n",
       "      <td>GLM_one_hot</td>\n",
       "      <td>0.258460</td>\n",
       "      <td>0.218490</td>\n",
       "      <td>0.306528</td>\n",
       "      <td>0.324982</td>\n",
       "      <td>0.233825</td>\n",
       "      <td>0.080485</td>\n",
       "      <td>0.079554</td>\n",
       "      <td>0.183016</td>\n",
       "      <td>1</td>\n",
       "    </tr>\n",
       "    <tr>\n",
       "      <th>2</th>\n",
       "      <td>GLM_GLMM_enc</td>\n",
       "      <td>0.257574</td>\n",
       "      <td>0.217387</td>\n",
       "      <td>0.300275</td>\n",
       "      <td>0.323971</td>\n",
       "      <td>0.238587</td>\n",
       "      <td>0.076170</td>\n",
       "      <td>0.075882</td>\n",
       "      <td>0.182479</td>\n",
       "      <td>1</td>\n",
       "    </tr>\n",
       "    <tr>\n",
       "      <th>3</th>\n",
       "      <td>GBM_ignore_cat</td>\n",
       "      <td>0.256045</td>\n",
       "      <td>0.217665</td>\n",
       "      <td>0.299737</td>\n",
       "      <td>0.320876</td>\n",
       "      <td>0.253063</td>\n",
       "      <td>0.094102</td>\n",
       "      <td>0.094287</td>\n",
       "      <td>0.180752</td>\n",
       "      <td>1</td>\n",
       "    </tr>\n",
       "    <tr>\n",
       "      <th>4</th>\n",
       "      <td>GBM_one_hot</td>\n",
       "      <td>0.254784</td>\n",
       "      <td>0.214850</td>\n",
       "      <td>0.296710</td>\n",
       "      <td>0.319545</td>\n",
       "      <td>0.259249</td>\n",
       "      <td>0.088123</td>\n",
       "      <td>0.088085</td>\n",
       "      <td>0.179987</td>\n",
       "      <td>1</td>\n",
       "    </tr>\n",
       "    <tr>\n",
       "      <th>...</th>\n",
       "      <td>...</td>\n",
       "      <td>...</td>\n",
       "      <td>...</td>\n",
       "      <td>...</td>\n",
       "      <td>...</td>\n",
       "      <td>...</td>\n",
       "      <td>...</td>\n",
       "      <td>...</td>\n",
       "      <td>...</td>\n",
       "      <td>...</td>\n",
       "    </tr>\n",
       "    <tr>\n",
       "      <th>595</th>\n",
       "      <td>GBM_ee</td>\n",
       "      <td>0.255188</td>\n",
       "      <td>0.212993</td>\n",
       "      <td>0.278776</td>\n",
       "      <td>0.320666</td>\n",
       "      <td>0.289746</td>\n",
       "      <td>0.093358</td>\n",
       "      <td>0.091697</td>\n",
       "      <td>0.180710</td>\n",
       "      <td>50</td>\n",
       "    </tr>\n",
       "    <tr>\n",
       "      <th>596</th>\n",
       "      <td>GLMM</td>\n",
       "      <td>0.262918</td>\n",
       "      <td>0.224184</td>\n",
       "      <td>0.284443</td>\n",
       "      <td>0.330109</td>\n",
       "      <td>0.247297</td>\n",
       "      <td>0.071090</td>\n",
       "      <td>0.070849</td>\n",
       "      <td>0.186307</td>\n",
       "      <td>50</td>\n",
       "    </tr>\n",
       "    <tr>\n",
       "      <th>597</th>\n",
       "      <td>GPBoost</td>\n",
       "      <td>0.257569</td>\n",
       "      <td>0.215746</td>\n",
       "      <td>0.289129</td>\n",
       "      <td>0.324203</td>\n",
       "      <td>0.273988</td>\n",
       "      <td>0.073505</td>\n",
       "      <td>0.072638</td>\n",
       "      <td>0.182931</td>\n",
       "      <td>50</td>\n",
       "    </tr>\n",
       "    <tr>\n",
       "      <th>598</th>\n",
       "      <td>GLMMNet</td>\n",
       "      <td>0.260497</td>\n",
       "      <td>0.221337</td>\n",
       "      <td>0.300300</td>\n",
       "      <td>0.325963</td>\n",
       "      <td>0.266083</td>\n",
       "      <td>0.073632</td>\n",
       "      <td>0.073616</td>\n",
       "      <td>0.185237</td>\n",
       "      <td>50</td>\n",
       "    </tr>\n",
       "    <tr>\n",
       "      <th>599</th>\n",
       "      <td>GLMMNet_dropout</td>\n",
       "      <td>0.264159</td>\n",
       "      <td>0.221963</td>\n",
       "      <td>0.310275</td>\n",
       "      <td>0.330529</td>\n",
       "      <td>0.245382</td>\n",
       "      <td>0.096897</td>\n",
       "      <td>0.097219</td>\n",
       "      <td>0.187041</td>\n",
       "      <td>50</td>\n",
       "    </tr>\n",
       "  </tbody>\n",
       "</table>\n",
       "<p>600 rows × 10 columns</p>\n",
       "</div>"
      ],
      "text/plain": [
       "               model       MAE     MedAE     MedPE      RMSE        R2  \\\n",
       "0     GLM_ignore_cat  0.263093  0.223305  0.304475  0.329276  0.213444   \n",
       "1        GLM_one_hot  0.258460  0.218490  0.306528  0.324982  0.233825   \n",
       "2       GLM_GLMM_enc  0.257574  0.217387  0.300275  0.323971  0.238587   \n",
       "3     GBM_ignore_cat  0.256045  0.217665  0.299737  0.320876  0.253063   \n",
       "4        GBM_one_hot  0.254784  0.214850  0.296710  0.319545  0.259249   \n",
       "..               ...       ...       ...       ...       ...       ...   \n",
       "595           GBM_ee  0.255188  0.212993  0.278776  0.320666  0.289746   \n",
       "596             GLMM  0.262918  0.224184  0.284443  0.330109  0.247297   \n",
       "597          GPBoost  0.257569  0.215746  0.289129  0.324203  0.273988   \n",
       "598          GLMMNet  0.260497  0.221337  0.300300  0.325963  0.266083   \n",
       "599  GLMMNet_dropout  0.264159  0.221963  0.310275  0.330529  0.245382   \n",
       "\n",
       "     RMSE_avg  RMSE_avg_weighted      CRPS  run  \n",
       "0    0.096269           0.096299  0.185710    1  \n",
       "1    0.080485           0.079554  0.183016    1  \n",
       "2    0.076170           0.075882  0.182479    1  \n",
       "3    0.094102           0.094287  0.180752    1  \n",
       "4    0.088123           0.088085  0.179987    1  \n",
       "..        ...                ...       ...  ...  \n",
       "595  0.093358           0.091697  0.180710   50  \n",
       "596  0.071090           0.070849  0.186307   50  \n",
       "597  0.073505           0.072638  0.182931   50  \n",
       "598  0.073632           0.073616  0.185237   50  \n",
       "599  0.096897           0.097219  0.187041   50  \n",
       "\n",
       "[600 rows x 10 columns]"
      ]
     },
     "execution_count": 10,
     "metadata": {},
     "output_type": "execute_result"
    }
   ],
   "source": [
    "results.to_csv(f\"models/experiment_{exp_id}/repeats.csv\", index=False)\n",
    "results"
   ]
  },
  {
   "cell_type": "markdown",
   "metadata": {},
   "source": [
    "## Experiment #3"
   ]
  },
  {
   "cell_type": "code",
   "execution_count": 4,
   "metadata": {},
   "outputs": [],
   "source": [
    "# Configure simulation parameters\n",
    "exp_id = 3                         # experiment id\n",
    "sig2noise = np.array([4, 1, 1])    # relative signal-to-noise of the fixed effects, random effects and irreducible error\n",
    "y_dist = \"gaussian\"                # distribution of the response variable y\n",
    "inverse_link = lambda x: x         # inverse of the identity link\n",
    "cat_dist = \"skewed\"                # distribution of the categorical variable\n",
    "random_seed = 42 + exp_id          # random seed for reproducibility\n",
    "log_plot = False                   # whether to plot the log transformed response and predictions\n",
    "nn_loss = \"mse\"                    # loss function for the neural network"
   ]
  },
  {
   "cell_type": "code",
   "execution_count": 5,
   "metadata": {},
   "outputs": [
    {
     "name": "stderr",
     "output_type": "stream",
     "text": [
      "  0%|          | 0/50 [00:00<?, ?it/s]"
     ]
    },
    {
     "name": "stdout",
     "output_type": "stream",
     "text": [
      "Metal device set to: Apple M1 Pro\n",
      "\n",
      "systemMemory: 16.00 GB\n",
      "maxCacheSize: 5.33 GB\n",
      "\n"
     ]
    },
    {
     "name": "stderr",
     "output_type": "stream",
     "text": [
      "2022-10-30 02:03:31.826356: W tensorflow/core/platform/profile_utils/cpu_utils.cc:128] Failed to get CPU frequency: 0 Hz\n"
     ]
    },
    {
     "name": "stdout",
     "output_type": "stream",
     "text": [
      "Restoring model weights from the end of the best epoch: 51.\n",
      "Epoch 101: early stopping\n",
      "79/79 [==============================] - 0s 3ms/step\n",
      "Restoring model weights from the end of the best epoch: 103.\n",
      "Epoch 153: early stopping\n"
     ]
    },
    {
     "name": "stderr",
     "output_type": "stream",
     "text": [
      "100%|██████████| 100/100 [00:04<00:00, 23.23it/s]\n"
     ]
    },
    {
     "name": "stdout",
     "output_type": "stream",
     "text": [
      "Restoring model weights from the end of the best epoch: 96.\n",
      "Epoch 146: early stopping\n"
     ]
    },
    {
     "name": "stderr",
     "output_type": "stream",
     "text": [
      "100%|██████████| 100/100 [00:03<00:00, 26.72it/s]\n",
      "/var/folders/d1/sg_qr5nx5t5586ls8g_n98_80000gn/T/ipykernel_42032/965276818.py:16: FutureWarning: The frame.append method is deprecated and will be removed from pandas in a future version. Use pandas.concat instead.\n",
      "  results = results.append(result.assign(run=i + 1), ignore_index=True)\n",
      "  2%|▏         | 1/50 [01:42<1:23:50, 102.67s/it]/Users/melantha/miniforge3/envs/cat-project/lib/python3.9/site-packages/sklearn/preprocessing/_encoders.py:188: UserWarning: Found unknown categories in columns [0] during transform. These unknown categories will be encoded as all zeros\n",
      "  warnings.warn(\n"
     ]
    },
    {
     "name": "stdout",
     "output_type": "stream",
     "text": [
      "Restoring model weights from the end of the best epoch: 61.\n",
      "Epoch 111: early stopping\n",
      "79/79 [==============================] - 0s 2ms/step\n",
      "Restoring model weights from the end of the best epoch: 95.\n",
      "Epoch 145: early stopping\n"
     ]
    },
    {
     "name": "stderr",
     "output_type": "stream",
     "text": [
      "100%|██████████| 100/100 [00:03<00:00, 26.87it/s]\n"
     ]
    },
    {
     "name": "stdout",
     "output_type": "stream",
     "text": [
      "Restoring model weights from the end of the best epoch: 103.\n",
      "Epoch 153: early stopping\n"
     ]
    },
    {
     "name": "stderr",
     "output_type": "stream",
     "text": [
      "100%|██████████| 100/100 [00:03<00:00, 26.59it/s]\n",
      "/var/folders/d1/sg_qr5nx5t5586ls8g_n98_80000gn/T/ipykernel_42032/965276818.py:16: FutureWarning: The frame.append method is deprecated and will be removed from pandas in a future version. Use pandas.concat instead.\n",
      "  results = results.append(result.assign(run=i + 1), ignore_index=True)\n",
      "  4%|▍         | 2/50 [03:46<1:32:04, 115.08s/it]"
     ]
    },
    {
     "name": "stdout",
     "output_type": "stream",
     "text": [
      "Restoring model weights from the end of the best epoch: 69.\n",
      "Epoch 119: early stopping\n",
      "79/79 [==============================] - 0s 3ms/step\n",
      "Restoring model weights from the end of the best epoch: 101.\n",
      "Epoch 151: early stopping\n"
     ]
    },
    {
     "name": "stderr",
     "output_type": "stream",
     "text": [
      "100%|██████████| 100/100 [00:03<00:00, 26.27it/s]\n"
     ]
    },
    {
     "name": "stdout",
     "output_type": "stream",
     "text": [
      "Restoring model weights from the end of the best epoch: 113.\n",
      "Epoch 163: early stopping\n"
     ]
    },
    {
     "name": "stderr",
     "output_type": "stream",
     "text": [
      "100%|██████████| 100/100 [00:04<00:00, 24.02it/s]\n",
      "/var/folders/d1/sg_qr5nx5t5586ls8g_n98_80000gn/T/ipykernel_42032/965276818.py:16: FutureWarning: The frame.append method is deprecated and will be removed from pandas in a future version. Use pandas.concat instead.\n",
      "  results = results.append(result.assign(run=i + 1), ignore_index=True)\n",
      "  6%|▌         | 3/50 [06:00<1:37:04, 123.93s/it]/Users/melantha/miniforge3/envs/cat-project/lib/python3.9/site-packages/sklearn/preprocessing/_encoders.py:188: UserWarning: Found unknown categories in columns [0] during transform. These unknown categories will be encoded as all zeros\n",
      "  warnings.warn(\n"
     ]
    },
    {
     "name": "stdout",
     "output_type": "stream",
     "text": [
      "Restoring model weights from the end of the best epoch: 101.\n",
      "Epoch 151: early stopping\n",
      "79/79 [==============================] - 0s 3ms/step\n",
      "Restoring model weights from the end of the best epoch: 110.\n",
      "Epoch 160: early stopping\n"
     ]
    },
    {
     "name": "stderr",
     "output_type": "stream",
     "text": [
      "100%|██████████| 100/100 [00:03<00:00, 25.56it/s]\n"
     ]
    },
    {
     "name": "stdout",
     "output_type": "stream",
     "text": [
      "Restoring model weights from the end of the best epoch: 136.\n",
      "Epoch 186: early stopping\n"
     ]
    },
    {
     "name": "stderr",
     "output_type": "stream",
     "text": [
      "100%|██████████| 100/100 [00:04<00:00, 24.48it/s]\n",
      "/var/folders/d1/sg_qr5nx5t5586ls8g_n98_80000gn/T/ipykernel_42032/965276818.py:16: FutureWarning: The frame.append method is deprecated and will be removed from pandas in a future version. Use pandas.concat instead.\n",
      "  results = results.append(result.assign(run=i + 1), ignore_index=True)\n",
      "  8%|▊         | 4/50 [08:11<1:36:59, 126.52s/it]"
     ]
    },
    {
     "name": "stdout",
     "output_type": "stream",
     "text": [
      "Restoring model weights from the end of the best epoch: 69.\n",
      "Epoch 119: early stopping\n",
      "79/79 [==============================] - 0s 3ms/step\n",
      "Restoring model weights from the end of the best epoch: 117.\n",
      "Epoch 167: early stopping\n"
     ]
    },
    {
     "name": "stderr",
     "output_type": "stream",
     "text": [
      "100%|██████████| 100/100 [00:04<00:00, 23.98it/s]\n"
     ]
    },
    {
     "name": "stdout",
     "output_type": "stream",
     "text": [
      "Restoring model weights from the end of the best epoch: 59.\n",
      "Epoch 109: early stopping\n"
     ]
    },
    {
     "name": "stderr",
     "output_type": "stream",
     "text": [
      "100%|██████████| 100/100 [00:04<00:00, 22.20it/s]\n",
      "/var/folders/d1/sg_qr5nx5t5586ls8g_n98_80000gn/T/ipykernel_42032/965276818.py:16: FutureWarning: The frame.append method is deprecated and will be removed from pandas in a future version. Use pandas.concat instead.\n",
      "  results = results.append(result.assign(run=i + 1), ignore_index=True)\n",
      " 10%|█         | 5/50 [09:51<1:27:43, 116.97s/it]/Users/melantha/miniforge3/envs/cat-project/lib/python3.9/site-packages/sklearn/preprocessing/_encoders.py:188: UserWarning: Found unknown categories in columns [0] during transform. These unknown categories will be encoded as all zeros\n",
      "  warnings.warn(\n"
     ]
    },
    {
     "name": "stdout",
     "output_type": "stream",
     "text": [
      "Restoring model weights from the end of the best epoch: 112.\n",
      "Epoch 162: early stopping\n",
      "79/79 [==============================] - 0s 3ms/step\n",
      "Restoring model weights from the end of the best epoch: 138.\n",
      "Epoch 188: early stopping\n"
     ]
    },
    {
     "name": "stderr",
     "output_type": "stream",
     "text": [
      "100%|██████████| 100/100 [00:04<00:00, 24.51it/s]\n"
     ]
    },
    {
     "name": "stdout",
     "output_type": "stream",
     "text": [
      "Restoring model weights from the end of the best epoch: 176.\n",
      "Epoch 226: early stopping\n"
     ]
    },
    {
     "name": "stderr",
     "output_type": "stream",
     "text": [
      "100%|██████████| 100/100 [00:04<00:00, 21.97it/s]\n",
      "/var/folders/d1/sg_qr5nx5t5586ls8g_n98_80000gn/T/ipykernel_42032/965276818.py:16: FutureWarning: The frame.append method is deprecated and will be removed from pandas in a future version. Use pandas.concat instead.\n",
      "  results = results.append(result.assign(run=i + 1), ignore_index=True)\n",
      " 12%|█▏        | 6/50 [12:29<1:36:02, 130.96s/it]/Users/melantha/miniforge3/envs/cat-project/lib/python3.9/site-packages/sklearn/preprocessing/_encoders.py:188: UserWarning: Found unknown categories in columns [0] during transform. These unknown categories will be encoded as all zeros\n",
      "  warnings.warn(\n"
     ]
    },
    {
     "name": "stdout",
     "output_type": "stream",
     "text": [
      "Restoring model weights from the end of the best epoch: 73.\n",
      "Epoch 123: early stopping\n",
      "79/79 [==============================] - 0s 3ms/step\n",
      "Restoring model weights from the end of the best epoch: 117.\n",
      "Epoch 167: early stopping\n"
     ]
    },
    {
     "name": "stderr",
     "output_type": "stream",
     "text": [
      "100%|██████████| 100/100 [00:04<00:00, 23.94it/s]\n"
     ]
    },
    {
     "name": "stdout",
     "output_type": "stream",
     "text": [
      "Restoring model weights from the end of the best epoch: 172.\n",
      "Epoch 222: early stopping\n"
     ]
    },
    {
     "name": "stderr",
     "output_type": "stream",
     "text": [
      "100%|██████████| 100/100 [00:04<00:00, 24.12it/s]\n",
      "/var/folders/d1/sg_qr5nx5t5586ls8g_n98_80000gn/T/ipykernel_42032/965276818.py:16: FutureWarning: The frame.append method is deprecated and will be removed from pandas in a future version. Use pandas.concat instead.\n",
      "  results = results.append(result.assign(run=i + 1), ignore_index=True)\n",
      " 14%|█▍        | 7/50 [14:22<1:29:33, 124.97s/it]"
     ]
    },
    {
     "name": "stdout",
     "output_type": "stream",
     "text": [
      "Restoring model weights from the end of the best epoch: 79.\n",
      "Epoch 129: early stopping\n",
      "79/79 [==============================] - 0s 3ms/step\n",
      "Restoring model weights from the end of the best epoch: 103.\n",
      "Epoch 153: early stopping\n"
     ]
    },
    {
     "name": "stderr",
     "output_type": "stream",
     "text": [
      "100%|██████████| 100/100 [00:04<00:00, 23.50it/s]\n"
     ]
    },
    {
     "name": "stdout",
     "output_type": "stream",
     "text": [
      "Restoring model weights from the end of the best epoch: 153.\n",
      "Epoch 203: early stopping\n"
     ]
    },
    {
     "name": "stderr",
     "output_type": "stream",
     "text": [
      "100%|██████████| 100/100 [00:04<00:00, 22.77it/s]\n",
      "/var/folders/d1/sg_qr5nx5t5586ls8g_n98_80000gn/T/ipykernel_42032/965276818.py:16: FutureWarning: The frame.append method is deprecated and will be removed from pandas in a future version. Use pandas.concat instead.\n",
      "  results = results.append(result.assign(run=i + 1), ignore_index=True)\n",
      " 16%|█▌        | 8/50 [16:14<1:24:36, 120.87s/it]/Users/melantha/miniforge3/envs/cat-project/lib/python3.9/site-packages/sklearn/preprocessing/_encoders.py:188: UserWarning: Found unknown categories in columns [0] during transform. These unknown categories will be encoded as all zeros\n",
      "  warnings.warn(\n"
     ]
    },
    {
     "name": "stdout",
     "output_type": "stream",
     "text": [
      "Restoring model weights from the end of the best epoch: 84.\n",
      "Epoch 134: early stopping\n",
      "79/79 [==============================] - 0s 2ms/step\n",
      "Restoring model weights from the end of the best epoch: 103.\n",
      "Epoch 153: early stopping\n"
     ]
    },
    {
     "name": "stderr",
     "output_type": "stream",
     "text": [
      "100%|██████████| 100/100 [00:04<00:00, 22.94it/s]\n"
     ]
    },
    {
     "name": "stdout",
     "output_type": "stream",
     "text": [
      "Restoring model weights from the end of the best epoch: 92.\n",
      "Epoch 142: early stopping\n"
     ]
    },
    {
     "name": "stderr",
     "output_type": "stream",
     "text": [
      "100%|██████████| 100/100 [00:04<00:00, 22.18it/s]\n",
      "/var/folders/d1/sg_qr5nx5t5586ls8g_n98_80000gn/T/ipykernel_42032/965276818.py:16: FutureWarning: The frame.append method is deprecated and will be removed from pandas in a future version. Use pandas.concat instead.\n",
      "  results = results.append(result.assign(run=i + 1), ignore_index=True)\n",
      " 18%|█▊        | 9/50 [18:03<1:20:04, 117.17s/it]"
     ]
    },
    {
     "name": "stdout",
     "output_type": "stream",
     "text": [
      "Restoring model weights from the end of the best epoch: 64.\n",
      "Epoch 114: early stopping\n",
      "79/79 [==============================] - 0s 3ms/step\n",
      "Restoring model weights from the end of the best epoch: 82.\n",
      "Epoch 132: early stopping\n"
     ]
    },
    {
     "name": "stderr",
     "output_type": "stream",
     "text": [
      "100%|██████████| 100/100 [00:04<00:00, 22.48it/s]\n"
     ]
    },
    {
     "name": "stdout",
     "output_type": "stream",
     "text": [
      "Restoring model weights from the end of the best epoch: 155.\n",
      "Epoch 205: early stopping\n"
     ]
    },
    {
     "name": "stderr",
     "output_type": "stream",
     "text": [
      "100%|██████████| 100/100 [00:04<00:00, 22.86it/s]\n",
      "/var/folders/d1/sg_qr5nx5t5586ls8g_n98_80000gn/T/ipykernel_42032/965276818.py:16: FutureWarning: The frame.append method is deprecated and will be removed from pandas in a future version. Use pandas.concat instead.\n",
      "  results = results.append(result.assign(run=i + 1), ignore_index=True)\n",
      " 20%|██        | 10/50 [20:13<1:20:46, 121.16s/it]"
     ]
    },
    {
     "name": "stdout",
     "output_type": "stream",
     "text": [
      "Restoring model weights from the end of the best epoch: 69.\n",
      "Epoch 119: early stopping\n",
      "79/79 [==============================] - 0s 3ms/step\n",
      "Restoring model weights from the end of the best epoch: 137.\n",
      "Epoch 187: early stopping\n"
     ]
    },
    {
     "name": "stderr",
     "output_type": "stream",
     "text": [
      "100%|██████████| 100/100 [00:04<00:00, 22.87it/s]\n"
     ]
    },
    {
     "name": "stdout",
     "output_type": "stream",
     "text": [
      "Restoring model weights from the end of the best epoch: 98.\n",
      "Epoch 148: early stopping\n"
     ]
    },
    {
     "name": "stderr",
     "output_type": "stream",
     "text": [
      "100%|██████████| 100/100 [00:04<00:00, 22.50it/s]\n",
      "/var/folders/d1/sg_qr5nx5t5586ls8g_n98_80000gn/T/ipykernel_42032/965276818.py:16: FutureWarning: The frame.append method is deprecated and will be removed from pandas in a future version. Use pandas.concat instead.\n",
      "  results = results.append(result.assign(run=i + 1), ignore_index=True)\n",
      " 22%|██▏       | 11/50 [22:10<1:17:51, 119.78s/it]"
     ]
    },
    {
     "name": "stdout",
     "output_type": "stream",
     "text": [
      "Restoring model weights from the end of the best epoch: 80.\n",
      "Epoch 130: early stopping\n",
      "79/79 [==============================] - 0s 3ms/step\n",
      "Restoring model weights from the end of the best epoch: 64.\n",
      "Epoch 114: early stopping\n"
     ]
    },
    {
     "name": "stderr",
     "output_type": "stream",
     "text": [
      "100%|██████████| 100/100 [00:04<00:00, 20.53it/s]\n"
     ]
    },
    {
     "name": "stdout",
     "output_type": "stream",
     "text": [
      "Restoring model weights from the end of the best epoch: 82.\n",
      "Epoch 132: early stopping\n"
     ]
    },
    {
     "name": "stderr",
     "output_type": "stream",
     "text": [
      "100%|██████████| 100/100 [00:04<00:00, 20.02it/s]\n",
      "/var/folders/d1/sg_qr5nx5t5586ls8g_n98_80000gn/T/ipykernel_42032/965276818.py:16: FutureWarning: The frame.append method is deprecated and will be removed from pandas in a future version. Use pandas.concat instead.\n",
      "  results = results.append(result.assign(run=i + 1), ignore_index=True)\n",
      " 24%|██▍       | 12/50 [23:58<1:13:42, 116.39s/it]/Users/melantha/miniforge3/envs/cat-project/lib/python3.9/site-packages/sklearn/preprocessing/_encoders.py:188: UserWarning: Found unknown categories in columns [0] during transform. These unknown categories will be encoded as all zeros\n",
      "  warnings.warn(\n"
     ]
    },
    {
     "name": "stdout",
     "output_type": "stream",
     "text": [
      "Restoring model weights from the end of the best epoch: 51.\n",
      "Epoch 101: early stopping\n",
      "79/79 [==============================] - 0s 3ms/step\n",
      "Restoring model weights from the end of the best epoch: 107.\n",
      "Epoch 157: early stopping\n"
     ]
    },
    {
     "name": "stderr",
     "output_type": "stream",
     "text": [
      "100%|██████████| 100/100 [00:05<00:00, 19.81it/s]\n"
     ]
    },
    {
     "name": "stdout",
     "output_type": "stream",
     "text": [
      "Restoring model weights from the end of the best epoch: 126.\n",
      "Epoch 176: early stopping\n"
     ]
    },
    {
     "name": "stderr",
     "output_type": "stream",
     "text": [
      "100%|██████████| 100/100 [00:05<00:00, 19.59it/s]\n",
      "/var/folders/d1/sg_qr5nx5t5586ls8g_n98_80000gn/T/ipykernel_42032/965276818.py:16: FutureWarning: The frame.append method is deprecated and will be removed from pandas in a future version. Use pandas.concat instead.\n",
      "  results = results.append(result.assign(run=i + 1), ignore_index=True)\n",
      " 26%|██▌       | 13/50 [26:13<1:15:15, 122.03s/it]"
     ]
    },
    {
     "name": "stdout",
     "output_type": "stream",
     "text": [
      "Restoring model weights from the end of the best epoch: 76.\n",
      "Epoch 126: early stopping\n",
      "79/79 [==============================] - 0s 3ms/step\n",
      "Restoring model weights from the end of the best epoch: 88.\n",
      "Epoch 138: early stopping\n"
     ]
    },
    {
     "name": "stderr",
     "output_type": "stream",
     "text": [
      "100%|██████████| 100/100 [00:05<00:00, 19.59it/s]\n"
     ]
    },
    {
     "name": "stdout",
     "output_type": "stream",
     "text": [
      "Restoring model weights from the end of the best epoch: 87.\n",
      "Epoch 137: early stopping\n"
     ]
    },
    {
     "name": "stderr",
     "output_type": "stream",
     "text": [
      "100%|██████████| 100/100 [00:05<00:00, 18.70it/s]\n",
      "/var/folders/d1/sg_qr5nx5t5586ls8g_n98_80000gn/T/ipykernel_42032/965276818.py:16: FutureWarning: The frame.append method is deprecated and will be removed from pandas in a future version. Use pandas.concat instead.\n",
      "  results = results.append(result.assign(run=i + 1), ignore_index=True)\n",
      " 28%|██▊       | 14/50 [28:09<1:12:10, 120.29s/it]"
     ]
    },
    {
     "name": "stdout",
     "output_type": "stream",
     "text": [
      "Restoring model weights from the end of the best epoch: 71.\n",
      "Epoch 121: early stopping\n",
      "79/79 [==============================] - 0s 3ms/step\n",
      "Restoring model weights from the end of the best epoch: 92.\n",
      "Epoch 142: early stopping\n"
     ]
    },
    {
     "name": "stderr",
     "output_type": "stream",
     "text": [
      "100%|██████████| 100/100 [00:05<00:00, 19.26it/s]\n"
     ]
    },
    {
     "name": "stdout",
     "output_type": "stream",
     "text": [
      "Restoring model weights from the end of the best epoch: 282.\n",
      "Epoch 332: early stopping\n"
     ]
    },
    {
     "name": "stderr",
     "output_type": "stream",
     "text": [
      "100%|██████████| 100/100 [00:05<00:00, 19.99it/s]\n",
      "/var/folders/d1/sg_qr5nx5t5586ls8g_n98_80000gn/T/ipykernel_42032/965276818.py:16: FutureWarning: The frame.append method is deprecated and will be removed from pandas in a future version. Use pandas.concat instead.\n",
      "  results = results.append(result.assign(run=i + 1), ignore_index=True)\n",
      " 30%|███       | 15/50 [30:53<1:17:47, 133.37s/it]/Users/melantha/miniforge3/envs/cat-project/lib/python3.9/site-packages/sklearn/preprocessing/_encoders.py:188: UserWarning: Found unknown categories in columns [0] during transform. These unknown categories will be encoded as all zeros\n",
      "  warnings.warn(\n"
     ]
    },
    {
     "name": "stdout",
     "output_type": "stream",
     "text": [
      "Restoring model weights from the end of the best epoch: 81.\n",
      "Epoch 131: early stopping\n",
      "79/79 [==============================] - 0s 2ms/step\n",
      "Restoring model weights from the end of the best epoch: 108.\n",
      "Epoch 158: early stopping\n"
     ]
    },
    {
     "name": "stderr",
     "output_type": "stream",
     "text": [
      "100%|██████████| 100/100 [00:04<00:00, 21.58it/s]\n"
     ]
    },
    {
     "name": "stdout",
     "output_type": "stream",
     "text": [
      "Restoring model weights from the end of the best epoch: 109.\n",
      "Epoch 159: early stopping\n"
     ]
    },
    {
     "name": "stderr",
     "output_type": "stream",
     "text": [
      "100%|██████████| 100/100 [00:04<00:00, 21.55it/s]\n",
      "/var/folders/d1/sg_qr5nx5t5586ls8g_n98_80000gn/T/ipykernel_42032/965276818.py:16: FutureWarning: The frame.append method is deprecated and will be removed from pandas in a future version. Use pandas.concat instead.\n",
      "  results = results.append(result.assign(run=i + 1), ignore_index=True)\n",
      " 32%|███▏      | 16/50 [32:31<1:09:26, 122.54s/it]/Users/melantha/miniforge3/envs/cat-project/lib/python3.9/site-packages/sklearn/preprocessing/_encoders.py:188: UserWarning: Found unknown categories in columns [0] during transform. These unknown categories will be encoded as all zeros\n",
      "  warnings.warn(\n"
     ]
    },
    {
     "name": "stdout",
     "output_type": "stream",
     "text": [
      "Restoring model weights from the end of the best epoch: 75.\n",
      "Epoch 125: early stopping\n",
      "79/79 [==============================] - 0s 2ms/step\n",
      "Restoring model weights from the end of the best epoch: 92.\n",
      "Epoch 142: early stopping\n"
     ]
    },
    {
     "name": "stderr",
     "output_type": "stream",
     "text": [
      "100%|██████████| 100/100 [00:04<00:00, 21.11it/s]\n"
     ]
    },
    {
     "name": "stdout",
     "output_type": "stream",
     "text": [
      "Restoring model weights from the end of the best epoch: 47.\n",
      "Epoch 97: early stopping\n"
     ]
    },
    {
     "name": "stderr",
     "output_type": "stream",
     "text": [
      "100%|██████████| 100/100 [00:04<00:00, 21.16it/s]\n",
      "/var/folders/d1/sg_qr5nx5t5586ls8g_n98_80000gn/T/ipykernel_42032/965276818.py:16: FutureWarning: The frame.append method is deprecated and will be removed from pandas in a future version. Use pandas.concat instead.\n",
      "  results = results.append(result.assign(run=i + 1), ignore_index=True)\n",
      " 34%|███▍      | 17/50 [33:53<1:00:42, 110.38s/it]"
     ]
    },
    {
     "name": "stdout",
     "output_type": "stream",
     "text": [
      "Restoring model weights from the end of the best epoch: 120.\n",
      "Epoch 170: early stopping\n",
      "79/79 [==============================] - 0s 3ms/step\n",
      "Restoring model weights from the end of the best epoch: 82.\n",
      "Epoch 132: early stopping\n"
     ]
    },
    {
     "name": "stderr",
     "output_type": "stream",
     "text": [
      "100%|██████████| 100/100 [00:04<00:00, 20.98it/s]\n"
     ]
    },
    {
     "name": "stdout",
     "output_type": "stream",
     "text": [
      "Restoring model weights from the end of the best epoch: 77.\n",
      "Epoch 127: early stopping\n"
     ]
    },
    {
     "name": "stderr",
     "output_type": "stream",
     "text": [
      "100%|██████████| 100/100 [00:04<00:00, 20.87it/s]\n",
      "/var/folders/d1/sg_qr5nx5t5586ls8g_n98_80000gn/T/ipykernel_42032/965276818.py:16: FutureWarning: The frame.append method is deprecated and will be removed from pandas in a future version. Use pandas.concat instead.\n",
      "  results = results.append(result.assign(run=i + 1), ignore_index=True)\n",
      " 36%|███▌      | 18/50 [35:25<55:59, 104.97s/it]  "
     ]
    },
    {
     "name": "stdout",
     "output_type": "stream",
     "text": [
      "Restoring model weights from the end of the best epoch: 45.\n",
      "Epoch 95: early stopping\n",
      "79/79 [==============================] - 0s 2ms/step\n",
      "Restoring model weights from the end of the best epoch: 78.\n",
      "Epoch 128: early stopping\n"
     ]
    },
    {
     "name": "stderr",
     "output_type": "stream",
     "text": [
      "100%|██████████| 100/100 [00:04<00:00, 20.66it/s]\n"
     ]
    },
    {
     "name": "stdout",
     "output_type": "stream",
     "text": [
      "Restoring model weights from the end of the best epoch: 108.\n",
      "Epoch 158: early stopping\n"
     ]
    },
    {
     "name": "stderr",
     "output_type": "stream",
     "text": [
      "100%|██████████| 100/100 [00:04<00:00, 20.95it/s]\n",
      "/var/folders/d1/sg_qr5nx5t5586ls8g_n98_80000gn/T/ipykernel_42032/965276818.py:16: FutureWarning: The frame.append method is deprecated and will be removed from pandas in a future version. Use pandas.concat instead.\n",
      "  results = results.append(result.assign(run=i + 1), ignore_index=True)\n",
      " 38%|███▊      | 19/50 [36:53<51:39, 99.99s/it] /Users/melantha/miniforge3/envs/cat-project/lib/python3.9/site-packages/sklearn/preprocessing/_encoders.py:188: UserWarning: Found unknown categories in columns [0] during transform. These unknown categories will be encoded as all zeros\n",
      "  warnings.warn(\n"
     ]
    },
    {
     "name": "stdout",
     "output_type": "stream",
     "text": [
      "Restoring model weights from the end of the best epoch: 110.\n",
      "Epoch 160: early stopping\n",
      "79/79 [==============================] - 0s 2ms/step\n",
      "Restoring model weights from the end of the best epoch: 120.\n",
      "Epoch 170: early stopping\n"
     ]
    },
    {
     "name": "stderr",
     "output_type": "stream",
     "text": [
      "100%|██████████| 100/100 [00:04<00:00, 20.48it/s]\n"
     ]
    },
    {
     "name": "stdout",
     "output_type": "stream",
     "text": [
      "Restoring model weights from the end of the best epoch: 70.\n",
      "Epoch 120: early stopping\n"
     ]
    },
    {
     "name": "stderr",
     "output_type": "stream",
     "text": [
      "100%|██████████| 100/100 [00:04<00:00, 20.62it/s]\n",
      "/var/folders/d1/sg_qr5nx5t5586ls8g_n98_80000gn/T/ipykernel_42032/965276818.py:16: FutureWarning: The frame.append method is deprecated and will be removed from pandas in a future version. Use pandas.concat instead.\n",
      "  results = results.append(result.assign(run=i + 1), ignore_index=True)\n",
      " 40%|████      | 20/50 [38:31<49:40, 99.35s/it]"
     ]
    },
    {
     "name": "stdout",
     "output_type": "stream",
     "text": [
      "Restoring model weights from the end of the best epoch: 86.\n",
      "Epoch 136: early stopping\n",
      "79/79 [==============================] - 0s 2ms/step\n",
      "Restoring model weights from the end of the best epoch: 105.\n",
      "Epoch 155: early stopping\n"
     ]
    },
    {
     "name": "stderr",
     "output_type": "stream",
     "text": [
      "100%|██████████| 100/100 [00:04<00:00, 20.16it/s]\n"
     ]
    },
    {
     "name": "stdout",
     "output_type": "stream",
     "text": [
      "Restoring model weights from the end of the best epoch: 270.\n",
      "Epoch 320: early stopping\n"
     ]
    },
    {
     "name": "stderr",
     "output_type": "stream",
     "text": [
      "100%|██████████| 100/100 [00:04<00:00, 20.45it/s]\n",
      "/var/folders/d1/sg_qr5nx5t5586ls8g_n98_80000gn/T/ipykernel_42032/965276818.py:16: FutureWarning: The frame.append method is deprecated and will be removed from pandas in a future version. Use pandas.concat instead.\n",
      "  results = results.append(result.assign(run=i + 1), ignore_index=True)\n",
      " 42%|████▏     | 21/50 [40:41<52:25, 108.45s/it]/Users/melantha/miniforge3/envs/cat-project/lib/python3.9/site-packages/sklearn/preprocessing/_encoders.py:188: UserWarning: Found unknown categories in columns [0] during transform. These unknown categories will be encoded as all zeros\n",
      "  warnings.warn(\n"
     ]
    },
    {
     "name": "stdout",
     "output_type": "stream",
     "text": [
      "Restoring model weights from the end of the best epoch: 106.\n",
      "Epoch 156: early stopping\n",
      "79/79 [==============================] - 0s 3ms/step\n",
      "Restoring model weights from the end of the best epoch: 98.\n",
      "Epoch 148: early stopping\n"
     ]
    },
    {
     "name": "stderr",
     "output_type": "stream",
     "text": [
      "100%|██████████| 100/100 [00:04<00:00, 20.60it/s]\n"
     ]
    },
    {
     "name": "stdout",
     "output_type": "stream",
     "text": [
      "Restoring model weights from the end of the best epoch: 73.\n",
      "Epoch 123: early stopping\n"
     ]
    },
    {
     "name": "stderr",
     "output_type": "stream",
     "text": [
      "100%|██████████| 100/100 [00:04<00:00, 20.47it/s]\n",
      "/var/folders/d1/sg_qr5nx5t5586ls8g_n98_80000gn/T/ipykernel_42032/965276818.py:16: FutureWarning: The frame.append method is deprecated and will be removed from pandas in a future version. Use pandas.concat instead.\n",
      "  results = results.append(result.assign(run=i + 1), ignore_index=True)\n",
      " 44%|████▍     | 22/50 [42:16<48:42, 104.38s/it]"
     ]
    },
    {
     "name": "stdout",
     "output_type": "stream",
     "text": [
      "Restoring model weights from the end of the best epoch: 98.\n",
      "Epoch 148: early stopping\n",
      "79/79 [==============================] - 0s 2ms/step\n",
      "Restoring model weights from the end of the best epoch: 89.\n",
      "Epoch 139: early stopping\n"
     ]
    },
    {
     "name": "stderr",
     "output_type": "stream",
     "text": [
      "100%|██████████| 100/100 [00:05<00:00, 19.20it/s]\n"
     ]
    },
    {
     "name": "stdout",
     "output_type": "stream",
     "text": [
      "Restoring model weights from the end of the best epoch: 152.\n",
      "Epoch 202: early stopping\n"
     ]
    },
    {
     "name": "stderr",
     "output_type": "stream",
     "text": [
      "100%|██████████| 100/100 [00:04<00:00, 20.22it/s]\n",
      "/var/folders/d1/sg_qr5nx5t5586ls8g_n98_80000gn/T/ipykernel_42032/965276818.py:16: FutureWarning: The frame.append method is deprecated and will be removed from pandas in a future version. Use pandas.concat instead.\n",
      "  results = results.append(result.assign(run=i + 1), ignore_index=True)\n",
      " 46%|████▌     | 23/50 [44:06<47:41, 105.99s/it]"
     ]
    },
    {
     "name": "stdout",
     "output_type": "stream",
     "text": [
      "Restoring model weights from the end of the best epoch: 85.\n",
      "Epoch 135: early stopping\n",
      "79/79 [==============================] - 0s 3ms/step\n",
      "Restoring model weights from the end of the best epoch: 106.\n",
      "Epoch 156: early stopping\n"
     ]
    },
    {
     "name": "stderr",
     "output_type": "stream",
     "text": [
      "100%|██████████| 100/100 [00:04<00:00, 20.47it/s]\n"
     ]
    },
    {
     "name": "stdout",
     "output_type": "stream",
     "text": [
      "Restoring model weights from the end of the best epoch: 78.\n",
      "Epoch 128: early stopping\n"
     ]
    },
    {
     "name": "stderr",
     "output_type": "stream",
     "text": [
      "100%|██████████| 100/100 [00:04<00:00, 20.05it/s]\n",
      "/var/folders/d1/sg_qr5nx5t5586ls8g_n98_80000gn/T/ipykernel_42032/965276818.py:16: FutureWarning: The frame.append method is deprecated and will be removed from pandas in a future version. Use pandas.concat instead.\n",
      "  results = results.append(result.assign(run=i + 1), ignore_index=True)\n",
      " 48%|████▊     | 24/50 [45:40<44:28, 102.65s/it]"
     ]
    },
    {
     "name": "stdout",
     "output_type": "stream",
     "text": [
      "Restoring model weights from the end of the best epoch: 75.\n",
      "Epoch 125: early stopping\n",
      "79/79 [==============================] - 0s 3ms/step\n",
      "Restoring model weights from the end of the best epoch: 85.\n",
      "Epoch 135: early stopping\n"
     ]
    },
    {
     "name": "stderr",
     "output_type": "stream",
     "text": [
      "100%|██████████| 100/100 [00:04<00:00, 20.46it/s]\n"
     ]
    },
    {
     "name": "stdout",
     "output_type": "stream",
     "text": [
      "Restoring model weights from the end of the best epoch: 131.\n",
      "Epoch 181: early stopping\n"
     ]
    },
    {
     "name": "stderr",
     "output_type": "stream",
     "text": [
      "100%|██████████| 100/100 [00:04<00:00, 20.30it/s]\n",
      "/var/folders/d1/sg_qr5nx5t5586ls8g_n98_80000gn/T/ipykernel_42032/965276818.py:16: FutureWarning: The frame.append method is deprecated and will be removed from pandas in a future version. Use pandas.concat instead.\n",
      "  results = results.append(result.assign(run=i + 1), ignore_index=True)\n",
      " 50%|█████     | 25/50 [47:21<42:32, 102.10s/it]"
     ]
    },
    {
     "name": "stdout",
     "output_type": "stream",
     "text": [
      "Restoring model weights from the end of the best epoch: 135.\n",
      "Epoch 185: early stopping\n",
      "79/79 [==============================] - 0s 2ms/step\n",
      "Restoring model weights from the end of the best epoch: 112.\n",
      "Epoch 162: early stopping\n"
     ]
    },
    {
     "name": "stderr",
     "output_type": "stream",
     "text": [
      "100%|██████████| 100/100 [00:04<00:00, 20.69it/s]\n"
     ]
    },
    {
     "name": "stdout",
     "output_type": "stream",
     "text": [
      "Restoring model weights from the end of the best epoch: 265.\n",
      "Epoch 315: early stopping\n"
     ]
    },
    {
     "name": "stderr",
     "output_type": "stream",
     "text": [
      "100%|██████████| 100/100 [00:04<00:00, 20.39it/s]\n",
      "/var/folders/d1/sg_qr5nx5t5586ls8g_n98_80000gn/T/ipykernel_42032/965276818.py:16: FutureWarning: The frame.append method is deprecated and will be removed from pandas in a future version. Use pandas.concat instead.\n",
      "  results = results.append(result.assign(run=i + 1), ignore_index=True)\n",
      " 52%|█████▏    | 26/50 [49:40<45:11, 112.98s/it]"
     ]
    },
    {
     "name": "stdout",
     "output_type": "stream",
     "text": [
      "Restoring model weights from the end of the best epoch: 62.\n",
      "Epoch 112: early stopping\n",
      "79/79 [==============================] - 0s 3ms/step\n",
      "Restoring model weights from the end of the best epoch: 74.\n",
      "Epoch 124: early stopping\n"
     ]
    },
    {
     "name": "stderr",
     "output_type": "stream",
     "text": [
      "100%|██████████| 100/100 [00:05<00:00, 18.92it/s]\n"
     ]
    },
    {
     "name": "stdout",
     "output_type": "stream",
     "text": [
      "Restoring model weights from the end of the best epoch: 130.\n",
      "Epoch 180: early stopping\n"
     ]
    },
    {
     "name": "stderr",
     "output_type": "stream",
     "text": [
      "100%|██████████| 100/100 [00:05<00:00, 19.28it/s]\n",
      "/var/folders/d1/sg_qr5nx5t5586ls8g_n98_80000gn/T/ipykernel_42032/965276818.py:16: FutureWarning: The frame.append method is deprecated and will be removed from pandas in a future version. Use pandas.concat instead.\n",
      "  results = results.append(result.assign(run=i + 1), ignore_index=True)\n",
      " 54%|█████▍    | 27/50 [51:17<41:29, 108.22s/it]"
     ]
    },
    {
     "name": "stdout",
     "output_type": "stream",
     "text": [
      "Restoring model weights from the end of the best epoch: 59.\n",
      "Epoch 109: early stopping\n",
      "79/79 [==============================] - 0s 3ms/step\n",
      "Restoring model weights from the end of the best epoch: 185.\n",
      "Epoch 235: early stopping\n"
     ]
    },
    {
     "name": "stderr",
     "output_type": "stream",
     "text": [
      "100%|██████████| 100/100 [00:05<00:00, 18.53it/s]\n"
     ]
    },
    {
     "name": "stdout",
     "output_type": "stream",
     "text": [
      "Restoring model weights from the end of the best epoch: 198.\n",
      "Epoch 248: early stopping\n"
     ]
    },
    {
     "name": "stderr",
     "output_type": "stream",
     "text": [
      "100%|██████████| 100/100 [00:06<00:00, 16.03it/s]\n",
      "/var/folders/d1/sg_qr5nx5t5586ls8g_n98_80000gn/T/ipykernel_42032/965276818.py:16: FutureWarning: The frame.append method is deprecated and will be removed from pandas in a future version. Use pandas.concat instead.\n",
      "  results = results.append(result.assign(run=i + 1), ignore_index=True)\n",
      " 56%|█████▌    | 28/50 [53:30<42:24, 115.65s/it]"
     ]
    },
    {
     "name": "stdout",
     "output_type": "stream",
     "text": [
      "Restoring model weights from the end of the best epoch: 83.\n",
      "Epoch 133: early stopping\n",
      "79/79 [==============================] - 0s 3ms/step\n",
      "Restoring model weights from the end of the best epoch: 74.\n",
      "Epoch 124: early stopping\n"
     ]
    },
    {
     "name": "stderr",
     "output_type": "stream",
     "text": [
      "100%|██████████| 100/100 [00:06<00:00, 16.04it/s]\n"
     ]
    },
    {
     "name": "stdout",
     "output_type": "stream",
     "text": [
      "Restoring model weights from the end of the best epoch: 90.\n",
      "Epoch 140: early stopping\n"
     ]
    },
    {
     "name": "stderr",
     "output_type": "stream",
     "text": [
      "100%|██████████| 100/100 [00:06<00:00, 15.59it/s]\n",
      "/var/folders/d1/sg_qr5nx5t5586ls8g_n98_80000gn/T/ipykernel_42032/965276818.py:16: FutureWarning: The frame.append method is deprecated and will be removed from pandas in a future version. Use pandas.concat instead.\n",
      "  results = results.append(result.assign(run=i + 1), ignore_index=True)\n",
      " 58%|█████▊    | 29/50 [55:05<38:17, 109.39s/it]/Users/melantha/miniforge3/envs/cat-project/lib/python3.9/site-packages/sklearn/preprocessing/_encoders.py:188: UserWarning: Found unknown categories in columns [0] during transform. These unknown categories will be encoded as all zeros\n",
      "  warnings.warn(\n"
     ]
    },
    {
     "name": "stdout",
     "output_type": "stream",
     "text": [
      "Restoring model weights from the end of the best epoch: 123.\n",
      "Epoch 173: early stopping\n",
      "79/79 [==============================] - 0s 2ms/step\n",
      "Restoring model weights from the end of the best epoch: 129.\n",
      "Epoch 179: early stopping\n"
     ]
    },
    {
     "name": "stderr",
     "output_type": "stream",
     "text": [
      "100%|██████████| 100/100 [00:06<00:00, 15.83it/s]\n"
     ]
    },
    {
     "name": "stdout",
     "output_type": "stream",
     "text": [
      "Restoring model weights from the end of the best epoch: 145.\n",
      "Epoch 195: early stopping\n"
     ]
    },
    {
     "name": "stderr",
     "output_type": "stream",
     "text": [
      "100%|██████████| 100/100 [00:06<00:00, 15.49it/s]\n",
      "/var/folders/d1/sg_qr5nx5t5586ls8g_n98_80000gn/T/ipykernel_42032/965276818.py:16: FutureWarning: The frame.append method is deprecated and will be removed from pandas in a future version. Use pandas.concat instead.\n",
      "  results = results.append(result.assign(run=i + 1), ignore_index=True)\n",
      " 60%|██████    | 30/50 [57:05<37:35, 112.80s/it]/Users/melantha/miniforge3/envs/cat-project/lib/python3.9/site-packages/sklearn/preprocessing/_encoders.py:188: UserWarning: Found unknown categories in columns [0] during transform. These unknown categories will be encoded as all zeros\n",
      "  warnings.warn(\n"
     ]
    },
    {
     "name": "stdout",
     "output_type": "stream",
     "text": [
      "Restoring model weights from the end of the best epoch: 66.\n",
      "Epoch 116: early stopping\n",
      "79/79 [==============================] - 0s 3ms/step\n",
      "Restoring model weights from the end of the best epoch: 66.\n",
      "Epoch 116: early stopping\n"
     ]
    },
    {
     "name": "stderr",
     "output_type": "stream",
     "text": [
      "100%|██████████| 100/100 [00:06<00:00, 15.13it/s]\n"
     ]
    },
    {
     "name": "stdout",
     "output_type": "stream",
     "text": [
      "Restoring model weights from the end of the best epoch: 131.\n",
      "Epoch 181: early stopping\n"
     ]
    },
    {
     "name": "stderr",
     "output_type": "stream",
     "text": [
      "100%|██████████| 100/100 [00:06<00:00, 15.32it/s]\n",
      "/var/folders/d1/sg_qr5nx5t5586ls8g_n98_80000gn/T/ipykernel_42032/965276818.py:16: FutureWarning: The frame.append method is deprecated and will be removed from pandas in a future version. Use pandas.concat instead.\n",
      "  results = results.append(result.assign(run=i + 1), ignore_index=True)\n",
      " 62%|██████▏   | 31/50 [58:45<34:28, 108.89s/it]"
     ]
    },
    {
     "name": "stdout",
     "output_type": "stream",
     "text": [
      "Restoring model weights from the end of the best epoch: 108.\n",
      "Epoch 158: early stopping\n",
      "79/79 [==============================] - 0s 3ms/step\n",
      "Restoring model weights from the end of the best epoch: 95.\n",
      "Epoch 145: early stopping\n"
     ]
    },
    {
     "name": "stderr",
     "output_type": "stream",
     "text": [
      "100%|██████████| 100/100 [00:06<00:00, 15.15it/s]\n"
     ]
    },
    {
     "name": "stdout",
     "output_type": "stream",
     "text": [
      "Restoring model weights from the end of the best epoch: 105.\n",
      "Epoch 155: early stopping\n"
     ]
    },
    {
     "name": "stderr",
     "output_type": "stream",
     "text": [
      "100%|██████████| 100/100 [00:06<00:00, 15.40it/s]\n",
      "/var/folders/d1/sg_qr5nx5t5586ls8g_n98_80000gn/T/ipykernel_42032/965276818.py:16: FutureWarning: The frame.append method is deprecated and will be removed from pandas in a future version. Use pandas.concat instead.\n",
      "  results = results.append(result.assign(run=i + 1), ignore_index=True)\n",
      " 64%|██████▍   | 32/50 [1:00:30<32:21, 107.86s/it]"
     ]
    },
    {
     "name": "stdout",
     "output_type": "stream",
     "text": [
      "Restoring model weights from the end of the best epoch: 60.\n",
      "Epoch 110: early stopping\n",
      "79/79 [==============================] - 0s 3ms/step\n",
      "Restoring model weights from the end of the best epoch: 90.\n",
      "Epoch 140: early stopping\n"
     ]
    },
    {
     "name": "stderr",
     "output_type": "stream",
     "text": [
      "100%|██████████| 100/100 [00:06<00:00, 15.38it/s]\n"
     ]
    },
    {
     "name": "stdout",
     "output_type": "stream",
     "text": [
      "Restoring model weights from the end of the best epoch: 136.\n",
      "Epoch 186: early stopping\n"
     ]
    },
    {
     "name": "stderr",
     "output_type": "stream",
     "text": [
      "100%|██████████| 100/100 [00:06<00:00, 15.36it/s]\n",
      "/var/folders/d1/sg_qr5nx5t5586ls8g_n98_80000gn/T/ipykernel_42032/965276818.py:16: FutureWarning: The frame.append method is deprecated and will be removed from pandas in a future version. Use pandas.concat instead.\n",
      "  results = results.append(result.assign(run=i + 1), ignore_index=True)\n",
      " 66%|██████▌   | 33/50 [1:02:17<30:25, 107.38s/it]/Users/melantha/miniforge3/envs/cat-project/lib/python3.9/site-packages/sklearn/preprocessing/_encoders.py:188: UserWarning: Found unknown categories in columns [0] during transform. These unknown categories will be encoded as all zeros\n",
      "  warnings.warn(\n"
     ]
    },
    {
     "name": "stdout",
     "output_type": "stream",
     "text": [
      "Restoring model weights from the end of the best epoch: 55.\n",
      "Epoch 105: early stopping\n",
      "79/79 [==============================] - 0s 3ms/step\n",
      "Restoring model weights from the end of the best epoch: 109.\n",
      "Epoch 159: early stopping\n"
     ]
    },
    {
     "name": "stderr",
     "output_type": "stream",
     "text": [
      "100%|██████████| 100/100 [00:07<00:00, 13.99it/s]\n"
     ]
    },
    {
     "name": "stdout",
     "output_type": "stream",
     "text": [
      "Restoring model weights from the end of the best epoch: 88.\n",
      "Epoch 138: early stopping\n"
     ]
    },
    {
     "name": "stderr",
     "output_type": "stream",
     "text": [
      "100%|██████████| 100/100 [00:06<00:00, 14.87it/s]\n",
      "/var/folders/d1/sg_qr5nx5t5586ls8g_n98_80000gn/T/ipykernel_42032/965276818.py:16: FutureWarning: The frame.append method is deprecated and will be removed from pandas in a future version. Use pandas.concat instead.\n",
      "  results = results.append(result.assign(run=i + 1), ignore_index=True)\n",
      " 68%|██████▊   | 34/50 [1:03:56<27:57, 104.87s/it]"
     ]
    },
    {
     "name": "stdout",
     "output_type": "stream",
     "text": [
      "Restoring model weights from the end of the best epoch: 84.\n",
      "Epoch 134: early stopping\n",
      "79/79 [==============================] - 0s 3ms/step\n",
      "Restoring model weights from the end of the best epoch: 110.\n",
      "Epoch 160: early stopping\n"
     ]
    },
    {
     "name": "stderr",
     "output_type": "stream",
     "text": [
      "100%|██████████| 100/100 [00:06<00:00, 14.80it/s]\n"
     ]
    },
    {
     "name": "stdout",
     "output_type": "stream",
     "text": [
      "Restoring model weights from the end of the best epoch: 53.\n",
      "Epoch 103: early stopping\n"
     ]
    },
    {
     "name": "stderr",
     "output_type": "stream",
     "text": [
      "100%|██████████| 100/100 [00:06<00:00, 14.92it/s]\n",
      "/var/folders/d1/sg_qr5nx5t5586ls8g_n98_80000gn/T/ipykernel_42032/965276818.py:16: FutureWarning: The frame.append method is deprecated and will be removed from pandas in a future version. Use pandas.concat instead.\n",
      "  results = results.append(result.assign(run=i + 1), ignore_index=True)\n",
      " 70%|███████   | 35/50 [1:05:36<25:52, 103.49s/it]/Users/melantha/miniforge3/envs/cat-project/lib/python3.9/site-packages/sklearn/preprocessing/_encoders.py:188: UserWarning: Found unknown categories in columns [0] during transform. These unknown categories will be encoded as all zeros\n",
      "  warnings.warn(\n"
     ]
    },
    {
     "name": "stdout",
     "output_type": "stream",
     "text": [
      "Restoring model weights from the end of the best epoch: 62.\n",
      "Epoch 112: early stopping\n",
      "79/79 [==============================] - 0s 3ms/step\n",
      "Restoring model weights from the end of the best epoch: 126.\n",
      "Epoch 176: early stopping\n"
     ]
    },
    {
     "name": "stderr",
     "output_type": "stream",
     "text": [
      "100%|██████████| 100/100 [00:06<00:00, 14.52it/s]\n"
     ]
    },
    {
     "name": "stdout",
     "output_type": "stream",
     "text": [
      "Restoring model weights from the end of the best epoch: 160.\n",
      "Epoch 210: early stopping\n"
     ]
    },
    {
     "name": "stderr",
     "output_type": "stream",
     "text": [
      "100%|██████████| 100/100 [00:06<00:00, 14.40it/s]\n",
      "/var/folders/d1/sg_qr5nx5t5586ls8g_n98_80000gn/T/ipykernel_42032/965276818.py:16: FutureWarning: The frame.append method is deprecated and will be removed from pandas in a future version. Use pandas.concat instead.\n",
      "  results = results.append(result.assign(run=i + 1), ignore_index=True)\n",
      " 72%|███████▏  | 36/50 [1:07:35<25:15, 108.22s/it]"
     ]
    },
    {
     "name": "stdout",
     "output_type": "stream",
     "text": [
      "Restoring model weights from the end of the best epoch: 45.\n",
      "Epoch 95: early stopping\n",
      "79/79 [==============================] - 0s 3ms/step\n",
      "Restoring model weights from the end of the best epoch: 86.\n",
      "Epoch 136: early stopping\n"
     ]
    },
    {
     "name": "stderr",
     "output_type": "stream",
     "text": [
      "100%|██████████| 100/100 [00:06<00:00, 14.72it/s]\n"
     ]
    },
    {
     "name": "stdout",
     "output_type": "stream",
     "text": [
      "Restoring model weights from the end of the best epoch: 141.\n",
      "Epoch 191: early stopping\n"
     ]
    },
    {
     "name": "stderr",
     "output_type": "stream",
     "text": [
      "100%|██████████| 100/100 [00:06<00:00, 14.74it/s]\n",
      "/var/folders/d1/sg_qr5nx5t5586ls8g_n98_80000gn/T/ipykernel_42032/965276818.py:16: FutureWarning: The frame.append method is deprecated and will be removed from pandas in a future version. Use pandas.concat instead.\n",
      "  results = results.append(result.assign(run=i + 1), ignore_index=True)\n",
      " 74%|███████▍  | 37/50 [1:09:21<23:16, 107.42s/it]/Users/melantha/miniforge3/envs/cat-project/lib/python3.9/site-packages/sklearn/preprocessing/_encoders.py:188: UserWarning: Found unknown categories in columns [0] during transform. These unknown categories will be encoded as all zeros\n",
      "  warnings.warn(\n"
     ]
    },
    {
     "name": "stdout",
     "output_type": "stream",
     "text": [
      "Restoring model weights from the end of the best epoch: 85.\n",
      "Epoch 135: early stopping\n",
      "79/79 [==============================] - 0s 3ms/step\n",
      "Restoring model weights from the end of the best epoch: 102.\n",
      "Epoch 152: early stopping\n"
     ]
    },
    {
     "name": "stderr",
     "output_type": "stream",
     "text": [
      "100%|██████████| 100/100 [00:06<00:00, 14.53it/s]\n"
     ]
    },
    {
     "name": "stdout",
     "output_type": "stream",
     "text": [
      "Restoring model weights from the end of the best epoch: 128.\n",
      "Epoch 178: early stopping\n"
     ]
    },
    {
     "name": "stderr",
     "output_type": "stream",
     "text": [
      "100%|██████████| 100/100 [00:06<00:00, 14.29it/s]\n",
      "/var/folders/d1/sg_qr5nx5t5586ls8g_n98_80000gn/T/ipykernel_42032/965276818.py:16: FutureWarning: The frame.append method is deprecated and will be removed from pandas in a future version. Use pandas.concat instead.\n",
      "  results = results.append(result.assign(run=i + 1), ignore_index=True)\n",
      " 76%|███████▌  | 38/50 [1:11:13<21:46, 108.87s/it]"
     ]
    },
    {
     "name": "stdout",
     "output_type": "stream",
     "text": [
      "Restoring model weights from the end of the best epoch: 64.\n",
      "Epoch 114: early stopping\n",
      "79/79 [==============================] - 1s 3ms/step\n",
      "Restoring model weights from the end of the best epoch: 101.\n",
      "Epoch 151: early stopping\n"
     ]
    },
    {
     "name": "stderr",
     "output_type": "stream",
     "text": [
      "100%|██████████| 100/100 [00:07<00:00, 14.13it/s]\n"
     ]
    },
    {
     "name": "stdout",
     "output_type": "stream",
     "text": [
      "Restoring model weights from the end of the best epoch: 163.\n",
      "Epoch 213: early stopping\n"
     ]
    },
    {
     "name": "stderr",
     "output_type": "stream",
     "text": [
      "100%|██████████| 100/100 [00:07<00:00, 13.86it/s]\n",
      "/var/folders/d1/sg_qr5nx5t5586ls8g_n98_80000gn/T/ipykernel_42032/965276818.py:16: FutureWarning: The frame.append method is deprecated and will be removed from pandas in a future version. Use pandas.concat instead.\n",
      "  results = results.append(result.assign(run=i + 1), ignore_index=True)\n",
      " 78%|███████▊  | 39/50 [1:13:11<20:27, 111.57s/it]/Users/melantha/miniforge3/envs/cat-project/lib/python3.9/site-packages/sklearn/preprocessing/_encoders.py:188: UserWarning: Found unknown categories in columns [0] during transform. These unknown categories will be encoded as all zeros\n",
      "  warnings.warn(\n"
     ]
    },
    {
     "name": "stdout",
     "output_type": "stream",
     "text": [
      "Restoring model weights from the end of the best epoch: 99.\n",
      "Epoch 149: early stopping\n",
      "79/79 [==============================] - 0s 3ms/step\n",
      "Restoring model weights from the end of the best epoch: 104.\n",
      "Epoch 154: early stopping\n"
     ]
    },
    {
     "name": "stderr",
     "output_type": "stream",
     "text": [
      "100%|██████████| 100/100 [00:07<00:00, 14.06it/s]\n"
     ]
    },
    {
     "name": "stdout",
     "output_type": "stream",
     "text": [
      "Restoring model weights from the end of the best epoch: 91.\n",
      "Epoch 141: early stopping\n"
     ]
    },
    {
     "name": "stderr",
     "output_type": "stream",
     "text": [
      "100%|██████████| 100/100 [00:06<00:00, 14.41it/s]\n",
      "/var/folders/d1/sg_qr5nx5t5586ls8g_n98_80000gn/T/ipykernel_42032/965276818.py:16: FutureWarning: The frame.append method is deprecated and will be removed from pandas in a future version. Use pandas.concat instead.\n",
      "  results = results.append(result.assign(run=i + 1), ignore_index=True)\n",
      " 80%|████████  | 40/50 [1:14:59<18:26, 110.63s/it]"
     ]
    },
    {
     "name": "stdout",
     "output_type": "stream",
     "text": [
      "Restoring model weights from the end of the best epoch: 65.\n",
      "Epoch 115: early stopping\n",
      "79/79 [==============================] - 0s 3ms/step\n",
      "Restoring model weights from the end of the best epoch: 106.\n",
      "Epoch 156: early stopping\n"
     ]
    },
    {
     "name": "stderr",
     "output_type": "stream",
     "text": [
      "100%|██████████| 100/100 [00:07<00:00, 14.06it/s]\n"
     ]
    },
    {
     "name": "stdout",
     "output_type": "stream",
     "text": [
      "Restoring model weights from the end of the best epoch: 178.\n",
      "Epoch 228: early stopping\n"
     ]
    },
    {
     "name": "stderr",
     "output_type": "stream",
     "text": [
      "100%|██████████| 100/100 [00:07<00:00, 13.87it/s]\n",
      "/var/folders/d1/sg_qr5nx5t5586ls8g_n98_80000gn/T/ipykernel_42032/965276818.py:16: FutureWarning: The frame.append method is deprecated and will be removed from pandas in a future version. Use pandas.concat instead.\n",
      "  results = results.append(result.assign(run=i + 1), ignore_index=True)\n",
      " 82%|████████▏ | 41/50 [1:17:05<17:16, 115.16s/it]/Users/melantha/miniforge3/envs/cat-project/lib/python3.9/site-packages/sklearn/preprocessing/_encoders.py:188: UserWarning: Found unknown categories in columns [0] during transform. These unknown categories will be encoded as all zeros\n",
      "  warnings.warn(\n"
     ]
    },
    {
     "name": "stdout",
     "output_type": "stream",
     "text": [
      "Restoring model weights from the end of the best epoch: 92.\n",
      "Epoch 142: early stopping\n",
      "79/79 [==============================] - 1s 3ms/step\n",
      "Restoring model weights from the end of the best epoch: 149.\n",
      "Epoch 199: early stopping\n"
     ]
    },
    {
     "name": "stderr",
     "output_type": "stream",
     "text": [
      "100%|██████████| 100/100 [00:07<00:00, 13.58it/s]\n"
     ]
    },
    {
     "name": "stdout",
     "output_type": "stream",
     "text": [
      "Restoring model weights from the end of the best epoch: 147.\n",
      "Epoch 197: early stopping\n"
     ]
    },
    {
     "name": "stderr",
     "output_type": "stream",
     "text": [
      "100%|██████████| 100/100 [00:07<00:00, 13.73it/s]\n",
      "/var/folders/d1/sg_qr5nx5t5586ls8g_n98_80000gn/T/ipykernel_42032/965276818.py:16: FutureWarning: The frame.append method is deprecated and will be removed from pandas in a future version. Use pandas.concat instead.\n",
      "  results = results.append(result.assign(run=i + 1), ignore_index=True)\n",
      " 84%|████████▍ | 42/50 [1:19:12<15:48, 118.56s/it]/Users/melantha/miniforge3/envs/cat-project/lib/python3.9/site-packages/sklearn/preprocessing/_encoders.py:188: UserWarning: Found unknown categories in columns [0] during transform. These unknown categories will be encoded as all zeros\n",
      "  warnings.warn(\n"
     ]
    },
    {
     "name": "stdout",
     "output_type": "stream",
     "text": [
      "Restoring model weights from the end of the best epoch: 96.\n",
      "Epoch 146: early stopping\n",
      "79/79 [==============================] - 1s 3ms/step\n",
      "Restoring model weights from the end of the best epoch: 116.\n",
      "Epoch 166: early stopping\n"
     ]
    },
    {
     "name": "stderr",
     "output_type": "stream",
     "text": [
      "100%|██████████| 100/100 [00:07<00:00, 13.82it/s]\n"
     ]
    },
    {
     "name": "stdout",
     "output_type": "stream",
     "text": [
      "Restoring model weights from the end of the best epoch: 145.\n",
      "Epoch 195: early stopping\n"
     ]
    },
    {
     "name": "stderr",
     "output_type": "stream",
     "text": [
      "100%|██████████| 100/100 [00:07<00:00, 13.70it/s]\n",
      "/var/folders/d1/sg_qr5nx5t5586ls8g_n98_80000gn/T/ipykernel_42032/965276818.py:16: FutureWarning: The frame.append method is deprecated and will be removed from pandas in a future version. Use pandas.concat instead.\n",
      "  results = results.append(result.assign(run=i + 1), ignore_index=True)\n",
      " 86%|████████▌ | 43/50 [1:21:12<13:54, 119.23s/it]/Users/melantha/miniforge3/envs/cat-project/lib/python3.9/site-packages/sklearn/preprocessing/_encoders.py:188: UserWarning: Found unknown categories in columns [0] during transform. These unknown categories will be encoded as all zeros\n",
      "  warnings.warn(\n"
     ]
    },
    {
     "name": "stdout",
     "output_type": "stream",
     "text": [
      "Restoring model weights from the end of the best epoch: 67.\n",
      "Epoch 117: early stopping\n",
      "79/79 [==============================] - 1s 3ms/step\n",
      "Restoring model weights from the end of the best epoch: 154.\n",
      "Epoch 204: early stopping\n"
     ]
    },
    {
     "name": "stderr",
     "output_type": "stream",
     "text": [
      "100%|██████████| 100/100 [00:07<00:00, 13.72it/s]\n"
     ]
    },
    {
     "name": "stdout",
     "output_type": "stream",
     "text": [
      "Restoring model weights from the end of the best epoch: 124.\n",
      "Epoch 174: early stopping\n"
     ]
    },
    {
     "name": "stderr",
     "output_type": "stream",
     "text": [
      "100%|██████████| 100/100 [00:07<00:00, 13.61it/s]\n",
      "/var/folders/d1/sg_qr5nx5t5586ls8g_n98_80000gn/T/ipykernel_42032/965276818.py:16: FutureWarning: The frame.append method is deprecated and will be removed from pandas in a future version. Use pandas.concat instead.\n",
      "  results = results.append(result.assign(run=i + 1), ignore_index=True)\n",
      " 88%|████████▊ | 44/50 [1:23:14<11:59, 119.84s/it]/Users/melantha/miniforge3/envs/cat-project/lib/python3.9/site-packages/sklearn/preprocessing/_encoders.py:188: UserWarning: Found unknown categories in columns [0] during transform. These unknown categories will be encoded as all zeros\n",
      "  warnings.warn(\n"
     ]
    },
    {
     "name": "stdout",
     "output_type": "stream",
     "text": [
      "Restoring model weights from the end of the best epoch: 55.\n",
      "Epoch 105: early stopping\n",
      "79/79 [==============================] - 0s 3ms/step\n",
      "Restoring model weights from the end of the best epoch: 103.\n",
      "Epoch 153: early stopping\n"
     ]
    },
    {
     "name": "stderr",
     "output_type": "stream",
     "text": [
      "100%|██████████| 100/100 [00:07<00:00, 13.57it/s]\n"
     ]
    },
    {
     "name": "stdout",
     "output_type": "stream",
     "text": [
      "Restoring model weights from the end of the best epoch: 69.\n",
      "Epoch 119: early stopping\n"
     ]
    },
    {
     "name": "stderr",
     "output_type": "stream",
     "text": [
      "100%|██████████| 100/100 [00:07<00:00, 13.58it/s]\n",
      "/var/folders/d1/sg_qr5nx5t5586ls8g_n98_80000gn/T/ipykernel_42032/965276818.py:16: FutureWarning: The frame.append method is deprecated and will be removed from pandas in a future version. Use pandas.concat instead.\n",
      "  results = results.append(result.assign(run=i + 1), ignore_index=True)\n",
      " 90%|█████████ | 45/50 [1:24:55<09:31, 114.33s/it]"
     ]
    },
    {
     "name": "stdout",
     "output_type": "stream",
     "text": [
      "Restoring model weights from the end of the best epoch: 70.\n",
      "Epoch 120: early stopping\n",
      "79/79 [==============================] - 1s 3ms/step\n",
      "Restoring model weights from the end of the best epoch: 82.\n",
      "Epoch 132: early stopping\n"
     ]
    },
    {
     "name": "stderr",
     "output_type": "stream",
     "text": [
      "100%|██████████| 100/100 [00:07<00:00, 13.17it/s]\n"
     ]
    },
    {
     "name": "stdout",
     "output_type": "stream",
     "text": [
      "Restoring model weights from the end of the best epoch: 210.\n",
      "Epoch 260: early stopping\n"
     ]
    },
    {
     "name": "stderr",
     "output_type": "stream",
     "text": [
      "100%|██████████| 100/100 [00:07<00:00, 13.36it/s]\n",
      "/var/folders/d1/sg_qr5nx5t5586ls8g_n98_80000gn/T/ipykernel_42032/965276818.py:16: FutureWarning: The frame.append method is deprecated and will be removed from pandas in a future version. Use pandas.concat instead.\n",
      "  results = results.append(result.assign(run=i + 1), ignore_index=True)\n",
      " 92%|█████████▏| 46/50 [1:27:02<07:52, 118.14s/it]"
     ]
    },
    {
     "name": "stdout",
     "output_type": "stream",
     "text": [
      "Restoring model weights from the end of the best epoch: 108.\n",
      "Epoch 158: early stopping\n",
      "79/79 [==============================] - 1s 3ms/step\n",
      "Restoring model weights from the end of the best epoch: 97.\n",
      "Epoch 147: early stopping\n"
     ]
    },
    {
     "name": "stderr",
     "output_type": "stream",
     "text": [
      "100%|██████████| 100/100 [00:07<00:00, 13.42it/s]\n"
     ]
    },
    {
     "name": "stdout",
     "output_type": "stream",
     "text": [
      "Restoring model weights from the end of the best epoch: 217.\n",
      "Epoch 267: early stopping\n"
     ]
    },
    {
     "name": "stderr",
     "output_type": "stream",
     "text": [
      "100%|██████████| 100/100 [00:07<00:00, 13.20it/s]\n",
      "/var/folders/d1/sg_qr5nx5t5586ls8g_n98_80000gn/T/ipykernel_42032/965276818.py:16: FutureWarning: The frame.append method is deprecated and will be removed from pandas in a future version. Use pandas.concat instead.\n",
      "  results = results.append(result.assign(run=i + 1), ignore_index=True)\n",
      " 94%|█████████▍| 47/50 [1:29:18<06:10, 123.45s/it]"
     ]
    },
    {
     "name": "stdout",
     "output_type": "stream",
     "text": [
      "Restoring model weights from the end of the best epoch: 90.\n",
      "Epoch 140: early stopping\n",
      "79/79 [==============================] - 0s 3ms/step\n",
      "Restoring model weights from the end of the best epoch: 107.\n",
      "Epoch 157: early stopping\n"
     ]
    },
    {
     "name": "stderr",
     "output_type": "stream",
     "text": [
      "100%|██████████| 100/100 [00:07<00:00, 13.15it/s]\n"
     ]
    },
    {
     "name": "stdout",
     "output_type": "stream",
     "text": [
      "Restoring model weights from the end of the best epoch: 429.\n",
      "Epoch 479: early stopping\n"
     ]
    },
    {
     "name": "stderr",
     "output_type": "stream",
     "text": [
      "100%|██████████| 100/100 [00:07<00:00, 13.23it/s]\n",
      "/var/folders/d1/sg_qr5nx5t5586ls8g_n98_80000gn/T/ipykernel_42032/965276818.py:16: FutureWarning: The frame.append method is deprecated and will be removed from pandas in a future version. Use pandas.concat instead.\n",
      "  results = results.append(result.assign(run=i + 1), ignore_index=True)\n",
      " 96%|█████████▌| 48/50 [1:32:15<04:39, 139.55s/it]/Users/melantha/miniforge3/envs/cat-project/lib/python3.9/site-packages/sklearn/preprocessing/_encoders.py:188: UserWarning: Found unknown categories in columns [0] during transform. These unknown categories will be encoded as all zeros\n",
      "  warnings.warn(\n"
     ]
    },
    {
     "name": "stdout",
     "output_type": "stream",
     "text": [
      "Restoring model weights from the end of the best epoch: 112.\n",
      "Epoch 162: early stopping\n",
      "79/79 [==============================] - 0s 3ms/step\n",
      "Restoring model weights from the end of the best epoch: 87.\n",
      "Epoch 137: early stopping\n"
     ]
    },
    {
     "name": "stderr",
     "output_type": "stream",
     "text": [
      "100%|██████████| 100/100 [00:07<00:00, 13.43it/s]\n"
     ]
    },
    {
     "name": "stdout",
     "output_type": "stream",
     "text": [
      "Restoring model weights from the end of the best epoch: 170.\n",
      "Epoch 220: early stopping\n"
     ]
    },
    {
     "name": "stderr",
     "output_type": "stream",
     "text": [
      "100%|██████████| 100/100 [00:07<00:00, 13.08it/s]\n",
      "/var/folders/d1/sg_qr5nx5t5586ls8g_n98_80000gn/T/ipykernel_42032/965276818.py:16: FutureWarning: The frame.append method is deprecated and will be removed from pandas in a future version. Use pandas.concat instead.\n",
      "  results = results.append(result.assign(run=i + 1), ignore_index=True)\n",
      " 98%|█████████▊| 49/50 [1:34:22<02:15, 135.77s/it]"
     ]
    },
    {
     "name": "stdout",
     "output_type": "stream",
     "text": [
      "Restoring model weights from the end of the best epoch: 110.\n",
      "Epoch 160: early stopping\n",
      "79/79 [==============================] - 0s 3ms/step\n",
      "Restoring model weights from the end of the best epoch: 105.\n",
      "Epoch 155: early stopping\n"
     ]
    },
    {
     "name": "stderr",
     "output_type": "stream",
     "text": [
      "100%|██████████| 100/100 [00:07<00:00, 13.38it/s]\n"
     ]
    },
    {
     "name": "stdout",
     "output_type": "stream",
     "text": [
      "Restoring model weights from the end of the best epoch: 176.\n",
      "Epoch 226: early stopping\n"
     ]
    },
    {
     "name": "stderr",
     "output_type": "stream",
     "text": [
      "100%|██████████| 100/100 [00:07<00:00, 13.00it/s]\n",
      "/var/folders/d1/sg_qr5nx5t5586ls8g_n98_80000gn/T/ipykernel_42032/965276818.py:16: FutureWarning: The frame.append method is deprecated and will be removed from pandas in a future version. Use pandas.concat instead.\n",
      "  results = results.append(result.assign(run=i + 1), ignore_index=True)\n",
      "100%|██████████| 50/50 [1:36:33<00:00, 115.87s/it]\n"
     ]
    }
   ],
   "source": [
    "repeats = 50\n",
    "results = pd.DataFrame()\n",
    "for i in tqdm(range(repeats)):\n",
    "    # Generate data\n",
    "    sim_data = generate_data(\n",
    "        exp_id=exp_id, n_train=n_train, n_test=n_test, n_categories=n_categories,\n",
    "        f_structure=f_structure, signal_to_noise=sig2noise, y_dist=y_dist,\n",
    "        inverse_link=inverse_link, cat_dist=cat_dist, random_state=random_seed + i,\n",
    "        overwrite=\"auto\", suffix=f\"_{i + 1:02d}\"\n",
    "    )\n",
    "    # Run simulation experiment\n",
    "    result = run_sim_experiment_light(\n",
    "        exp_id=exp_id, sim_data=sim_data, y_dist=y_dist, random_state=random_seed + i, suffix=f\"_{i + 1:02d}\")\n",
    "    # Add run number to result\n",
    "    result = pd.DataFrame(result).transpose().rename_axis(\"model\").reset_index()\n",
    "    results = results.append(result.assign(run=i + 1), ignore_index=True)"
   ]
  },
  {
   "cell_type": "code",
   "execution_count": 6,
   "metadata": {},
   "outputs": [
    {
     "data": {
      "text/html": [
       "<div>\n",
       "<style scoped>\n",
       "    .dataframe tbody tr th:only-of-type {\n",
       "        vertical-align: middle;\n",
       "    }\n",
       "\n",
       "    .dataframe tbody tr th {\n",
       "        vertical-align: top;\n",
       "    }\n",
       "\n",
       "    .dataframe thead th {\n",
       "        text-align: right;\n",
       "    }\n",
       "</style>\n",
       "<table border=\"1\" class=\"dataframe\">\n",
       "  <thead>\n",
       "    <tr style=\"text-align: right;\">\n",
       "      <th></th>\n",
       "      <th>model</th>\n",
       "      <th>MAE</th>\n",
       "      <th>MedAE</th>\n",
       "      <th>MedPE</th>\n",
       "      <th>RMSE</th>\n",
       "      <th>R2</th>\n",
       "      <th>RMSE_avg</th>\n",
       "      <th>RMSE_avg_weighted</th>\n",
       "      <th>CRPS</th>\n",
       "      <th>run</th>\n",
       "    </tr>\n",
       "  </thead>\n",
       "  <tbody>\n",
       "    <tr>\n",
       "      <th>0</th>\n",
       "      <td>GLM_ignore_cat</td>\n",
       "      <td>0.205704</td>\n",
       "      <td>0.174486</td>\n",
       "      <td>0.245987</td>\n",
       "      <td>0.257020</td>\n",
       "      <td>0.374831</td>\n",
       "      <td>0.165544</td>\n",
       "      <td>0.160809</td>\n",
       "      <td>0.145034</td>\n",
       "      <td>1</td>\n",
       "    </tr>\n",
       "    <tr>\n",
       "      <th>1</th>\n",
       "      <td>GLM_one_hot</td>\n",
       "      <td>0.165082</td>\n",
       "      <td>0.139393</td>\n",
       "      <td>0.202470</td>\n",
       "      <td>0.206630</td>\n",
       "      <td>0.595939</td>\n",
       "      <td>0.091529</td>\n",
       "      <td>0.049288</td>\n",
       "      <td>0.116658</td>\n",
       "      <td>1</td>\n",
       "    </tr>\n",
       "    <tr>\n",
       "      <th>2</th>\n",
       "      <td>GLM_GLMM_enc</td>\n",
       "      <td>0.166011</td>\n",
       "      <td>0.140969</td>\n",
       "      <td>0.202131</td>\n",
       "      <td>0.207062</td>\n",
       "      <td>0.594245</td>\n",
       "      <td>0.082300</td>\n",
       "      <td>0.051258</td>\n",
       "      <td>0.116967</td>\n",
       "      <td>1</td>\n",
       "    </tr>\n",
       "    <tr>\n",
       "      <th>3</th>\n",
       "      <td>GBM_ignore_cat</td>\n",
       "      <td>0.189531</td>\n",
       "      <td>0.156150</td>\n",
       "      <td>0.223798</td>\n",
       "      <td>0.239627</td>\n",
       "      <td>0.456582</td>\n",
       "      <td>0.164575</td>\n",
       "      <td>0.158542</td>\n",
       "      <td>0.134841</td>\n",
       "      <td>1</td>\n",
       "    </tr>\n",
       "    <tr>\n",
       "      <th>4</th>\n",
       "      <td>GBM_one_hot</td>\n",
       "      <td>0.175906</td>\n",
       "      <td>0.144433</td>\n",
       "      <td>0.207027</td>\n",
       "      <td>0.221700</td>\n",
       "      <td>0.534849</td>\n",
       "      <td>0.129249</td>\n",
       "      <td>0.118315</td>\n",
       "      <td>0.124992</td>\n",
       "      <td>1</td>\n",
       "    </tr>\n",
       "    <tr>\n",
       "      <th>...</th>\n",
       "      <td>...</td>\n",
       "      <td>...</td>\n",
       "      <td>...</td>\n",
       "      <td>...</td>\n",
       "      <td>...</td>\n",
       "      <td>...</td>\n",
       "      <td>...</td>\n",
       "      <td>...</td>\n",
       "      <td>...</td>\n",
       "      <td>...</td>\n",
       "    </tr>\n",
       "    <tr>\n",
       "      <th>595</th>\n",
       "      <td>GBM_ee</td>\n",
       "      <td>0.179986</td>\n",
       "      <td>0.154234</td>\n",
       "      <td>0.216523</td>\n",
       "      <td>0.223793</td>\n",
       "      <td>0.548763</td>\n",
       "      <td>0.143787</td>\n",
       "      <td>0.135930</td>\n",
       "      <td>0.126878</td>\n",
       "      <td>50</td>\n",
       "    </tr>\n",
       "    <tr>\n",
       "      <th>596</th>\n",
       "      <td>GLMM</td>\n",
       "      <td>0.159542</td>\n",
       "      <td>0.138465</td>\n",
       "      <td>0.198931</td>\n",
       "      <td>0.199130</td>\n",
       "      <td>0.642737</td>\n",
       "      <td>0.073621</td>\n",
       "      <td>0.048439</td>\n",
       "      <td>0.112353</td>\n",
       "      <td>50</td>\n",
       "    </tr>\n",
       "    <tr>\n",
       "      <th>597</th>\n",
       "      <td>GPBoost</td>\n",
       "      <td>0.162070</td>\n",
       "      <td>0.139534</td>\n",
       "      <td>0.209589</td>\n",
       "      <td>0.202016</td>\n",
       "      <td>0.632309</td>\n",
       "      <td>0.067414</td>\n",
       "      <td>0.048830</td>\n",
       "      <td>0.114294</td>\n",
       "      <td>50</td>\n",
       "    </tr>\n",
       "    <tr>\n",
       "      <th>598</th>\n",
       "      <td>GLMMNet</td>\n",
       "      <td>0.141672</td>\n",
       "      <td>0.122443</td>\n",
       "      <td>0.175854</td>\n",
       "      <td>0.177427</td>\n",
       "      <td>0.716370</td>\n",
       "      <td>0.061665</td>\n",
       "      <td>0.042366</td>\n",
       "      <td>0.100124</td>\n",
       "      <td>50</td>\n",
       "    </tr>\n",
       "    <tr>\n",
       "      <th>599</th>\n",
       "      <td>GLMMNet_dropout</td>\n",
       "      <td>0.154443</td>\n",
       "      <td>0.132287</td>\n",
       "      <td>0.204241</td>\n",
       "      <td>0.192961</td>\n",
       "      <td>0.664532</td>\n",
       "      <td>0.096027</td>\n",
       "      <td>0.079393</td>\n",
       "      <td>0.109150</td>\n",
       "      <td>50</td>\n",
       "    </tr>\n",
       "  </tbody>\n",
       "</table>\n",
       "<p>600 rows × 10 columns</p>\n",
       "</div>"
      ],
      "text/plain": [
       "               model       MAE     MedAE     MedPE      RMSE        R2  \\\n",
       "0     GLM_ignore_cat  0.205704  0.174486  0.245987  0.257020  0.374831   \n",
       "1        GLM_one_hot  0.165082  0.139393  0.202470  0.206630  0.595939   \n",
       "2       GLM_GLMM_enc  0.166011  0.140969  0.202131  0.207062  0.594245   \n",
       "3     GBM_ignore_cat  0.189531  0.156150  0.223798  0.239627  0.456582   \n",
       "4        GBM_one_hot  0.175906  0.144433  0.207027  0.221700  0.534849   \n",
       "..               ...       ...       ...       ...       ...       ...   \n",
       "595           GBM_ee  0.179986  0.154234  0.216523  0.223793  0.548763   \n",
       "596             GLMM  0.159542  0.138465  0.198931  0.199130  0.642737   \n",
       "597          GPBoost  0.162070  0.139534  0.209589  0.202016  0.632309   \n",
       "598          GLMMNet  0.141672  0.122443  0.175854  0.177427  0.716370   \n",
       "599  GLMMNet_dropout  0.154443  0.132287  0.204241  0.192961  0.664532   \n",
       "\n",
       "     RMSE_avg  RMSE_avg_weighted      CRPS  run  \n",
       "0    0.165544           0.160809  0.145034    1  \n",
       "1    0.091529           0.049288  0.116658    1  \n",
       "2    0.082300           0.051258  0.116967    1  \n",
       "3    0.164575           0.158542  0.134841    1  \n",
       "4    0.129249           0.118315  0.124992    1  \n",
       "..        ...                ...       ...  ...  \n",
       "595  0.143787           0.135930  0.126878   50  \n",
       "596  0.073621           0.048439  0.112353   50  \n",
       "597  0.067414           0.048830  0.114294   50  \n",
       "598  0.061665           0.042366  0.100124   50  \n",
       "599  0.096027           0.079393  0.109150   50  \n",
       "\n",
       "[600 rows x 10 columns]"
      ]
     },
     "execution_count": 6,
     "metadata": {},
     "output_type": "execute_result"
    }
   ],
   "source": [
    "results.to_csv(f\"models/experiment_{exp_id}/repeats.csv\", index=False)\n",
    "results"
   ]
  },
  {
   "cell_type": "markdown",
   "metadata": {},
   "source": [
    "## Experiment #4"
   ]
  },
  {
   "cell_type": "code",
   "execution_count": 4,
   "metadata": {},
   "outputs": [],
   "source": [
    "# Configure simulation parameters\n",
    "exp_id = 4                         # experiment id\n",
    "sig2noise = np.array([4, 1, 2])    # relative signal-to-noise of the fixed effects, random effects and irreducible error\n",
    "y_dist = \"gaussian\"                # distribution of the response variable y\n",
    "inverse_link = lambda x: x         # inverse of the identity link\n",
    "cat_dist = \"balanced\"              # distribution of the categorical variable\n",
    "random_seed = 42 + 5               # random seed for reproducibility\n",
    "log_plot = True                    # whether to plot the log transformed response and predictions\n",
    "nn_loss = \"mse\"                    # loss function for the neural network (entity embedding model)"
   ]
  },
  {
   "cell_type": "code",
   "execution_count": 5,
   "metadata": {},
   "outputs": [
    {
     "name": "stderr",
     "output_type": "stream",
     "text": [
      "  0%|          | 0/50 [00:00<?, ?it/s]"
     ]
    },
    {
     "name": "stdout",
     "output_type": "stream",
     "text": [
      "Metal device set to: Apple M1 Pro\n",
      "\n",
      "systemMemory: 16.00 GB\n",
      "maxCacheSize: 5.33 GB\n",
      "\n"
     ]
    },
    {
     "name": "stderr",
     "output_type": "stream",
     "text": [
      "2022-10-30 08:47:17.148013: W tensorflow/core/platform/profile_utils/cpu_utils.cc:128] Failed to get CPU frequency: 0 Hz\n"
     ]
    },
    {
     "name": "stdout",
     "output_type": "stream",
     "text": [
      "Restoring model weights from the end of the best epoch: 74.\n",
      "Epoch 124: early stopping\n",
      "79/79 [==============================] - 0s 2ms/step\n",
      "Restoring model weights from the end of the best epoch: 104.\n",
      "Epoch 154: early stopping\n"
     ]
    },
    {
     "name": "stderr",
     "output_type": "stream",
     "text": [
      "100%|██████████| 100/100 [00:03<00:00, 29.25it/s]\n"
     ]
    },
    {
     "name": "stdout",
     "output_type": "stream",
     "text": [
      "Restoring model weights from the end of the best epoch: 33.\n",
      "Epoch 83: early stopping\n"
     ]
    },
    {
     "name": "stderr",
     "output_type": "stream",
     "text": [
      "100%|██████████| 100/100 [00:03<00:00, 29.19it/s]\n",
      "/var/folders/d1/sg_qr5nx5t5586ls8g_n98_80000gn/T/ipykernel_48768/965276818.py:16: FutureWarning: The frame.append method is deprecated and will be removed from pandas in a future version. Use pandas.concat instead.\n",
      "  results = results.append(result.assign(run=i + 1), ignore_index=True)\n",
      "  2%|▏         | 1/50 [01:17<1:03:34, 77.85s/it]"
     ]
    },
    {
     "name": "stdout",
     "output_type": "stream",
     "text": [
      "Restoring model weights from the end of the best epoch: 166.\n",
      "Epoch 216: early stopping\n",
      "79/79 [==============================] - 0s 2ms/step\n",
      "Restoring model weights from the end of the best epoch: 68.\n",
      "Epoch 118: early stopping\n"
     ]
    },
    {
     "name": "stderr",
     "output_type": "stream",
     "text": [
      "100%|██████████| 100/100 [00:03<00:00, 28.65it/s]\n"
     ]
    },
    {
     "name": "stdout",
     "output_type": "stream",
     "text": [
      "Restoring model weights from the end of the best epoch: 106.\n",
      "Epoch 156: early stopping\n"
     ]
    },
    {
     "name": "stderr",
     "output_type": "stream",
     "text": [
      "100%|██████████| 100/100 [00:03<00:00, 28.34it/s]\n",
      "/var/folders/d1/sg_qr5nx5t5586ls8g_n98_80000gn/T/ipykernel_48768/965276818.py:16: FutureWarning: The frame.append method is deprecated and will be removed from pandas in a future version. Use pandas.concat instead.\n",
      "  results = results.append(result.assign(run=i + 1), ignore_index=True)\n",
      "  4%|▍         | 2/50 [02:51<1:09:46, 87.22s/it]"
     ]
    },
    {
     "name": "stdout",
     "output_type": "stream",
     "text": [
      "Restoring model weights from the end of the best epoch: 122.\n",
      "Epoch 172: early stopping\n",
      "79/79 [==============================] - 0s 2ms/step\n",
      "Restoring model weights from the end of the best epoch: 63.\n",
      "Epoch 113: early stopping\n"
     ]
    },
    {
     "name": "stderr",
     "output_type": "stream",
     "text": [
      "100%|██████████| 100/100 [00:03<00:00, 28.46it/s]\n"
     ]
    },
    {
     "name": "stdout",
     "output_type": "stream",
     "text": [
      "Restoring model weights from the end of the best epoch: 73.\n",
      "Epoch 123: early stopping\n"
     ]
    },
    {
     "name": "stderr",
     "output_type": "stream",
     "text": [
      "100%|██████████| 100/100 [00:03<00:00, 26.89it/s]\n",
      "/var/folders/d1/sg_qr5nx5t5586ls8g_n98_80000gn/T/ipykernel_48768/965276818.py:16: FutureWarning: The frame.append method is deprecated and will be removed from pandas in a future version. Use pandas.concat instead.\n",
      "  results = results.append(result.assign(run=i + 1), ignore_index=True)\n",
      "  6%|▌         | 3/50 [04:13<1:06:22, 84.74s/it]"
     ]
    },
    {
     "name": "stdout",
     "output_type": "stream",
     "text": [
      "Restoring model weights from the end of the best epoch: 130.\n",
      "Epoch 180: early stopping\n",
      "79/79 [==============================] - 0s 2ms/step\n",
      "Restoring model weights from the end of the best epoch: 64.\n",
      "Epoch 114: early stopping\n"
     ]
    },
    {
     "name": "stderr",
     "output_type": "stream",
     "text": [
      "100%|██████████| 100/100 [00:03<00:00, 28.51it/s]\n"
     ]
    },
    {
     "name": "stdout",
     "output_type": "stream",
     "text": [
      "Restoring model weights from the end of the best epoch: 57.\n",
      "Epoch 107: early stopping\n"
     ]
    },
    {
     "name": "stderr",
     "output_type": "stream",
     "text": [
      "100%|██████████| 100/100 [00:03<00:00, 28.01it/s]\n",
      "/var/folders/d1/sg_qr5nx5t5586ls8g_n98_80000gn/T/ipykernel_48768/965276818.py:16: FutureWarning: The frame.append method is deprecated and will be removed from pandas in a future version. Use pandas.concat instead.\n",
      "  results = results.append(result.assign(run=i + 1), ignore_index=True)\n",
      "  8%|▊         | 4/50 [05:32<1:03:14, 82.50s/it]"
     ]
    },
    {
     "name": "stdout",
     "output_type": "stream",
     "text": [
      "Restoring model weights from the end of the best epoch: 132.\n",
      "Epoch 182: early stopping\n",
      "79/79 [==============================] - 0s 2ms/step\n",
      "Restoring model weights from the end of the best epoch: 74.\n",
      "Epoch 124: early stopping\n"
     ]
    },
    {
     "name": "stderr",
     "output_type": "stream",
     "text": [
      "100%|██████████| 100/100 [00:03<00:00, 28.38it/s]\n"
     ]
    },
    {
     "name": "stdout",
     "output_type": "stream",
     "text": [
      "Restoring model weights from the end of the best epoch: 150.\n",
      "Epoch 200: early stopping\n"
     ]
    },
    {
     "name": "stderr",
     "output_type": "stream",
     "text": [
      "100%|██████████| 100/100 [00:03<00:00, 28.14it/s]\n",
      "/var/folders/d1/sg_qr5nx5t5586ls8g_n98_80000gn/T/ipykernel_48768/965276818.py:16: FutureWarning: The frame.append method is deprecated and will be removed from pandas in a future version. Use pandas.concat instead.\n",
      "  results = results.append(result.assign(run=i + 1), ignore_index=True)\n",
      " 10%|█         | 5/50 [07:14<1:07:06, 89.48s/it]"
     ]
    },
    {
     "name": "stdout",
     "output_type": "stream",
     "text": [
      "Restoring model weights from the end of the best epoch: 124.\n",
      "Epoch 174: early stopping\n",
      "79/79 [==============================] - 0s 2ms/step\n",
      "Restoring model weights from the end of the best epoch: 80.\n",
      "Epoch 130: early stopping\n"
     ]
    },
    {
     "name": "stderr",
     "output_type": "stream",
     "text": [
      "100%|██████████| 100/100 [00:03<00:00, 26.54it/s]\n"
     ]
    },
    {
     "name": "stdout",
     "output_type": "stream",
     "text": [
      "Restoring model weights from the end of the best epoch: 126.\n",
      "Epoch 176: early stopping\n"
     ]
    },
    {
     "name": "stderr",
     "output_type": "stream",
     "text": [
      "100%|██████████| 100/100 [00:03<00:00, 26.56it/s]\n",
      "/var/folders/d1/sg_qr5nx5t5586ls8g_n98_80000gn/T/ipykernel_48768/965276818.py:16: FutureWarning: The frame.append method is deprecated and will be removed from pandas in a future version. Use pandas.concat instead.\n",
      "  results = results.append(result.assign(run=i + 1), ignore_index=True)\n",
      " 12%|█▏        | 6/50 [08:51<1:07:27, 91.99s/it]"
     ]
    },
    {
     "name": "stdout",
     "output_type": "stream",
     "text": [
      "Restoring model weights from the end of the best epoch: 131.\n",
      "Epoch 181: early stopping\n",
      "79/79 [==============================] - 0s 2ms/step\n",
      "Restoring model weights from the end of the best epoch: 110.\n",
      "Epoch 160: early stopping\n"
     ]
    },
    {
     "name": "stderr",
     "output_type": "stream",
     "text": [
      "100%|██████████| 100/100 [00:03<00:00, 26.36it/s]\n"
     ]
    },
    {
     "name": "stdout",
     "output_type": "stream",
     "text": [
      "Restoring model weights from the end of the best epoch: 34.\n",
      "Epoch 84: early stopping\n"
     ]
    },
    {
     "name": "stderr",
     "output_type": "stream",
     "text": [
      "100%|██████████| 100/100 [00:03<00:00, 26.11it/s]\n",
      "/var/folders/d1/sg_qr5nx5t5586ls8g_n98_80000gn/T/ipykernel_48768/965276818.py:16: FutureWarning: The frame.append method is deprecated and will be removed from pandas in a future version. Use pandas.concat instead.\n",
      "  results = results.append(result.assign(run=i + 1), ignore_index=True)\n",
      " 14%|█▍        | 7/50 [10:16<1:04:24, 89.86s/it]"
     ]
    },
    {
     "name": "stdout",
     "output_type": "stream",
     "text": [
      "Restoring model weights from the end of the best epoch: 139.\n",
      "Epoch 189: early stopping\n",
      "79/79 [==============================] - 0s 2ms/step\n",
      "Restoring model weights from the end of the best epoch: 56.\n",
      "Epoch 106: early stopping\n"
     ]
    },
    {
     "name": "stderr",
     "output_type": "stream",
     "text": [
      "100%|██████████| 100/100 [00:03<00:00, 25.98it/s]\n"
     ]
    },
    {
     "name": "stdout",
     "output_type": "stream",
     "text": [
      "Restoring model weights from the end of the best epoch: 59.\n",
      "Epoch 109: early stopping\n"
     ]
    },
    {
     "name": "stderr",
     "output_type": "stream",
     "text": [
      "100%|██████████| 100/100 [00:03<00:00, 25.86it/s]\n",
      "/var/folders/d1/sg_qr5nx5t5586ls8g_n98_80000gn/T/ipykernel_48768/965276818.py:16: FutureWarning: The frame.append method is deprecated and will be removed from pandas in a future version. Use pandas.concat instead.\n",
      "  results = results.append(result.assign(run=i + 1), ignore_index=True)\n",
      " 16%|█▌        | 8/50 [11:38<1:01:03, 87.21s/it]"
     ]
    },
    {
     "name": "stdout",
     "output_type": "stream",
     "text": [
      "Restoring model weights from the end of the best epoch: 99.\n",
      "Epoch 149: early stopping\n",
      "79/79 [==============================] - 0s 2ms/step\n",
      "Restoring model weights from the end of the best epoch: 80.\n",
      "Epoch 130: early stopping\n"
     ]
    },
    {
     "name": "stderr",
     "output_type": "stream",
     "text": [
      "100%|██████████| 100/100 [00:04<00:00, 23.70it/s]\n"
     ]
    },
    {
     "name": "stdout",
     "output_type": "stream",
     "text": [
      "Restoring model weights from the end of the best epoch: 198.\n",
      "Epoch 248: early stopping\n"
     ]
    },
    {
     "name": "stderr",
     "output_type": "stream",
     "text": [
      "100%|██████████| 100/100 [00:03<00:00, 25.57it/s]\n",
      "/var/folders/d1/sg_qr5nx5t5586ls8g_n98_80000gn/T/ipykernel_48768/965276818.py:16: FutureWarning: The frame.append method is deprecated and will be removed from pandas in a future version. Use pandas.concat instead.\n",
      "  results = results.append(result.assign(run=i + 1), ignore_index=True)\n",
      " 18%|█▊        | 9/50 [13:28<1:04:25, 94.27s/it]"
     ]
    },
    {
     "name": "stdout",
     "output_type": "stream",
     "text": [
      "Restoring model weights from the end of the best epoch: 160.\n",
      "Epoch 210: early stopping\n",
      "79/79 [==============================] - 0s 2ms/step\n",
      "Restoring model weights from the end of the best epoch: 75.\n",
      "Epoch 125: early stopping\n"
     ]
    },
    {
     "name": "stderr",
     "output_type": "stream",
     "text": [
      "100%|██████████| 100/100 [00:04<00:00, 23.67it/s]\n"
     ]
    },
    {
     "name": "stdout",
     "output_type": "stream",
     "text": [
      "Restoring model weights from the end of the best epoch: 112.\n",
      "Epoch 162: early stopping\n"
     ]
    },
    {
     "name": "stderr",
     "output_type": "stream",
     "text": [
      "100%|██████████| 100/100 [00:03<00:00, 25.39it/s]\n",
      "/var/folders/d1/sg_qr5nx5t5586ls8g_n98_80000gn/T/ipykernel_48768/965276818.py:16: FutureWarning: The frame.append method is deprecated and will be removed from pandas in a future version. Use pandas.concat instead.\n",
      "  results = results.append(result.assign(run=i + 1), ignore_index=True)\n",
      " 20%|██        | 10/50 [15:07<1:03:54, 95.85s/it]"
     ]
    },
    {
     "name": "stdout",
     "output_type": "stream",
     "text": [
      "Restoring model weights from the end of the best epoch: 104.\n",
      "Epoch 154: early stopping\n",
      "79/79 [==============================] - 0s 2ms/step\n",
      "Restoring model weights from the end of the best epoch: 62.\n",
      "Epoch 112: early stopping\n"
     ]
    },
    {
     "name": "stderr",
     "output_type": "stream",
     "text": [
      "100%|██████████| 100/100 [00:03<00:00, 25.18it/s]\n"
     ]
    },
    {
     "name": "stdout",
     "output_type": "stream",
     "text": [
      "Restoring model weights from the end of the best epoch: 113.\n",
      "Epoch 163: early stopping\n"
     ]
    },
    {
     "name": "stderr",
     "output_type": "stream",
     "text": [
      "100%|██████████| 100/100 [00:03<00:00, 25.34it/s]\n",
      "/var/folders/d1/sg_qr5nx5t5586ls8g_n98_80000gn/T/ipykernel_48768/965276818.py:16: FutureWarning: The frame.append method is deprecated and will be removed from pandas in a future version. Use pandas.concat instead.\n",
      "  results = results.append(result.assign(run=i + 1), ignore_index=True)\n",
      " 22%|██▏       | 11/50 [16:38<1:01:18, 94.31s/it]"
     ]
    },
    {
     "name": "stdout",
     "output_type": "stream",
     "text": [
      "Restoring model weights from the end of the best epoch: 128.\n",
      "Epoch 178: early stopping\n",
      "79/79 [==============================] - 0s 2ms/step\n",
      "Restoring model weights from the end of the best epoch: 66.\n",
      "Epoch 116: early stopping\n"
     ]
    },
    {
     "name": "stderr",
     "output_type": "stream",
     "text": [
      "100%|██████████| 100/100 [00:04<00:00, 24.96it/s]\n"
     ]
    },
    {
     "name": "stdout",
     "output_type": "stream",
     "text": [
      "Restoring model weights from the end of the best epoch: 322.\n",
      "Epoch 372: early stopping\n"
     ]
    },
    {
     "name": "stderr",
     "output_type": "stream",
     "text": [
      "100%|██████████| 100/100 [00:03<00:00, 25.45it/s]\n",
      "/var/folders/d1/sg_qr5nx5t5586ls8g_n98_80000gn/T/ipykernel_48768/965276818.py:16: FutureWarning: The frame.append method is deprecated and will be removed from pandas in a future version. Use pandas.concat instead.\n",
      "  results = results.append(result.assign(run=i + 1), ignore_index=True)\n",
      " 24%|██▍       | 12/50 [18:54<1:07:52, 107.18s/it]"
     ]
    },
    {
     "name": "stdout",
     "output_type": "stream",
     "text": [
      "Restoring model weights from the end of the best epoch: 170.\n",
      "Epoch 220: early stopping\n",
      "79/79 [==============================] - 0s 2ms/step\n",
      "Restoring model weights from the end of the best epoch: 68.\n",
      "Epoch 118: early stopping\n"
     ]
    },
    {
     "name": "stderr",
     "output_type": "stream",
     "text": [
      "100%|██████████| 100/100 [00:04<00:00, 24.82it/s]\n"
     ]
    },
    {
     "name": "stdout",
     "output_type": "stream",
     "text": [
      "Restoring model weights from the end of the best epoch: 124.\n",
      "Epoch 174: early stopping\n"
     ]
    },
    {
     "name": "stderr",
     "output_type": "stream",
     "text": [
      "100%|██████████| 100/100 [00:04<00:00, 24.13it/s]\n",
      "/var/folders/d1/sg_qr5nx5t5586ls8g_n98_80000gn/T/ipykernel_48768/965276818.py:16: FutureWarning: The frame.append method is deprecated and will be removed from pandas in a future version. Use pandas.concat instead.\n",
      "  results = results.append(result.assign(run=i + 1), ignore_index=True)\n",
      " 26%|██▌       | 13/50 [20:38<1:05:27, 106.15s/it]"
     ]
    },
    {
     "name": "stdout",
     "output_type": "stream",
     "text": [
      "Restoring model weights from the end of the best epoch: 189.\n",
      "Epoch 239: early stopping\n",
      "79/79 [==============================] - 0s 2ms/step\n",
      "Restoring model weights from the end of the best epoch: 40.\n",
      "Epoch 90: early stopping\n"
     ]
    },
    {
     "name": "stderr",
     "output_type": "stream",
     "text": [
      "100%|██████████| 100/100 [00:04<00:00, 24.98it/s]\n"
     ]
    },
    {
     "name": "stdout",
     "output_type": "stream",
     "text": [
      "Restoring model weights from the end of the best epoch: 95.\n",
      "Epoch 145: early stopping\n"
     ]
    },
    {
     "name": "stderr",
     "output_type": "stream",
     "text": [
      "100%|██████████| 100/100 [00:04<00:00, 24.44it/s]\n",
      "/var/folders/d1/sg_qr5nx5t5586ls8g_n98_80000gn/T/ipykernel_48768/965276818.py:16: FutureWarning: The frame.append method is deprecated and will be removed from pandas in a future version. Use pandas.concat instead.\n",
      "  results = results.append(result.assign(run=i + 1), ignore_index=True)\n",
      " 28%|██▊       | 14/50 [22:16<1:02:09, 103.59s/it]"
     ]
    },
    {
     "name": "stdout",
     "output_type": "stream",
     "text": [
      "Restoring model weights from the end of the best epoch: 102.\n",
      "Epoch 152: early stopping\n",
      "79/79 [==============================] - 0s 3ms/step\n",
      "Restoring model weights from the end of the best epoch: 46.\n",
      "Epoch 96: early stopping\n"
     ]
    },
    {
     "name": "stderr",
     "output_type": "stream",
     "text": [
      "100%|██████████| 100/100 [00:04<00:00, 22.35it/s]\n"
     ]
    },
    {
     "name": "stdout",
     "output_type": "stream",
     "text": [
      "Restoring model weights from the end of the best epoch: 62.\n",
      "Epoch 112: early stopping\n"
     ]
    },
    {
     "name": "stderr",
     "output_type": "stream",
     "text": [
      "100%|██████████| 100/100 [00:04<00:00, 22.29it/s]\n",
      "/var/folders/d1/sg_qr5nx5t5586ls8g_n98_80000gn/T/ipykernel_48768/965276818.py:16: FutureWarning: The frame.append method is deprecated and will be removed from pandas in a future version. Use pandas.concat instead.\n",
      "  results = results.append(result.assign(run=i + 1), ignore_index=True)\n",
      " 30%|███       | 15/50 [23:36<56:17, 96.51s/it]   "
     ]
    },
    {
     "name": "stdout",
     "output_type": "stream",
     "text": [
      "Restoring model weights from the end of the best epoch: 106.\n",
      "Epoch 156: early stopping\n",
      "79/79 [==============================] - 0s 2ms/step\n",
      "Restoring model weights from the end of the best epoch: 67.\n",
      "Epoch 117: early stopping\n"
     ]
    },
    {
     "name": "stderr",
     "output_type": "stream",
     "text": [
      "100%|██████████| 100/100 [00:04<00:00, 21.73it/s]\n"
     ]
    },
    {
     "name": "stdout",
     "output_type": "stream",
     "text": [
      "Restoring model weights from the end of the best epoch: 155.\n",
      "Epoch 205: early stopping\n"
     ]
    },
    {
     "name": "stderr",
     "output_type": "stream",
     "text": [
      "100%|██████████| 100/100 [00:04<00:00, 21.14it/s]\n",
      "/var/folders/d1/sg_qr5nx5t5586ls8g_n98_80000gn/T/ipykernel_48768/965276818.py:16: FutureWarning: The frame.append method is deprecated and will be removed from pandas in a future version. Use pandas.concat instead.\n",
      "  results = results.append(result.assign(run=i + 1), ignore_index=True)\n",
      " 32%|███▏      | 16/50 [25:24<56:42, 100.08s/it]"
     ]
    },
    {
     "name": "stdout",
     "output_type": "stream",
     "text": [
      "Restoring model weights from the end of the best epoch: 142.\n",
      "Epoch 192: early stopping\n",
      "79/79 [==============================] - 0s 2ms/step\n",
      "Restoring model weights from the end of the best epoch: 67.\n",
      "Epoch 117: early stopping\n"
     ]
    },
    {
     "name": "stderr",
     "output_type": "stream",
     "text": [
      "100%|██████████| 100/100 [00:04<00:00, 21.80it/s]\n"
     ]
    },
    {
     "name": "stdout",
     "output_type": "stream",
     "text": [
      "Restoring model weights from the end of the best epoch: 37.\n",
      "Epoch 87: early stopping\n"
     ]
    },
    {
     "name": "stderr",
     "output_type": "stream",
     "text": [
      "100%|██████████| 100/100 [00:04<00:00, 21.00it/s]\n",
      "/var/folders/d1/sg_qr5nx5t5586ls8g_n98_80000gn/T/ipykernel_48768/965276818.py:16: FutureWarning: The frame.append method is deprecated and will be removed from pandas in a future version. Use pandas.concat instead.\n",
      "  results = results.append(result.assign(run=i + 1), ignore_index=True)\n",
      " 34%|███▍      | 17/50 [26:52<53:01, 96.41s/it] "
     ]
    },
    {
     "name": "stdout",
     "output_type": "stream",
     "text": [
      "Restoring model weights from the end of the best epoch: 113.\n",
      "Epoch 163: early stopping\n",
      "79/79 [==============================] - 0s 2ms/step\n",
      "Restoring model weights from the end of the best epoch: 62.\n",
      "Epoch 112: early stopping\n"
     ]
    },
    {
     "name": "stderr",
     "output_type": "stream",
     "text": [
      "100%|██████████| 100/100 [00:04<00:00, 21.43it/s]\n"
     ]
    },
    {
     "name": "stdout",
     "output_type": "stream",
     "text": [
      "Restoring model weights from the end of the best epoch: 56.\n",
      "Epoch 106: early stopping\n"
     ]
    },
    {
     "name": "stderr",
     "output_type": "stream",
     "text": [
      "100%|██████████| 100/100 [00:05<00:00, 19.47it/s]\n",
      "/var/folders/d1/sg_qr5nx5t5586ls8g_n98_80000gn/T/ipykernel_48768/965276818.py:16: FutureWarning: The frame.append method is deprecated and will be removed from pandas in a future version. Use pandas.concat instead.\n",
      "  results = results.append(result.assign(run=i + 1), ignore_index=True)\n",
      " 36%|███▌      | 18/50 [28:21<50:08, 94.01s/it]"
     ]
    },
    {
     "name": "stdout",
     "output_type": "stream",
     "text": [
      "Restoring model weights from the end of the best epoch: 170.\n",
      "Epoch 220: early stopping\n",
      "79/79 [==============================] - 0s 2ms/step\n",
      "Restoring model weights from the end of the best epoch: 56.\n",
      "Epoch 106: early stopping\n"
     ]
    },
    {
     "name": "stderr",
     "output_type": "stream",
     "text": [
      "100%|██████████| 100/100 [00:04<00:00, 20.88it/s]\n"
     ]
    },
    {
     "name": "stdout",
     "output_type": "stream",
     "text": [
      "Restoring model weights from the end of the best epoch: 77.\n",
      "Epoch 127: early stopping\n"
     ]
    },
    {
     "name": "stderr",
     "output_type": "stream",
     "text": [
      "100%|██████████| 100/100 [00:04<00:00, 20.45it/s]\n",
      "/var/folders/d1/sg_qr5nx5t5586ls8g_n98_80000gn/T/ipykernel_48768/965276818.py:16: FutureWarning: The frame.append method is deprecated and will be removed from pandas in a future version. Use pandas.concat instead.\n",
      "  results = results.append(result.assign(run=i + 1), ignore_index=True)\n",
      " 38%|███▊      | 19/50 [30:01<49:30, 95.82s/it]"
     ]
    },
    {
     "name": "stdout",
     "output_type": "stream",
     "text": [
      "Restoring model weights from the end of the best epoch: 114.\n",
      "Epoch 164: early stopping\n",
      "79/79 [==============================] - 0s 2ms/step\n",
      "Restoring model weights from the end of the best epoch: 72.\n",
      "Epoch 122: early stopping\n"
     ]
    },
    {
     "name": "stderr",
     "output_type": "stream",
     "text": [
      "100%|██████████| 100/100 [00:04<00:00, 20.80it/s]\n"
     ]
    },
    {
     "name": "stdout",
     "output_type": "stream",
     "text": [
      "Restoring model weights from the end of the best epoch: 83.\n",
      "Epoch 133: early stopping\n"
     ]
    },
    {
     "name": "stderr",
     "output_type": "stream",
     "text": [
      "100%|██████████| 100/100 [00:04<00:00, 20.14it/s]\n",
      "/var/folders/d1/sg_qr5nx5t5586ls8g_n98_80000gn/T/ipykernel_48768/965276818.py:16: FutureWarning: The frame.append method is deprecated and will be removed from pandas in a future version. Use pandas.concat instead.\n",
      "  results = results.append(result.assign(run=i + 1), ignore_index=True)\n",
      " 40%|████      | 20/50 [31:37<48:01, 96.04s/it]"
     ]
    },
    {
     "name": "stdout",
     "output_type": "stream",
     "text": [
      "Restoring model weights from the end of the best epoch: 90.\n",
      "Epoch 140: early stopping\n",
      "79/79 [==============================] - 0s 2ms/step\n",
      "Restoring model weights from the end of the best epoch: 91.\n",
      "Epoch 141: early stopping\n"
     ]
    },
    {
     "name": "stderr",
     "output_type": "stream",
     "text": [
      "100%|██████████| 100/100 [00:04<00:00, 20.19it/s]\n"
     ]
    },
    {
     "name": "stdout",
     "output_type": "stream",
     "text": [
      "Restoring model weights from the end of the best epoch: 62.\n",
      "Epoch 112: early stopping\n"
     ]
    },
    {
     "name": "stderr",
     "output_type": "stream",
     "text": [
      "100%|██████████| 100/100 [00:04<00:00, 20.04it/s]\n",
      "/var/folders/d1/sg_qr5nx5t5586ls8g_n98_80000gn/T/ipykernel_48768/965276818.py:16: FutureWarning: The frame.append method is deprecated and will be removed from pandas in a future version. Use pandas.concat instead.\n",
      "  results = results.append(result.assign(run=i + 1), ignore_index=True)\n",
      " 42%|████▏     | 21/50 [33:12<46:13, 95.64s/it]"
     ]
    },
    {
     "name": "stdout",
     "output_type": "stream",
     "text": [
      "Restoring model weights from the end of the best epoch: 111.\n",
      "Epoch 161: early stopping\n",
      "79/79 [==============================] - 0s 2ms/step\n",
      "Restoring model weights from the end of the best epoch: 49.\n",
      "Epoch 99: early stopping\n"
     ]
    },
    {
     "name": "stderr",
     "output_type": "stream",
     "text": [
      "100%|██████████| 100/100 [00:04<00:00, 20.34it/s]\n"
     ]
    },
    {
     "name": "stdout",
     "output_type": "stream",
     "text": [
      "Restoring model weights from the end of the best epoch: 52.\n",
      "Epoch 102: early stopping\n"
     ]
    },
    {
     "name": "stderr",
     "output_type": "stream",
     "text": [
      "100%|██████████| 100/100 [00:04<00:00, 20.00it/s]\n",
      "/var/folders/d1/sg_qr5nx5t5586ls8g_n98_80000gn/T/ipykernel_48768/965276818.py:16: FutureWarning: The frame.append method is deprecated and will be removed from pandas in a future version. Use pandas.concat instead.\n",
      "  results = results.append(result.assign(run=i + 1), ignore_index=True)\n",
      " 44%|████▍     | 22/50 [34:38<43:19, 92.84s/it]"
     ]
    },
    {
     "name": "stdout",
     "output_type": "stream",
     "text": [
      "Restoring model weights from the end of the best epoch: 126.\n",
      "Epoch 176: early stopping\n",
      "79/79 [==============================] - 0s 3ms/step\n",
      "Restoring model weights from the end of the best epoch: 69.\n",
      "Epoch 119: early stopping\n"
     ]
    },
    {
     "name": "stderr",
     "output_type": "stream",
     "text": [
      "100%|██████████| 100/100 [00:04<00:00, 20.38it/s]\n"
     ]
    },
    {
     "name": "stdout",
     "output_type": "stream",
     "text": [
      "Restoring model weights from the end of the best epoch: 144.\n",
      "Epoch 194: early stopping\n"
     ]
    },
    {
     "name": "stderr",
     "output_type": "stream",
     "text": [
      "100%|██████████| 100/100 [00:05<00:00, 19.54it/s]\n",
      "/var/folders/d1/sg_qr5nx5t5586ls8g_n98_80000gn/T/ipykernel_48768/965276818.py:16: FutureWarning: The frame.append method is deprecated and will be removed from pandas in a future version. Use pandas.concat instead.\n",
      "  results = results.append(result.assign(run=i + 1), ignore_index=True)\n",
      " 46%|████▌     | 23/50 [36:31<44:28, 98.81s/it]"
     ]
    },
    {
     "name": "stdout",
     "output_type": "stream",
     "text": [
      "Restoring model weights from the end of the best epoch: 94.\n",
      "Epoch 144: early stopping\n",
      "79/79 [==============================] - 0s 3ms/step\n",
      "Restoring model weights from the end of the best epoch: 74.\n",
      "Epoch 124: early stopping\n"
     ]
    },
    {
     "name": "stderr",
     "output_type": "stream",
     "text": [
      "100%|██████████| 100/100 [00:07<00:00, 13.33it/s]\n"
     ]
    },
    {
     "name": "stdout",
     "output_type": "stream",
     "text": [
      "Restoring model weights from the end of the best epoch: 37.\n",
      "Epoch 87: early stopping\n"
     ]
    },
    {
     "name": "stderr",
     "output_type": "stream",
     "text": [
      "100%|██████████| 100/100 [00:04<00:00, 20.05it/s]\n",
      "/var/folders/d1/sg_qr5nx5t5586ls8g_n98_80000gn/T/ipykernel_48768/965276818.py:16: FutureWarning: The frame.append method is deprecated and will be removed from pandas in a future version. Use pandas.concat instead.\n",
      "  results = results.append(result.assign(run=i + 1), ignore_index=True)\n",
      " 48%|████▊     | 24/50 [38:01<41:44, 96.31s/it]"
     ]
    },
    {
     "name": "stdout",
     "output_type": "stream",
     "text": [
      "Restoring model weights from the end of the best epoch: 185.\n",
      "Epoch 235: early stopping\n",
      "79/79 [==============================] - 0s 3ms/step\n",
      "Restoring model weights from the end of the best epoch: 80.\n",
      "Epoch 130: early stopping\n"
     ]
    },
    {
     "name": "stderr",
     "output_type": "stream",
     "text": [
      "100%|██████████| 100/100 [00:05<00:00, 19.93it/s]\n"
     ]
    },
    {
     "name": "stdout",
     "output_type": "stream",
     "text": [
      "Restoring model weights from the end of the best epoch: 240.\n",
      "Epoch 290: early stopping\n"
     ]
    },
    {
     "name": "stderr",
     "output_type": "stream",
     "text": [
      "100%|██████████| 100/100 [00:05<00:00, 18.58it/s]\n",
      "/var/folders/d1/sg_qr5nx5t5586ls8g_n98_80000gn/T/ipykernel_48768/965276818.py:16: FutureWarning: The frame.append method is deprecated and will be removed from pandas in a future version. Use pandas.concat instead.\n",
      "  results = results.append(result.assign(run=i + 1), ignore_index=True)\n",
      " 50%|█████     | 25/50 [40:26<46:10, 110.83s/it]"
     ]
    },
    {
     "name": "stdout",
     "output_type": "stream",
     "text": [
      "Restoring model weights from the end of the best epoch: 130.\n",
      "Epoch 180: early stopping\n",
      "79/79 [==============================] - 0s 3ms/step\n",
      "Restoring model weights from the end of the best epoch: 54.\n",
      "Epoch 104: early stopping\n"
     ]
    },
    {
     "name": "stderr",
     "output_type": "stream",
     "text": [
      "100%|██████████| 100/100 [00:05<00:00, 19.64it/s]\n"
     ]
    },
    {
     "name": "stdout",
     "output_type": "stream",
     "text": [
      "Restoring model weights from the end of the best epoch: 49.\n",
      "Epoch 99: early stopping\n"
     ]
    },
    {
     "name": "stderr",
     "output_type": "stream",
     "text": [
      "100%|██████████| 100/100 [00:05<00:00, 18.98it/s]\n",
      "/var/folders/d1/sg_qr5nx5t5586ls8g_n98_80000gn/T/ipykernel_48768/965276818.py:16: FutureWarning: The frame.append method is deprecated and will be removed from pandas in a future version. Use pandas.concat instead.\n",
      "  results = results.append(result.assign(run=i + 1), ignore_index=True)\n",
      " 52%|█████▏    | 26/50 [41:58<42:02, 105.12s/it]"
     ]
    },
    {
     "name": "stdout",
     "output_type": "stream",
     "text": [
      "Restoring model weights from the end of the best epoch: 116.\n",
      "Epoch 166: early stopping\n",
      "79/79 [==============================] - 0s 2ms/step\n",
      "Restoring model weights from the end of the best epoch: 56.\n",
      "Epoch 106: early stopping\n"
     ]
    },
    {
     "name": "stderr",
     "output_type": "stream",
     "text": [
      "100%|██████████| 100/100 [00:05<00:00, 19.42it/s]\n"
     ]
    },
    {
     "name": "stdout",
     "output_type": "stream",
     "text": [
      "Restoring model weights from the end of the best epoch: 68.\n",
      "Epoch 118: early stopping\n"
     ]
    },
    {
     "name": "stderr",
     "output_type": "stream",
     "text": [
      "100%|██████████| 100/100 [00:04<00:00, 20.05it/s]\n",
      "/var/folders/d1/sg_qr5nx5t5586ls8g_n98_80000gn/T/ipykernel_48768/965276818.py:16: FutureWarning: The frame.append method is deprecated and will be removed from pandas in a future version. Use pandas.concat instead.\n",
      "  results = results.append(result.assign(run=i + 1), ignore_index=True)\n",
      " 54%|█████▍    | 27/50 [43:32<39:04, 101.94s/it]"
     ]
    },
    {
     "name": "stdout",
     "output_type": "stream",
     "text": [
      "Restoring model weights from the end of the best epoch: 81.\n",
      "Epoch 131: early stopping\n",
      "79/79 [==============================] - 0s 3ms/step\n",
      "Restoring model weights from the end of the best epoch: 95.\n",
      "Epoch 145: early stopping\n"
     ]
    },
    {
     "name": "stderr",
     "output_type": "stream",
     "text": [
      "100%|██████████| 100/100 [00:05<00:00, 19.55it/s]\n"
     ]
    },
    {
     "name": "stdout",
     "output_type": "stream",
     "text": [
      "Restoring model weights from the end of the best epoch: 171.\n",
      "Epoch 221: early stopping\n"
     ]
    },
    {
     "name": "stderr",
     "output_type": "stream",
     "text": [
      "100%|██████████| 100/100 [00:05<00:00, 18.74it/s]\n",
      "/var/folders/d1/sg_qr5nx5t5586ls8g_n98_80000gn/T/ipykernel_48768/965276818.py:16: FutureWarning: The frame.append method is deprecated and will be removed from pandas in a future version. Use pandas.concat instead.\n",
      "  results = results.append(result.assign(run=i + 1), ignore_index=True)\n",
      " 56%|█████▌    | 28/50 [45:35<39:39, 108.16s/it]"
     ]
    },
    {
     "name": "stdout",
     "output_type": "stream",
     "text": [
      "Restoring model weights from the end of the best epoch: 153.\n",
      "Epoch 203: early stopping\n",
      "79/79 [==============================] - 0s 3ms/step\n",
      "Restoring model weights from the end of the best epoch: 109.\n",
      "Epoch 159: early stopping\n"
     ]
    },
    {
     "name": "stderr",
     "output_type": "stream",
     "text": [
      "100%|██████████| 100/100 [00:05<00:00, 19.61it/s]\n"
     ]
    },
    {
     "name": "stdout",
     "output_type": "stream",
     "text": [
      "Restoring model weights from the end of the best epoch: 114.\n",
      "Epoch 164: early stopping\n"
     ]
    },
    {
     "name": "stderr",
     "output_type": "stream",
     "text": [
      "100%|██████████| 100/100 [00:05<00:00, 19.95it/s]\n",
      "/var/folders/d1/sg_qr5nx5t5586ls8g_n98_80000gn/T/ipykernel_48768/965276818.py:16: FutureWarning: The frame.append method is deprecated and will be removed from pandas in a future version. Use pandas.concat instead.\n",
      "  results = results.append(result.assign(run=i + 1), ignore_index=True)\n",
      " 58%|█████▊    | 29/50 [47:33<38:53, 111.12s/it]"
     ]
    },
    {
     "name": "stdout",
     "output_type": "stream",
     "text": [
      "Restoring model weights from the end of the best epoch: 113.\n",
      "Epoch 163: early stopping\n",
      "79/79 [==============================] - 0s 3ms/step\n",
      "Restoring model weights from the end of the best epoch: 57.\n",
      "Epoch 107: early stopping\n"
     ]
    },
    {
     "name": "stderr",
     "output_type": "stream",
     "text": [
      "100%|██████████| 100/100 [00:04<00:00, 20.56it/s]\n"
     ]
    },
    {
     "name": "stdout",
     "output_type": "stream",
     "text": [
      "Restoring model weights from the end of the best epoch: 250.\n",
      "Epoch 300: early stopping\n"
     ]
    },
    {
     "name": "stderr",
     "output_type": "stream",
     "text": [
      "100%|██████████| 100/100 [00:05<00:00, 19.63it/s]\n",
      "/var/folders/d1/sg_qr5nx5t5586ls8g_n98_80000gn/T/ipykernel_48768/965276818.py:16: FutureWarning: The frame.append method is deprecated and will be removed from pandas in a future version. Use pandas.concat instead.\n",
      "  results = results.append(result.assign(run=i + 1), ignore_index=True)\n",
      " 60%|██████    | 30/50 [49:45<39:08, 117.44s/it]"
     ]
    },
    {
     "name": "stdout",
     "output_type": "stream",
     "text": [
      "Restoring model weights from the end of the best epoch: 97.\n",
      "Epoch 147: early stopping\n",
      "79/79 [==============================] - 0s 3ms/step\n",
      "Restoring model weights from the end of the best epoch: 67.\n",
      "Epoch 117: early stopping\n"
     ]
    },
    {
     "name": "stderr",
     "output_type": "stream",
     "text": [
      "100%|██████████| 100/100 [00:04<00:00, 20.27it/s]\n"
     ]
    },
    {
     "name": "stdout",
     "output_type": "stream",
     "text": [
      "Restoring model weights from the end of the best epoch: 167.\n",
      "Epoch 217: early stopping\n"
     ]
    },
    {
     "name": "stderr",
     "output_type": "stream",
     "text": [
      "100%|██████████| 100/100 [00:05<00:00, 18.31it/s]\n",
      "/var/folders/d1/sg_qr5nx5t5586ls8g_n98_80000gn/T/ipykernel_48768/965276818.py:16: FutureWarning: The frame.append method is deprecated and will be removed from pandas in a future version. Use pandas.concat instead.\n",
      "  results = results.append(result.assign(run=i + 1), ignore_index=True)\n",
      " 62%|██████▏   | 31/50 [51:39<36:49, 116.30s/it]"
     ]
    },
    {
     "name": "stdout",
     "output_type": "stream",
     "text": [
      "Restoring model weights from the end of the best epoch: 100.\n",
      "Epoch 150: early stopping\n",
      "79/79 [==============================] - 0s 3ms/step\n",
      "Restoring model weights from the end of the best epoch: 51.\n",
      "Epoch 101: early stopping\n"
     ]
    },
    {
     "name": "stderr",
     "output_type": "stream",
     "text": [
      "100%|██████████| 100/100 [00:06<00:00, 15.49it/s]\n"
     ]
    },
    {
     "name": "stdout",
     "output_type": "stream",
     "text": [
      "Restoring model weights from the end of the best epoch: 116.\n",
      "Epoch 166: early stopping\n"
     ]
    },
    {
     "name": "stderr",
     "output_type": "stream",
     "text": [
      "100%|██████████| 100/100 [00:06<00:00, 15.92it/s]\n",
      "/var/folders/d1/sg_qr5nx5t5586ls8g_n98_80000gn/T/ipykernel_48768/965276818.py:16: FutureWarning: The frame.append method is deprecated and will be removed from pandas in a future version. Use pandas.concat instead.\n",
      "  results = results.append(result.assign(run=i + 1), ignore_index=True)\n",
      " 64%|██████▍   | 32/50 [53:23<33:48, 112.68s/it]"
     ]
    },
    {
     "name": "stdout",
     "output_type": "stream",
     "text": [
      "Restoring model weights from the end of the best epoch: 120.\n",
      "Epoch 170: early stopping\n",
      "79/79 [==============================] - 0s 3ms/step\n",
      "Restoring model weights from the end of the best epoch: 48.\n",
      "Epoch 98: early stopping\n"
     ]
    },
    {
     "name": "stderr",
     "output_type": "stream",
     "text": [
      "100%|██████████| 100/100 [00:06<00:00, 15.49it/s]\n"
     ]
    },
    {
     "name": "stdout",
     "output_type": "stream",
     "text": [
      "Restoring model weights from the end of the best epoch: 105.\n",
      "Epoch 155: early stopping\n"
     ]
    },
    {
     "name": "stderr",
     "output_type": "stream",
     "text": [
      "100%|██████████| 100/100 [00:06<00:00, 15.75it/s]\n",
      "/var/folders/d1/sg_qr5nx5t5586ls8g_n98_80000gn/T/ipykernel_48768/965276818.py:16: FutureWarning: The frame.append method is deprecated and will be removed from pandas in a future version. Use pandas.concat instead.\n",
      "  results = results.append(result.assign(run=i + 1), ignore_index=True)\n",
      " 66%|██████▌   | 33/50 [55:12<31:35, 111.48s/it]"
     ]
    },
    {
     "name": "stdout",
     "output_type": "stream",
     "text": [
      "Restoring model weights from the end of the best epoch: 183.\n",
      "Epoch 233: early stopping\n",
      "79/79 [==============================] - 0s 3ms/step\n",
      "Restoring model weights from the end of the best epoch: 112.\n",
      "Epoch 162: early stopping\n"
     ]
    },
    {
     "name": "stderr",
     "output_type": "stream",
     "text": [
      "100%|██████████| 100/100 [00:06<00:00, 16.25it/s]\n"
     ]
    },
    {
     "name": "stdout",
     "output_type": "stream",
     "text": [
      "Restoring model weights from the end of the best epoch: 173.\n",
      "Epoch 223: early stopping\n"
     ]
    },
    {
     "name": "stderr",
     "output_type": "stream",
     "text": [
      "100%|██████████| 100/100 [00:06<00:00, 14.95it/s]\n",
      "/var/folders/d1/sg_qr5nx5t5586ls8g_n98_80000gn/T/ipykernel_48768/965276818.py:16: FutureWarning: The frame.append method is deprecated and will be removed from pandas in a future version. Use pandas.concat instead.\n",
      "  results = results.append(result.assign(run=i + 1), ignore_index=True)\n",
      " 68%|██████▊   | 34/50 [57:36<32:21, 121.36s/it]"
     ]
    },
    {
     "name": "stdout",
     "output_type": "stream",
     "text": [
      "Restoring model weights from the end of the best epoch: 77.\n",
      "Epoch 127: early stopping\n",
      "79/79 [==============================] - 0s 3ms/step\n",
      "Restoring model weights from the end of the best epoch: 61.\n",
      "Epoch 111: early stopping\n"
     ]
    },
    {
     "name": "stderr",
     "output_type": "stream",
     "text": [
      "100%|██████████| 100/100 [00:06<00:00, 15.01it/s]\n"
     ]
    },
    {
     "name": "stdout",
     "output_type": "stream",
     "text": [
      "Restoring model weights from the end of the best epoch: 35.\n",
      "Epoch 85: early stopping\n"
     ]
    },
    {
     "name": "stderr",
     "output_type": "stream",
     "text": [
      "100%|██████████| 100/100 [00:06<00:00, 15.46it/s]\n",
      "/var/folders/d1/sg_qr5nx5t5586ls8g_n98_80000gn/T/ipykernel_48768/965276818.py:16: FutureWarning: The frame.append method is deprecated and will be removed from pandas in a future version. Use pandas.concat instead.\n",
      "  results = results.append(result.assign(run=i + 1), ignore_index=True)\n",
      " 70%|███████   | 35/50 [59:07<28:03, 112.20s/it]"
     ]
    },
    {
     "name": "stdout",
     "output_type": "stream",
     "text": [
      "Restoring model weights from the end of the best epoch: 72.\n",
      "Epoch 122: early stopping\n",
      "79/79 [==============================] - 0s 3ms/step\n",
      "Restoring model weights from the end of the best epoch: 91.\n",
      "Epoch 141: early stopping\n"
     ]
    },
    {
     "name": "stderr",
     "output_type": "stream",
     "text": [
      "100%|██████████| 100/100 [00:06<00:00, 14.56it/s]\n"
     ]
    },
    {
     "name": "stdout",
     "output_type": "stream",
     "text": [
      "Restoring model weights from the end of the best epoch: 264.\n",
      "Epoch 314: early stopping\n"
     ]
    },
    {
     "name": "stderr",
     "output_type": "stream",
     "text": [
      "100%|██████████| 100/100 [00:06<00:00, 14.38it/s]\n",
      "/var/folders/d1/sg_qr5nx5t5586ls8g_n98_80000gn/T/ipykernel_48768/965276818.py:16: FutureWarning: The frame.append method is deprecated and will be removed from pandas in a future version. Use pandas.concat instead.\n",
      "  results = results.append(result.assign(run=i + 1), ignore_index=True)\n",
      " 72%|███████▏  | 36/50 [1:01:35<28:39, 122.80s/it]"
     ]
    },
    {
     "name": "stdout",
     "output_type": "stream",
     "text": [
      "Restoring model weights from the end of the best epoch: 77.\n",
      "Epoch 127: early stopping\n",
      "79/79 [==============================] - 1s 4ms/step\n",
      "Restoring model weights from the end of the best epoch: 49.\n",
      "Epoch 99: early stopping\n"
     ]
    },
    {
     "name": "stderr",
     "output_type": "stream",
     "text": [
      "100%|██████████| 100/100 [00:07<00:00, 13.85it/s]\n"
     ]
    },
    {
     "name": "stdout",
     "output_type": "stream",
     "text": [
      "Restoring model weights from the end of the best epoch: 147.\n",
      "Epoch 197: early stopping\n"
     ]
    },
    {
     "name": "stderr",
     "output_type": "stream",
     "text": [
      "100%|██████████| 100/100 [00:07<00:00, 13.74it/s]\n",
      "/var/folders/d1/sg_qr5nx5t5586ls8g_n98_80000gn/T/ipykernel_48768/965276818.py:16: FutureWarning: The frame.append method is deprecated and will be removed from pandas in a future version. Use pandas.concat instead.\n",
      "  results = results.append(result.assign(run=i + 1), ignore_index=True)\n",
      " 74%|███████▍  | 37/50 [1:03:33<26:20, 121.59s/it]"
     ]
    },
    {
     "name": "stdout",
     "output_type": "stream",
     "text": [
      "Restoring model weights from the end of the best epoch: 133.\n",
      "Epoch 183: early stopping\n",
      "79/79 [==============================] - 1s 5ms/step\n",
      "Restoring model weights from the end of the best epoch: 66.\n",
      "Epoch 116: early stopping\n"
     ]
    },
    {
     "name": "stderr",
     "output_type": "stream",
     "text": [
      "100%|██████████| 100/100 [00:06<00:00, 14.52it/s]\n"
     ]
    },
    {
     "name": "stdout",
     "output_type": "stream",
     "text": [
      "Restoring model weights from the end of the best epoch: 53.\n",
      "Epoch 103: early stopping\n"
     ]
    },
    {
     "name": "stderr",
     "output_type": "stream",
     "text": [
      "100%|██████████| 100/100 [00:06<00:00, 15.34it/s]\n",
      "/var/folders/d1/sg_qr5nx5t5586ls8g_n98_80000gn/T/ipykernel_48768/965276818.py:16: FutureWarning: The frame.append method is deprecated and will be removed from pandas in a future version. Use pandas.concat instead.\n",
      "  results = results.append(result.assign(run=i + 1), ignore_index=True)\n",
      " 76%|███████▌  | 38/50 [1:05:22<23:33, 117.79s/it]"
     ]
    },
    {
     "name": "stdout",
     "output_type": "stream",
     "text": [
      "Restoring model weights from the end of the best epoch: 126.\n",
      "Epoch 176: early stopping\n",
      "79/79 [==============================] - 0s 3ms/step\n",
      "Restoring model weights from the end of the best epoch: 37.\n",
      "Epoch 87: early stopping\n"
     ]
    },
    {
     "name": "stderr",
     "output_type": "stream",
     "text": [
      "100%|██████████| 100/100 [00:06<00:00, 14.72it/s]\n"
     ]
    },
    {
     "name": "stdout",
     "output_type": "stream",
     "text": [
      "Restoring model weights from the end of the best epoch: 174.\n",
      "Epoch 224: early stopping\n"
     ]
    },
    {
     "name": "stderr",
     "output_type": "stream",
     "text": [
      "100%|██████████| 100/100 [00:07<00:00, 12.91it/s]\n",
      "/var/folders/d1/sg_qr5nx5t5586ls8g_n98_80000gn/T/ipykernel_48768/965276818.py:16: FutureWarning: The frame.append method is deprecated and will be removed from pandas in a future version. Use pandas.concat instead.\n",
      "  results = results.append(result.assign(run=i + 1), ignore_index=True)\n",
      " 78%|███████▊  | 39/50 [1:07:31<22:12, 121.11s/it]"
     ]
    },
    {
     "name": "stdout",
     "output_type": "stream",
     "text": [
      "Restoring model weights from the end of the best epoch: 101.\n",
      "Epoch 151: early stopping\n",
      "79/79 [==============================] - 0s 3ms/step\n",
      "Restoring model weights from the end of the best epoch: 59.\n",
      "Epoch 109: early stopping\n"
     ]
    },
    {
     "name": "stderr",
     "output_type": "stream",
     "text": [
      "100%|██████████| 100/100 [00:07<00:00, 13.70it/s]\n"
     ]
    },
    {
     "name": "stdout",
     "output_type": "stream",
     "text": [
      "Restoring model weights from the end of the best epoch: 157.\n",
      "Epoch 207: early stopping\n"
     ]
    },
    {
     "name": "stderr",
     "output_type": "stream",
     "text": [
      "100%|██████████| 100/100 [00:07<00:00, 13.89it/s]\n",
      "/var/folders/d1/sg_qr5nx5t5586ls8g_n98_80000gn/T/ipykernel_48768/965276818.py:16: FutureWarning: The frame.append method is deprecated and will be removed from pandas in a future version. Use pandas.concat instead.\n",
      "  results = results.append(result.assign(run=i + 1), ignore_index=True)\n",
      " 80%|████████  | 40/50 [1:09:43<20:44, 124.45s/it]"
     ]
    },
    {
     "name": "stdout",
     "output_type": "stream",
     "text": [
      "Restoring model weights from the end of the best epoch: 110.\n",
      "Epoch 160: early stopping\n",
      "79/79 [==============================] - 1s 4ms/step\n",
      "Restoring model weights from the end of the best epoch: 73.\n",
      "Epoch 123: early stopping\n"
     ]
    },
    {
     "name": "stderr",
     "output_type": "stream",
     "text": [
      "100%|██████████| 100/100 [00:07<00:00, 13.17it/s]\n"
     ]
    },
    {
     "name": "stdout",
     "output_type": "stream",
     "text": [
      "Restoring model weights from the end of the best epoch: 42.\n",
      "Epoch 92: early stopping\n"
     ]
    },
    {
     "name": "stderr",
     "output_type": "stream",
     "text": [
      "100%|██████████| 100/100 [00:07<00:00, 13.34it/s]\n",
      "/var/folders/d1/sg_qr5nx5t5586ls8g_n98_80000gn/T/ipykernel_48768/965276818.py:16: FutureWarning: The frame.append method is deprecated and will be removed from pandas in a future version. Use pandas.concat instead.\n",
      "  results = results.append(result.assign(run=i + 1), ignore_index=True)\n",
      " 82%|████████▏ | 41/50 [1:11:34<18:03, 120.35s/it]"
     ]
    },
    {
     "name": "stdout",
     "output_type": "stream",
     "text": [
      "Restoring model weights from the end of the best epoch: 148.\n",
      "Epoch 198: early stopping\n",
      "79/79 [==============================] - 1s 3ms/step\n",
      "Restoring model weights from the end of the best epoch: 60.\n",
      "Epoch 110: early stopping\n"
     ]
    },
    {
     "name": "stderr",
     "output_type": "stream",
     "text": [
      "100%|██████████| 100/100 [00:07<00:00, 13.42it/s]\n"
     ]
    },
    {
     "name": "stdout",
     "output_type": "stream",
     "text": [
      "Restoring model weights from the end of the best epoch: 209.\n",
      "Epoch 259: early stopping\n"
     ]
    },
    {
     "name": "stderr",
     "output_type": "stream",
     "text": [
      "100%|██████████| 100/100 [00:07<00:00, 13.48it/s]\n",
      "/var/folders/d1/sg_qr5nx5t5586ls8g_n98_80000gn/T/ipykernel_48768/965276818.py:16: FutureWarning: The frame.append method is deprecated and will be removed from pandas in a future version. Use pandas.concat instead.\n",
      "  results = results.append(result.assign(run=i + 1), ignore_index=True)\n",
      " 84%|████████▍ | 42/50 [1:14:03<17:10, 128.76s/it]"
     ]
    },
    {
     "name": "stdout",
     "output_type": "stream",
     "text": [
      "Restoring model weights from the end of the best epoch: 141.\n",
      "Epoch 191: early stopping\n",
      "79/79 [==============================] - 1s 4ms/step\n",
      "Restoring model weights from the end of the best epoch: 64.\n",
      "Epoch 114: early stopping\n"
     ]
    },
    {
     "name": "stderr",
     "output_type": "stream",
     "text": [
      "100%|██████████| 100/100 [00:07<00:00, 13.65it/s]\n"
     ]
    },
    {
     "name": "stdout",
     "output_type": "stream",
     "text": [
      "Restoring model weights from the end of the best epoch: 289.\n",
      "Epoch 339: early stopping\n"
     ]
    },
    {
     "name": "stderr",
     "output_type": "stream",
     "text": [
      "100%|██████████| 100/100 [00:07<00:00, 13.58it/s]\n",
      "/var/folders/d1/sg_qr5nx5t5586ls8g_n98_80000gn/T/ipykernel_48768/965276818.py:16: FutureWarning: The frame.append method is deprecated and will be removed from pandas in a future version. Use pandas.concat instead.\n",
      "  results = results.append(result.assign(run=i + 1), ignore_index=True)\n",
      " 86%|████████▌ | 43/50 [1:16:52<16:25, 140.84s/it]"
     ]
    },
    {
     "name": "stdout",
     "output_type": "stream",
     "text": [
      "Restoring model weights from the end of the best epoch: 103.\n",
      "Epoch 153: early stopping\n",
      "79/79 [==============================] - 1s 3ms/step\n",
      "Restoring model weights from the end of the best epoch: 67.\n",
      "Epoch 117: early stopping\n"
     ]
    },
    {
     "name": "stderr",
     "output_type": "stream",
     "text": [
      "100%|██████████| 100/100 [00:07<00:00, 13.55it/s]\n"
     ]
    },
    {
     "name": "stdout",
     "output_type": "stream",
     "text": [
      "Restoring model weights from the end of the best epoch: 76.\n",
      "Epoch 126: early stopping\n"
     ]
    },
    {
     "name": "stderr",
     "output_type": "stream",
     "text": [
      "100%|██████████| 100/100 [00:07<00:00, 13.44it/s]\n",
      "/var/folders/d1/sg_qr5nx5t5586ls8g_n98_80000gn/T/ipykernel_48768/965276818.py:16: FutureWarning: The frame.append method is deprecated and will be removed from pandas in a future version. Use pandas.concat instead.\n",
      "  results = results.append(result.assign(run=i + 1), ignore_index=True)\n",
      " 88%|████████▊ | 44/50 [1:18:44<13:12, 132.16s/it]"
     ]
    },
    {
     "name": "stdout",
     "output_type": "stream",
     "text": [
      "Restoring model weights from the end of the best epoch: 106.\n",
      "Epoch 156: early stopping\n",
      "79/79 [==============================] - 0s 3ms/step\n",
      "Restoring model weights from the end of the best epoch: 49.\n",
      "Epoch 99: early stopping\n"
     ]
    },
    {
     "name": "stderr",
     "output_type": "stream",
     "text": [
      "100%|██████████| 100/100 [00:07<00:00, 13.23it/s]\n"
     ]
    },
    {
     "name": "stdout",
     "output_type": "stream",
     "text": [
      "Restoring model weights from the end of the best epoch: 173.\n",
      "Epoch 223: early stopping\n"
     ]
    },
    {
     "name": "stderr",
     "output_type": "stream",
     "text": [
      "100%|██████████| 100/100 [00:07<00:00, 13.08it/s]\n",
      "/var/folders/d1/sg_qr5nx5t5586ls8g_n98_80000gn/T/ipykernel_48768/965276818.py:16: FutureWarning: The frame.append method is deprecated and will be removed from pandas in a future version. Use pandas.concat instead.\n",
      "  results = results.append(result.assign(run=i + 1), ignore_index=True)\n",
      " 90%|█████████ | 45/50 [1:20:54<10:58, 131.77s/it]"
     ]
    },
    {
     "name": "stdout",
     "output_type": "stream",
     "text": [
      "Restoring model weights from the end of the best epoch: 97.\n",
      "Epoch 147: early stopping\n",
      "79/79 [==============================] - 1s 3ms/step\n",
      "Restoring model weights from the end of the best epoch: 50.\n",
      "Epoch 100: early stopping\n"
     ]
    },
    {
     "name": "stderr",
     "output_type": "stream",
     "text": [
      "100%|██████████| 100/100 [00:08<00:00, 12.29it/s]\n"
     ]
    },
    {
     "name": "stdout",
     "output_type": "stream",
     "text": [
      "Restoring model weights from the end of the best epoch: 54.\n",
      "Epoch 104: early stopping\n"
     ]
    },
    {
     "name": "stderr",
     "output_type": "stream",
     "text": [
      "100%|██████████| 100/100 [00:07<00:00, 13.02it/s]\n",
      "/var/folders/d1/sg_qr5nx5t5586ls8g_n98_80000gn/T/ipykernel_48768/965276818.py:16: FutureWarning: The frame.append method is deprecated and will be removed from pandas in a future version. Use pandas.concat instead.\n",
      "  results = results.append(result.assign(run=i + 1), ignore_index=True)\n",
      " 92%|█████████▏| 46/50 [1:22:40<08:15, 123.85s/it]"
     ]
    },
    {
     "name": "stdout",
     "output_type": "stream",
     "text": [
      "Restoring model weights from the end of the best epoch: 143.\n",
      "Epoch 193: early stopping\n",
      "79/79 [==============================] - 1s 4ms/step\n",
      "Restoring model weights from the end of the best epoch: 72.\n",
      "Epoch 122: early stopping\n"
     ]
    },
    {
     "name": "stderr",
     "output_type": "stream",
     "text": [
      "100%|██████████| 100/100 [00:07<00:00, 13.37it/s]\n"
     ]
    },
    {
     "name": "stdout",
     "output_type": "stream",
     "text": [
      "Restoring model weights from the end of the best epoch: 113.\n",
      "Epoch 163: early stopping\n"
     ]
    },
    {
     "name": "stderr",
     "output_type": "stream",
     "text": [
      "100%|██████████| 100/100 [00:07<00:00, 13.18it/s]\n",
      "/var/folders/d1/sg_qr5nx5t5586ls8g_n98_80000gn/T/ipykernel_48768/965276818.py:16: FutureWarning: The frame.append method is deprecated and will be removed from pandas in a future version. Use pandas.concat instead.\n",
      "  results = results.append(result.assign(run=i + 1), ignore_index=True)\n",
      " 94%|█████████▍| 47/50 [1:24:48<06:15, 125.03s/it]"
     ]
    },
    {
     "name": "stdout",
     "output_type": "stream",
     "text": [
      "Restoring model weights from the end of the best epoch: 128.\n",
      "Epoch 178: early stopping\n",
      "79/79 [==============================] - 0s 3ms/step\n",
      "Restoring model weights from the end of the best epoch: 100.\n",
      "Epoch 150: early stopping\n"
     ]
    },
    {
     "name": "stderr",
     "output_type": "stream",
     "text": [
      "100%|██████████| 100/100 [00:06<00:00, 14.31it/s]\n"
     ]
    },
    {
     "name": "stdout",
     "output_type": "stream",
     "text": [
      "Restoring model weights from the end of the best epoch: 136.\n",
      "Epoch 186: early stopping\n"
     ]
    },
    {
     "name": "stderr",
     "output_type": "stream",
     "text": [
      "100%|██████████| 100/100 [00:07<00:00, 13.46it/s]\n",
      "/var/folders/d1/sg_qr5nx5t5586ls8g_n98_80000gn/T/ipykernel_48768/965276818.py:16: FutureWarning: The frame.append method is deprecated and will be removed from pandas in a future version. Use pandas.concat instead.\n",
      "  results = results.append(result.assign(run=i + 1), ignore_index=True)\n",
      " 96%|█████████▌| 48/50 [1:27:00<04:14, 127.33s/it]"
     ]
    },
    {
     "name": "stdout",
     "output_type": "stream",
     "text": [
      "Restoring model weights from the end of the best epoch: 62.\n",
      "Epoch 112: early stopping\n",
      "79/79 [==============================] - 0s 3ms/step\n",
      "Restoring model weights from the end of the best epoch: 67.\n",
      "Epoch 117: early stopping\n"
     ]
    },
    {
     "name": "stderr",
     "output_type": "stream",
     "text": [
      "100%|██████████| 100/100 [00:08<00:00, 12.39it/s]\n"
     ]
    },
    {
     "name": "stdout",
     "output_type": "stream",
     "text": [
      "Restoring model weights from the end of the best epoch: 201.\n",
      "Epoch 251: early stopping\n"
     ]
    },
    {
     "name": "stderr",
     "output_type": "stream",
     "text": [
      "100%|██████████| 100/100 [00:07<00:00, 12.71it/s]\n",
      "/var/folders/d1/sg_qr5nx5t5586ls8g_n98_80000gn/T/ipykernel_48768/965276818.py:16: FutureWarning: The frame.append method is deprecated and will be removed from pandas in a future version. Use pandas.concat instead.\n",
      "  results = results.append(result.assign(run=i + 1), ignore_index=True)\n",
      " 98%|█████████▊| 49/50 [1:29:15<02:09, 129.67s/it]"
     ]
    },
    {
     "name": "stdout",
     "output_type": "stream",
     "text": [
      "Restoring model weights from the end of the best epoch: 182.\n",
      "Epoch 232: early stopping\n",
      "79/79 [==============================] - 1s 3ms/step\n",
      "Restoring model weights from the end of the best epoch: 64.\n",
      "Epoch 114: early stopping\n"
     ]
    },
    {
     "name": "stderr",
     "output_type": "stream",
     "text": [
      "100%|██████████| 100/100 [00:09<00:00, 10.01it/s]\n"
     ]
    },
    {
     "name": "stdout",
     "output_type": "stream",
     "text": [
      "Restoring model weights from the end of the best epoch: 120.\n",
      "Epoch 170: early stopping\n"
     ]
    },
    {
     "name": "stderr",
     "output_type": "stream",
     "text": [
      "100%|██████████| 100/100 [00:08<00:00, 11.81it/s]\n",
      "/var/folders/d1/sg_qr5nx5t5586ls8g_n98_80000gn/T/ipykernel_48768/965276818.py:16: FutureWarning: The frame.append method is deprecated and will be removed from pandas in a future version. Use pandas.concat instead.\n",
      "  results = results.append(result.assign(run=i + 1), ignore_index=True)\n",
      "100%|██████████| 50/50 [1:31:38<00:00, 109.97s/it]\n"
     ]
    }
   ],
   "source": [
    "repeats = 50\n",
    "results = pd.DataFrame()\n",
    "for i in tqdm(range(repeats)):\n",
    "    # Generate data\n",
    "    sim_data = generate_data(\n",
    "        exp_id=exp_id, n_train=n_train, n_test=n_test, n_categories=n_categories,\n",
    "        f_structure=f_structure, signal_to_noise=sig2noise, y_dist=y_dist,\n",
    "        inverse_link=inverse_link, cat_dist=cat_dist, random_state=random_seed + i,\n",
    "        overwrite=\"auto\", suffix=f\"_{i + 1:02d}\"\n",
    "    )\n",
    "    # Run simulation experiment\n",
    "    result = run_sim_experiment_light(\n",
    "        exp_id=exp_id, sim_data=sim_data, y_dist=y_dist, random_state=random_seed + i, suffix=f\"_{i + 1:02d}\")\n",
    "    # Add run number to result\n",
    "    result = pd.DataFrame(result).transpose().rename_axis(\"model\").reset_index()\n",
    "    results = results.append(result.assign(run=i + 1), ignore_index=True)"
   ]
  },
  {
   "cell_type": "code",
   "execution_count": 6,
   "metadata": {},
   "outputs": [
    {
     "data": {
      "text/html": [
       "<div>\n",
       "<style scoped>\n",
       "    .dataframe tbody tr th:only-of-type {\n",
       "        vertical-align: middle;\n",
       "    }\n",
       "\n",
       "    .dataframe tbody tr th {\n",
       "        vertical-align: top;\n",
       "    }\n",
       "\n",
       "    .dataframe thead th {\n",
       "        text-align: right;\n",
       "    }\n",
       "</style>\n",
       "<table border=\"1\" class=\"dataframe\">\n",
       "  <thead>\n",
       "    <tr style=\"text-align: right;\">\n",
       "      <th></th>\n",
       "      <th>model</th>\n",
       "      <th>MAE</th>\n",
       "      <th>MedAE</th>\n",
       "      <th>MedPE</th>\n",
       "      <th>RMSE</th>\n",
       "      <th>R2</th>\n",
       "      <th>RMSE_avg</th>\n",
       "      <th>RMSE_avg_weighted</th>\n",
       "      <th>CRPS</th>\n",
       "      <th>run</th>\n",
       "    </tr>\n",
       "  </thead>\n",
       "  <tbody>\n",
       "    <tr>\n",
       "      <th>0</th>\n",
       "      <td>GLM_ignore_cat</td>\n",
       "      <td>0.408160</td>\n",
       "      <td>0.335637</td>\n",
       "      <td>0.163466</td>\n",
       "      <td>0.527351</td>\n",
       "      <td>0.352749</td>\n",
       "      <td>0.318113</td>\n",
       "      <td>0.312935</td>\n",
       "      <td>0.288541</td>\n",
       "      <td>1</td>\n",
       "    </tr>\n",
       "    <tr>\n",
       "      <th>1</th>\n",
       "      <td>GLM_one_hot</td>\n",
       "      <td>0.331631</td>\n",
       "      <td>0.266951</td>\n",
       "      <td>0.134370</td>\n",
       "      <td>0.431864</td>\n",
       "      <td>0.565924</td>\n",
       "      <td>0.098617</td>\n",
       "      <td>0.098196</td>\n",
       "      <td>0.235462</td>\n",
       "      <td>1</td>\n",
       "    </tr>\n",
       "    <tr>\n",
       "      <th>2</th>\n",
       "      <td>GLM_GLMM_enc</td>\n",
       "      <td>0.336528</td>\n",
       "      <td>0.269556</td>\n",
       "      <td>0.136177</td>\n",
       "      <td>0.440385</td>\n",
       "      <td>0.548626</td>\n",
       "      <td>0.128488</td>\n",
       "      <td>0.125970</td>\n",
       "      <td>0.239240</td>\n",
       "      <td>1</td>\n",
       "    </tr>\n",
       "    <tr>\n",
       "      <th>3</th>\n",
       "      <td>GBM_ignore_cat</td>\n",
       "      <td>0.379977</td>\n",
       "      <td>0.314212</td>\n",
       "      <td>0.156353</td>\n",
       "      <td>0.487482</td>\n",
       "      <td>0.446917</td>\n",
       "      <td>0.312963</td>\n",
       "      <td>0.307830</td>\n",
       "      <td>0.267295</td>\n",
       "      <td>1</td>\n",
       "    </tr>\n",
       "    <tr>\n",
       "      <th>4</th>\n",
       "      <td>GBM_one_hot</td>\n",
       "      <td>0.361953</td>\n",
       "      <td>0.305165</td>\n",
       "      <td>0.146775</td>\n",
       "      <td>0.462228</td>\n",
       "      <td>0.502738</td>\n",
       "      <td>0.239039</td>\n",
       "      <td>0.238053</td>\n",
       "      <td>0.253985</td>\n",
       "      <td>1</td>\n",
       "    </tr>\n",
       "    <tr>\n",
       "      <th>...</th>\n",
       "      <td>...</td>\n",
       "      <td>...</td>\n",
       "      <td>...</td>\n",
       "      <td>...</td>\n",
       "      <td>...</td>\n",
       "      <td>...</td>\n",
       "      <td>...</td>\n",
       "      <td>...</td>\n",
       "      <td>...</td>\n",
       "      <td>...</td>\n",
       "    </tr>\n",
       "    <tr>\n",
       "      <th>595</th>\n",
       "      <td>GBM_ee</td>\n",
       "      <td>0.357216</td>\n",
       "      <td>0.292276</td>\n",
       "      <td>0.149056</td>\n",
       "      <td>0.459251</td>\n",
       "      <td>0.504423</td>\n",
       "      <td>0.255578</td>\n",
       "      <td>0.256395</td>\n",
       "      <td>0.251551</td>\n",
       "      <td>50</td>\n",
       "    </tr>\n",
       "    <tr>\n",
       "      <th>596</th>\n",
       "      <td>GLMM</td>\n",
       "      <td>0.328875</td>\n",
       "      <td>0.268723</td>\n",
       "      <td>0.138742</td>\n",
       "      <td>0.428260</td>\n",
       "      <td>0.569051</td>\n",
       "      <td>0.101438</td>\n",
       "      <td>0.101711</td>\n",
       "      <td>0.232284</td>\n",
       "      <td>50</td>\n",
       "    </tr>\n",
       "    <tr>\n",
       "      <th>597</th>\n",
       "      <td>GPBoost</td>\n",
       "      <td>0.371177</td>\n",
       "      <td>0.303524</td>\n",
       "      <td>0.158294</td>\n",
       "      <td>0.475505</td>\n",
       "      <td>0.468722</td>\n",
       "      <td>0.289501</td>\n",
       "      <td>0.287294</td>\n",
       "      <td>0.261175</td>\n",
       "      <td>50</td>\n",
       "    </tr>\n",
       "    <tr>\n",
       "      <th>598</th>\n",
       "      <td>GLMMNet</td>\n",
       "      <td>0.289599</td>\n",
       "      <td>0.232813</td>\n",
       "      <td>0.123287</td>\n",
       "      <td>0.374146</td>\n",
       "      <td>0.671076</td>\n",
       "      <td>0.091589</td>\n",
       "      <td>0.090565</td>\n",
       "      <td>0.205527</td>\n",
       "      <td>50</td>\n",
       "    </tr>\n",
       "    <tr>\n",
       "      <th>599</th>\n",
       "      <td>GLMMNet_dropout</td>\n",
       "      <td>0.315000</td>\n",
       "      <td>0.237311</td>\n",
       "      <td>0.129641</td>\n",
       "      <td>0.422946</td>\n",
       "      <td>0.579678</td>\n",
       "      <td>0.194674</td>\n",
       "      <td>0.192461</td>\n",
       "      <td>0.229864</td>\n",
       "      <td>50</td>\n",
       "    </tr>\n",
       "  </tbody>\n",
       "</table>\n",
       "<p>600 rows × 10 columns</p>\n",
       "</div>"
      ],
      "text/plain": [
       "               model       MAE     MedAE     MedPE      RMSE        R2  \\\n",
       "0     GLM_ignore_cat  0.408160  0.335637  0.163466  0.527351  0.352749   \n",
       "1        GLM_one_hot  0.331631  0.266951  0.134370  0.431864  0.565924   \n",
       "2       GLM_GLMM_enc  0.336528  0.269556  0.136177  0.440385  0.548626   \n",
       "3     GBM_ignore_cat  0.379977  0.314212  0.156353  0.487482  0.446917   \n",
       "4        GBM_one_hot  0.361953  0.305165  0.146775  0.462228  0.502738   \n",
       "..               ...       ...       ...       ...       ...       ...   \n",
       "595           GBM_ee  0.357216  0.292276  0.149056  0.459251  0.504423   \n",
       "596             GLMM  0.328875  0.268723  0.138742  0.428260  0.569051   \n",
       "597          GPBoost  0.371177  0.303524  0.158294  0.475505  0.468722   \n",
       "598          GLMMNet  0.289599  0.232813  0.123287  0.374146  0.671076   \n",
       "599  GLMMNet_dropout  0.315000  0.237311  0.129641  0.422946  0.579678   \n",
       "\n",
       "     RMSE_avg  RMSE_avg_weighted      CRPS  run  \n",
       "0    0.318113           0.312935  0.288541    1  \n",
       "1    0.098617           0.098196  0.235462    1  \n",
       "2    0.128488           0.125970  0.239240    1  \n",
       "3    0.312963           0.307830  0.267295    1  \n",
       "4    0.239039           0.238053  0.253985    1  \n",
       "..        ...                ...       ...  ...  \n",
       "595  0.255578           0.256395  0.251551   50  \n",
       "596  0.101438           0.101711  0.232284   50  \n",
       "597  0.289501           0.287294  0.261175   50  \n",
       "598  0.091589           0.090565  0.205527   50  \n",
       "599  0.194674           0.192461  0.229864   50  \n",
       "\n",
       "[600 rows x 10 columns]"
      ]
     },
     "execution_count": 6,
     "metadata": {},
     "output_type": "execute_result"
    }
   ],
   "source": [
    "results.to_csv(f\"models/experiment_{exp_id}/repeats.csv\", index=False)\n",
    "results"
   ]
  },
  {
   "cell_type": "markdown",
   "metadata": {},
   "source": [
    "## Experiment #5"
   ]
  },
  {
   "cell_type": "code",
   "execution_count": 4,
   "metadata": {},
   "outputs": [],
   "source": [
    "# Configure simulation parameters\n",
    "exp_id = 5                         # experiment id\n",
    "sig2noise = np.array([8, 1, 4])    # relative signal-to-noise of the fixed effects, random effects and irreducible error\n",
    "y_dist = \"gaussian\"                # distribution of the response variable y\n",
    "inverse_link = lambda x: x         # inverse of the log link\n",
    "cat_dist = \"balanced\"              # distribution of the categorical variable\n",
    "random_seed = 42 + 2               # random seed for reproducibility\n",
    "log_plot = True                    # whether to plot the log transformed response and predictions\n",
    "nn_loss = \"mse\"                    # loss function for the neural network (entity embedding model)"
   ]
  },
  {
   "cell_type": "code",
   "execution_count": 8,
   "metadata": {},
   "outputs": [
    {
     "name": "stderr",
     "output_type": "stream",
     "text": [
      "  0%|          | 0/50 [00:00<?, ?it/s]"
     ]
    },
    {
     "name": "stdout",
     "output_type": "stream",
     "text": [
      "Restoring model weights from the end of the best epoch: 30.\n",
      "Epoch 80: early stopping\n",
      "79/79 [==============================] - 0s 2ms/step\n",
      "Restoring model weights from the end of the best epoch: 128.\n",
      "Epoch 178: early stopping\n"
     ]
    },
    {
     "name": "stderr",
     "output_type": "stream",
     "text": [
      "100%|██████████| 100/100 [00:02<00:00, 39.53it/s]\n",
      "100%|██████████| 100/100 [00:02<00:00, 35.49it/s]\n",
      "  2%|▏         | 1/50 [04:00<3:16:08, 240.17s/it]"
     ]
    },
    {
     "name": "stdout",
     "output_type": "stream",
     "text": [
      "Restoring model weights from the end of the best epoch: 43.\n",
      "Epoch 93: early stopping\n",
      "79/79 [==============================] - 0s 2ms/step\n",
      "Restoring model weights from the end of the best epoch: 108.\n",
      "Epoch 158: early stopping\n"
     ]
    },
    {
     "name": "stderr",
     "output_type": "stream",
     "text": [
      "100%|██████████| 100/100 [00:02<00:00, 40.35it/s]\n",
      "100%|██████████| 100/100 [00:03<00:00, 28.39it/s]\n",
      "  4%|▍         | 2/50 [08:10<3:16:45, 245.94s/it]"
     ]
    },
    {
     "name": "stdout",
     "output_type": "stream",
     "text": [
      "Restoring model weights from the end of the best epoch: 23.\n",
      "Epoch 73: early stopping\n",
      "79/79 [==============================] - 0s 2ms/step\n",
      "Restoring model weights from the end of the best epoch: 127.\n",
      "Epoch 177: early stopping\n"
     ]
    },
    {
     "name": "stderr",
     "output_type": "stream",
     "text": [
      "100%|██████████| 100/100 [00:02<00:00, 37.34it/s]\n",
      "100%|██████████| 100/100 [00:03<00:00, 28.59it/s]\n",
      "  6%|▌         | 3/50 [13:02<3:29:13, 267.09s/it]"
     ]
    },
    {
     "name": "stdout",
     "output_type": "stream",
     "text": [
      "Restoring model weights from the end of the best epoch: 34.\n",
      "Epoch 84: early stopping\n",
      "79/79 [==============================] - 0s 2ms/step\n",
      "Restoring model weights from the end of the best epoch: 98.\n",
      "Epoch 148: early stopping\n"
     ]
    },
    {
     "name": "stderr",
     "output_type": "stream",
     "text": [
      "100%|██████████| 100/100 [00:03<00:00, 32.79it/s]\n",
      "100%|██████████| 100/100 [00:03<00:00, 30.06it/s]\n",
      "  8%|▊         | 4/50 [17:45<3:29:34, 273.36s/it]"
     ]
    },
    {
     "name": "stdout",
     "output_type": "stream",
     "text": [
      "Restoring model weights from the end of the best epoch: 19.\n",
      "Epoch 69: early stopping\n",
      "79/79 [==============================] - 0s 2ms/step\n",
      "Restoring model weights from the end of the best epoch: 84.\n",
      "Epoch 134: early stopping\n"
     ]
    },
    {
     "name": "stderr",
     "output_type": "stream",
     "text": [
      "100%|██████████| 100/100 [00:02<00:00, 34.66it/s]\n",
      "100%|██████████| 100/100 [00:03<00:00, 29.89it/s]\n",
      " 10%|█         | 5/50 [22:10<3:22:48, 270.41s/it]"
     ]
    },
    {
     "name": "stdout",
     "output_type": "stream",
     "text": [
      "Restoring model weights from the end of the best epoch: 29.\n",
      "Epoch 79: early stopping\n",
      "79/79 [==============================] - 0s 2ms/step\n",
      "Restoring model weights from the end of the best epoch: 114.\n",
      "Epoch 164: early stopping\n"
     ]
    },
    {
     "name": "stderr",
     "output_type": "stream",
     "text": [
      "100%|██████████| 100/100 [00:02<00:00, 34.36it/s]\n",
      "100%|██████████| 100/100 [00:03<00:00, 29.58it/s]\n",
      " 12%|█▏        | 6/50 [26:50<3:20:38, 273.61s/it]"
     ]
    },
    {
     "name": "stdout",
     "output_type": "stream",
     "text": [
      "Restoring model weights from the end of the best epoch: 47.\n",
      "Epoch 97: early stopping\n",
      "79/79 [==============================] - 0s 2ms/step\n",
      "Restoring model weights from the end of the best epoch: 107.\n",
      "Epoch 157: early stopping\n"
     ]
    },
    {
     "name": "stderr",
     "output_type": "stream",
     "text": [
      "100%|██████████| 100/100 [00:03<00:00, 32.58it/s]\n",
      "100%|██████████| 100/100 [00:03<00:00, 29.59it/s]\n",
      " 14%|█▍        | 7/50 [31:33<3:18:16, 276.65s/it]"
     ]
    },
    {
     "name": "stdout",
     "output_type": "stream",
     "text": [
      "Restoring model weights from the end of the best epoch: 41.\n",
      "Epoch 91: early stopping\n",
      "79/79 [==============================] - 0s 2ms/step\n",
      "Restoring model weights from the end of the best epoch: 164.\n",
      "Epoch 214: early stopping\n"
     ]
    },
    {
     "name": "stderr",
     "output_type": "stream",
     "text": [
      "100%|██████████| 100/100 [00:02<00:00, 33.87it/s]\n",
      "100%|██████████| 100/100 [00:03<00:00, 29.01it/s]\n",
      " 16%|█▌        | 8/50 [36:40<3:20:23, 286.28s/it]"
     ]
    },
    {
     "name": "stdout",
     "output_type": "stream",
     "text": [
      "Restoring model weights from the end of the best epoch: 43.\n",
      "Epoch 93: early stopping\n",
      "79/79 [==============================] - 0s 2ms/step\n",
      "Restoring model weights from the end of the best epoch: 132.\n",
      "Epoch 182: early stopping\n"
     ]
    },
    {
     "name": "stderr",
     "output_type": "stream",
     "text": [
      "100%|██████████| 100/100 [00:02<00:00, 33.37it/s]\n",
      "100%|██████████| 100/100 [00:03<00:00, 28.27it/s]\n",
      " 18%|█▊        | 9/50 [41:43<3:19:20, 291.72s/it]"
     ]
    },
    {
     "name": "stdout",
     "output_type": "stream",
     "text": [
      "Restoring model weights from the end of the best epoch: 37.\n",
      "Epoch 87: early stopping\n",
      "79/79 [==============================] - 0s 2ms/step\n",
      "Restoring model weights from the end of the best epoch: 172.\n",
      "Epoch 222: early stopping\n"
     ]
    },
    {
     "name": "stderr",
     "output_type": "stream",
     "text": [
      "100%|██████████| 100/100 [00:02<00:00, 34.13it/s]\n",
      "100%|██████████| 100/100 [00:03<00:00, 29.23it/s]\n",
      " 20%|██        | 10/50 [47:39<3:27:32, 311.30s/it]"
     ]
    },
    {
     "name": "stdout",
     "output_type": "stream",
     "text": [
      "Restoring model weights from the end of the best epoch: 15.\n",
      "Epoch 65: early stopping\n",
      "79/79 [==============================] - 0s 3ms/step\n",
      "Restoring model weights from the end of the best epoch: 152.\n",
      "Epoch 202: early stopping\n"
     ]
    },
    {
     "name": "stderr",
     "output_type": "stream",
     "text": [
      "100%|██████████| 100/100 [00:02<00:00, 34.14it/s]\n",
      "100%|██████████| 100/100 [00:03<00:00, 29.33it/s]\n",
      " 22%|██▏       | 11/50 [53:19<3:28:14, 320.36s/it]"
     ]
    },
    {
     "name": "stdout",
     "output_type": "stream",
     "text": [
      "Restoring model weights from the end of the best epoch: 38.\n",
      "Epoch 88: early stopping\n",
      "79/79 [==============================] - 0s 3ms/step\n",
      "Restoring model weights from the end of the best epoch: 122.\n",
      "Epoch 172: early stopping\n"
     ]
    },
    {
     "name": "stderr",
     "output_type": "stream",
     "text": [
      "100%|██████████| 100/100 [00:02<00:00, 33.69it/s]\n",
      "100%|██████████| 100/100 [00:04<00:00, 24.81it/s]\n",
      " 24%|██▍       | 12/50 [59:12<3:29:05, 330.14s/it]"
     ]
    },
    {
     "name": "stdout",
     "output_type": "stream",
     "text": [
      "Restoring model weights from the end of the best epoch: 30.\n",
      "Epoch 80: early stopping\n",
      "79/79 [==============================] - 0s 3ms/step\n",
      "Restoring model weights from the end of the best epoch: 113.\n",
      "Epoch 163: early stopping\n"
     ]
    },
    {
     "name": "stderr",
     "output_type": "stream",
     "text": [
      "100%|██████████| 100/100 [00:03<00:00, 29.77it/s]\n",
      "100%|██████████| 100/100 [00:04<00:00, 24.66it/s]\n",
      " 26%|██▌       | 13/50 [1:05:13<3:29:19, 339.45s/it]"
     ]
    },
    {
     "name": "stdout",
     "output_type": "stream",
     "text": [
      "Restoring model weights from the end of the best epoch: 30.\n",
      "Epoch 80: early stopping\n",
      "79/79 [==============================] - 0s 3ms/step\n",
      "Restoring model weights from the end of the best epoch: 113.\n",
      "Epoch 163: early stopping\n"
     ]
    },
    {
     "name": "stderr",
     "output_type": "stream",
     "text": [
      "100%|██████████| 100/100 [00:03<00:00, 29.12it/s]\n",
      "100%|██████████| 100/100 [00:04<00:00, 24.10it/s]\n",
      " 28%|██▊       | 14/50 [1:11:32<3:30:47, 351.32s/it]"
     ]
    },
    {
     "name": "stdout",
     "output_type": "stream",
     "text": [
      "Restoring model weights from the end of the best epoch: 34.\n",
      "Epoch 84: early stopping\n",
      "79/79 [==============================] - 0s 3ms/step\n",
      "Restoring model weights from the end of the best epoch: 169.\n",
      "Epoch 219: early stopping\n"
     ]
    },
    {
     "name": "stderr",
     "output_type": "stream",
     "text": [
      "100%|██████████| 100/100 [00:03<00:00, 28.90it/s]\n",
      "100%|██████████| 100/100 [00:04<00:00, 23.62it/s]\n",
      " 30%|███       | 15/50 [1:18:02<3:31:48, 363.09s/it]"
     ]
    },
    {
     "name": "stdout",
     "output_type": "stream",
     "text": [
      "Restoring model weights from the end of the best epoch: 45.\n",
      "Epoch 95: early stopping\n",
      "79/79 [==============================] - 0s 3ms/step\n",
      "Restoring model weights from the end of the best epoch: 134.\n",
      "Epoch 184: early stopping\n"
     ]
    },
    {
     "name": "stderr",
     "output_type": "stream",
     "text": [
      "100%|██████████| 100/100 [00:03<00:00, 28.18it/s]\n",
      "100%|██████████| 100/100 [00:04<00:00, 23.55it/s]\n",
      " 32%|███▏      | 16/50 [1:24:33<3:30:32, 371.54s/it]"
     ]
    },
    {
     "name": "stdout",
     "output_type": "stream",
     "text": [
      "Restoring model weights from the end of the best epoch: 42.\n",
      "Epoch 92: early stopping\n",
      "79/79 [==============================] - 0s 3ms/step\n",
      "Restoring model weights from the end of the best epoch: 120.\n",
      "Epoch 170: early stopping\n"
     ]
    },
    {
     "name": "stderr",
     "output_type": "stream",
     "text": [
      "100%|██████████| 100/100 [00:03<00:00, 28.32it/s]\n",
      "100%|██████████| 100/100 [00:04<00:00, 21.75it/s]\n",
      " 34%|███▍      | 17/50 [1:31:03<3:27:26, 377.17s/it]"
     ]
    },
    {
     "name": "stdout",
     "output_type": "stream",
     "text": [
      "Restoring model weights from the end of the best epoch: 43.\n",
      "Epoch 93: early stopping\n",
      "79/79 [==============================] - 0s 3ms/step\n",
      "Restoring model weights from the end of the best epoch: 140.\n",
      "Epoch 190: early stopping\n"
     ]
    },
    {
     "name": "stderr",
     "output_type": "stream",
     "text": [
      "100%|██████████| 100/100 [00:03<00:00, 28.13it/s]\n",
      "100%|██████████| 100/100 [00:04<00:00, 23.10it/s]\n",
      " 36%|███▌      | 18/50 [1:37:40<3:24:15, 382.97s/it]"
     ]
    },
    {
     "name": "stdout",
     "output_type": "stream",
     "text": [
      "Restoring model weights from the end of the best epoch: 36.\n",
      "Epoch 86: early stopping\n",
      "79/79 [==============================] - 0s 3ms/step\n",
      "Restoring model weights from the end of the best epoch: 104.\n",
      "Epoch 154: early stopping\n"
     ]
    },
    {
     "name": "stderr",
     "output_type": "stream",
     "text": [
      "100%|██████████| 100/100 [00:03<00:00, 27.68it/s]\n",
      "100%|██████████| 100/100 [00:04<00:00, 22.69it/s]\n",
      " 38%|███▊      | 19/50 [1:44:08<3:18:44, 384.66s/it]"
     ]
    },
    {
     "name": "stdout",
     "output_type": "stream",
     "text": [
      "Restoring model weights from the end of the best epoch: 36.\n",
      "Epoch 86: early stopping\n",
      "79/79 [==============================] - 0s 3ms/step\n",
      "Restoring model weights from the end of the best epoch: 130.\n",
      "Epoch 180: early stopping\n"
     ]
    },
    {
     "name": "stderr",
     "output_type": "stream",
     "text": [
      "100%|██████████| 100/100 [00:03<00:00, 27.54it/s]\n",
      "100%|██████████| 100/100 [00:04<00:00, 22.24it/s]\n",
      " 40%|████      | 20/50 [1:50:46<3:14:13, 388.45s/it]"
     ]
    },
    {
     "name": "stdout",
     "output_type": "stream",
     "text": [
      "Restoring model weights from the end of the best epoch: 32.\n",
      "Epoch 82: early stopping\n",
      "79/79 [==============================] - 0s 3ms/step\n",
      "Restoring model weights from the end of the best epoch: 154.\n",
      "Epoch 204: early stopping\n"
     ]
    },
    {
     "name": "stderr",
     "output_type": "stream",
     "text": [
      "100%|██████████| 100/100 [00:03<00:00, 27.41it/s]\n",
      "100%|██████████| 100/100 [00:04<00:00, 21.41it/s]\n",
      " 42%|████▏     | 21/50 [1:57:26<3:09:30, 392.07s/it]"
     ]
    },
    {
     "name": "stdout",
     "output_type": "stream",
     "text": [
      "Restoring model weights from the end of the best epoch: 32.\n",
      "Epoch 82: early stopping\n",
      "79/79 [==============================] - 0s 3ms/step\n",
      "Restoring model weights from the end of the best epoch: 102.\n",
      "Epoch 152: early stopping\n"
     ]
    },
    {
     "name": "stderr",
     "output_type": "stream",
     "text": [
      "100%|██████████| 100/100 [00:04<00:00, 24.38it/s]\n",
      "100%|██████████| 100/100 [00:04<00:00, 21.93it/s]\n",
      " 44%|████▍     | 22/50 [2:04:30<3:07:21, 401.49s/it]"
     ]
    },
    {
     "name": "stdout",
     "output_type": "stream",
     "text": [
      "Restoring model weights from the end of the best epoch: 30.\n",
      "Epoch 80: early stopping\n",
      "79/79 [==============================] - 0s 3ms/step\n",
      "Restoring model weights from the end of the best epoch: 94.\n",
      "Epoch 144: early stopping\n"
     ]
    },
    {
     "name": "stderr",
     "output_type": "stream",
     "text": [
      "100%|██████████| 100/100 [00:03<00:00, 27.02it/s]\n",
      "100%|██████████| 100/100 [00:04<00:00, 21.96it/s]\n",
      " 46%|████▌     | 23/50 [2:11:31<3:03:23, 407.54s/it]"
     ]
    },
    {
     "name": "stdout",
     "output_type": "stream",
     "text": [
      "Restoring model weights from the end of the best epoch: 35.\n",
      "Epoch 85: early stopping\n",
      "79/79 [==============================] - 0s 3ms/step\n",
      "Restoring model weights from the end of the best epoch: 128.\n",
      "Epoch 178: early stopping\n"
     ]
    },
    {
     "name": "stderr",
     "output_type": "stream",
     "text": [
      "100%|██████████| 100/100 [00:03<00:00, 26.56it/s]\n",
      "100%|██████████| 100/100 [00:04<00:00, 21.15it/s]\n",
      " 48%|████▊     | 24/50 [2:18:37<2:58:59, 413.05s/it]"
     ]
    },
    {
     "name": "stdout",
     "output_type": "stream",
     "text": [
      "Restoring model weights from the end of the best epoch: 33.\n",
      "Epoch 83: early stopping\n",
      "79/79 [==============================] - 0s 3ms/step\n",
      "Restoring model weights from the end of the best epoch: 122.\n",
      "Epoch 172: early stopping\n"
     ]
    },
    {
     "name": "stderr",
     "output_type": "stream",
     "text": [
      "100%|██████████| 100/100 [00:03<00:00, 26.08it/s]\n",
      "100%|██████████| 100/100 [00:04<00:00, 21.90it/s]\n",
      " 50%|█████     | 25/50 [2:26:43<3:01:14, 434.98s/it]"
     ]
    },
    {
     "name": "stdout",
     "output_type": "stream",
     "text": [
      "Restoring model weights from the end of the best epoch: 34.\n",
      "Epoch 84: early stopping\n",
      "79/79 [==============================] - 0s 3ms/step\n",
      "Restoring model weights from the end of the best epoch: 88.\n",
      "Epoch 138: early stopping\n"
     ]
    },
    {
     "name": "stderr",
     "output_type": "stream",
     "text": [
      "100%|██████████| 100/100 [00:03<00:00, 26.32it/s]\n",
      "100%|██████████| 100/100 [00:04<00:00, 22.06it/s]\n",
      " 52%|█████▏    | 26/50 [2:34:46<2:59:44, 449.35s/it]"
     ]
    },
    {
     "name": "stdout",
     "output_type": "stream",
     "text": [
      "Restoring model weights from the end of the best epoch: 36.\n",
      "Epoch 86: early stopping\n",
      "79/79 [==============================] - 0s 3ms/step\n",
      "Restoring model weights from the end of the best epoch: 127.\n",
      "Epoch 177: early stopping\n"
     ]
    },
    {
     "name": "stderr",
     "output_type": "stream",
     "text": [
      "100%|██████████| 100/100 [00:03<00:00, 26.45it/s]\n",
      "100%|██████████| 100/100 [00:04<00:00, 22.02it/s]\n",
      " 54%|█████▍    | 27/50 [2:42:55<2:56:49, 461.27s/it]"
     ]
    },
    {
     "name": "stdout",
     "output_type": "stream",
     "text": [
      "Restoring model weights from the end of the best epoch: 29.\n",
      "Epoch 79: early stopping\n",
      "79/79 [==============================] - 0s 3ms/step\n",
      "Restoring model weights from the end of the best epoch: 148.\n",
      "Epoch 198: early stopping\n"
     ]
    },
    {
     "name": "stderr",
     "output_type": "stream",
     "text": [
      "100%|██████████| 100/100 [00:03<00:00, 26.89it/s]\n",
      "100%|██████████| 100/100 [00:05<00:00, 19.29it/s]\n",
      " 56%|█████▌    | 28/50 [2:52:12<2:59:37, 489.90s/it]"
     ]
    },
    {
     "name": "stdout",
     "output_type": "stream",
     "text": [
      "Restoring model weights from the end of the best epoch: 25.\n",
      "Epoch 75: early stopping\n",
      "79/79 [==============================] - 0s 3ms/step\n",
      "Restoring model weights from the end of the best epoch: 112.\n",
      "Epoch 162: early stopping\n"
     ]
    },
    {
     "name": "stderr",
     "output_type": "stream",
     "text": [
      "100%|██████████| 100/100 [00:03<00:00, 27.01it/s]\n",
      "100%|██████████| 100/100 [00:05<00:00, 18.78it/s]\n",
      " 58%|█████▊    | 29/50 [3:00:09<2:50:09, 486.16s/it]"
     ]
    },
    {
     "name": "stdout",
     "output_type": "stream",
     "text": [
      "Restoring model weights from the end of the best epoch: 28.\n",
      "Epoch 78: early stopping\n",
      "79/79 [==============================] - 0s 5ms/step\n",
      "Restoring model weights from the end of the best epoch: 101.\n",
      "Epoch 151: early stopping\n"
     ]
    },
    {
     "name": "stderr",
     "output_type": "stream",
     "text": [
      "100%|██████████| 100/100 [00:03<00:00, 25.89it/s]\n",
      "100%|██████████| 100/100 [00:04<00:00, 21.13it/s]\n",
      " 60%|██████    | 30/50 [3:08:52<2:45:39, 496.99s/it]"
     ]
    },
    {
     "name": "stdout",
     "output_type": "stream",
     "text": [
      "Restoring model weights from the end of the best epoch: 40.\n",
      "Epoch 90: early stopping\n",
      "79/79 [==============================] - 0s 3ms/step\n",
      "Restoring model weights from the end of the best epoch: 163.\n",
      "Epoch 213: early stopping\n"
     ]
    },
    {
     "name": "stderr",
     "output_type": "stream",
     "text": [
      "100%|██████████| 100/100 [00:04<00:00, 22.04it/s]\n",
      "100%|██████████| 100/100 [00:05<00:00, 17.25it/s]\n",
      " 62%|██████▏   | 31/50 [3:18:28<2:44:53, 520.73s/it]"
     ]
    },
    {
     "name": "stdout",
     "output_type": "stream",
     "text": [
      "Restoring model weights from the end of the best epoch: 18.\n",
      "Epoch 68: early stopping\n",
      "79/79 [==============================] - 0s 3ms/step\n",
      "Restoring model weights from the end of the best epoch: 122.\n",
      "Epoch 172: early stopping\n"
     ]
    },
    {
     "name": "stderr",
     "output_type": "stream",
     "text": [
      "100%|██████████| 100/100 [00:04<00:00, 22.09it/s]\n",
      "100%|██████████| 100/100 [00:06<00:00, 16.24it/s]\n",
      " 64%|██████▍   | 32/50 [3:27:26<2:37:47, 525.98s/it]"
     ]
    },
    {
     "name": "stdout",
     "output_type": "stream",
     "text": [
      "Restoring model weights from the end of the best epoch: 24.\n",
      "Epoch 74: early stopping\n",
      "79/79 [==============================] - 0s 3ms/step\n",
      "Restoring model weights from the end of the best epoch: 138.\n",
      "Epoch 188: early stopping\n"
     ]
    },
    {
     "name": "stderr",
     "output_type": "stream",
     "text": [
      "100%|██████████| 100/100 [00:04<00:00, 21.87it/s]\n",
      "100%|██████████| 100/100 [00:06<00:00, 16.35it/s]\n",
      " 66%|██████▌   | 33/50 [3:36:24<2:30:03, 529.59s/it]"
     ]
    },
    {
     "name": "stdout",
     "output_type": "stream",
     "text": [
      "Restoring model weights from the end of the best epoch: 62.\n",
      "Epoch 112: early stopping\n",
      "79/79 [==============================] - 0s 3ms/step\n",
      "Restoring model weights from the end of the best epoch: 127.\n",
      "Epoch 177: early stopping\n"
     ]
    },
    {
     "name": "stderr",
     "output_type": "stream",
     "text": [
      "100%|██████████| 100/100 [00:04<00:00, 20.75it/s]\n",
      "100%|██████████| 100/100 [00:06<00:00, 14.90it/s]\n",
      " 68%|██████▊   | 34/50 [3:44:52<2:19:29, 523.12s/it]"
     ]
    },
    {
     "name": "stdout",
     "output_type": "stream",
     "text": [
      "Restoring model weights from the end of the best epoch: 30.\n",
      "Epoch 80: early stopping\n",
      "79/79 [==============================] - 0s 3ms/step\n",
      "Restoring model weights from the end of the best epoch: 131.\n",
      "Epoch 181: early stopping\n"
     ]
    },
    {
     "name": "stderr",
     "output_type": "stream",
     "text": [
      "100%|██████████| 100/100 [00:05<00:00, 19.47it/s]\n",
      "100%|██████████| 100/100 [00:06<00:00, 14.57it/s]\n",
      " 70%|███████   | 35/50 [3:53:20<2:09:39, 518.62s/it]"
     ]
    },
    {
     "name": "stdout",
     "output_type": "stream",
     "text": [
      "Restoring model weights from the end of the best epoch: 48.\n",
      "Epoch 98: early stopping\n",
      "79/79 [==============================] - 0s 3ms/step\n",
      "Restoring model weights from the end of the best epoch: 131.\n",
      "Epoch 181: early stopping\n"
     ]
    },
    {
     "name": "stderr",
     "output_type": "stream",
     "text": [
      "100%|██████████| 100/100 [00:04<00:00, 20.34it/s]\n",
      "100%|██████████| 100/100 [00:06<00:00, 15.58it/s]\n",
      " 72%|███████▏  | 36/50 [4:02:06<2:01:31, 520.81s/it]"
     ]
    },
    {
     "name": "stdout",
     "output_type": "stream",
     "text": [
      "Restoring model weights from the end of the best epoch: 36.\n",
      "Epoch 86: early stopping\n",
      "79/79 [==============================] - 0s 3ms/step\n",
      "Restoring model weights from the end of the best epoch: 165.\n",
      "Epoch 215: early stopping\n"
     ]
    },
    {
     "name": "stderr",
     "output_type": "stream",
     "text": [
      "100%|██████████| 100/100 [00:05<00:00, 17.52it/s]\n",
      "100%|██████████| 100/100 [00:06<00:00, 15.93it/s]\n",
      " 74%|███████▍  | 37/50 [4:10:25<1:51:23, 514.12s/it]"
     ]
    },
    {
     "name": "stdout",
     "output_type": "stream",
     "text": [
      "Restoring model weights from the end of the best epoch: 48.\n",
      "Epoch 98: early stopping\n",
      "79/79 [==============================] - 0s 3ms/step\n",
      "Restoring model weights from the end of the best epoch: 124.\n",
      "Epoch 174: early stopping\n"
     ]
    },
    {
     "name": "stderr",
     "output_type": "stream",
     "text": [
      "100%|██████████| 100/100 [00:04<00:00, 20.87it/s]\n",
      "100%|██████████| 100/100 [00:06<00:00, 15.41it/s]\n",
      " 76%|███████▌  | 38/50 [4:18:41<1:41:45, 508.78s/it]"
     ]
    },
    {
     "name": "stdout",
     "output_type": "stream",
     "text": [
      "Restoring model weights from the end of the best epoch: 41.\n",
      "Epoch 91: early stopping\n",
      "79/79 [==============================] - 0s 3ms/step\n",
      "Restoring model weights from the end of the best epoch: 130.\n",
      "Epoch 180: early stopping\n"
     ]
    },
    {
     "name": "stderr",
     "output_type": "stream",
     "text": [
      "100%|██████████| 100/100 [00:05<00:00, 19.68it/s]\n",
      "100%|██████████| 100/100 [00:06<00:00, 14.69it/s]\n",
      " 78%|███████▊  | 39/50 [4:27:07<1:33:07, 507.94s/it]"
     ]
    },
    {
     "name": "stdout",
     "output_type": "stream",
     "text": [
      "Restoring model weights from the end of the best epoch: 34.\n",
      "Epoch 84: early stopping\n",
      "79/79 [==============================] - 0s 3ms/step\n",
      "Restoring model weights from the end of the best epoch: 144.\n",
      "Epoch 194: early stopping\n"
     ]
    },
    {
     "name": "stderr",
     "output_type": "stream",
     "text": [
      "100%|██████████| 100/100 [00:05<00:00, 17.16it/s]\n",
      "100%|██████████| 100/100 [00:06<00:00, 14.76it/s]\n",
      " 80%|████████  | 40/50 [4:37:13<1:29:34, 537.47s/it]"
     ]
    },
    {
     "name": "stdout",
     "output_type": "stream",
     "text": [
      "Restoring model weights from the end of the best epoch: 32.\n",
      "Epoch 82: early stopping\n",
      "79/79 [==============================] - 1s 3ms/step\n",
      "Restoring model weights from the end of the best epoch: 117.\n",
      "Epoch 167: early stopping\n"
     ]
    },
    {
     "name": "stderr",
     "output_type": "stream",
     "text": [
      "100%|██████████| 100/100 [00:04<00:00, 20.22it/s]\n",
      "100%|██████████| 100/100 [00:06<00:00, 15.38it/s]\n",
      " 82%|████████▏ | 41/50 [4:45:36<1:19:02, 526.97s/it]"
     ]
    },
    {
     "name": "stdout",
     "output_type": "stream",
     "text": [
      "Restoring model weights from the end of the best epoch: 33.\n",
      "Epoch 83: early stopping\n",
      "79/79 [==============================] - 0s 3ms/step\n",
      "Restoring model weights from the end of the best epoch: 114.\n",
      "Epoch 164: early stopping\n"
     ]
    },
    {
     "name": "stderr",
     "output_type": "stream",
     "text": [
      "100%|██████████| 100/100 [00:05<00:00, 19.76it/s]\n",
      "100%|██████████| 100/100 [00:06<00:00, 14.49it/s]\n",
      " 84%|████████▍ | 42/50 [4:54:11<1:09:46, 523.33s/it]"
     ]
    },
    {
     "name": "stdout",
     "output_type": "stream",
     "text": [
      "Restoring model weights from the end of the best epoch: 28.\n",
      "Epoch 78: early stopping\n",
      "79/79 [==============================] - 0s 3ms/step\n",
      "Restoring model weights from the end of the best epoch: 127.\n",
      "Epoch 177: early stopping\n"
     ]
    },
    {
     "name": "stderr",
     "output_type": "stream",
     "text": [
      "100%|██████████| 100/100 [00:05<00:00, 19.29it/s]\n",
      "100%|██████████| 100/100 [00:06<00:00, 14.89it/s]\n",
      " 86%|████████▌ | 43/50 [5:02:48<1:00:49, 521.41s/it]"
     ]
    },
    {
     "name": "stdout",
     "output_type": "stream",
     "text": [
      "Restoring model weights from the end of the best epoch: 23.\n",
      "Epoch 73: early stopping\n",
      "79/79 [==============================] - 0s 3ms/step\n",
      "Restoring model weights from the end of the best epoch: 111.\n",
      "Epoch 161: early stopping\n"
     ]
    },
    {
     "name": "stderr",
     "output_type": "stream",
     "text": [
      "100%|██████████| 100/100 [00:05<00:00, 19.17it/s]\n",
      "100%|██████████| 100/100 [00:06<00:00, 14.73it/s]\n",
      " 88%|████████▊ | 44/50 [5:11:32<52:14, 522.35s/it]  "
     ]
    },
    {
     "name": "stdout",
     "output_type": "stream",
     "text": [
      "Restoring model weights from the end of the best epoch: 42.\n",
      "Epoch 92: early stopping\n",
      "79/79 [==============================] - 1s 3ms/step\n",
      "Restoring model weights from the end of the best epoch: 125.\n",
      "Epoch 175: early stopping\n"
     ]
    },
    {
     "name": "stderr",
     "output_type": "stream",
     "text": [
      "100%|██████████| 100/100 [00:05<00:00, 18.27it/s]\n",
      "100%|██████████| 100/100 [00:06<00:00, 14.74it/s]\n",
      " 90%|█████████ | 45/50 [5:20:19<43:38, 523.75s/it]"
     ]
    },
    {
     "name": "stdout",
     "output_type": "stream",
     "text": [
      "Restoring model weights from the end of the best epoch: 34.\n",
      "Epoch 84: early stopping\n",
      "79/79 [==============================] - 1s 4ms/step\n",
      "Restoring model weights from the end of the best epoch: 172.\n",
      "Epoch 222: early stopping\n"
     ]
    },
    {
     "name": "stderr",
     "output_type": "stream",
     "text": [
      "100%|██████████| 100/100 [00:05<00:00, 18.44it/s]\n",
      "100%|██████████| 100/100 [00:06<00:00, 14.56it/s]\n",
      " 92%|█████████▏| 46/50 [5:29:25<35:21, 530.35s/it]"
     ]
    },
    {
     "name": "stdout",
     "output_type": "stream",
     "text": [
      "Restoring model weights from the end of the best epoch: 67.\n",
      "Epoch 117: early stopping\n",
      "79/79 [==============================] - 1s 4ms/step\n",
      "Restoring model weights from the end of the best epoch: 134.\n",
      "Epoch 184: early stopping\n"
     ]
    },
    {
     "name": "stderr",
     "output_type": "stream",
     "text": [
      "100%|██████████| 100/100 [00:05<00:00, 18.14it/s]\n",
      "100%|██████████| 100/100 [00:06<00:00, 14.58it/s]\n",
      " 94%|█████████▍| 47/50 [5:38:41<26:54, 538.14s/it]"
     ]
    },
    {
     "name": "stdout",
     "output_type": "stream",
     "text": [
      "Restoring model weights from the end of the best epoch: 25.\n",
      "Epoch 75: early stopping\n",
      "79/79 [==============================] - 0s 3ms/step\n",
      "Restoring model weights from the end of the best epoch: 129.\n",
      "Epoch 179: early stopping\n"
     ]
    },
    {
     "name": "stderr",
     "output_type": "stream",
     "text": [
      "100%|██████████| 100/100 [00:05<00:00, 17.62it/s]\n",
      "100%|██████████| 100/100 [00:06<00:00, 14.44it/s]\n",
      " 96%|█████████▌| 48/50 [5:48:30<18:26, 553.37s/it]"
     ]
    },
    {
     "name": "stdout",
     "output_type": "stream",
     "text": [
      "Restoring model weights from the end of the best epoch: 27.\n",
      "Epoch 77: early stopping\n",
      "79/79 [==============================] - 0s 4ms/step\n",
      "Restoring model weights from the end of the best epoch: 88.\n",
      "Epoch 138: early stopping\n"
     ]
    },
    {
     "name": "stderr",
     "output_type": "stream",
     "text": [
      "100%|██████████| 100/100 [00:05<00:00, 18.12it/s]\n",
      "100%|██████████| 100/100 [00:07<00:00, 14.22it/s]\n",
      " 98%|█████████▊| 49/50 [5:58:13<09:22, 562.14s/it]"
     ]
    },
    {
     "name": "stdout",
     "output_type": "stream",
     "text": [
      "Restoring model weights from the end of the best epoch: 39.\n",
      "Epoch 89: early stopping\n",
      "79/79 [==============================] - 0s 3ms/step\n",
      "Restoring model weights from the end of the best epoch: 95.\n",
      "Epoch 145: early stopping\n"
     ]
    },
    {
     "name": "stderr",
     "output_type": "stream",
     "text": [
      "100%|██████████| 100/100 [00:05<00:00, 16.67it/s]\n",
      "100%|██████████| 100/100 [00:06<00:00, 14.46it/s]\n",
      "100%|██████████| 50/50 [6:08:06<00:00, 441.74s/it]\n"
     ]
    }
   ],
   "source": [
    "repeats = 50\n",
    "results = pd.DataFrame()\n",
    "for i in tqdm(range(repeats)):\n",
    "    # Generate data\n",
    "    sim_data = generate_data(\n",
    "        exp_id=exp_id, n_train=n_train, n_test=n_test, n_categories=n_categories,\n",
    "        f_structure=f_structure, signal_to_noise=sig2noise, y_dist=y_dist,\n",
    "        inverse_link=inverse_link, cat_dist=cat_dist, random_state=random_seed + i,\n",
    "        overwrite=True, suffix=f\"_{i + 1:02d}\"\n",
    "    )\n",
    "    # Run simulation experiment\n",
    "    result = run_sim_experiment_light(\n",
    "        exp_id=exp_id, sim_data=sim_data, y_dist=y_dist, random_state=random_seed + i, suffix=f\"_{i + 1:02d}\")\n",
    "    # Add run number to result\n",
    "    result = pd.DataFrame(result).transpose().rename_axis(\"model\").reset_index()\n",
    "    results = pd.concat([results, result.assign(run=i + 1)], ignore_index=True)"
   ]
  },
  {
   "cell_type": "code",
   "execution_count": 9,
   "metadata": {},
   "outputs": [
    {
     "data": {
      "text/html": [
       "<div>\n",
       "<style scoped>\n",
       "    .dataframe tbody tr th:only-of-type {\n",
       "        vertical-align: middle;\n",
       "    }\n",
       "\n",
       "    .dataframe tbody tr th {\n",
       "        vertical-align: top;\n",
       "    }\n",
       "\n",
       "    .dataframe thead th {\n",
       "        text-align: right;\n",
       "    }\n",
       "</style>\n",
       "<table border=\"1\" class=\"dataframe\">\n",
       "  <thead>\n",
       "    <tr style=\"text-align: right;\">\n",
       "      <th></th>\n",
       "      <th>model</th>\n",
       "      <th>MAE</th>\n",
       "      <th>MedAE</th>\n",
       "      <th>MedPE</th>\n",
       "      <th>RMSE</th>\n",
       "      <th>R2</th>\n",
       "      <th>RMSE_avg</th>\n",
       "      <th>RMSE_avg_weighted</th>\n",
       "      <th>CRPS</th>\n",
       "      <th>NLL</th>\n",
       "      <th>run</th>\n",
       "    </tr>\n",
       "  </thead>\n",
       "  <tbody>\n",
       "    <tr>\n",
       "      <th>0</th>\n",
       "      <td>GLM_ignore_cat</td>\n",
       "      <td>0.263093</td>\n",
       "      <td>0.223305</td>\n",
       "      <td>0.304475</td>\n",
       "      <td>0.329276</td>\n",
       "      <td>0.213444</td>\n",
       "      <td>0.096269</td>\n",
       "      <td>0.096299</td>\n",
       "      <td>0.185710</td>\n",
       "      <td>0.308081</td>\n",
       "      <td>1</td>\n",
       "    </tr>\n",
       "    <tr>\n",
       "      <th>1</th>\n",
       "      <td>GLM_one_hot</td>\n",
       "      <td>0.258460</td>\n",
       "      <td>0.218490</td>\n",
       "      <td>0.306528</td>\n",
       "      <td>0.324982</td>\n",
       "      <td>0.233825</td>\n",
       "      <td>0.080485</td>\n",
       "      <td>0.079554</td>\n",
       "      <td>0.183016</td>\n",
       "      <td>0.294954</td>\n",
       "      <td>1</td>\n",
       "    </tr>\n",
       "    <tr>\n",
       "      <th>2</th>\n",
       "      <td>GLM_GLMM_enc</td>\n",
       "      <td>0.257574</td>\n",
       "      <td>0.217387</td>\n",
       "      <td>0.300275</td>\n",
       "      <td>0.323971</td>\n",
       "      <td>0.238587</td>\n",
       "      <td>0.076170</td>\n",
       "      <td>0.075882</td>\n",
       "      <td>0.182479</td>\n",
       "      <td>0.291837</td>\n",
       "      <td>1</td>\n",
       "    </tr>\n",
       "    <tr>\n",
       "      <th>3</th>\n",
       "      <td>GBM_ignore_cat</td>\n",
       "      <td>0.256045</td>\n",
       "      <td>0.217665</td>\n",
       "      <td>0.299737</td>\n",
       "      <td>0.320876</td>\n",
       "      <td>0.253063</td>\n",
       "      <td>0.094102</td>\n",
       "      <td>0.094287</td>\n",
       "      <td>0.180752</td>\n",
       "      <td>0.282239</td>\n",
       "      <td>1</td>\n",
       "    </tr>\n",
       "    <tr>\n",
       "      <th>4</th>\n",
       "      <td>GBM_one_hot</td>\n",
       "      <td>0.254784</td>\n",
       "      <td>0.214850</td>\n",
       "      <td>0.296710</td>\n",
       "      <td>0.319545</td>\n",
       "      <td>0.259249</td>\n",
       "      <td>0.088123</td>\n",
       "      <td>0.088085</td>\n",
       "      <td>0.179987</td>\n",
       "      <td>0.278081</td>\n",
       "      <td>1</td>\n",
       "    </tr>\n",
       "    <tr>\n",
       "      <th>...</th>\n",
       "      <td>...</td>\n",
       "      <td>...</td>\n",
       "      <td>...</td>\n",
       "      <td>...</td>\n",
       "      <td>...</td>\n",
       "      <td>...</td>\n",
       "      <td>...</td>\n",
       "      <td>...</td>\n",
       "      <td>...</td>\n",
       "      <td>...</td>\n",
       "      <td>...</td>\n",
       "    </tr>\n",
       "    <tr>\n",
       "      <th>595</th>\n",
       "      <td>GBM_ee</td>\n",
       "      <td>0.254974</td>\n",
       "      <td>0.211889</td>\n",
       "      <td>0.281814</td>\n",
       "      <td>0.320791</td>\n",
       "      <td>0.289191</td>\n",
       "      <td>0.093703</td>\n",
       "      <td>0.091886</td>\n",
       "      <td>0.180732</td>\n",
       "      <td>0.281972</td>\n",
       "      <td>50</td>\n",
       "    </tr>\n",
       "    <tr>\n",
       "      <th>596</th>\n",
       "      <td>GLMM</td>\n",
       "      <td>0.262918</td>\n",
       "      <td>0.224184</td>\n",
       "      <td>0.284443</td>\n",
       "      <td>0.330109</td>\n",
       "      <td>0.247297</td>\n",
       "      <td>0.071090</td>\n",
       "      <td>0.070849</td>\n",
       "      <td>0.186307</td>\n",
       "      <td>0.311349</td>\n",
       "      <td>50</td>\n",
       "    </tr>\n",
       "    <tr>\n",
       "      <th>597</th>\n",
       "      <td>GPBoost</td>\n",
       "      <td>0.257569</td>\n",
       "      <td>0.215746</td>\n",
       "      <td>0.289129</td>\n",
       "      <td>0.324203</td>\n",
       "      <td>0.273988</td>\n",
       "      <td>0.073505</td>\n",
       "      <td>0.072638</td>\n",
       "      <td>0.182931</td>\n",
       "      <td>0.297612</td>\n",
       "      <td>50</td>\n",
       "    </tr>\n",
       "    <tr>\n",
       "      <th>598</th>\n",
       "      <td>GLMMNet</td>\n",
       "      <td>0.260193</td>\n",
       "      <td>0.215711</td>\n",
       "      <td>0.298088</td>\n",
       "      <td>0.325079</td>\n",
       "      <td>0.270060</td>\n",
       "      <td>0.070125</td>\n",
       "      <td>0.069822</td>\n",
       "      <td>0.184720</td>\n",
       "      <td>0.324219</td>\n",
       "      <td>50</td>\n",
       "    </tr>\n",
       "    <tr>\n",
       "      <th>599</th>\n",
       "      <td>GLMMNet_l2</td>\n",
       "      <td>0.250639</td>\n",
       "      <td>0.208166</td>\n",
       "      <td>0.278978</td>\n",
       "      <td>0.314432</td>\n",
       "      <td>0.317092</td>\n",
       "      <td>0.071574</td>\n",
       "      <td>0.071360</td>\n",
       "      <td>0.177631</td>\n",
       "      <td>0.266389</td>\n",
       "      <td>50</td>\n",
       "    </tr>\n",
       "  </tbody>\n",
       "</table>\n",
       "<p>600 rows × 11 columns</p>\n",
       "</div>"
      ],
      "text/plain": [
       "              model       MAE     MedAE     MedPE      RMSE        R2  \\\n",
       "0    GLM_ignore_cat  0.263093  0.223305  0.304475  0.329276  0.213444   \n",
       "1       GLM_one_hot  0.258460  0.218490  0.306528  0.324982  0.233825   \n",
       "2      GLM_GLMM_enc  0.257574  0.217387  0.300275  0.323971  0.238587   \n",
       "3    GBM_ignore_cat  0.256045  0.217665  0.299737  0.320876  0.253063   \n",
       "4       GBM_one_hot  0.254784  0.214850  0.296710  0.319545  0.259249   \n",
       "..              ...       ...       ...       ...       ...       ...   \n",
       "595          GBM_ee  0.254974  0.211889  0.281814  0.320791  0.289191   \n",
       "596            GLMM  0.262918  0.224184  0.284443  0.330109  0.247297   \n",
       "597         GPBoost  0.257569  0.215746  0.289129  0.324203  0.273988   \n",
       "598         GLMMNet  0.260193  0.215711  0.298088  0.325079  0.270060   \n",
       "599      GLMMNet_l2  0.250639  0.208166  0.278978  0.314432  0.317092   \n",
       "\n",
       "     RMSE_avg  RMSE_avg_weighted      CRPS       NLL  run  \n",
       "0    0.096269           0.096299  0.185710  0.308081    1  \n",
       "1    0.080485           0.079554  0.183016  0.294954    1  \n",
       "2    0.076170           0.075882  0.182479  0.291837    1  \n",
       "3    0.094102           0.094287  0.180752  0.282239    1  \n",
       "4    0.088123           0.088085  0.179987  0.278081    1  \n",
       "..        ...                ...       ...       ...  ...  \n",
       "595  0.093703           0.091886  0.180732  0.281972   50  \n",
       "596  0.071090           0.070849  0.186307  0.311349   50  \n",
       "597  0.073505           0.072638  0.182931  0.297612   50  \n",
       "598  0.070125           0.069822  0.184720  0.324219   50  \n",
       "599  0.071574           0.071360  0.177631  0.266389   50  \n",
       "\n",
       "[600 rows x 11 columns]"
      ]
     },
     "execution_count": 9,
     "metadata": {},
     "output_type": "execute_result"
    }
   ],
   "source": [
    "results.to_csv(f\"models/experiment_{exp_id}/repeats.csv\", index=False)\n",
    "results"
   ]
  },
  {
   "cell_type": "markdown",
   "metadata": {},
   "source": [
    "## Experiment #6"
   ]
  },
  {
   "cell_type": "code",
   "execution_count": 4,
   "metadata": {},
   "outputs": [],
   "source": [
    "# Configure simulation parameters\n",
    "exp_id = 6                         # experiment id\n",
    "sig2noise = np.array([8, 1, 4])    # relative signal-to-noise of the fixed effects, random effects and irreducible error\n",
    "y_dist = \"gamma\"                   # distribution of the response variable y\n",
    "inverse_link = np.exp              # inverse of the log link\n",
    "cat_dist = \"skewed\"                # distribution of the categorical variable\n",
    "random_seed = 42 + exp_id          # random seed for reproducibility\n",
    "log_plot = True                    # whether to plot the log transformed response and predictions\n",
    "nn_loss = \"mse\"                    # loss function for the neural network (entity embedding model)"
   ]
  },
  {
   "cell_type": "code",
   "execution_count": 6,
   "metadata": {},
   "outputs": [
    {
     "name": "stderr",
     "output_type": "stream",
     "text": [
      "  0%|          | 0/50 [00:00<?, ?it/s]/opt/miniconda3/envs/cat-project/lib/python3.9/site-packages/sklearn/preprocessing/_encoders.py:188: UserWarning: Found unknown categories in columns [0] during transform. These unknown categories will be encoded as all zeros\n",
      "  warnings.warn(\n"
     ]
    },
    {
     "name": "stdout",
     "output_type": "stream",
     "text": [
      "Restoring model weights from the end of the best epoch: 83.\n",
      "Epoch 133: early stopping\n",
      "79/79 [==============================] - 0s 2ms/step\n"
     ]
    },
    {
     "name": "stderr",
     "output_type": "stream",
     "text": [
      "/opt/miniconda3/envs/cat-project/lib/python3.9/site-packages/category_encoders/one_hot.py:145: FutureWarning: iteritems is deprecated and will be removed in a future version. Use .items instead.\n",
      "  for cat_name, class_ in values.iteritems():\n"
     ]
    },
    {
     "name": "stdout",
     "output_type": "stream",
     "text": [
      "Restoring model weights from the end of the best epoch: 62.\n",
      "Epoch 112: early stopping\n"
     ]
    },
    {
     "name": "stderr",
     "output_type": "stream",
     "text": [
      "100%|██████████| 100/100 [00:03<00:00, 29.04it/s]\n"
     ]
    },
    {
     "name": "stdout",
     "output_type": "stream",
     "text": [
      "Restoring model weights from the end of the best epoch: 45.\n",
      "Epoch 95: early stopping\n"
     ]
    },
    {
     "name": "stderr",
     "output_type": "stream",
     "text": [
      "100%|██████████| 100/100 [00:03<00:00, 28.42it/s]\n",
      "  2%|▏         | 1/50 [01:15<1:01:19, 75.09s/it]"
     ]
    },
    {
     "name": "stdout",
     "output_type": "stream",
     "text": [
      "Restoring model weights from the end of the best epoch: 94.\n",
      "Epoch 144: early stopping\n",
      "79/79 [==============================] - 0s 2ms/step\n"
     ]
    },
    {
     "name": "stderr",
     "output_type": "stream",
     "text": [
      "/opt/miniconda3/envs/cat-project/lib/python3.9/site-packages/category_encoders/one_hot.py:145: FutureWarning: iteritems is deprecated and will be removed in a future version. Use .items instead.\n",
      "  for cat_name, class_ in values.iteritems():\n"
     ]
    },
    {
     "name": "stdout",
     "output_type": "stream",
     "text": [
      "Restoring model weights from the end of the best epoch: 32.\n",
      "Epoch 82: early stopping\n"
     ]
    },
    {
     "name": "stderr",
     "output_type": "stream",
     "text": [
      "100%|██████████| 100/100 [00:03<00:00, 28.51it/s]\n"
     ]
    },
    {
     "name": "stdout",
     "output_type": "stream",
     "text": [
      "Restoring model weights from the end of the best epoch: 165.\n",
      "Epoch 215: early stopping\n"
     ]
    },
    {
     "name": "stderr",
     "output_type": "stream",
     "text": [
      "100%|██████████| 100/100 [00:03<00:00, 28.24it/s]\n",
      "  4%|▍         | 2/50 [02:49<1:09:14, 86.55s/it]/opt/miniconda3/envs/cat-project/lib/python3.9/site-packages/sklearn/preprocessing/_encoders.py:188: UserWarning: Found unknown categories in columns [0] during transform. These unknown categories will be encoded as all zeros\n",
      "  warnings.warn(\n"
     ]
    },
    {
     "name": "stdout",
     "output_type": "stream",
     "text": [
      "Restoring model weights from the end of the best epoch: 38.\n",
      "Epoch 88: early stopping\n",
      "79/79 [==============================] - 0s 2ms/step\n"
     ]
    },
    {
     "name": "stderr",
     "output_type": "stream",
     "text": [
      "/opt/miniconda3/envs/cat-project/lib/python3.9/site-packages/category_encoders/one_hot.py:145: FutureWarning: iteritems is deprecated and will be removed in a future version. Use .items instead.\n",
      "  for cat_name, class_ in values.iteritems():\n"
     ]
    },
    {
     "name": "stdout",
     "output_type": "stream",
     "text": [
      "Restoring model weights from the end of the best epoch: 57.\n",
      "Epoch 107: early stopping\n"
     ]
    },
    {
     "name": "stderr",
     "output_type": "stream",
     "text": [
      "100%|██████████| 100/100 [00:03<00:00, 28.13it/s]\n"
     ]
    },
    {
     "name": "stdout",
     "output_type": "stream",
     "text": [
      "Restoring model weights from the end of the best epoch: 361.\n",
      "Epoch 411: early stopping\n"
     ]
    },
    {
     "name": "stderr",
     "output_type": "stream",
     "text": [
      "100%|██████████| 100/100 [00:03<00:00, 27.60it/s]\n",
      "  6%|▌         | 3/50 [05:01<1:24:07, 107.40s/it]/opt/miniconda3/envs/cat-project/lib/python3.9/site-packages/sklearn/preprocessing/_encoders.py:188: UserWarning: Found unknown categories in columns [0] during transform. These unknown categories will be encoded as all zeros\n",
      "  warnings.warn(\n"
     ]
    },
    {
     "name": "stdout",
     "output_type": "stream",
     "text": [
      "Restoring model weights from the end of the best epoch: 91.\n",
      "Epoch 141: early stopping\n",
      "79/79 [==============================] - 0s 2ms/step\n"
     ]
    },
    {
     "name": "stderr",
     "output_type": "stream",
     "text": [
      "/opt/miniconda3/envs/cat-project/lib/python3.9/site-packages/category_encoders/one_hot.py:145: FutureWarning: iteritems is deprecated and will be removed in a future version. Use .items instead.\n",
      "  for cat_name, class_ in values.iteritems():\n"
     ]
    },
    {
     "name": "stdout",
     "output_type": "stream",
     "text": [
      "Restoring model weights from the end of the best epoch: 54.\n",
      "Epoch 104: early stopping\n"
     ]
    },
    {
     "name": "stderr",
     "output_type": "stream",
     "text": [
      "100%|██████████| 100/100 [00:03<00:00, 27.39it/s]\n"
     ]
    },
    {
     "name": "stdout",
     "output_type": "stream",
     "text": [
      "Restoring model weights from the end of the best epoch: 127.\n",
      "Epoch 177: early stopping\n"
     ]
    },
    {
     "name": "stderr",
     "output_type": "stream",
     "text": [
      "100%|██████████| 100/100 [00:03<00:00, 27.86it/s]\n",
      "  8%|▊         | 4/50 [06:33<1:17:36, 101.22s/it]"
     ]
    },
    {
     "name": "stdout",
     "output_type": "stream",
     "text": [
      "Restoring model weights from the end of the best epoch: 42.\n",
      "Epoch 92: early stopping\n",
      "79/79 [==============================] - 0s 2ms/step\n"
     ]
    },
    {
     "name": "stderr",
     "output_type": "stream",
     "text": [
      "/opt/miniconda3/envs/cat-project/lib/python3.9/site-packages/category_encoders/one_hot.py:145: FutureWarning: iteritems is deprecated and will be removed in a future version. Use .items instead.\n",
      "  for cat_name, class_ in values.iteritems():\n"
     ]
    },
    {
     "name": "stdout",
     "output_type": "stream",
     "text": [
      "Restoring model weights from the end of the best epoch: 25.\n",
      "Epoch 75: early stopping\n"
     ]
    },
    {
     "name": "stderr",
     "output_type": "stream",
     "text": [
      "100%|██████████| 100/100 [00:03<00:00, 27.57it/s]\n"
     ]
    },
    {
     "name": "stdout",
     "output_type": "stream",
     "text": [
      "Restoring model weights from the end of the best epoch: 231.\n",
      "Epoch 281: early stopping\n"
     ]
    },
    {
     "name": "stderr",
     "output_type": "stream",
     "text": [
      "100%|██████████| 100/100 [00:03<00:00, 27.82it/s]\n",
      " 10%|█         | 5/50 [08:14<1:15:54, 101.22s/it]/opt/miniconda3/envs/cat-project/lib/python3.9/site-packages/sklearn/preprocessing/_encoders.py:188: UserWarning: Found unknown categories in columns [0] during transform. These unknown categories will be encoded as all zeros\n",
      "  warnings.warn(\n"
     ]
    },
    {
     "name": "stdout",
     "output_type": "stream",
     "text": [
      "Restoring model weights from the end of the best epoch: 80.\n",
      "Epoch 130: early stopping\n",
      "79/79 [==============================] - 0s 2ms/step\n"
     ]
    },
    {
     "name": "stderr",
     "output_type": "stream",
     "text": [
      "/opt/miniconda3/envs/cat-project/lib/python3.9/site-packages/category_encoders/one_hot.py:145: FutureWarning: iteritems is deprecated and will be removed in a future version. Use .items instead.\n",
      "  for cat_name, class_ in values.iteritems():\n"
     ]
    },
    {
     "name": "stdout",
     "output_type": "stream",
     "text": [
      "Restoring model weights from the end of the best epoch: 41.\n",
      "Epoch 91: early stopping\n"
     ]
    },
    {
     "name": "stderr",
     "output_type": "stream",
     "text": [
      "100%|██████████| 100/100 [00:03<00:00, 26.55it/s]\n"
     ]
    },
    {
     "name": "stdout",
     "output_type": "stream",
     "text": [
      "Restoring model weights from the end of the best epoch: 171.\n",
      "Epoch 221: early stopping\n"
     ]
    },
    {
     "name": "stderr",
     "output_type": "stream",
     "text": [
      "100%|██████████| 100/100 [00:03<00:00, 26.22it/s]\n",
      " 12%|█▏        | 6/50 [09:52<1:13:14, 99.87s/it] "
     ]
    },
    {
     "name": "stdout",
     "output_type": "stream",
     "text": [
      "Restoring model weights from the end of the best epoch: 62.\n",
      "Epoch 112: early stopping\n",
      "79/79 [==============================] - 0s 2ms/step\n"
     ]
    },
    {
     "name": "stderr",
     "output_type": "stream",
     "text": [
      "/opt/miniconda3/envs/cat-project/lib/python3.9/site-packages/category_encoders/one_hot.py:145: FutureWarning: iteritems is deprecated and will be removed in a future version. Use .items instead.\n",
      "  for cat_name, class_ in values.iteritems():\n"
     ]
    },
    {
     "name": "stdout",
     "output_type": "stream",
     "text": [
      "Restoring model weights from the end of the best epoch: 62.\n",
      "Epoch 112: early stopping\n"
     ]
    },
    {
     "name": "stderr",
     "output_type": "stream",
     "text": [
      "100%|██████████| 100/100 [00:03<00:00, 26.22it/s]\n",
      "100%|██████████| 100/100 [00:03<00:00, 25.72it/s]\n",
      " 14%|█▍        | 7/50 [12:27<1:24:32, 117.97s/it]"
     ]
    },
    {
     "name": "stdout",
     "output_type": "stream",
     "text": [
      "Restoring model weights from the end of the best epoch: 29.\n",
      "Epoch 79: early stopping\n",
      "79/79 [==============================] - 0s 2ms/step\n"
     ]
    },
    {
     "name": "stderr",
     "output_type": "stream",
     "text": [
      "/opt/miniconda3/envs/cat-project/lib/python3.9/site-packages/category_encoders/one_hot.py:145: FutureWarning: iteritems is deprecated and will be removed in a future version. Use .items instead.\n",
      "  for cat_name, class_ in values.iteritems():\n"
     ]
    },
    {
     "name": "stdout",
     "output_type": "stream",
     "text": [
      "Restoring model weights from the end of the best epoch: 30.\n",
      "Epoch 80: early stopping\n"
     ]
    },
    {
     "name": "stderr",
     "output_type": "stream",
     "text": [
      "100%|██████████| 100/100 [00:03<00:00, 25.74it/s]\n"
     ]
    },
    {
     "name": "stdout",
     "output_type": "stream",
     "text": [
      "Restoring model weights from the end of the best epoch: 219.\n",
      "Epoch 269: early stopping\n"
     ]
    },
    {
     "name": "stderr",
     "output_type": "stream",
     "text": [
      "100%|██████████| 100/100 [00:03<00:00, 25.54it/s]\n",
      " 16%|█▌        | 8/50 [14:07<1:18:33, 112.22s/it]"
     ]
    },
    {
     "name": "stdout",
     "output_type": "stream",
     "text": [
      "Restoring model weights from the end of the best epoch: 39.\n",
      "Epoch 89: early stopping\n",
      "79/79 [==============================] - 0s 2ms/step\n"
     ]
    },
    {
     "name": "stderr",
     "output_type": "stream",
     "text": [
      "/opt/miniconda3/envs/cat-project/lib/python3.9/site-packages/category_encoders/one_hot.py:145: FutureWarning: iteritems is deprecated and will be removed in a future version. Use .items instead.\n",
      "  for cat_name, class_ in values.iteritems():\n"
     ]
    },
    {
     "name": "stdout",
     "output_type": "stream",
     "text": [
      "Restoring model weights from the end of the best epoch: 61.\n",
      "Epoch 111: early stopping\n"
     ]
    },
    {
     "name": "stderr",
     "output_type": "stream",
     "text": [
      "100%|██████████| 100/100 [00:03<00:00, 25.38it/s]\n",
      "100%|██████████| 100/100 [00:03<00:00, 25.31it/s]\n",
      " 18%|█▊        | 9/50 [16:41<1:25:35, 125.25s/it]/opt/miniconda3/envs/cat-project/lib/python3.9/site-packages/sklearn/preprocessing/_encoders.py:188: UserWarning: Found unknown categories in columns [0] during transform. These unknown categories will be encoded as all zeros\n",
      "  warnings.warn(\n"
     ]
    },
    {
     "name": "stdout",
     "output_type": "stream",
     "text": [
      "Restoring model weights from the end of the best epoch: 25.\n",
      "Epoch 75: early stopping\n",
      "79/79 [==============================] - 0s 2ms/step\n"
     ]
    },
    {
     "name": "stderr",
     "output_type": "stream",
     "text": [
      "/opt/miniconda3/envs/cat-project/lib/python3.9/site-packages/category_encoders/one_hot.py:145: FutureWarning: iteritems is deprecated and will be removed in a future version. Use .items instead.\n",
      "  for cat_name, class_ in values.iteritems():\n"
     ]
    },
    {
     "name": "stdout",
     "output_type": "stream",
     "text": [
      "Restoring model weights from the end of the best epoch: 57.\n",
      "Epoch 107: early stopping\n"
     ]
    },
    {
     "name": "stderr",
     "output_type": "stream",
     "text": [
      "100%|██████████| 100/100 [00:03<00:00, 25.35it/s]\n"
     ]
    },
    {
     "name": "stdout",
     "output_type": "stream",
     "text": [
      "Restoring model weights from the end of the best epoch: 258.\n",
      "Epoch 308: early stopping\n"
     ]
    },
    {
     "name": "stderr",
     "output_type": "stream",
     "text": [
      "100%|██████████| 100/100 [00:03<00:00, 25.07it/s]\n",
      " 20%|██        | 10/50 [18:34<1:21:01, 121.54s/it]"
     ]
    },
    {
     "name": "stdout",
     "output_type": "stream",
     "text": [
      "Restoring model weights from the end of the best epoch: 77.\n",
      "Epoch 127: early stopping\n",
      "79/79 [==============================] - 0s 2ms/step\n"
     ]
    },
    {
     "name": "stderr",
     "output_type": "stream",
     "text": [
      "/opt/miniconda3/envs/cat-project/lib/python3.9/site-packages/category_encoders/one_hot.py:145: FutureWarning: iteritems is deprecated and will be removed in a future version. Use .items instead.\n",
      "  for cat_name, class_ in values.iteritems():\n"
     ]
    },
    {
     "name": "stdout",
     "output_type": "stream",
     "text": [
      "Restoring model weights from the end of the best epoch: 51.\n",
      "Epoch 101: early stopping\n"
     ]
    },
    {
     "name": "stderr",
     "output_type": "stream",
     "text": [
      "100%|██████████| 100/100 [00:03<00:00, 25.26it/s]\n"
     ]
    },
    {
     "name": "stdout",
     "output_type": "stream",
     "text": [
      "Restoring model weights from the end of the best epoch: 170.\n",
      "Epoch 220: early stopping\n"
     ]
    },
    {
     "name": "stderr",
     "output_type": "stream",
     "text": [
      "100%|██████████| 100/100 [00:03<00:00, 25.41it/s]\n",
      " 22%|██▏       | 11/50 [20:18<1:15:37, 116.35s/it]"
     ]
    },
    {
     "name": "stdout",
     "output_type": "stream",
     "text": [
      "Restoring model weights from the end of the best epoch: 46.\n",
      "Epoch 96: early stopping\n",
      "79/79 [==============================] - 0s 2ms/step\n"
     ]
    },
    {
     "name": "stderr",
     "output_type": "stream",
     "text": [
      "/opt/miniconda3/envs/cat-project/lib/python3.9/site-packages/category_encoders/one_hot.py:145: FutureWarning: iteritems is deprecated and will be removed in a future version. Use .items instead.\n",
      "  for cat_name, class_ in values.iteritems():\n"
     ]
    },
    {
     "name": "stdout",
     "output_type": "stream",
     "text": [
      "Restoring model weights from the end of the best epoch: 35.\n",
      "Epoch 85: early stopping\n"
     ]
    },
    {
     "name": "stderr",
     "output_type": "stream",
     "text": [
      "100%|██████████| 100/100 [00:03<00:00, 25.52it/s]\n"
     ]
    },
    {
     "name": "stdout",
     "output_type": "stream",
     "text": [
      "Restoring model weights from the end of the best epoch: 396.\n",
      "Epoch 446: early stopping\n"
     ]
    },
    {
     "name": "stderr",
     "output_type": "stream",
     "text": [
      "100%|██████████| 100/100 [00:03<00:00, 25.34it/s]\n",
      " 24%|██▍       | 12/50 [22:37<1:17:56, 123.06s/it]/opt/miniconda3/envs/cat-project/lib/python3.9/site-packages/sklearn/preprocessing/_encoders.py:188: UserWarning: Found unknown categories in columns [0] during transform. These unknown categories will be encoded as all zeros\n",
      "  warnings.warn(\n"
     ]
    },
    {
     "name": "stdout",
     "output_type": "stream",
     "text": [
      "Restoring model weights from the end of the best epoch: 69.\n",
      "Epoch 119: early stopping\n",
      "79/79 [==============================] - 0s 2ms/step\n"
     ]
    },
    {
     "name": "stderr",
     "output_type": "stream",
     "text": [
      "/opt/miniconda3/envs/cat-project/lib/python3.9/site-packages/category_encoders/one_hot.py:145: FutureWarning: iteritems is deprecated and will be removed in a future version. Use .items instead.\n",
      "  for cat_name, class_ in values.iteritems():\n"
     ]
    },
    {
     "name": "stdout",
     "output_type": "stream",
     "text": [
      "Restoring model weights from the end of the best epoch: 49.\n",
      "Epoch 99: early stopping\n"
     ]
    },
    {
     "name": "stderr",
     "output_type": "stream",
     "text": [
      "100%|██████████| 100/100 [00:04<00:00, 23.50it/s]\n"
     ]
    },
    {
     "name": "stdout",
     "output_type": "stream",
     "text": [
      "Restoring model weights from the end of the best epoch: 140.\n",
      "Epoch 190: early stopping\n"
     ]
    },
    {
     "name": "stderr",
     "output_type": "stream",
     "text": [
      "100%|██████████| 100/100 [00:03<00:00, 25.52it/s]\n",
      " 26%|██▌       | 13/50 [24:10<1:10:23, 114.15s/it]/opt/miniconda3/envs/cat-project/lib/python3.9/site-packages/sklearn/preprocessing/_encoders.py:188: UserWarning: Found unknown categories in columns [0] during transform. These unknown categories will be encoded as all zeros\n",
      "  warnings.warn(\n"
     ]
    },
    {
     "name": "stdout",
     "output_type": "stream",
     "text": [
      "Restoring model weights from the end of the best epoch: 63.\n",
      "Epoch 113: early stopping\n",
      "79/79 [==============================] - 0s 2ms/step\n"
     ]
    },
    {
     "name": "stderr",
     "output_type": "stream",
     "text": [
      "/opt/miniconda3/envs/cat-project/lib/python3.9/site-packages/category_encoders/one_hot.py:145: FutureWarning: iteritems is deprecated and will be removed in a future version. Use .items instead.\n",
      "  for cat_name, class_ in values.iteritems():\n"
     ]
    },
    {
     "name": "stdout",
     "output_type": "stream",
     "text": [
      "Restoring model weights from the end of the best epoch: 48.\n",
      "Epoch 98: early stopping\n"
     ]
    },
    {
     "name": "stderr",
     "output_type": "stream",
     "text": [
      "100%|██████████| 100/100 [00:03<00:00, 25.58it/s]\n",
      "100%|██████████| 100/100 [00:04<00:00, 22.98it/s]\n",
      " 28%|██▊       | 14/50 [26:46<1:15:57, 126.59s/it]"
     ]
    },
    {
     "name": "stdout",
     "output_type": "stream",
     "text": [
      "Restoring model weights from the end of the best epoch: 54.\n",
      "Epoch 104: early stopping\n",
      "79/79 [==============================] - 0s 2ms/step\n"
     ]
    },
    {
     "name": "stderr",
     "output_type": "stream",
     "text": [
      "/opt/miniconda3/envs/cat-project/lib/python3.9/site-packages/category_encoders/one_hot.py:145: FutureWarning: iteritems is deprecated and will be removed in a future version. Use .items instead.\n",
      "  for cat_name, class_ in values.iteritems():\n"
     ]
    },
    {
     "name": "stdout",
     "output_type": "stream",
     "text": [
      "Restoring model weights from the end of the best epoch: 62.\n",
      "Epoch 112: early stopping\n"
     ]
    },
    {
     "name": "stderr",
     "output_type": "stream",
     "text": [
      "100%|██████████| 100/100 [00:04<00:00, 22.90it/s]\n",
      "100%|██████████| 100/100 [00:04<00:00, 22.54it/s]\n",
      " 30%|███       | 15/50 [29:23<1:19:13, 135.82s/it]"
     ]
    },
    {
     "name": "stdout",
     "output_type": "stream",
     "text": [
      "Restoring model weights from the end of the best epoch: 48.\n",
      "Epoch 98: early stopping\n",
      "79/79 [==============================] - 0s 2ms/step\n"
     ]
    },
    {
     "name": "stderr",
     "output_type": "stream",
     "text": [
      "/opt/miniconda3/envs/cat-project/lib/python3.9/site-packages/category_encoders/one_hot.py:145: FutureWarning: iteritems is deprecated and will be removed in a future version. Use .items instead.\n",
      "  for cat_name, class_ in values.iteritems():\n"
     ]
    },
    {
     "name": "stdout",
     "output_type": "stream",
     "text": [
      "Restoring model weights from the end of the best epoch: 38.\n",
      "Epoch 88: early stopping\n"
     ]
    },
    {
     "name": "stderr",
     "output_type": "stream",
     "text": [
      "100%|██████████| 100/100 [00:04<00:00, 22.86it/s]\n"
     ]
    },
    {
     "name": "stdout",
     "output_type": "stream",
     "text": [
      "Restoring model weights from the end of the best epoch: 307.\n",
      "Epoch 357: early stopping\n"
     ]
    },
    {
     "name": "stderr",
     "output_type": "stream",
     "text": [
      "100%|██████████| 100/100 [00:04<00:00, 22.61it/s]\n",
      " 32%|███▏      | 16/50 [31:26<1:14:50, 132.06s/it]/opt/miniconda3/envs/cat-project/lib/python3.9/site-packages/sklearn/preprocessing/_encoders.py:188: UserWarning: Found unknown categories in columns [0] during transform. These unknown categories will be encoded as all zeros\n",
      "  warnings.warn(\n"
     ]
    },
    {
     "name": "stdout",
     "output_type": "stream",
     "text": [
      "Restoring model weights from the end of the best epoch: 54.\n",
      "Epoch 104: early stopping\n",
      "79/79 [==============================] - 0s 2ms/step\n"
     ]
    },
    {
     "name": "stderr",
     "output_type": "stream",
     "text": [
      "/opt/miniconda3/envs/cat-project/lib/python3.9/site-packages/category_encoders/one_hot.py:145: FutureWarning: iteritems is deprecated and will be removed in a future version. Use .items instead.\n",
      "  for cat_name, class_ in values.iteritems():\n"
     ]
    },
    {
     "name": "stdout",
     "output_type": "stream",
     "text": [
      "Restoring model weights from the end of the best epoch: 88.\n",
      "Epoch 138: early stopping\n"
     ]
    },
    {
     "name": "stderr",
     "output_type": "stream",
     "text": [
      "100%|██████████| 100/100 [00:04<00:00, 22.39it/s]\n"
     ]
    },
    {
     "name": "stdout",
     "output_type": "stream",
     "text": [
      "Restoring model weights from the end of the best epoch: 73.\n",
      "Epoch 123: early stopping\n"
     ]
    },
    {
     "name": "stderr",
     "output_type": "stream",
     "text": [
      "100%|██████████| 100/100 [00:04<00:00, 22.31it/s]\n",
      " 34%|███▍      | 17/50 [32:53<1:05:10, 118.50s/it]"
     ]
    },
    {
     "name": "stdout",
     "output_type": "stream",
     "text": [
      "Restoring model weights from the end of the best epoch: 44.\n",
      "Epoch 94: early stopping\n",
      "79/79 [==============================] - 0s 2ms/step\n"
     ]
    },
    {
     "name": "stderr",
     "output_type": "stream",
     "text": [
      "/opt/miniconda3/envs/cat-project/lib/python3.9/site-packages/category_encoders/one_hot.py:145: FutureWarning: iteritems is deprecated and will be removed in a future version. Use .items instead.\n",
      "  for cat_name, class_ in values.iteritems():\n"
     ]
    },
    {
     "name": "stdout",
     "output_type": "stream",
     "text": [
      "Restoring model weights from the end of the best epoch: 87.\n",
      "Epoch 137: early stopping\n"
     ]
    },
    {
     "name": "stderr",
     "output_type": "stream",
     "text": [
      "100%|██████████| 100/100 [00:04<00:00, 22.16it/s]\n"
     ]
    },
    {
     "name": "stdout",
     "output_type": "stream",
     "text": [
      "Restoring model weights from the end of the best epoch: 167.\n",
      "Epoch 217: early stopping\n"
     ]
    },
    {
     "name": "stderr",
     "output_type": "stream",
     "text": [
      "100%|██████████| 100/100 [00:04<00:00, 21.91it/s]\n",
      " 36%|███▌      | 18/50 [34:45<1:02:02, 116.33s/it]/opt/miniconda3/envs/cat-project/lib/python3.9/site-packages/sklearn/preprocessing/_encoders.py:188: UserWarning: Found unknown categories in columns [0] during transform. These unknown categories will be encoded as all zeros\n",
      "  warnings.warn(\n"
     ]
    },
    {
     "name": "stdout",
     "output_type": "stream",
     "text": [
      "Restoring model weights from the end of the best epoch: 67.\n",
      "Epoch 117: early stopping\n",
      "79/79 [==============================] - 0s 2ms/step\n"
     ]
    },
    {
     "name": "stderr",
     "output_type": "stream",
     "text": [
      "/opt/miniconda3/envs/cat-project/lib/python3.9/site-packages/category_encoders/one_hot.py:145: FutureWarning: iteritems is deprecated and will be removed in a future version. Use .items instead.\n",
      "  for cat_name, class_ in values.iteritems():\n"
     ]
    },
    {
     "name": "stdout",
     "output_type": "stream",
     "text": [
      "Restoring model weights from the end of the best epoch: 21.\n",
      "Epoch 71: early stopping\n"
     ]
    },
    {
     "name": "stderr",
     "output_type": "stream",
     "text": [
      "100%|██████████| 100/100 [00:04<00:00, 21.98it/s]\n"
     ]
    },
    {
     "name": "stdout",
     "output_type": "stream",
     "text": [
      "Restoring model weights from the end of the best epoch: 129.\n",
      "Epoch 179: early stopping\n"
     ]
    },
    {
     "name": "stderr",
     "output_type": "stream",
     "text": [
      "100%|██████████| 100/100 [00:04<00:00, 21.93it/s]\n",
      " 38%|███▊      | 19/50 [36:14<55:53, 108.19s/it]  "
     ]
    },
    {
     "name": "stdout",
     "output_type": "stream",
     "text": [
      "Restoring model weights from the end of the best epoch: 53.\n",
      "Epoch 103: early stopping\n",
      "79/79 [==============================] - 0s 2ms/step\n"
     ]
    },
    {
     "name": "stderr",
     "output_type": "stream",
     "text": [
      "/opt/miniconda3/envs/cat-project/lib/python3.9/site-packages/category_encoders/one_hot.py:145: FutureWarning: iteritems is deprecated and will be removed in a future version. Use .items instead.\n",
      "  for cat_name, class_ in values.iteritems():\n"
     ]
    },
    {
     "name": "stdout",
     "output_type": "stream",
     "text": [
      "Restoring model weights from the end of the best epoch: 58.\n",
      "Epoch 108: early stopping\n"
     ]
    },
    {
     "name": "stderr",
     "output_type": "stream",
     "text": [
      "100%|██████████| 100/100 [00:04<00:00, 22.01it/s]\n",
      "100%|██████████| 100/100 [00:04<00:00, 21.81it/s]\n",
      " 40%|████      | 20/50 [38:58<1:02:27, 124.91s/it]"
     ]
    },
    {
     "name": "stdout",
     "output_type": "stream",
     "text": [
      "Restoring model weights from the end of the best epoch: 43.\n",
      "Epoch 93: early stopping\n",
      "79/79 [==============================] - 0s 3ms/step\n"
     ]
    },
    {
     "name": "stderr",
     "output_type": "stream",
     "text": [
      "/opt/miniconda3/envs/cat-project/lib/python3.9/site-packages/category_encoders/one_hot.py:145: FutureWarning: iteritems is deprecated and will be removed in a future version. Use .items instead.\n",
      "  for cat_name, class_ in values.iteritems():\n"
     ]
    },
    {
     "name": "stdout",
     "output_type": "stream",
     "text": [
      "Restoring model weights from the end of the best epoch: 51.\n",
      "Epoch 101: early stopping\n"
     ]
    },
    {
     "name": "stderr",
     "output_type": "stream",
     "text": [
      "100%|██████████| 100/100 [00:04<00:00, 21.68it/s]\n"
     ]
    },
    {
     "name": "stdout",
     "output_type": "stream",
     "text": [
      "Restoring model weights from the end of the best epoch: 104.\n",
      "Epoch 154: early stopping\n"
     ]
    },
    {
     "name": "stderr",
     "output_type": "stream",
     "text": [
      "100%|██████████| 100/100 [00:04<00:00, 21.58it/s]\n",
      " 42%|████▏     | 21/50 [40:27<55:14, 114.29s/it]  "
     ]
    },
    {
     "name": "stdout",
     "output_type": "stream",
     "text": [
      "Restoring model weights from the end of the best epoch: 72.\n",
      "Epoch 122: early stopping\n",
      "79/79 [==============================] - 0s 3ms/step\n"
     ]
    },
    {
     "name": "stderr",
     "output_type": "stream",
     "text": [
      "/opt/miniconda3/envs/cat-project/lib/python3.9/site-packages/category_encoders/one_hot.py:145: FutureWarning: iteritems is deprecated and will be removed in a future version. Use .items instead.\n",
      "  for cat_name, class_ in values.iteritems():\n"
     ]
    },
    {
     "name": "stdout",
     "output_type": "stream",
     "text": [
      "Restoring model weights from the end of the best epoch: 77.\n",
      "Epoch 127: early stopping\n"
     ]
    },
    {
     "name": "stderr",
     "output_type": "stream",
     "text": [
      "100%|██████████| 100/100 [00:04<00:00, 21.70it/s]\n"
     ]
    },
    {
     "name": "stdout",
     "output_type": "stream",
     "text": [
      "Restoring model weights from the end of the best epoch: 220.\n",
      "Epoch 270: early stopping\n"
     ]
    },
    {
     "name": "stderr",
     "output_type": "stream",
     "text": [
      "100%|██████████| 100/100 [00:04<00:00, 21.48it/s]\n",
      " 44%|████▍     | 22/50 [42:31<54:39, 117.12s/it]"
     ]
    },
    {
     "name": "stdout",
     "output_type": "stream",
     "text": [
      "Restoring model weights from the end of the best epoch: 56.\n",
      "Epoch 106: early stopping\n",
      "79/79 [==============================] - 0s 3ms/step\n"
     ]
    },
    {
     "name": "stderr",
     "output_type": "stream",
     "text": [
      "/opt/miniconda3/envs/cat-project/lib/python3.9/site-packages/category_encoders/one_hot.py:145: FutureWarning: iteritems is deprecated and will be removed in a future version. Use .items instead.\n",
      "  for cat_name, class_ in values.iteritems():\n"
     ]
    },
    {
     "name": "stdout",
     "output_type": "stream",
     "text": [
      "Restoring model weights from the end of the best epoch: 55.\n",
      "Epoch 105: early stopping\n"
     ]
    },
    {
     "name": "stderr",
     "output_type": "stream",
     "text": [
      "100%|██████████| 100/100 [00:04<00:00, 21.45it/s]\n"
     ]
    },
    {
     "name": "stdout",
     "output_type": "stream",
     "text": [
      "Restoring model weights from the end of the best epoch: 77.\n",
      "Epoch 127: early stopping\n"
     ]
    },
    {
     "name": "stderr",
     "output_type": "stream",
     "text": [
      "100%|██████████| 100/100 [00:04<00:00, 21.59it/s]\n",
      " 46%|████▌     | 23/50 [43:58<48:35, 108.00s/it]"
     ]
    },
    {
     "name": "stdout",
     "output_type": "stream",
     "text": [
      "Restoring model weights from the end of the best epoch: 56.\n",
      "Epoch 106: early stopping\n",
      "79/79 [==============================] - 0s 3ms/step\n"
     ]
    },
    {
     "name": "stderr",
     "output_type": "stream",
     "text": [
      "/opt/miniconda3/envs/cat-project/lib/python3.9/site-packages/category_encoders/one_hot.py:145: FutureWarning: iteritems is deprecated and will be removed in a future version. Use .items instead.\n",
      "  for cat_name, class_ in values.iteritems():\n"
     ]
    },
    {
     "name": "stdout",
     "output_type": "stream",
     "text": [
      "Restoring model weights from the end of the best epoch: 55.\n",
      "Epoch 105: early stopping\n"
     ]
    },
    {
     "name": "stderr",
     "output_type": "stream",
     "text": [
      "100%|██████████| 100/100 [00:04<00:00, 21.62it/s]\n",
      "100%|██████████| 100/100 [00:04<00:00, 21.54it/s]\n",
      " 48%|████▊     | 24/50 [46:42<54:10, 125.02s/it]"
     ]
    },
    {
     "name": "stdout",
     "output_type": "stream",
     "text": [
      "Restoring model weights from the end of the best epoch: 66.\n",
      "Epoch 116: early stopping\n",
      "79/79 [==============================] - 0s 3ms/step\n"
     ]
    },
    {
     "name": "stderr",
     "output_type": "stream",
     "text": [
      "/opt/miniconda3/envs/cat-project/lib/python3.9/site-packages/category_encoders/one_hot.py:145: FutureWarning: iteritems is deprecated and will be removed in a future version. Use .items instead.\n",
      "  for cat_name, class_ in values.iteritems():\n"
     ]
    },
    {
     "name": "stdout",
     "output_type": "stream",
     "text": [
      "Restoring model weights from the end of the best epoch: 44.\n",
      "Epoch 94: early stopping\n"
     ]
    },
    {
     "name": "stderr",
     "output_type": "stream",
     "text": [
      "100%|██████████| 100/100 [00:04<00:00, 21.55it/s]\n"
     ]
    },
    {
     "name": "stdout",
     "output_type": "stream",
     "text": [
      "Restoring model weights from the end of the best epoch: 449.\n",
      "Epoch 499: early stopping\n"
     ]
    },
    {
     "name": "stderr",
     "output_type": "stream",
     "text": [
      "100%|██████████| 100/100 [00:04<00:00, 21.73it/s]\n",
      " 50%|█████     | 25/50 [49:26<56:57, 136.69s/it]"
     ]
    },
    {
     "name": "stdout",
     "output_type": "stream",
     "text": [
      "Restoring model weights from the end of the best epoch: 62.\n",
      "Epoch 112: early stopping\n",
      "79/79 [==============================] - 0s 3ms/step\n"
     ]
    },
    {
     "name": "stderr",
     "output_type": "stream",
     "text": [
      "/opt/miniconda3/envs/cat-project/lib/python3.9/site-packages/category_encoders/one_hot.py:145: FutureWarning: iteritems is deprecated and will be removed in a future version. Use .items instead.\n",
      "  for cat_name, class_ in values.iteritems():\n"
     ]
    },
    {
     "name": "stdout",
     "output_type": "stream",
     "text": [
      "Restoring model weights from the end of the best epoch: 56.\n",
      "Epoch 106: early stopping\n"
     ]
    },
    {
     "name": "stderr",
     "output_type": "stream",
     "text": [
      "100%|██████████| 100/100 [00:04<00:00, 21.54it/s]\n",
      "100%|██████████| 100/100 [00:04<00:00, 21.27it/s]\n",
      " 52%|█████▏    | 26/50 [52:13<58:15, 145.63s/it]/opt/miniconda3/envs/cat-project/lib/python3.9/site-packages/sklearn/preprocessing/_encoders.py:188: UserWarning: Found unknown categories in columns [0] during transform. These unknown categories will be encoded as all zeros\n",
      "  warnings.warn(\n"
     ]
    },
    {
     "name": "stdout",
     "output_type": "stream",
     "text": [
      "Restoring model weights from the end of the best epoch: 79.\n",
      "Epoch 129: early stopping\n",
      "79/79 [==============================] - 0s 3ms/step\n"
     ]
    },
    {
     "name": "stderr",
     "output_type": "stream",
     "text": [
      "/opt/miniconda3/envs/cat-project/lib/python3.9/site-packages/category_encoders/one_hot.py:145: FutureWarning: iteritems is deprecated and will be removed in a future version. Use .items instead.\n",
      "  for cat_name, class_ in values.iteritems():\n"
     ]
    },
    {
     "name": "stdout",
     "output_type": "stream",
     "text": [
      "Restoring model weights from the end of the best epoch: 50.\n",
      "Epoch 100: early stopping\n"
     ]
    },
    {
     "name": "stderr",
     "output_type": "stream",
     "text": [
      "100%|██████████| 100/100 [00:04<00:00, 21.27it/s]\n"
     ]
    },
    {
     "name": "stdout",
     "output_type": "stream",
     "text": [
      "Restoring model weights from the end of the best epoch: 282.\n",
      "Epoch 332: early stopping\n"
     ]
    },
    {
     "name": "stderr",
     "output_type": "stream",
     "text": [
      "100%|██████████| 100/100 [00:04<00:00, 21.58it/s]\n",
      " 54%|█████▍    | 27/50 [54:30<54:53, 143.21s/it]/opt/miniconda3/envs/cat-project/lib/python3.9/site-packages/sklearn/preprocessing/_encoders.py:188: UserWarning: Found unknown categories in columns [0] during transform. These unknown categories will be encoded as all zeros\n",
      "  warnings.warn(\n"
     ]
    },
    {
     "name": "stdout",
     "output_type": "stream",
     "text": [
      "Restoring model weights from the end of the best epoch: 44.\n",
      "Epoch 94: early stopping\n",
      "79/79 [==============================] - 0s 3ms/step\n"
     ]
    },
    {
     "name": "stderr",
     "output_type": "stream",
     "text": [
      "/opt/miniconda3/envs/cat-project/lib/python3.9/site-packages/category_encoders/one_hot.py:145: FutureWarning: iteritems is deprecated and will be removed in a future version. Use .items instead.\n",
      "  for cat_name, class_ in values.iteritems():\n"
     ]
    },
    {
     "name": "stdout",
     "output_type": "stream",
     "text": [
      "Restoring model weights from the end of the best epoch: 28.\n",
      "Epoch 78: early stopping\n"
     ]
    },
    {
     "name": "stderr",
     "output_type": "stream",
     "text": [
      "100%|██████████| 100/100 [00:04<00:00, 21.60it/s]\n"
     ]
    },
    {
     "name": "stdout",
     "output_type": "stream",
     "text": [
      "Restoring model weights from the end of the best epoch: 263.\n",
      "Epoch 313: early stopping\n"
     ]
    },
    {
     "name": "stderr",
     "output_type": "stream",
     "text": [
      "100%|██████████| 100/100 [00:04<00:00, 21.53it/s]\n",
      " 56%|█████▌    | 28/50 [56:31<50:02, 136.48s/it]"
     ]
    },
    {
     "name": "stdout",
     "output_type": "stream",
     "text": [
      "Restoring model weights from the end of the best epoch: 70.\n",
      "Epoch 120: early stopping\n",
      "79/79 [==============================] - 0s 3ms/step\n"
     ]
    },
    {
     "name": "stderr",
     "output_type": "stream",
     "text": [
      "/opt/miniconda3/envs/cat-project/lib/python3.9/site-packages/category_encoders/one_hot.py:145: FutureWarning: iteritems is deprecated and will be removed in a future version. Use .items instead.\n",
      "  for cat_name, class_ in values.iteritems():\n"
     ]
    },
    {
     "name": "stdout",
     "output_type": "stream",
     "text": [
      "Restoring model weights from the end of the best epoch: 40.\n",
      "Epoch 90: early stopping\n"
     ]
    },
    {
     "name": "stderr",
     "output_type": "stream",
     "text": [
      "100%|██████████| 100/100 [00:04<00:00, 21.44it/s]\n",
      "100%|██████████| 100/100 [00:04<00:00, 21.42it/s]\n",
      " 58%|█████▊    | 29/50 [59:19<51:01, 145.79s/it]"
     ]
    },
    {
     "name": "stdout",
     "output_type": "stream",
     "text": [
      "Restoring model weights from the end of the best epoch: 34.\n",
      "Epoch 84: early stopping\n",
      "79/79 [==============================] - 0s 3ms/step\n"
     ]
    },
    {
     "name": "stderr",
     "output_type": "stream",
     "text": [
      "/opt/miniconda3/envs/cat-project/lib/python3.9/site-packages/category_encoders/one_hot.py:145: FutureWarning: iteritems is deprecated and will be removed in a future version. Use .items instead.\n",
      "  for cat_name, class_ in values.iteritems():\n"
     ]
    },
    {
     "name": "stdout",
     "output_type": "stream",
     "text": [
      "Restoring model weights from the end of the best epoch: 89.\n",
      "Epoch 139: early stopping\n"
     ]
    },
    {
     "name": "stderr",
     "output_type": "stream",
     "text": [
      "100%|██████████| 100/100 [00:04<00:00, 21.49it/s]\n",
      "100%|██████████| 100/100 [00:04<00:00, 21.46it/s]\n",
      " 60%|██████    | 30/50 [1:02:11<51:13, 153.66s/it]/opt/miniconda3/envs/cat-project/lib/python3.9/site-packages/sklearn/preprocessing/_encoders.py:188: UserWarning: Found unknown categories in columns [0] during transform. These unknown categories will be encoded as all zeros\n",
      "  warnings.warn(\n"
     ]
    },
    {
     "name": "stdout",
     "output_type": "stream",
     "text": [
      "Restoring model weights from the end of the best epoch: 49.\n",
      "Epoch 99: early stopping\n",
      "79/79 [==============================] - 0s 3ms/step\n"
     ]
    },
    {
     "name": "stderr",
     "output_type": "stream",
     "text": [
      "/opt/miniconda3/envs/cat-project/lib/python3.9/site-packages/category_encoders/one_hot.py:145: FutureWarning: iteritems is deprecated and will be removed in a future version. Use .items instead.\n",
      "  for cat_name, class_ in values.iteritems():\n"
     ]
    },
    {
     "name": "stdout",
     "output_type": "stream",
     "text": [
      "Restoring model weights from the end of the best epoch: 49.\n",
      "Epoch 99: early stopping\n"
     ]
    },
    {
     "name": "stderr",
     "output_type": "stream",
     "text": [
      "100%|██████████| 100/100 [00:04<00:00, 21.52it/s]\n"
     ]
    },
    {
     "name": "stdout",
     "output_type": "stream",
     "text": [
      "Restoring model weights from the end of the best epoch: 129.\n",
      "Epoch 179: early stopping\n"
     ]
    },
    {
     "name": "stderr",
     "output_type": "stream",
     "text": [
      "100%|██████████| 100/100 [00:04<00:00, 21.19it/s]\n",
      " 62%|██████▏   | 31/50 [1:03:49<43:26, 137.19s/it]"
     ]
    },
    {
     "name": "stdout",
     "output_type": "stream",
     "text": [
      "Restoring model weights from the end of the best epoch: 75.\n",
      "Epoch 125: early stopping\n",
      "79/79 [==============================] - 0s 3ms/step\n"
     ]
    },
    {
     "name": "stderr",
     "output_type": "stream",
     "text": [
      "/opt/miniconda3/envs/cat-project/lib/python3.9/site-packages/category_encoders/one_hot.py:145: FutureWarning: iteritems is deprecated and will be removed in a future version. Use .items instead.\n",
      "  for cat_name, class_ in values.iteritems():\n"
     ]
    },
    {
     "name": "stdout",
     "output_type": "stream",
     "text": [
      "Restoring model weights from the end of the best epoch: 73.\n",
      "Epoch 123: early stopping\n"
     ]
    },
    {
     "name": "stderr",
     "output_type": "stream",
     "text": [
      "100%|██████████| 100/100 [00:05<00:00, 17.96it/s]\n",
      "100%|██████████| 100/100 [00:05<00:00, 17.82it/s]\n",
      " 64%|██████▍   | 32/50 [1:06:47<44:49, 149.43s/it]/opt/miniconda3/envs/cat-project/lib/python3.9/site-packages/sklearn/preprocessing/_encoders.py:188: UserWarning: Found unknown categories in columns [0] during transform. These unknown categories will be encoded as all zeros\n",
      "  warnings.warn(\n"
     ]
    },
    {
     "name": "stdout",
     "output_type": "stream",
     "text": [
      "Restoring model weights from the end of the best epoch: 62.\n",
      "Epoch 112: early stopping\n",
      "79/79 [==============================] - 0s 3ms/step\n"
     ]
    },
    {
     "name": "stderr",
     "output_type": "stream",
     "text": [
      "/opt/miniconda3/envs/cat-project/lib/python3.9/site-packages/category_encoders/one_hot.py:145: FutureWarning: iteritems is deprecated and will be removed in a future version. Use .items instead.\n",
      "  for cat_name, class_ in values.iteritems():\n"
     ]
    },
    {
     "name": "stdout",
     "output_type": "stream",
     "text": [
      "Restoring model weights from the end of the best epoch: 68.\n",
      "Epoch 118: early stopping\n"
     ]
    },
    {
     "name": "stderr",
     "output_type": "stream",
     "text": [
      "100%|██████████| 100/100 [00:05<00:00, 17.83it/s]\n",
      "100%|██████████| 100/100 [00:06<00:00, 16.07it/s]\n",
      " 66%|██████▌   | 33/50 [1:09:44<44:37, 157.51s/it]"
     ]
    },
    {
     "name": "stdout",
     "output_type": "stream",
     "text": [
      "Restoring model weights from the end of the best epoch: 54.\n",
      "Epoch 104: early stopping\n",
      "79/79 [==============================] - 0s 3ms/step\n"
     ]
    },
    {
     "name": "stderr",
     "output_type": "stream",
     "text": [
      "/opt/miniconda3/envs/cat-project/lib/python3.9/site-packages/category_encoders/one_hot.py:145: FutureWarning: iteritems is deprecated and will be removed in a future version. Use .items instead.\n",
      "  for cat_name, class_ in values.iteritems():\n"
     ]
    },
    {
     "name": "stdout",
     "output_type": "stream",
     "text": [
      "Restoring model weights from the end of the best epoch: 37.\n",
      "Epoch 87: early stopping\n"
     ]
    },
    {
     "name": "stderr",
     "output_type": "stream",
     "text": [
      "100%|██████████| 100/100 [00:05<00:00, 17.60it/s]\n"
     ]
    },
    {
     "name": "stdout",
     "output_type": "stream",
     "text": [
      "Restoring model weights from the end of the best epoch: 182.\n",
      "Epoch 232: early stopping\n"
     ]
    },
    {
     "name": "stderr",
     "output_type": "stream",
     "text": [
      "100%|██████████| 100/100 [00:05<00:00, 17.43it/s]\n",
      " 68%|██████▊   | 34/50 [1:11:41<38:45, 145.32s/it]/opt/miniconda3/envs/cat-project/lib/python3.9/site-packages/sklearn/preprocessing/_encoders.py:188: UserWarning: Found unknown categories in columns [0] during transform. These unknown categories will be encoded as all zeros\n",
      "  warnings.warn(\n"
     ]
    },
    {
     "name": "stdout",
     "output_type": "stream",
     "text": [
      "Restoring model weights from the end of the best epoch: 73.\n",
      "Epoch 123: early stopping\n",
      "79/79 [==============================] - 0s 3ms/step\n"
     ]
    },
    {
     "name": "stderr",
     "output_type": "stream",
     "text": [
      "/opt/miniconda3/envs/cat-project/lib/python3.9/site-packages/category_encoders/one_hot.py:145: FutureWarning: iteritems is deprecated and will be removed in a future version. Use .items instead.\n",
      "  for cat_name, class_ in values.iteritems():\n"
     ]
    },
    {
     "name": "stdout",
     "output_type": "stream",
     "text": [
      "Restoring model weights from the end of the best epoch: 70.\n",
      "Epoch 120: early stopping\n"
     ]
    },
    {
     "name": "stderr",
     "output_type": "stream",
     "text": [
      "100%|██████████| 100/100 [00:05<00:00, 17.38it/s]\n"
     ]
    },
    {
     "name": "stdout",
     "output_type": "stream",
     "text": [
      "Restoring model weights from the end of the best epoch: 270.\n",
      "Epoch 320: early stopping\n"
     ]
    },
    {
     "name": "stderr",
     "output_type": "stream",
     "text": [
      "100%|██████████| 100/100 [00:05<00:00, 17.00it/s]\n",
      " 70%|███████   | 35/50 [1:14:00<35:52, 143.47s/it]"
     ]
    },
    {
     "name": "stdout",
     "output_type": "stream",
     "text": [
      "Restoring model weights from the end of the best epoch: 100.\n",
      "Epoch 150: early stopping\n",
      "79/79 [==============================] - 0s 3ms/step\n"
     ]
    },
    {
     "name": "stderr",
     "output_type": "stream",
     "text": [
      "/opt/miniconda3/envs/cat-project/lib/python3.9/site-packages/category_encoders/one_hot.py:145: FutureWarning: iteritems is deprecated and will be removed in a future version. Use .items instead.\n",
      "  for cat_name, class_ in values.iteritems():\n"
     ]
    },
    {
     "name": "stdout",
     "output_type": "stream",
     "text": [
      "Restoring model weights from the end of the best epoch: 40.\n",
      "Epoch 90: early stopping\n"
     ]
    },
    {
     "name": "stderr",
     "output_type": "stream",
     "text": [
      "100%|██████████| 100/100 [00:05<00:00, 17.04it/s]\n"
     ]
    },
    {
     "name": "stdout",
     "output_type": "stream",
     "text": [
      "Restoring model weights from the end of the best epoch: 121.\n",
      "Epoch 171: early stopping\n"
     ]
    },
    {
     "name": "stderr",
     "output_type": "stream",
     "text": [
      "100%|██████████| 100/100 [00:05<00:00, 16.76it/s]\n",
      " 72%|███████▏  | 36/50 [1:15:46<30:52, 132.34s/it]/opt/miniconda3/envs/cat-project/lib/python3.9/site-packages/sklearn/preprocessing/_encoders.py:188: UserWarning: Found unknown categories in columns [0] during transform. These unknown categories will be encoded as all zeros\n",
      "  warnings.warn(\n"
     ]
    },
    {
     "name": "stdout",
     "output_type": "stream",
     "text": [
      "Restoring model weights from the end of the best epoch: 51.\n",
      "Epoch 101: early stopping\n",
      "79/79 [==============================] - 0s 3ms/step\n"
     ]
    },
    {
     "name": "stderr",
     "output_type": "stream",
     "text": [
      "/opt/miniconda3/envs/cat-project/lib/python3.9/site-packages/category_encoders/one_hot.py:145: FutureWarning: iteritems is deprecated and will be removed in a future version. Use .items instead.\n",
      "  for cat_name, class_ in values.iteritems():\n"
     ]
    },
    {
     "name": "stdout",
     "output_type": "stream",
     "text": [
      "Restoring model weights from the end of the best epoch: 75.\n",
      "Epoch 125: early stopping\n"
     ]
    },
    {
     "name": "stderr",
     "output_type": "stream",
     "text": [
      "100%|██████████| 100/100 [00:05<00:00, 16.84it/s]\n"
     ]
    },
    {
     "name": "stdout",
     "output_type": "stream",
     "text": [
      "Restoring model weights from the end of the best epoch: 160.\n",
      "Epoch 210: early stopping\n"
     ]
    },
    {
     "name": "stderr",
     "output_type": "stream",
     "text": [
      "100%|██████████| 100/100 [00:06<00:00, 16.57it/s]\n",
      " 74%|███████▍  | 37/50 [1:17:42<27:35, 127.35s/it]"
     ]
    },
    {
     "name": "stdout",
     "output_type": "stream",
     "text": [
      "Restoring model weights from the end of the best epoch: 69.\n",
      "Epoch 119: early stopping\n",
      "79/79 [==============================] - 0s 3ms/step\n"
     ]
    },
    {
     "name": "stderr",
     "output_type": "stream",
     "text": [
      "/opt/miniconda3/envs/cat-project/lib/python3.9/site-packages/category_encoders/one_hot.py:145: FutureWarning: iteritems is deprecated and will be removed in a future version. Use .items instead.\n",
      "  for cat_name, class_ in values.iteritems():\n"
     ]
    },
    {
     "name": "stdout",
     "output_type": "stream",
     "text": [
      "Restoring model weights from the end of the best epoch: 31.\n",
      "Epoch 81: early stopping\n"
     ]
    },
    {
     "name": "stderr",
     "output_type": "stream",
     "text": [
      "100%|██████████| 100/100 [00:05<00:00, 16.72it/s]\n"
     ]
    },
    {
     "name": "stdout",
     "output_type": "stream",
     "text": [
      "Restoring model weights from the end of the best epoch: 100.\n",
      "Epoch 150: early stopping\n"
     ]
    },
    {
     "name": "stderr",
     "output_type": "stream",
     "text": [
      "100%|██████████| 100/100 [00:06<00:00, 16.48it/s]\n",
      " 76%|███████▌  | 38/50 [1:19:25<24:00, 120.08s/it]/opt/miniconda3/envs/cat-project/lib/python3.9/site-packages/sklearn/preprocessing/_encoders.py:188: UserWarning: Found unknown categories in columns [0] during transform. These unknown categories will be encoded as all zeros\n",
      "  warnings.warn(\n"
     ]
    },
    {
     "name": "stdout",
     "output_type": "stream",
     "text": [
      "Restoring model weights from the end of the best epoch: 66.\n",
      "Epoch 116: early stopping\n",
      "79/79 [==============================] - 0s 3ms/step\n"
     ]
    },
    {
     "name": "stderr",
     "output_type": "stream",
     "text": [
      "/opt/miniconda3/envs/cat-project/lib/python3.9/site-packages/category_encoders/one_hot.py:145: FutureWarning: iteritems is deprecated and will be removed in a future version. Use .items instead.\n",
      "  for cat_name, class_ in values.iteritems():\n"
     ]
    },
    {
     "name": "stdout",
     "output_type": "stream",
     "text": [
      "Restoring model weights from the end of the best epoch: 84.\n",
      "Epoch 134: early stopping\n"
     ]
    },
    {
     "name": "stderr",
     "output_type": "stream",
     "text": [
      "100%|██████████| 100/100 [00:06<00:00, 16.53it/s]\n"
     ]
    },
    {
     "name": "stdout",
     "output_type": "stream",
     "text": [
      "Restoring model weights from the end of the best epoch: 110.\n",
      "Epoch 160: early stopping\n"
     ]
    },
    {
     "name": "stderr",
     "output_type": "stream",
     "text": [
      "100%|██████████| 100/100 [00:06<00:00, 16.43it/s]\n",
      " 78%|███████▊  | 39/50 [1:21:15<21:28, 117.18s/it]/opt/miniconda3/envs/cat-project/lib/python3.9/site-packages/sklearn/preprocessing/_encoders.py:188: UserWarning: Found unknown categories in columns [0] during transform. These unknown categories will be encoded as all zeros\n",
      "  warnings.warn(\n"
     ]
    },
    {
     "name": "stdout",
     "output_type": "stream",
     "text": [
      "Restoring model weights from the end of the best epoch: 49.\n",
      "Epoch 99: early stopping\n",
      "79/79 [==============================] - 0s 3ms/step\n"
     ]
    },
    {
     "name": "stderr",
     "output_type": "stream",
     "text": [
      "/opt/miniconda3/envs/cat-project/lib/python3.9/site-packages/category_encoders/one_hot.py:145: FutureWarning: iteritems is deprecated and will be removed in a future version. Use .items instead.\n",
      "  for cat_name, class_ in values.iteritems():\n"
     ]
    },
    {
     "name": "stdout",
     "output_type": "stream",
     "text": [
      "Restoring model weights from the end of the best epoch: 49.\n",
      "Epoch 99: early stopping\n"
     ]
    },
    {
     "name": "stderr",
     "output_type": "stream",
     "text": [
      "100%|██████████| 100/100 [00:06<00:00, 16.32it/s]\n"
     ]
    },
    {
     "name": "stdout",
     "output_type": "stream",
     "text": [
      "Restoring model weights from the end of the best epoch: 206.\n",
      "Epoch 256: early stopping\n"
     ]
    },
    {
     "name": "stderr",
     "output_type": "stream",
     "text": [
      "100%|██████████| 100/100 [00:06<00:00, 16.37it/s]\n",
      " 80%|████████  | 40/50 [1:23:20<19:52, 119.25s/it]/opt/miniconda3/envs/cat-project/lib/python3.9/site-packages/sklearn/preprocessing/_encoders.py:188: UserWarning: Found unknown categories in columns [0] during transform. These unknown categories will be encoded as all zeros\n",
      "  warnings.warn(\n"
     ]
    },
    {
     "name": "stdout",
     "output_type": "stream",
     "text": [
      "Restoring model weights from the end of the best epoch: 56.\n",
      "Epoch 106: early stopping\n",
      "79/79 [==============================] - 0s 3ms/step\n"
     ]
    },
    {
     "name": "stderr",
     "output_type": "stream",
     "text": [
      "/opt/miniconda3/envs/cat-project/lib/python3.9/site-packages/category_encoders/one_hot.py:145: FutureWarning: iteritems is deprecated and will be removed in a future version. Use .items instead.\n",
      "  for cat_name, class_ in values.iteritems():\n"
     ]
    },
    {
     "name": "stdout",
     "output_type": "stream",
     "text": [
      "Restoring model weights from the end of the best epoch: 53.\n",
      "Epoch 103: early stopping\n"
     ]
    },
    {
     "name": "stderr",
     "output_type": "stream",
     "text": [
      "100%|██████████| 100/100 [00:06<00:00, 16.32it/s]\n"
     ]
    },
    {
     "name": "stdout",
     "output_type": "stream",
     "text": [
      "Restoring model weights from the end of the best epoch: 247.\n",
      "Epoch 297: early stopping\n"
     ]
    },
    {
     "name": "stderr",
     "output_type": "stream",
     "text": [
      "100%|██████████| 100/100 [00:06<00:00, 15.97it/s]\n",
      " 82%|████████▏ | 41/50 [1:25:35<18:37, 124.13s/it]/opt/miniconda3/envs/cat-project/lib/python3.9/site-packages/sklearn/preprocessing/_encoders.py:188: UserWarning: Found unknown categories in columns [0] during transform. These unknown categories will be encoded as all zeros\n",
      "  warnings.warn(\n"
     ]
    },
    {
     "name": "stdout",
     "output_type": "stream",
     "text": [
      "Restoring model weights from the end of the best epoch: 49.\n",
      "Epoch 99: early stopping\n",
      "79/79 [==============================] - 0s 3ms/step\n"
     ]
    },
    {
     "name": "stderr",
     "output_type": "stream",
     "text": [
      "/opt/miniconda3/envs/cat-project/lib/python3.9/site-packages/category_encoders/one_hot.py:145: FutureWarning: iteritems is deprecated and will be removed in a future version. Use .items instead.\n",
      "  for cat_name, class_ in values.iteritems():\n"
     ]
    },
    {
     "name": "stdout",
     "output_type": "stream",
     "text": [
      "Restoring model weights from the end of the best epoch: 53.\n",
      "Epoch 103: early stopping\n"
     ]
    },
    {
     "name": "stderr",
     "output_type": "stream",
     "text": [
      "100%|██████████| 100/100 [00:06<00:00, 15.88it/s]\n"
     ]
    },
    {
     "name": "stdout",
     "output_type": "stream",
     "text": [
      "Restoring model weights from the end of the best epoch: 192.\n",
      "Epoch 242: early stopping\n"
     ]
    },
    {
     "name": "stderr",
     "output_type": "stream",
     "text": [
      "100%|██████████| 100/100 [00:06<00:00, 15.96it/s]\n",
      " 84%|████████▍ | 42/50 [1:27:38<16:31, 123.88s/it]"
     ]
    },
    {
     "name": "stdout",
     "output_type": "stream",
     "text": [
      "Restoring model weights from the end of the best epoch: 98.\n",
      "Epoch 148: early stopping\n",
      "79/79 [==============================] - 0s 3ms/step\n"
     ]
    },
    {
     "name": "stderr",
     "output_type": "stream",
     "text": [
      "/opt/miniconda3/envs/cat-project/lib/python3.9/site-packages/category_encoders/one_hot.py:145: FutureWarning: iteritems is deprecated and will be removed in a future version. Use .items instead.\n",
      "  for cat_name, class_ in values.iteritems():\n"
     ]
    },
    {
     "name": "stdout",
     "output_type": "stream",
     "text": [
      "Restoring model weights from the end of the best epoch: 46.\n",
      "Epoch 96: early stopping\n"
     ]
    },
    {
     "name": "stderr",
     "output_type": "stream",
     "text": [
      "100%|██████████| 100/100 [00:06<00:00, 15.91it/s]\n",
      "100%|██████████| 100/100 [00:06<00:00, 15.72it/s]\n",
      " 86%|████████▌ | 43/50 [1:30:44<16:36, 142.30s/it]"
     ]
    },
    {
     "name": "stdout",
     "output_type": "stream",
     "text": [
      "Restoring model weights from the end of the best epoch: 54.\n",
      "Epoch 104: early stopping\n",
      "79/79 [==============================] - 0s 3ms/step\n"
     ]
    },
    {
     "name": "stderr",
     "output_type": "stream",
     "text": [
      "/opt/miniconda3/envs/cat-project/lib/python3.9/site-packages/category_encoders/one_hot.py:145: FutureWarning: iteritems is deprecated and will be removed in a future version. Use .items instead.\n",
      "  for cat_name, class_ in values.iteritems():\n"
     ]
    },
    {
     "name": "stdout",
     "output_type": "stream",
     "text": [
      "Restoring model weights from the end of the best epoch: 38.\n",
      "Epoch 88: early stopping\n"
     ]
    },
    {
     "name": "stderr",
     "output_type": "stream",
     "text": [
      "100%|██████████| 100/100 [00:06<00:00, 15.91it/s]\n",
      "100%|██████████| 100/100 [00:06<00:00, 15.73it/s]\n",
      " 88%|████████▊ | 44/50 [1:33:41<15:16, 152.69s/it]"
     ]
    },
    {
     "name": "stdout",
     "output_type": "stream",
     "text": [
      "Restoring model weights from the end of the best epoch: 77.\n",
      "Epoch 127: early stopping\n",
      "79/79 [==============================] - 0s 3ms/step\n"
     ]
    },
    {
     "name": "stderr",
     "output_type": "stream",
     "text": [
      "/opt/miniconda3/envs/cat-project/lib/python3.9/site-packages/category_encoders/one_hot.py:145: FutureWarning: iteritems is deprecated and will be removed in a future version. Use .items instead.\n",
      "  for cat_name, class_ in values.iteritems():\n"
     ]
    },
    {
     "name": "stdout",
     "output_type": "stream",
     "text": [
      "Restoring model weights from the end of the best epoch: 50.\n",
      "Epoch 100: early stopping\n"
     ]
    },
    {
     "name": "stderr",
     "output_type": "stream",
     "text": [
      "100%|██████████| 100/100 [00:06<00:00, 15.82it/s]\n"
     ]
    },
    {
     "name": "stdout",
     "output_type": "stream",
     "text": [
      "Restoring model weights from the end of the best epoch: 269.\n",
      "Epoch 319: early stopping\n"
     ]
    },
    {
     "name": "stderr",
     "output_type": "stream",
     "text": [
      "100%|██████████| 100/100 [00:06<00:00, 15.61it/s]\n",
      " 90%|█████████ | 45/50 [1:36:04<12:29, 149.99s/it]/opt/miniconda3/envs/cat-project/lib/python3.9/site-packages/sklearn/preprocessing/_encoders.py:188: UserWarning: Found unknown categories in columns [0] during transform. These unknown categories will be encoded as all zeros\n",
      "  warnings.warn(\n"
     ]
    },
    {
     "name": "stdout",
     "output_type": "stream",
     "text": [
      "Restoring model weights from the end of the best epoch: 76.\n",
      "Epoch 126: early stopping\n",
      "79/79 [==============================] - 0s 3ms/step\n"
     ]
    },
    {
     "name": "stderr",
     "output_type": "stream",
     "text": [
      "/opt/miniconda3/envs/cat-project/lib/python3.9/site-packages/category_encoders/one_hot.py:145: FutureWarning: iteritems is deprecated and will be removed in a future version. Use .items instead.\n",
      "  for cat_name, class_ in values.iteritems():\n"
     ]
    },
    {
     "name": "stdout",
     "output_type": "stream",
     "text": [
      "Restoring model weights from the end of the best epoch: 93.\n",
      "Epoch 143: early stopping\n"
     ]
    },
    {
     "name": "stderr",
     "output_type": "stream",
     "text": [
      "100%|██████████| 100/100 [00:06<00:00, 15.65it/s]\n"
     ]
    },
    {
     "name": "stdout",
     "output_type": "stream",
     "text": [
      "Restoring model weights from the end of the best epoch: 250.\n",
      "Epoch 300: early stopping\n"
     ]
    },
    {
     "name": "stderr",
     "output_type": "stream",
     "text": [
      "100%|██████████| 100/100 [00:06<00:00, 15.63it/s]\n",
      " 92%|█████████▏| 46/50 [1:38:33<09:58, 149.54s/it]"
     ]
    },
    {
     "name": "stdout",
     "output_type": "stream",
     "text": [
      "Restoring model weights from the end of the best epoch: 87.\n",
      "Epoch 137: early stopping\n",
      "79/79 [==============================] - 0s 3ms/step\n"
     ]
    },
    {
     "name": "stderr",
     "output_type": "stream",
     "text": [
      "/opt/miniconda3/envs/cat-project/lib/python3.9/site-packages/category_encoders/one_hot.py:145: FutureWarning: iteritems is deprecated and will be removed in a future version. Use .items instead.\n",
      "  for cat_name, class_ in values.iteritems():\n"
     ]
    },
    {
     "name": "stdout",
     "output_type": "stream",
     "text": [
      "Restoring model weights from the end of the best epoch: 44.\n",
      "Epoch 94: early stopping\n"
     ]
    },
    {
     "name": "stderr",
     "output_type": "stream",
     "text": [
      "100%|██████████| 100/100 [00:06<00:00, 15.65it/s]\n"
     ]
    },
    {
     "name": "stdout",
     "output_type": "stream",
     "text": [
      "Restoring model weights from the end of the best epoch: 131.\n",
      "Epoch 181: early stopping\n"
     ]
    },
    {
     "name": "stderr",
     "output_type": "stream",
     "text": [
      "100%|██████████| 100/100 [00:06<00:00, 15.62it/s]\n",
      " 94%|█████████▍| 47/50 [1:40:27<06:56, 138.92s/it]/opt/miniconda3/envs/cat-project/lib/python3.9/site-packages/sklearn/preprocessing/_encoders.py:188: UserWarning: Found unknown categories in columns [0] during transform. These unknown categories will be encoded as all zeros\n",
      "  warnings.warn(\n"
     ]
    },
    {
     "name": "stdout",
     "output_type": "stream",
     "text": [
      "Restoring model weights from the end of the best epoch: 66.\n",
      "Epoch 116: early stopping\n",
      "79/79 [==============================] - 0s 3ms/step\n"
     ]
    },
    {
     "name": "stderr",
     "output_type": "stream",
     "text": [
      "/opt/miniconda3/envs/cat-project/lib/python3.9/site-packages/category_encoders/one_hot.py:145: FutureWarning: iteritems is deprecated and will be removed in a future version. Use .items instead.\n",
      "  for cat_name, class_ in values.iteritems():\n"
     ]
    },
    {
     "name": "stdout",
     "output_type": "stream",
     "text": [
      "Restoring model weights from the end of the best epoch: 55.\n",
      "Epoch 105: early stopping\n"
     ]
    },
    {
     "name": "stderr",
     "output_type": "stream",
     "text": [
      "100%|██████████| 100/100 [00:06<00:00, 15.52it/s]\n"
     ]
    },
    {
     "name": "stdout",
     "output_type": "stream",
     "text": [
      "Restoring model weights from the end of the best epoch: 237.\n",
      "Epoch 287: early stopping\n"
     ]
    },
    {
     "name": "stderr",
     "output_type": "stream",
     "text": [
      "100%|██████████| 100/100 [00:06<00:00, 15.46it/s]\n",
      " 96%|█████████▌| 48/50 [1:42:44<04:36, 138.30s/it]/opt/miniconda3/envs/cat-project/lib/python3.9/site-packages/sklearn/preprocessing/_encoders.py:188: UserWarning: Found unknown categories in columns [0] during transform. These unknown categories will be encoded as all zeros\n",
      "  warnings.warn(\n"
     ]
    },
    {
     "name": "stdout",
     "output_type": "stream",
     "text": [
      "Restoring model weights from the end of the best epoch: 63.\n",
      "Epoch 113: early stopping\n",
      "79/79 [==============================] - 0s 3ms/step\n"
     ]
    },
    {
     "name": "stderr",
     "output_type": "stream",
     "text": [
      "/opt/miniconda3/envs/cat-project/lib/python3.9/site-packages/category_encoders/one_hot.py:145: FutureWarning: iteritems is deprecated and will be removed in a future version. Use .items instead.\n",
      "  for cat_name, class_ in values.iteritems():\n"
     ]
    },
    {
     "name": "stdout",
     "output_type": "stream",
     "text": [
      "Restoring model weights from the end of the best epoch: 29.\n",
      "Epoch 79: early stopping\n"
     ]
    },
    {
     "name": "stderr",
     "output_type": "stream",
     "text": [
      "100%|██████████| 100/100 [00:06<00:00, 15.49it/s]\n"
     ]
    },
    {
     "name": "stdout",
     "output_type": "stream",
     "text": [
      "Restoring model weights from the end of the best epoch: 118.\n",
      "Epoch 168: early stopping\n"
     ]
    },
    {
     "name": "stderr",
     "output_type": "stream",
     "text": [
      "100%|██████████| 100/100 [00:06<00:00, 15.33it/s]\n",
      " 98%|█████████▊| 49/50 [1:44:35<02:10, 130.09s/it]"
     ]
    },
    {
     "name": "stdout",
     "output_type": "stream",
     "text": [
      "Restoring model weights from the end of the best epoch: 75.\n",
      "Epoch 125: early stopping\n",
      "79/79 [==============================] - 0s 3ms/step\n"
     ]
    },
    {
     "name": "stderr",
     "output_type": "stream",
     "text": [
      "/opt/miniconda3/envs/cat-project/lib/python3.9/site-packages/category_encoders/one_hot.py:145: FutureWarning: iteritems is deprecated and will be removed in a future version. Use .items instead.\n",
      "  for cat_name, class_ in values.iteritems():\n"
     ]
    },
    {
     "name": "stdout",
     "output_type": "stream",
     "text": [
      "Restoring model weights from the end of the best epoch: 42.\n",
      "Epoch 92: early stopping\n"
     ]
    },
    {
     "name": "stderr",
     "output_type": "stream",
     "text": [
      "100%|██████████| 100/100 [00:06<00:00, 15.26it/s]\n"
     ]
    },
    {
     "name": "stdout",
     "output_type": "stream",
     "text": [
      "Restoring model weights from the end of the best epoch: 258.\n",
      "Epoch 308: early stopping\n"
     ]
    },
    {
     "name": "stderr",
     "output_type": "stream",
     "text": [
      "100%|██████████| 100/100 [00:07<00:00, 14.25it/s]\n",
      "100%|██████████| 50/50 [1:46:57<00:00, 128.35s/it]\n"
     ]
    }
   ],
   "source": [
    "repeats = 50\n",
    "results = pd.DataFrame()\n",
    "for i in tqdm(range(repeats)):\n",
    "    # Generate data\n",
    "    sim_data = generate_data(\n",
    "        exp_id=exp_id, n_train=n_train, n_test=n_test, n_categories=n_categories,\n",
    "        f_structure=f_structure, signal_to_noise=sig2noise, y_dist=y_dist,\n",
    "        inverse_link=inverse_link, cat_dist=cat_dist, random_state=random_seed + i,\n",
    "        overwrite=\"auto\", suffix=f\"_{i + 1:02d}\"\n",
    "    )\n",
    "    # Run simulation experiment\n",
    "    result = run_sim_experiment_light(\n",
    "        exp_id=exp_id, sim_data=sim_data, y_dist=y_dist, random_state=random_seed + i, suffix=f\"_{i + 1:02d}\")\n",
    "    # Add run number to result\n",
    "    result = pd.DataFrame(result).transpose().rename_axis(\"model\").reset_index()\n",
    "    results = pd.concat([results, result.assign(run=i + 1)], ignore_index=True)"
   ]
  },
  {
   "cell_type": "code",
   "execution_count": 7,
   "metadata": {},
   "outputs": [
    {
     "data": {
      "text/html": [
       "<div>\n",
       "<style scoped>\n",
       "    .dataframe tbody tr th:only-of-type {\n",
       "        vertical-align: middle;\n",
       "    }\n",
       "\n",
       "    .dataframe tbody tr th {\n",
       "        vertical-align: top;\n",
       "    }\n",
       "\n",
       "    .dataframe thead th {\n",
       "        text-align: right;\n",
       "    }\n",
       "</style>\n",
       "<table border=\"1\" class=\"dataframe\">\n",
       "  <thead>\n",
       "    <tr style=\"text-align: right;\">\n",
       "      <th></th>\n",
       "      <th>model</th>\n",
       "      <th>MAE</th>\n",
       "      <th>MedAE</th>\n",
       "      <th>MedPE</th>\n",
       "      <th>RMSE</th>\n",
       "      <th>R2</th>\n",
       "      <th>RMSE_avg</th>\n",
       "      <th>RMSE_avg_weighted</th>\n",
       "      <th>CRPS</th>\n",
       "      <th>run</th>\n",
       "    </tr>\n",
       "  </thead>\n",
       "  <tbody>\n",
       "    <tr>\n",
       "      <th>0</th>\n",
       "      <td>GLM_ignore_cat</td>\n",
       "      <td>0.524268</td>\n",
       "      <td>0.424084</td>\n",
       "      <td>0.240462</td>\n",
       "      <td>0.685843</td>\n",
       "      <td>0.214298</td>\n",
       "      <td>0.308125</td>\n",
       "      <td>0.236561</td>\n",
       "      <td>0.368676</td>\n",
       "      <td>1</td>\n",
       "    </tr>\n",
       "    <tr>\n",
       "      <th>1</th>\n",
       "      <td>GLM_one_hot</td>\n",
       "      <td>0.508098</td>\n",
       "      <td>0.408757</td>\n",
       "      <td>0.226429</td>\n",
       "      <td>0.664887</td>\n",
       "      <td>0.261579</td>\n",
       "      <td>0.260227</td>\n",
       "      <td>0.175296</td>\n",
       "      <td>0.357846</td>\n",
       "      <td>1</td>\n",
       "    </tr>\n",
       "    <tr>\n",
       "      <th>2</th>\n",
       "      <td>GLM_GLMM_enc</td>\n",
       "      <td>0.510608</td>\n",
       "      <td>0.406771</td>\n",
       "      <td>0.227674</td>\n",
       "      <td>0.666921</td>\n",
       "      <td>0.257055</td>\n",
       "      <td>0.261890</td>\n",
       "      <td>0.182584</td>\n",
       "      <td>0.358759</td>\n",
       "      <td>1</td>\n",
       "    </tr>\n",
       "    <tr>\n",
       "      <th>3</th>\n",
       "      <td>GBM_ignore_cat</td>\n",
       "      <td>0.506666</td>\n",
       "      <td>0.413511</td>\n",
       "      <td>0.225420</td>\n",
       "      <td>0.664046</td>\n",
       "      <td>0.263445</td>\n",
       "      <td>0.305070</td>\n",
       "      <td>0.236883</td>\n",
       "      <td>0.356961</td>\n",
       "      <td>1</td>\n",
       "    </tr>\n",
       "    <tr>\n",
       "      <th>4</th>\n",
       "      <td>GBM_one_hot</td>\n",
       "      <td>0.503840</td>\n",
       "      <td>0.411108</td>\n",
       "      <td>0.224763</td>\n",
       "      <td>0.659791</td>\n",
       "      <td>0.272856</td>\n",
       "      <td>0.292693</td>\n",
       "      <td>0.215196</td>\n",
       "      <td>0.354485</td>\n",
       "      <td>1</td>\n",
       "    </tr>\n",
       "    <tr>\n",
       "      <th>...</th>\n",
       "      <td>...</td>\n",
       "      <td>...</td>\n",
       "      <td>...</td>\n",
       "      <td>...</td>\n",
       "      <td>...</td>\n",
       "      <td>...</td>\n",
       "      <td>...</td>\n",
       "      <td>...</td>\n",
       "      <td>...</td>\n",
       "      <td>...</td>\n",
       "    </tr>\n",
       "    <tr>\n",
       "      <th>595</th>\n",
       "      <td>GBM_ee</td>\n",
       "      <td>0.490159</td>\n",
       "      <td>0.392490</td>\n",
       "      <td>0.214934</td>\n",
       "      <td>0.640225</td>\n",
       "      <td>0.281099</td>\n",
       "      <td>0.246501</td>\n",
       "      <td>0.178619</td>\n",
       "      <td>0.348261</td>\n",
       "      <td>50</td>\n",
       "    </tr>\n",
       "    <tr>\n",
       "      <th>596</th>\n",
       "      <td>GLMM</td>\n",
       "      <td>0.501463</td>\n",
       "      <td>0.408377</td>\n",
       "      <td>0.219908</td>\n",
       "      <td>0.652502</td>\n",
       "      <td>0.253262</td>\n",
       "      <td>0.227638</td>\n",
       "      <td>0.151016</td>\n",
       "      <td>0.355508</td>\n",
       "      <td>50</td>\n",
       "    </tr>\n",
       "    <tr>\n",
       "      <th>597</th>\n",
       "      <td>GPBoost</td>\n",
       "      <td>0.493189</td>\n",
       "      <td>0.398584</td>\n",
       "      <td>0.216200</td>\n",
       "      <td>0.642439</td>\n",
       "      <td>0.276119</td>\n",
       "      <td>0.251743</td>\n",
       "      <td>0.189427</td>\n",
       "      <td>0.350188</td>\n",
       "      <td>50</td>\n",
       "    </tr>\n",
       "    <tr>\n",
       "      <th>598</th>\n",
       "      <td>GLMMNet</td>\n",
       "      <td>0.489801</td>\n",
       "      <td>0.394210</td>\n",
       "      <td>0.215271</td>\n",
       "      <td>0.638876</td>\n",
       "      <td>0.284125</td>\n",
       "      <td>0.230113</td>\n",
       "      <td>0.144842</td>\n",
       "      <td>0.347441</td>\n",
       "      <td>50</td>\n",
       "    </tr>\n",
       "    <tr>\n",
       "      <th>599</th>\n",
       "      <td>GLMMNet_dropout</td>\n",
       "      <td>0.487207</td>\n",
       "      <td>0.385798</td>\n",
       "      <td>0.211356</td>\n",
       "      <td>0.643863</td>\n",
       "      <td>0.272906</td>\n",
       "      <td>0.252980</td>\n",
       "      <td>0.185282</td>\n",
       "      <td>0.351193</td>\n",
       "      <td>50</td>\n",
       "    </tr>\n",
       "  </tbody>\n",
       "</table>\n",
       "<p>600 rows × 10 columns</p>\n",
       "</div>"
      ],
      "text/plain": [
       "               model       MAE     MedAE     MedPE      RMSE        R2  \\\n",
       "0     GLM_ignore_cat  0.524268  0.424084  0.240462  0.685843  0.214298   \n",
       "1        GLM_one_hot  0.508098  0.408757  0.226429  0.664887  0.261579   \n",
       "2       GLM_GLMM_enc  0.510608  0.406771  0.227674  0.666921  0.257055   \n",
       "3     GBM_ignore_cat  0.506666  0.413511  0.225420  0.664046  0.263445   \n",
       "4        GBM_one_hot  0.503840  0.411108  0.224763  0.659791  0.272856   \n",
       "..               ...       ...       ...       ...       ...       ...   \n",
       "595           GBM_ee  0.490159  0.392490  0.214934  0.640225  0.281099   \n",
       "596             GLMM  0.501463  0.408377  0.219908  0.652502  0.253262   \n",
       "597          GPBoost  0.493189  0.398584  0.216200  0.642439  0.276119   \n",
       "598          GLMMNet  0.489801  0.394210  0.215271  0.638876  0.284125   \n",
       "599  GLMMNet_dropout  0.487207  0.385798  0.211356  0.643863  0.272906   \n",
       "\n",
       "     RMSE_avg  RMSE_avg_weighted      CRPS  run  \n",
       "0    0.308125           0.236561  0.368676    1  \n",
       "1    0.260227           0.175296  0.357846    1  \n",
       "2    0.261890           0.182584  0.358759    1  \n",
       "3    0.305070           0.236883  0.356961    1  \n",
       "4    0.292693           0.215196  0.354485    1  \n",
       "..        ...                ...       ...  ...  \n",
       "595  0.246501           0.178619  0.348261   50  \n",
       "596  0.227638           0.151016  0.355508   50  \n",
       "597  0.251743           0.189427  0.350188   50  \n",
       "598  0.230113           0.144842  0.347441   50  \n",
       "599  0.252980           0.185282  0.351193   50  \n",
       "\n",
       "[600 rows x 10 columns]"
      ]
     },
     "execution_count": 7,
     "metadata": {},
     "output_type": "execute_result"
    }
   ],
   "source": [
    "results.to_csv(f\"models/experiment_{exp_id}/repeats.csv\", index=False)\n",
    "results"
   ]
  }
 ],
 "metadata": {
  "kernelspec": {
   "display_name": "Python 3.9.13 ('cat-project')",
   "language": "python",
   "name": "python3"
  },
  "language_info": {
   "codemirror_mode": {
    "name": "ipython",
    "version": 3
   },
   "file_extension": ".py",
   "mimetype": "text/x-python",
   "name": "python",
   "nbconvert_exporter": "python",
   "pygments_lexer": "ipython3",
   "version": "3.9.13"
  },
  "orig_nbformat": 4,
  "vscode": {
   "interpreter": {
    "hash": "4c9fce7e68d956dc0e59a17fbd3bba5a26e026959d0164da36baf326c848e906"
   }
  }
 },
 "nbformat": 4,
 "nbformat_minor": 2
}
