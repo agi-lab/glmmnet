{
 "cells": [
  {
   "cell_type": "markdown",
   "id": "1a656b03-a93a-4a17-afed-abd98b8f6ca2",
   "metadata": {},
   "source": [
    "# Hyperparameter tuning on simulated datasets\n",
    "\n",
    "Random hyperparameter search using k-fold validation on the models NN_ee, GPBoost, GLMMNet and GLMMNet_l2."
   ]
  },
  {
   "cell_type": "code",
   "execution_count": 2,
   "id": "e62960eb",
   "metadata": {},
   "outputs": [],
   "source": [
    "k = 16 # number of folds for k-fold validation\n",
    "n_search = 5 # number of hyperparameter sets to search in random grid search\n",
    "n_prediction_samples = 100 # number of prediction samples for GLMMNet"
   ]
  },
  {
   "cell_type": "code",
   "execution_count": 3,
   "id": "bb6ad7ef-71ac-4ce8-a192-4de8f02240ae",
   "metadata": {},
   "outputs": [],
   "source": [
    "import warnings\n",
    "import numpy as np\n",
    "import pandas as pd\n",
    "import os\n",
    "from k_fold_sim import (\n",
    "    GLMMNet_hyperparameter_tuning_k_fold,\n",
    "    NN_ee_hyperparameter_tuning_k_fold, \n",
    "    get_train_test_scores_glmmnet, \n",
    "    get_train_test_scores_nn_ee)\n",
    "\n",
    "import warnings\n",
    "warnings.filterwarnings(\"ignore\")"
   ]
  },
  {
   "cell_type": "code",
   "execution_count": 4,
   "id": "06b9ad49-d8d6-444a-a158-354b95248c3d",
   "metadata": {},
   "outputs": [],
   "source": [
    "train_scores_dict= {}\n",
    "test_scores_dict = {}\n",
    "top_hyperparameters_dict = {}"
   ]
  },
  {
   "cell_type": "code",
   "execution_count": 5,
   "id": "16862617",
   "metadata": {},
   "outputs": [
    {
     "name": "stdout",
     "output_type": "stream",
     "text": [
      "Folder 'k_fold_results' already exists.\n"
     ]
    }
   ],
   "source": [
    "## create folder for results\n",
    "folder_name = 'k_fold_results'\n",
    "if not os.path.exists(folder_name):\n",
    "    os.makedirs(folder_name)\n",
    "    print(f\"Folder '{folder_name}' created.\")\n",
    "else:\n",
    "    print(f\"Folder '{folder_name}' already exists.\")"
   ]
  },
  {
   "cell_type": "code",
   "execution_count": 24,
   "id": "05360ce2",
   "metadata": {},
   "outputs": [
    {
     "name": "stdout",
     "output_type": "stream",
     "text": [
      "Folder 'experiment_1' already exists.\n",
      "Folder 'experiment_2' already exists.\n",
      "Folder 'experiment_3' already exists.\n",
      "Folder 'experiment_4' already exists.\n",
      "Folder 'experiment_5' already exists.\n",
      "Folder 'experiment_6' already exists.\n",
      "Folder 'experiment_7' already exists.\n",
      "Folder 'experiment_8' already exists.\n",
      "Folder 'experiment_9' already exists.\n"
     ]
    }
   ],
   "source": [
    "## create experiment folders for results\n",
    "os.chdir('k_fold_results')\n",
    "for exp_id in range(1,10):\n",
    "    folder_name = f'experiment_{exp_id}'\n",
    "    if not os.path.exists(folder_name):\n",
    "        os.makedirs(folder_name)\n",
    "        print(f\"Folder '{folder_name}' created.\")\n",
    "    else:\n",
    "        print(f\"Folder '{folder_name}' already exists.\")\n",
    "os.chdir('../')"
   ]
  },
  {
   "cell_type": "code",
   "execution_count": 26,
   "id": "0feb00f3",
   "metadata": {},
   "outputs": [],
   "source": [
    "## Experiment configuration"
   ]
  },
  {
   "cell_type": "code",
   "execution_count": 25,
   "id": "cf21d02c",
   "metadata": {},
   "outputs": [
    {
     "data": {
      "text/html": [
       "<div>\n",
       "<style scoped>\n",
       "    .dataframe tbody tr th:only-of-type {\n",
       "        vertical-align: middle;\n",
       "    }\n",
       "\n",
       "    .dataframe tbody tr th {\n",
       "        vertical-align: top;\n",
       "    }\n",
       "\n",
       "    .dataframe thead th {\n",
       "        text-align: right;\n",
       "    }\n",
       "</style>\n",
       "<table border=\"1\" class=\"dataframe\">\n",
       "  <thead>\n",
       "    <tr style=\"text-align: right;\">\n",
       "      <th></th>\n",
       "      <th>f_structure</th>\n",
       "      <th>sig2noise</th>\n",
       "      <th>y_dist</th>\n",
       "      <th>inverse_link</th>\n",
       "      <th>cat_dist</th>\n",
       "      <th>random_seed</th>\n",
       "      <th>log_plot</th>\n",
       "      <th>nn_loss</th>\n",
       "    </tr>\n",
       "    <tr>\n",
       "      <th>exp_id</th>\n",
       "      <th></th>\n",
       "      <th></th>\n",
       "      <th></th>\n",
       "      <th></th>\n",
       "      <th></th>\n",
       "      <th></th>\n",
       "      <th></th>\n",
       "      <th></th>\n",
       "    </tr>\n",
       "  </thead>\n",
       "  <tbody>\n",
       "    <tr>\n",
       "      <th>1</th>\n",
       "      <td>friedman1</td>\n",
       "      <td>[4 1 1]</td>\n",
       "      <td>gaussian</td>\n",
       "      <td>&lt;function &lt;lambda&gt; at 0x7fe8e01b0af0&gt;</td>\n",
       "      <td>balanced</td>\n",
       "      <td>42</td>\n",
       "      <td>False</td>\n",
       "      <td>mse</td>\n",
       "    </tr>\n",
       "    <tr>\n",
       "      <th>2</th>\n",
       "      <td>friedman1</td>\n",
       "      <td>[4 1 1]</td>\n",
       "      <td>gamma</td>\n",
       "      <td>&lt;ufunc 'exp'&gt;</td>\n",
       "      <td>balanced</td>\n",
       "      <td>44</td>\n",
       "      <td>True</td>\n",
       "      <td>mse</td>\n",
       "    </tr>\n",
       "    <tr>\n",
       "      <th>3</th>\n",
       "      <td>friedman1</td>\n",
       "      <td>[4 1 1]</td>\n",
       "      <td>gaussian</td>\n",
       "      <td>&lt;function &lt;lambda&gt; at 0x7fe8e01b0940&gt;</td>\n",
       "      <td>skewed</td>\n",
       "      <td>45</td>\n",
       "      <td>False</td>\n",
       "      <td>mse</td>\n",
       "    </tr>\n",
       "    <tr>\n",
       "      <th>4</th>\n",
       "      <td>friedman1</td>\n",
       "      <td>[4 1 2]</td>\n",
       "      <td>gaussian</td>\n",
       "      <td>&lt;function &lt;lambda&gt; at 0x7fe8e04ab790&gt;</td>\n",
       "      <td>balanced</td>\n",
       "      <td>46</td>\n",
       "      <td>True</td>\n",
       "      <td>mse</td>\n",
       "    </tr>\n",
       "    <tr>\n",
       "      <th>5</th>\n",
       "      <td>friedman1</td>\n",
       "      <td>[8 1 4]</td>\n",
       "      <td>gaussian</td>\n",
       "      <td>&lt;function &lt;lambda&gt; at 0x7fe8e04ab670&gt;</td>\n",
       "      <td>balanced</td>\n",
       "      <td>47</td>\n",
       "      <td>True</td>\n",
       "      <td>mse</td>\n",
       "    </tr>\n",
       "    <tr>\n",
       "      <th>6</th>\n",
       "      <td>friedman1</td>\n",
       "      <td>[8 1 4]</td>\n",
       "      <td>gamma</td>\n",
       "      <td>&lt;ufunc 'exp'&gt;</td>\n",
       "      <td>skewed</td>\n",
       "      <td>48</td>\n",
       "      <td>True</td>\n",
       "      <td>mse</td>\n",
       "    </tr>\n",
       "    <tr>\n",
       "      <th>7</th>\n",
       "      <td>friedman1</td>\n",
       "      <td>[8 1 4]</td>\n",
       "      <td>gaussian</td>\n",
       "      <td>&lt;function &lt;lambda&gt; at 0x7fe8e04ab5e0&gt;</td>\n",
       "      <td>skewed</td>\n",
       "      <td>49</td>\n",
       "      <td>True</td>\n",
       "      <td>mse</td>\n",
       "    </tr>\n",
       "    <tr>\n",
       "      <th>8</th>\n",
       "      <td>friedman1</td>\n",
       "      <td>[8 1 6]</td>\n",
       "      <td>gamma</td>\n",
       "      <td>&lt;ufunc 'exp'&gt;</td>\n",
       "      <td>skewed</td>\n",
       "      <td>50</td>\n",
       "      <td>True</td>\n",
       "      <td>mse</td>\n",
       "    </tr>\n",
       "    <tr>\n",
       "      <th>9</th>\n",
       "      <td>friedman1</td>\n",
       "      <td>[8 1 6]</td>\n",
       "      <td>gaussian</td>\n",
       "      <td>&lt;function &lt;lambda&gt; at 0x7fe8e04ab8b0&gt;</td>\n",
       "      <td>skewed</td>\n",
       "      <td>51</td>\n",
       "      <td>True</td>\n",
       "      <td>mse</td>\n",
       "    </tr>\n",
       "  </tbody>\n",
       "</table>\n",
       "</div>"
      ],
      "text/plain": [
       "       f_structure sig2noise    y_dist                           inverse_link  \\\n",
       "exp_id                                                                          \n",
       "1        friedman1   [4 1 1]  gaussian  <function <lambda> at 0x7fe8e01b0af0>   \n",
       "2        friedman1   [4 1 1]     gamma                          <ufunc 'exp'>   \n",
       "3        friedman1   [4 1 1]  gaussian  <function <lambda> at 0x7fe8e01b0940>   \n",
       "4        friedman1   [4 1 2]  gaussian  <function <lambda> at 0x7fe8e04ab790>   \n",
       "5        friedman1   [8 1 4]  gaussian  <function <lambda> at 0x7fe8e04ab670>   \n",
       "6        friedman1   [8 1 4]     gamma                          <ufunc 'exp'>   \n",
       "7        friedman1   [8 1 4]  gaussian  <function <lambda> at 0x7fe8e04ab5e0>   \n",
       "8        friedman1   [8 1 6]     gamma                          <ufunc 'exp'>   \n",
       "9        friedman1   [8 1 6]  gaussian  <function <lambda> at 0x7fe8e04ab8b0>   \n",
       "\n",
       "        cat_dist  random_seed  log_plot nn_loss  \n",
       "exp_id                                           \n",
       "1       balanced           42     False     mse  \n",
       "2       balanced           44      True     mse  \n",
       "3         skewed           45     False     mse  \n",
       "4       balanced           46      True     mse  \n",
       "5       balanced           47      True     mse  \n",
       "6         skewed           48      True     mse  \n",
       "7         skewed           49      True     mse  \n",
       "8         skewed           50      True     mse  \n",
       "9         skewed           51      True     mse  "
      ]
     },
     "metadata": {},
     "output_type": "display_data"
    }
   ],
   "source": [
    "try:\n",
    "    exp_config = pd.read_csv('experiment_config.csv', index_col = \"exp_id\")\n",
    "    display(exp_config)\n",
    "except: \n",
    "    print(\"Change folder to contain experiment_config.csv\")\n"
   ]
  },
  {
   "cell_type": "markdown",
   "id": "34cb44fa",
   "metadata": {},
   "source": [
    "### Select Experiment"
   ]
  },
  {
   "cell_type": "code",
   "execution_count": 27,
   "id": "58b19b9d",
   "metadata": {},
   "outputs": [],
   "source": [
    "exp_id = 1\n"
   ]
  },
  {
   "cell_type": "code",
   "execution_count": 28,
   "id": "6623e6d1",
   "metadata": {},
   "outputs": [
    {
     "name": "stdout",
     "output_type": "stream",
     "text": [
      "Experiment 1\n",
      "y_dist: gaussian\n",
      "Hyperparameter search: 5\n",
      "Prediction Samples: 100\n"
     ]
    }
   ],
   "source": [
    "y_dist = exp_config.loc[exp_id].y_dist\n",
    "print(f\"Experiment {exp_id}\\ny_dist: {y_dist}\\nHyperparameter search: {n_search}\\nPrediction Samples: {n_prediction_samples}\")"
   ]
  },
  {
   "cell_type": "code",
   "execution_count": 30,
   "id": "59670b59",
   "metadata": {},
   "outputs": [
    {
     "name": "stdout",
     "output_type": "stream",
     "text": [
      "Folder 'GLMMNet' already exists.\n",
      "Folder 'GLMMNet_l2' already exists.\n",
      "Folder 'NN_ee' already exists.\n",
      "Folder 'GPBoost' already exists.\n",
      "Folder 'GLMMNet' already exists.\n",
      "Folder 'GLMMNet_l2' already exists.\n",
      "Folder 'NN_ee' already exists.\n",
      "Folder 'GPBoost' already exists.\n",
      "Folder 'GLMMNet' already exists.\n",
      "Folder 'GLMMNet_l2' already exists.\n",
      "Folder 'NN_ee' already exists.\n",
      "Folder 'GPBoost' already exists.\n",
      "Folder 'GLMMNet' already exists.\n",
      "Folder 'GLMMNet_l2' already exists.\n",
      "Folder 'NN_ee' already exists.\n",
      "Folder 'GPBoost' already exists.\n",
      "Folder 'GLMMNet' already exists.\n",
      "Folder 'GLMMNet_l2' already exists.\n",
      "Folder 'NN_ee' already exists.\n",
      "Folder 'GPBoost' already exists.\n",
      "Folder 'GLMMNet' already exists.\n",
      "Folder 'GLMMNet_l2' already exists.\n",
      "Folder 'NN_ee' already exists.\n",
      "Folder 'GPBoost' already exists.\n",
      "Folder 'GLMMNet' already exists.\n",
      "Folder 'GLMMNet_l2' already exists.\n",
      "Folder 'NN_ee' already exists.\n",
      "Folder 'GPBoost' already exists.\n",
      "Folder 'GLMMNet' already exists.\n",
      "Folder 'GLMMNet_l2' already exists.\n",
      "Folder 'NN_ee' already exists.\n",
      "Folder 'GPBoost' already exists.\n",
      "Folder 'GLMMNet' already exists.\n",
      "Folder 'GLMMNet_l2' already exists.\n",
      "Folder 'NN_ee' already exists.\n",
      "Folder 'GPBoost' already exists.\n"
     ]
    }
   ],
   "source": [
    "## create folders for model results\n",
    "model_names = ['GLMMNet', 'GLMMNet_l2', \"NN_ee\", \"GPBoost\"]\n",
    "for exp_id in range(1,10):\n",
    "    os.chdir(f'k_fold_results/experiment_{exp_id}')\n",
    "    for model in model_names:\n",
    "        folder_name = model\n",
    "        if not os.path.exists(folder_name):\n",
    "            os.makedirs(folder_name)\n",
    "            print(f\"Folder '{folder_name}' created.\")\n",
    "        else:\n",
    "            print(f\"Folder '{folder_name}' already exists.\")\n",
    "    os.chdir(\"../../\")"
   ]
  },
  {
   "cell_type": "markdown",
   "id": "ade141a3-d876-46c7-be24-2cb2050a247a",
   "metadata": {},
   "source": [
    "### GLMMNet"
   ]
  },
  {
   "cell_type": "code",
   "execution_count": 31,
   "id": "78743a53",
   "metadata": {},
   "outputs": [],
   "source": [
    "## check if in correct directory\n",
    "if 'data' not in os.listdir():\n",
    "    print('Change directory to ''simulation''')"
   ]
  },
  {
   "cell_type": "code",
   "execution_count": 10,
   "id": "cce6b0dd-7ab1-4d9b-8527-ee8fcf46ad0d",
   "metadata": {},
   "outputs": [],
   "source": [
    "regularizer = False\n",
    "cluster_type = None\n",
    "model_name = 'GLMMNet'"
   ]
  },
  {
   "cell_type": "code",
   "execution_count": 11,
   "id": "9ab551af",
   "metadata": {},
   "outputs": [
    {
     "name": "stdout",
     "output_type": "stream",
     "text": [
      "{'learning_rate': 0.01, 'l2_regularization_factor': 0.01, 'n_layers': 3, 'hidden_units': [64, 32, 16]}\n",
      "trying parameter search 1 / 5\n",
      "k-fold validation 1/16\n"
     ]
    },
    {
     "name": "stderr",
     "output_type": "stream",
     "text": [
      "2023-10-12 13:39:23.384650: I metal_plugin/src/device/metal_device.cc:1154] Metal device set to: Apple M1 Max\n",
      "2023-10-12 13:39:23.384685: I metal_plugin/src/device/metal_device.cc:296] systemMemory: 32.00 GB\n",
      "2023-10-12 13:39:23.384692: I metal_plugin/src/device/metal_device.cc:313] maxCacheSize: 10.67 GB\n",
      "2023-10-12 13:39:23.384725: I tensorflow/core/common_runtime/pluggable_device/pluggable_device_factory.cc:306] Could not identify NUMA node of platform GPU ID 0, defaulting to 0. Your kernel may not have been built with NUMA support.\n",
      "2023-10-12 13:39:23.384741: I tensorflow/core/common_runtime/pluggable_device/pluggable_device_factory.cc:272] Created TensorFlow device (/job:localhost/replica:0/task:0/device:GPU:0 with 0 MB memory) -> physical PluggableDevice (device: 0, name: METAL, pci bus id: <undefined>)\n",
      "2023-10-12 13:39:24.864687: I tensorflow/core/grappler/optimizers/custom_graph_optimizer_registry.cc:117] Plugin optimizer for device_type GPU is enabled.\n",
      "100%|██████████| 100/100 [00:11<00:00,  8.57it/s]\n"
     ]
    },
    {
     "name": "stdout",
     "output_type": "stream",
     "text": [
      "k-fold validation 2/16\n"
     ]
    },
    {
     "name": "stderr",
     "output_type": "stream",
     "text": [
      "100%|██████████| 100/100 [00:11<00:00,  8.62it/s]\n"
     ]
    },
    {
     "name": "stdout",
     "output_type": "stream",
     "text": [
      "k-fold validation 3/16\n"
     ]
    },
    {
     "name": "stderr",
     "output_type": "stream",
     "text": [
      "100%|██████████| 100/100 [00:11<00:00,  8.52it/s]\n"
     ]
    },
    {
     "name": "stdout",
     "output_type": "stream",
     "text": [
      "k-fold validation 4/16\n"
     ]
    },
    {
     "name": "stderr",
     "output_type": "stream",
     "text": [
      "100%|██████████| 100/100 [00:11<00:00,  8.51it/s]\n"
     ]
    },
    {
     "name": "stdout",
     "output_type": "stream",
     "text": [
      "k-fold validation 5/16\n"
     ]
    },
    {
     "name": "stderr",
     "output_type": "stream",
     "text": [
      "100%|██████████| 100/100 [00:11<00:00,  8.47it/s]\n"
     ]
    },
    {
     "name": "stdout",
     "output_type": "stream",
     "text": [
      "k-fold validation 6/16\n"
     ]
    },
    {
     "name": "stderr",
     "output_type": "stream",
     "text": [
      "100%|██████████| 100/100 [00:12<00:00,  8.32it/s]\n"
     ]
    },
    {
     "name": "stdout",
     "output_type": "stream",
     "text": [
      "k-fold validation 7/16\n"
     ]
    },
    {
     "name": "stderr",
     "output_type": "stream",
     "text": [
      "100%|██████████| 100/100 [00:12<00:00,  8.29it/s]\n"
     ]
    },
    {
     "name": "stdout",
     "output_type": "stream",
     "text": [
      "k-fold validation 8/16\n"
     ]
    },
    {
     "name": "stderr",
     "output_type": "stream",
     "text": [
      "100%|██████████| 100/100 [00:12<00:00,  7.95it/s]\n"
     ]
    },
    {
     "name": "stdout",
     "output_type": "stream",
     "text": [
      "k-fold validation 9/16\n"
     ]
    },
    {
     "name": "stderr",
     "output_type": "stream",
     "text": [
      "100%|██████████| 100/100 [00:12<00:00,  7.87it/s]\n"
     ]
    },
    {
     "name": "stdout",
     "output_type": "stream",
     "text": [
      "k-fold validation 10/16\n"
     ]
    },
    {
     "name": "stderr",
     "output_type": "stream",
     "text": [
      "100%|██████████| 100/100 [00:12<00:00,  7.76it/s]\n"
     ]
    },
    {
     "name": "stdout",
     "output_type": "stream",
     "text": [
      "k-fold validation 11/16\n"
     ]
    },
    {
     "name": "stderr",
     "output_type": "stream",
     "text": [
      "100%|██████████| 100/100 [00:12<00:00,  7.80it/s]\n"
     ]
    },
    {
     "name": "stdout",
     "output_type": "stream",
     "text": [
      "k-fold validation 12/16\n"
     ]
    },
    {
     "name": "stderr",
     "output_type": "stream",
     "text": [
      "100%|██████████| 100/100 [00:12<00:00,  7.71it/s]\n"
     ]
    },
    {
     "name": "stdout",
     "output_type": "stream",
     "text": [
      "k-fold validation 13/16\n"
     ]
    },
    {
     "name": "stderr",
     "output_type": "stream",
     "text": [
      "100%|██████████| 100/100 [00:13<00:00,  7.53it/s]\n"
     ]
    },
    {
     "name": "stdout",
     "output_type": "stream",
     "text": [
      "k-fold validation 14/16\n"
     ]
    },
    {
     "name": "stderr",
     "output_type": "stream",
     "text": [
      "100%|██████████| 100/100 [00:12<00:00,  7.70it/s]\n"
     ]
    },
    {
     "name": "stdout",
     "output_type": "stream",
     "text": [
      "k-fold validation 15/16\n"
     ]
    },
    {
     "name": "stderr",
     "output_type": "stream",
     "text": [
      "100%|██████████| 100/100 [00:13<00:00,  7.58it/s]\n"
     ]
    },
    {
     "name": "stdout",
     "output_type": "stream",
     "text": [
      "k-fold validation 16/16\n"
     ]
    },
    {
     "name": "stderr",
     "output_type": "stream",
     "text": [
      "100%|██████████| 100/100 [00:12<00:00,  7.73it/s]\n"
     ]
    },
    {
     "name": "stdout",
     "output_type": "stream",
     "text": [
      "{'learning_rate': 0.1, 'l2_regularization_factor': 0.01, 'n_layers': 2, 'hidden_units': [16, 256]}\n",
      "trying parameter search 2 / 5\n",
      "k-fold validation 1/16\n"
     ]
    },
    {
     "name": "stderr",
     "output_type": "stream",
     "text": [
      "100%|██████████| 100/100 [00:13<00:00,  7.53it/s]\n"
     ]
    },
    {
     "name": "stdout",
     "output_type": "stream",
     "text": [
      "k-fold validation 2/16\n"
     ]
    },
    {
     "name": "stderr",
     "output_type": "stream",
     "text": [
      "100%|██████████| 100/100 [00:13<00:00,  7.66it/s]\n"
     ]
    },
    {
     "name": "stdout",
     "output_type": "stream",
     "text": [
      "k-fold validation 3/16\n"
     ]
    },
    {
     "name": "stderr",
     "output_type": "stream",
     "text": [
      "100%|██████████| 100/100 [00:12<00:00,  7.72it/s]\n"
     ]
    },
    {
     "name": "stdout",
     "output_type": "stream",
     "text": [
      "k-fold validation 4/16\n"
     ]
    },
    {
     "name": "stderr",
     "output_type": "stream",
     "text": [
      "100%|██████████| 100/100 [00:12<00:00,  7.77it/s]\n"
     ]
    },
    {
     "name": "stdout",
     "output_type": "stream",
     "text": [
      "k-fold validation 5/16\n"
     ]
    },
    {
     "name": "stderr",
     "output_type": "stream",
     "text": [
      "100%|██████████| 100/100 [00:12<00:00,  7.78it/s]\n"
     ]
    },
    {
     "name": "stdout",
     "output_type": "stream",
     "text": [
      "k-fold validation 6/16\n"
     ]
    },
    {
     "name": "stderr",
     "output_type": "stream",
     "text": [
      "100%|██████████| 100/100 [00:12<00:00,  7.80it/s]\n"
     ]
    },
    {
     "name": "stdout",
     "output_type": "stream",
     "text": [
      "k-fold validation 7/16\n"
     ]
    },
    {
     "name": "stderr",
     "output_type": "stream",
     "text": [
      "100%|██████████| 100/100 [00:12<00:00,  7.71it/s]\n"
     ]
    },
    {
     "name": "stdout",
     "output_type": "stream",
     "text": [
      "k-fold validation 8/16\n"
     ]
    },
    {
     "name": "stderr",
     "output_type": "stream",
     "text": [
      "100%|██████████| 100/100 [00:14<00:00,  7.00it/s]\n"
     ]
    },
    {
     "name": "stdout",
     "output_type": "stream",
     "text": [
      "k-fold validation 9/16\n"
     ]
    },
    {
     "name": "stderr",
     "output_type": "stream",
     "text": [
      "100%|██████████| 100/100 [00:14<00:00,  7.00it/s]\n"
     ]
    },
    {
     "name": "stdout",
     "output_type": "stream",
     "text": [
      "k-fold validation 10/16\n"
     ]
    },
    {
     "name": "stderr",
     "output_type": "stream",
     "text": [
      "100%|██████████| 100/100 [00:14<00:00,  6.90it/s]\n"
     ]
    },
    {
     "name": "stdout",
     "output_type": "stream",
     "text": [
      "k-fold validation 11/16\n"
     ]
    },
    {
     "name": "stderr",
     "output_type": "stream",
     "text": [
      "100%|██████████| 100/100 [00:14<00:00,  6.91it/s]\n"
     ]
    },
    {
     "name": "stdout",
     "output_type": "stream",
     "text": [
      "k-fold validation 12/16\n"
     ]
    },
    {
     "name": "stderr",
     "output_type": "stream",
     "text": [
      "100%|██████████| 100/100 [00:14<00:00,  6.85it/s]\n"
     ]
    },
    {
     "name": "stdout",
     "output_type": "stream",
     "text": [
      "k-fold validation 13/16\n"
     ]
    },
    {
     "name": "stderr",
     "output_type": "stream",
     "text": [
      "100%|██████████| 100/100 [00:14<00:00,  6.78it/s]\n"
     ]
    },
    {
     "name": "stdout",
     "output_type": "stream",
     "text": [
      "k-fold validation 14/16\n"
     ]
    },
    {
     "name": "stderr",
     "output_type": "stream",
     "text": [
      "100%|██████████| 100/100 [00:14<00:00,  6.76it/s]\n"
     ]
    },
    {
     "name": "stdout",
     "output_type": "stream",
     "text": [
      "k-fold validation 15/16\n"
     ]
    },
    {
     "name": "stderr",
     "output_type": "stream",
     "text": [
      "100%|██████████| 100/100 [00:14<00:00,  6.78it/s]\n"
     ]
    },
    {
     "name": "stdout",
     "output_type": "stream",
     "text": [
      "k-fold validation 16/16\n"
     ]
    },
    {
     "name": "stderr",
     "output_type": "stream",
     "text": [
      "100%|██████████| 100/100 [00:14<00:00,  6.83it/s]\n"
     ]
    },
    {
     "name": "stdout",
     "output_type": "stream",
     "text": [
      "{'learning_rate': 0.010000000000000002, 'l2_regularization_factor': 0.01, 'n_layers': 3, 'hidden_units': [16, 64, 64]}\n",
      "trying parameter search 3 / 5\n",
      "k-fold validation 1/16\n"
     ]
    },
    {
     "name": "stderr",
     "output_type": "stream",
     "text": [
      "100%|██████████| 100/100 [00:15<00:00,  6.66it/s]\n"
     ]
    },
    {
     "name": "stdout",
     "output_type": "stream",
     "text": [
      "k-fold validation 2/16\n"
     ]
    },
    {
     "name": "stderr",
     "output_type": "stream",
     "text": [
      "100%|██████████| 100/100 [00:14<00:00,  6.73it/s]\n"
     ]
    },
    {
     "name": "stdout",
     "output_type": "stream",
     "text": [
      "k-fold validation 3/16\n"
     ]
    },
    {
     "name": "stderr",
     "output_type": "stream",
     "text": [
      "100%|██████████| 100/100 [00:14<00:00,  6.70it/s]\n"
     ]
    },
    {
     "name": "stdout",
     "output_type": "stream",
     "text": [
      "k-fold validation 4/16\n"
     ]
    },
    {
     "name": "stderr",
     "output_type": "stream",
     "text": [
      "100%|██████████| 100/100 [00:14<00:00,  6.69it/s]\n"
     ]
    },
    {
     "name": "stdout",
     "output_type": "stream",
     "text": [
      "k-fold validation 5/16\n"
     ]
    },
    {
     "name": "stderr",
     "output_type": "stream",
     "text": [
      "100%|██████████| 100/100 [00:14<00:00,  6.68it/s]\n"
     ]
    },
    {
     "name": "stdout",
     "output_type": "stream",
     "text": [
      "k-fold validation 6/16\n"
     ]
    },
    {
     "name": "stderr",
     "output_type": "stream",
     "text": [
      "100%|██████████| 100/100 [00:15<00:00,  6.65it/s]\n"
     ]
    },
    {
     "name": "stdout",
     "output_type": "stream",
     "text": [
      "k-fold validation 7/16\n"
     ]
    },
    {
     "name": "stderr",
     "output_type": "stream",
     "text": [
      "100%|██████████| 100/100 [00:15<00:00,  6.61it/s]\n"
     ]
    },
    {
     "name": "stdout",
     "output_type": "stream",
     "text": [
      "k-fold validation 8/16\n"
     ]
    },
    {
     "name": "stderr",
     "output_type": "stream",
     "text": [
      "100%|██████████| 100/100 [00:14<00:00,  6.68it/s]\n"
     ]
    },
    {
     "name": "stdout",
     "output_type": "stream",
     "text": [
      "k-fold validation 9/16\n"
     ]
    },
    {
     "name": "stderr",
     "output_type": "stream",
     "text": [
      "100%|██████████| 100/100 [00:14<00:00,  6.68it/s]\n"
     ]
    },
    {
     "name": "stdout",
     "output_type": "stream",
     "text": [
      "k-fold validation 10/16\n"
     ]
    },
    {
     "name": "stderr",
     "output_type": "stream",
     "text": [
      "100%|██████████| 100/100 [00:15<00:00,  6.60it/s]\n"
     ]
    },
    {
     "name": "stdout",
     "output_type": "stream",
     "text": [
      "k-fold validation 11/16\n"
     ]
    },
    {
     "name": "stderr",
     "output_type": "stream",
     "text": [
      "100%|██████████| 100/100 [00:14<00:00,  6.71it/s]\n"
     ]
    },
    {
     "name": "stdout",
     "output_type": "stream",
     "text": [
      "k-fold validation 12/16\n"
     ]
    },
    {
     "name": "stderr",
     "output_type": "stream",
     "text": [
      "100%|██████████| 100/100 [00:14<00:00,  6.67it/s]\n"
     ]
    },
    {
     "name": "stdout",
     "output_type": "stream",
     "text": [
      "k-fold validation 13/16\n"
     ]
    },
    {
     "name": "stderr",
     "output_type": "stream",
     "text": [
      "100%|██████████| 100/100 [00:15<00:00,  6.52it/s]\n"
     ]
    },
    {
     "name": "stdout",
     "output_type": "stream",
     "text": [
      "k-fold validation 14/16\n"
     ]
    },
    {
     "name": "stderr",
     "output_type": "stream",
     "text": [
      "100%|██████████| 100/100 [00:15<00:00,  6.65it/s]\n"
     ]
    },
    {
     "name": "stdout",
     "output_type": "stream",
     "text": [
      "k-fold validation 15/16\n"
     ]
    },
    {
     "name": "stderr",
     "output_type": "stream",
     "text": [
      "100%|██████████| 100/100 [00:15<00:00,  6.60it/s]\n"
     ]
    },
    {
     "name": "stdout",
     "output_type": "stream",
     "text": [
      "k-fold validation 16/16\n"
     ]
    },
    {
     "name": "stderr",
     "output_type": "stream",
     "text": [
      "100%|██████████| 100/100 [00:15<00:00,  6.62it/s]\n"
     ]
    },
    {
     "name": "stdout",
     "output_type": "stream",
     "text": [
      "{'learning_rate': 0.0010000000000000002, 'l2_regularization_factor': 0.01, 'n_layers': 3, 'hidden_units': [256, 256, 64]}\n",
      "trying parameter search 4 / 5\n",
      "k-fold validation 1/16\n"
     ]
    },
    {
     "name": "stderr",
     "output_type": "stream",
     "text": [
      "100%|██████████| 100/100 [00:15<00:00,  6.30it/s]\n"
     ]
    },
    {
     "name": "stdout",
     "output_type": "stream",
     "text": [
      "k-fold validation 2/16\n"
     ]
    },
    {
     "name": "stderr",
     "output_type": "stream",
     "text": [
      "100%|██████████| 100/100 [00:15<00:00,  6.55it/s]\n"
     ]
    },
    {
     "name": "stdout",
     "output_type": "stream",
     "text": [
      "k-fold validation 3/16\n"
     ]
    },
    {
     "name": "stderr",
     "output_type": "stream",
     "text": [
      "100%|██████████| 100/100 [00:15<00:00,  6.59it/s]\n"
     ]
    },
    {
     "name": "stdout",
     "output_type": "stream",
     "text": [
      "k-fold validation 4/16\n"
     ]
    },
    {
     "name": "stderr",
     "output_type": "stream",
     "text": [
      "100%|██████████| 100/100 [00:15<00:00,  6.60it/s]\n"
     ]
    },
    {
     "name": "stdout",
     "output_type": "stream",
     "text": [
      "k-fold validation 5/16\n"
     ]
    },
    {
     "name": "stderr",
     "output_type": "stream",
     "text": [
      "100%|██████████| 100/100 [00:15<00:00,  6.47it/s]\n"
     ]
    },
    {
     "name": "stdout",
     "output_type": "stream",
     "text": [
      "k-fold validation 6/16\n"
     ]
    },
    {
     "name": "stderr",
     "output_type": "stream",
     "text": [
      "100%|██████████| 100/100 [00:15<00:00,  6.46it/s]\n"
     ]
    },
    {
     "name": "stdout",
     "output_type": "stream",
     "text": [
      "k-fold validation 7/16\n"
     ]
    },
    {
     "name": "stderr",
     "output_type": "stream",
     "text": [
      "100%|██████████| 100/100 [00:18<00:00,  5.40it/s]\n"
     ]
    },
    {
     "name": "stdout",
     "output_type": "stream",
     "text": [
      "k-fold validation 8/16\n"
     ]
    },
    {
     "name": "stderr",
     "output_type": "stream",
     "text": [
      "100%|██████████| 100/100 [00:18<00:00,  5.31it/s]\n"
     ]
    },
    {
     "name": "stdout",
     "output_type": "stream",
     "text": [
      "k-fold validation 9/16\n"
     ]
    },
    {
     "name": "stderr",
     "output_type": "stream",
     "text": [
      "100%|██████████| 100/100 [00:19<00:00,  5.22it/s]\n"
     ]
    },
    {
     "name": "stdout",
     "output_type": "stream",
     "text": [
      "k-fold validation 10/16\n"
     ]
    },
    {
     "name": "stderr",
     "output_type": "stream",
     "text": [
      "100%|██████████| 100/100 [00:19<00:00,  5.12it/s]\n"
     ]
    },
    {
     "name": "stdout",
     "output_type": "stream",
     "text": [
      "k-fold validation 11/16\n"
     ]
    },
    {
     "name": "stderr",
     "output_type": "stream",
     "text": [
      "100%|██████████| 100/100 [00:19<00:00,  5.20it/s]\n"
     ]
    },
    {
     "name": "stdout",
     "output_type": "stream",
     "text": [
      "k-fold validation 12/16\n"
     ]
    },
    {
     "name": "stderr",
     "output_type": "stream",
     "text": [
      "100%|██████████| 100/100 [00:19<00:00,  5.20it/s]\n"
     ]
    },
    {
     "name": "stdout",
     "output_type": "stream",
     "text": [
      "k-fold validation 13/16\n"
     ]
    },
    {
     "name": "stderr",
     "output_type": "stream",
     "text": [
      "100%|██████████| 100/100 [00:19<00:00,  5.10it/s]\n"
     ]
    },
    {
     "name": "stdout",
     "output_type": "stream",
     "text": [
      "k-fold validation 14/16\n"
     ]
    },
    {
     "name": "stderr",
     "output_type": "stream",
     "text": [
      "100%|██████████| 100/100 [00:19<00:00,  5.12it/s]\n"
     ]
    },
    {
     "name": "stdout",
     "output_type": "stream",
     "text": [
      "k-fold validation 15/16\n"
     ]
    },
    {
     "name": "stderr",
     "output_type": "stream",
     "text": [
      "100%|██████████| 100/100 [00:19<00:00,  5.10it/s]\n"
     ]
    },
    {
     "name": "stdout",
     "output_type": "stream",
     "text": [
      "k-fold validation 16/16\n"
     ]
    },
    {
     "name": "stderr",
     "output_type": "stream",
     "text": [
      "100%|██████████| 100/100 [00:19<00:00,  5.09it/s]\n"
     ]
    },
    {
     "name": "stdout",
     "output_type": "stream",
     "text": [
      "{'learning_rate': 0.0010000000000000002, 'l2_regularization_factor': 0.01, 'n_layers': 4, 'hidden_units': [16, 256, 16, 64]}\n",
      "trying parameter search 5 / 5\n",
      "k-fold validation 1/16\n"
     ]
    },
    {
     "name": "stderr",
     "output_type": "stream",
     "text": [
      "100%|██████████| 100/100 [00:19<00:00,  5.00it/s]\n"
     ]
    },
    {
     "name": "stdout",
     "output_type": "stream",
     "text": [
      "k-fold validation 2/16\n"
     ]
    },
    {
     "name": "stderr",
     "output_type": "stream",
     "text": [
      "100%|██████████| 100/100 [00:19<00:00,  5.01it/s]\n"
     ]
    },
    {
     "name": "stdout",
     "output_type": "stream",
     "text": [
      "k-fold validation 3/16\n"
     ]
    },
    {
     "name": "stderr",
     "output_type": "stream",
     "text": [
      "100%|██████████| 100/100 [00:20<00:00,  4.90it/s]\n"
     ]
    },
    {
     "name": "stdout",
     "output_type": "stream",
     "text": [
      "k-fold validation 4/16\n"
     ]
    },
    {
     "name": "stderr",
     "output_type": "stream",
     "text": [
      "100%|██████████| 100/100 [00:20<00:00,  4.91it/s]\n"
     ]
    },
    {
     "name": "stdout",
     "output_type": "stream",
     "text": [
      "k-fold validation 5/16\n"
     ]
    },
    {
     "name": "stderr",
     "output_type": "stream",
     "text": [
      "100%|██████████| 100/100 [00:20<00:00,  4.88it/s]\n"
     ]
    },
    {
     "name": "stdout",
     "output_type": "stream",
     "text": [
      "k-fold validation 6/16\n"
     ]
    },
    {
     "name": "stderr",
     "output_type": "stream",
     "text": [
      "100%|██████████| 100/100 [00:20<00:00,  4.84it/s]\n"
     ]
    },
    {
     "name": "stdout",
     "output_type": "stream",
     "text": [
      "k-fold validation 7/16\n"
     ]
    },
    {
     "name": "stderr",
     "output_type": "stream",
     "text": [
      "100%|██████████| 100/100 [00:20<00:00,  4.84it/s]\n"
     ]
    },
    {
     "name": "stdout",
     "output_type": "stream",
     "text": [
      "k-fold validation 8/16\n"
     ]
    },
    {
     "name": "stderr",
     "output_type": "stream",
     "text": [
      "100%|██████████| 100/100 [00:20<00:00,  4.78it/s]\n"
     ]
    },
    {
     "name": "stdout",
     "output_type": "stream",
     "text": [
      "k-fold validation 9/16\n"
     ]
    },
    {
     "name": "stderr",
     "output_type": "stream",
     "text": [
      "100%|██████████| 100/100 [00:21<00:00,  4.76it/s]\n"
     ]
    },
    {
     "name": "stdout",
     "output_type": "stream",
     "text": [
      "k-fold validation 10/16\n"
     ]
    },
    {
     "name": "stderr",
     "output_type": "stream",
     "text": [
      "100%|██████████| 100/100 [00:20<00:00,  4.79it/s]\n"
     ]
    },
    {
     "name": "stdout",
     "output_type": "stream",
     "text": [
      "k-fold validation 11/16\n"
     ]
    },
    {
     "name": "stderr",
     "output_type": "stream",
     "text": [
      "100%|██████████| 100/100 [00:20<00:00,  4.80it/s]\n"
     ]
    },
    {
     "name": "stdout",
     "output_type": "stream",
     "text": [
      "k-fold validation 12/16\n"
     ]
    },
    {
     "name": "stderr",
     "output_type": "stream",
     "text": [
      "100%|██████████| 100/100 [00:21<00:00,  4.76it/s]\n"
     ]
    },
    {
     "name": "stdout",
     "output_type": "stream",
     "text": [
      "k-fold validation 13/16\n"
     ]
    },
    {
     "name": "stderr",
     "output_type": "stream",
     "text": [
      "100%|██████████| 100/100 [00:20<00:00,  4.89it/s]\n"
     ]
    },
    {
     "name": "stdout",
     "output_type": "stream",
     "text": [
      "k-fold validation 14/16\n"
     ]
    },
    {
     "name": "stderr",
     "output_type": "stream",
     "text": [
      "100%|██████████| 100/100 [00:21<00:00,  4.72it/s]\n"
     ]
    },
    {
     "name": "stdout",
     "output_type": "stream",
     "text": [
      "k-fold validation 15/16\n"
     ]
    },
    {
     "name": "stderr",
     "output_type": "stream",
     "text": [
      "100%|██████████| 100/100 [00:21<00:00,  4.68it/s]\n"
     ]
    },
    {
     "name": "stdout",
     "output_type": "stream",
     "text": [
      "k-fold validation 16/16\n"
     ]
    },
    {
     "name": "stderr",
     "output_type": "stream",
     "text": [
      "100%|██████████| 100/100 [00:21<00:00,  4.70it/s]\n"
     ]
    }
   ],
   "source": [
    "top_hyperparameters, tuning_results, hyperparameters_tested, val_scores_all = GLMMNet_hyperparameter_tuning_k_fold(exp_id, k, regularizer, cluster_type, y_dist, n_search, n_prediction_samples)"
   ]
  },
  {
   "cell_type": "code",
   "execution_count": 12,
   "id": "21748ea0",
   "metadata": {},
   "outputs": [],
   "source": [
    "np.save(f\"k_fold_results/experiment_{exp_id}/{model_name}/top_hyperparameters_{k}_fold.npy\", top_hyperparameters)"
   ]
  },
  {
   "cell_type": "code",
   "execution_count": 13,
   "id": "75f5da62-2bfe-4aaf-a723-2a4bbd7d4f56",
   "metadata": {},
   "outputs": [
    {
     "name": "stdout",
     "output_type": "stream",
     "text": [
      "evaluating train-test performance\n"
     ]
    },
    {
     "name": "stderr",
     "output_type": "stream",
     "text": [
      "100%|██████████| 100/100 [00:22<00:00,  4.54it/s]\n",
      "100%|██████████| 100/100 [00:20<00:00,  4.78it/s]\n"
     ]
    },
    {
     "name": "stdout",
     "output_type": "stream",
     "text": [
      "0\n"
     ]
    },
    {
     "name": "stderr",
     "output_type": "stream",
     "text": [
      "100%|██████████| 100/100 [00:21<00:00,  4.70it/s]\n",
      "100%|██████████| 100/100 [00:20<00:00,  4.81it/s]\n",
      "100%|██████████| 100/100 [00:21<00:00,  4.62it/s]\n",
      "100%|██████████| 100/100 [00:20<00:00,  4.80it/s]\n",
      "100%|██████████| 100/100 [00:21<00:00,  4.63it/s]\n",
      "100%|██████████| 100/100 [00:20<00:00,  4.81it/s]\n",
      "100%|██████████| 100/100 [00:21<00:00,  4.66it/s]\n",
      "100%|██████████| 100/100 [00:21<00:00,  4.76it/s]\n",
      "100%|██████████| 100/100 [00:22<00:00,  4.51it/s]\n",
      "100%|██████████| 100/100 [00:21<00:00,  4.71it/s]\n",
      "100%|██████████| 100/100 [00:21<00:00,  4.58it/s]\n",
      "100%|██████████| 100/100 [00:20<00:00,  4.87it/s]\n",
      "100%|██████████| 100/100 [00:21<00:00,  4.55it/s]\n",
      "100%|██████████| 100/100 [00:21<00:00,  4.75it/s]\n",
      "100%|██████████| 100/100 [00:21<00:00,  4.55it/s]\n",
      "100%|██████████| 100/100 [00:20<00:00,  4.79it/s]\n",
      "100%|██████████| 100/100 [00:22<00:00,  4.51it/s]\n",
      "100%|██████████| 100/100 [00:21<00:00,  4.72it/s]\n",
      "100%|██████████| 100/100 [00:21<00:00,  4.61it/s]\n",
      "100%|██████████| 100/100 [00:21<00:00,  4.71it/s]\n"
     ]
    },
    {
     "name": "stdout",
     "output_type": "stream",
     "text": [
      "10\n"
     ]
    },
    {
     "name": "stderr",
     "output_type": "stream",
     "text": [
      "100%|██████████| 100/100 [00:22<00:00,  4.49it/s]\n",
      "100%|██████████| 100/100 [00:21<00:00,  4.68it/s]\n",
      "100%|██████████| 100/100 [00:22<00:00,  4.50it/s]\n",
      "100%|██████████| 100/100 [00:21<00:00,  4.70it/s]\n",
      "100%|██████████| 100/100 [00:22<00:00,  4.54it/s]\n",
      "100%|██████████| 100/100 [00:21<00:00,  4.67it/s]\n",
      "100%|██████████| 100/100 [00:22<00:00,  4.46it/s]\n",
      "100%|██████████| 100/100 [00:21<00:00,  4.69it/s]\n",
      "100%|██████████| 100/100 [00:22<00:00,  4.48it/s]\n",
      "100%|██████████| 100/100 [00:21<00:00,  4.67it/s]\n",
      "100%|██████████| 100/100 [00:22<00:00,  4.50it/s]\n",
      "100%|██████████| 100/100 [00:21<00:00,  4.70it/s]\n",
      "100%|██████████| 100/100 [00:21<00:00,  4.55it/s]\n",
      "100%|██████████| 100/100 [00:21<00:00,  4.74it/s]\n",
      "100%|██████████| 100/100 [00:22<00:00,  4.35it/s]\n",
      "100%|██████████| 100/100 [00:21<00:00,  4.68it/s]\n",
      "100%|██████████| 100/100 [00:22<00:00,  4.52it/s]\n",
      "100%|██████████| 100/100 [00:21<00:00,  4.57it/s]\n",
      "100%|██████████| 100/100 [00:27<00:00,  3.62it/s]\n",
      "100%|██████████| 100/100 [00:26<00:00,  3.78it/s]\n"
     ]
    },
    {
     "name": "stdout",
     "output_type": "stream",
     "text": [
      "20\n"
     ]
    },
    {
     "name": "stderr",
     "output_type": "stream",
     "text": [
      "100%|██████████| 100/100 [00:27<00:00,  3.58it/s]\n",
      "100%|██████████| 100/100 [00:26<00:00,  3.79it/s]\n",
      "100%|██████████| 100/100 [00:27<00:00,  3.69it/s]\n",
      "100%|██████████| 100/100 [00:25<00:00,  3.85it/s]\n",
      "100%|██████████| 100/100 [00:28<00:00,  3.56it/s]\n",
      "100%|██████████| 100/100 [00:27<00:00,  3.70it/s]\n",
      "100%|██████████| 100/100 [00:26<00:00,  3.70it/s]\n",
      "100%|██████████| 100/100 [00:27<00:00,  3.70it/s]\n",
      "100%|██████████| 100/100 [00:27<00:00,  3.62it/s]\n",
      "100%|██████████| 100/100 [00:26<00:00,  3.80it/s]\n",
      "100%|██████████| 100/100 [00:26<00:00,  3.75it/s]\n",
      "100%|██████████| 100/100 [00:23<00:00,  4.17it/s]\n",
      "100%|██████████| 100/100 [00:28<00:00,  3.54it/s]\n",
      "100%|██████████| 100/100 [00:26<00:00,  3.73it/s]\n",
      "100%|██████████| 100/100 [00:28<00:00,  3.49it/s]\n",
      "100%|██████████| 100/100 [00:26<00:00,  3.71it/s]\n",
      "100%|██████████| 100/100 [00:26<00:00,  3.71it/s]\n",
      "100%|██████████| 100/100 [00:26<00:00,  3.77it/s]\n",
      "100%|██████████| 100/100 [00:28<00:00,  3.52it/s]\n",
      "100%|██████████| 100/100 [00:27<00:00,  3.62it/s]\n"
     ]
    },
    {
     "name": "stdout",
     "output_type": "stream",
     "text": [
      "30\n"
     ]
    },
    {
     "name": "stderr",
     "output_type": "stream",
     "text": [
      "100%|██████████| 100/100 [00:28<00:00,  3.50it/s]\n",
      "100%|██████████| 100/100 [00:27<00:00,  3.68it/s]\n",
      "100%|██████████| 100/100 [00:27<00:00,  3.65it/s]\n",
      "100%|██████████| 100/100 [00:23<00:00,  4.24it/s]\n",
      "100%|██████████| 100/100 [00:28<00:00,  3.55it/s]\n",
      "100%|██████████| 100/100 [00:26<00:00,  3.83it/s]\n",
      "100%|██████████| 100/100 [00:29<00:00,  3.42it/s]\n",
      "100%|██████████| 100/100 [00:27<00:00,  3.66it/s]\n",
      "100%|██████████| 100/100 [00:29<00:00,  3.41it/s]\n",
      "100%|██████████| 100/100 [00:26<00:00,  3.73it/s]\n",
      "100%|██████████| 100/100 [00:26<00:00,  3.83it/s]\n",
      "100%|██████████| 100/100 [00:27<00:00,  3.58it/s]\n",
      "100%|██████████| 100/100 [00:29<00:00,  3.39it/s]\n",
      "100%|██████████| 100/100 [00:28<00:00,  3.54it/s]\n",
      "100%|██████████| 100/100 [00:29<00:00,  3.44it/s]\n",
      "100%|██████████| 100/100 [00:28<00:00,  3.49it/s]\n",
      "100%|██████████| 100/100 [00:28<00:00,  3.46it/s]\n",
      "100%|██████████| 100/100 [00:27<00:00,  3.60it/s]\n",
      "100%|██████████| 100/100 [00:29<00:00,  3.42it/s]\n",
      "100%|██████████| 100/100 [00:27<00:00,  3.59it/s]\n"
     ]
    },
    {
     "name": "stdout",
     "output_type": "stream",
     "text": [
      "40\n"
     ]
    },
    {
     "name": "stderr",
     "output_type": "stream",
     "text": [
      "100%|██████████| 100/100 [00:28<00:00,  3.52it/s]\n",
      "100%|██████████| 100/100 [00:28<00:00,  3.54it/s]\n",
      "100%|██████████| 100/100 [00:29<00:00,  3.37it/s]\n",
      "100%|██████████| 100/100 [00:28<00:00,  3.51it/s]\n",
      "100%|██████████| 100/100 [00:29<00:00,  3.44it/s]\n",
      "100%|██████████| 100/100 [00:28<00:00,  3.47it/s]\n",
      "100%|██████████| 100/100 [00:28<00:00,  3.50it/s]\n",
      "100%|██████████| 100/100 [00:28<00:00,  3.48it/s]\n",
      "100%|██████████| 100/100 [00:31<00:00,  3.22it/s]\n",
      "100%|██████████| 100/100 [00:27<00:00,  3.61it/s]\n",
      "100%|██████████| 100/100 [00:28<00:00,  3.46it/s]\n",
      "100%|██████████| 100/100 [00:29<00:00,  3.41it/s]\n",
      "100%|██████████| 100/100 [00:29<00:00,  3.42it/s]\n",
      "100%|██████████| 100/100 [00:27<00:00,  3.63it/s]\n",
      "100%|██████████| 100/100 [00:29<00:00,  3.35it/s]\n",
      "100%|██████████| 100/100 [00:29<00:00,  3.41it/s]\n",
      "100%|██████████| 100/100 [00:29<00:00,  3.36it/s]\n",
      "100%|██████████| 100/100 [00:25<00:00,  3.86it/s]\n"
     ]
    }
   ],
   "source": [
    "print(\"evaluating train-test performance\")\n",
    "train_scores_model, test_scores_model = get_train_test_scores_glmmnet(exp_id, regularizer, y_dist, top_hyperparameters, n_prediction_samples)"
   ]
  },
  {
   "cell_type": "code",
   "execution_count": 14,
   "id": "da96c432",
   "metadata": {},
   "outputs": [],
   "source": [
    "np.save(f\"k_fold_results/experiment_{exp_id}/{model_name}/train_scores_{k}_fold.npy\", train_scores_model)\n",
    "np.save(f\"k_fold_results/experiment_{exp_id}/{model_name}/test_scores_{k}_fold.npy\", test_scores_model)"
   ]
  },
  {
   "cell_type": "code",
   "execution_count": 15,
   "id": "b9e97f4f-b390-4c43-a3cc-2ecc168dfa5b",
   "metadata": {},
   "outputs": [],
   "source": [
    "train_scores_dict[model_name] = train_scores_model\n",
    "test_scores_dict[model_name] = test_scores_model\n",
    "top_hyperparameters_dict[model_name] = top_hyperparameters"
   ]
  },
  {
   "cell_type": "markdown",
   "id": "23b2ca17-61c1-41a7-939b-a31c8dc6fffd",
   "metadata": {},
   "source": [
    "### GLMMNet_l2"
   ]
  },
  {
   "cell_type": "code",
   "execution_count": null,
   "id": "3840256d-2d6f-4d24-b2c8-ebc83de3f19e",
   "metadata": {},
   "outputs": [
    {
     "name": "stdout",
     "output_type": "stream",
     "text": [
      "{'learning_rate': 0.01, 'l2_regularization_factor': 0.01, 'n_layers': 3, 'hidden_units': [64, 32, 16]}\n",
      "trying parameter search 1 / 10\n",
      "k-fold validation 1/4\n"
     ]
    },
    {
     "name": "stderr",
     "output_type": "stream",
     "text": [
      "100%|██████████| 100/100 [00:03<00:00, 30.21it/s]\n"
     ]
    },
    {
     "name": "stdout",
     "output_type": "stream",
     "text": [
      "k-fold validation 2/4\n"
     ]
    },
    {
     "name": "stderr",
     "output_type": "stream",
     "text": [
      "100%|██████████| 100/100 [00:03<00:00, 30.08it/s]\n"
     ]
    },
    {
     "name": "stdout",
     "output_type": "stream",
     "text": [
      "k-fold validation 3/4\n"
     ]
    },
    {
     "name": "stderr",
     "output_type": "stream",
     "text": [
      "100%|██████████| 100/100 [00:03<00:00, 29.38it/s]\n"
     ]
    },
    {
     "name": "stdout",
     "output_type": "stream",
     "text": [
      "k-fold validation 4/4\n"
     ]
    },
    {
     "name": "stderr",
     "output_type": "stream",
     "text": [
      "100%|██████████| 100/100 [00:03<00:00, 27.21it/s]\n"
     ]
    },
    {
     "name": "stdout",
     "output_type": "stream",
     "text": [
      "{'learning_rate': 0.0010000000000000002, 'l2_regularization_factor': 0.01, 'n_layers': 3, 'hidden_units': [256, 16, 64]}\n",
      "trying parameter search 2 / 10\n",
      "k-fold validation 1/4\n"
     ]
    },
    {
     "name": "stderr",
     "output_type": "stream",
     "text": [
      "100%|██████████| 100/100 [00:05<00:00, 19.79it/s]\n"
     ]
    },
    {
     "name": "stdout",
     "output_type": "stream",
     "text": [
      "k-fold validation 2/4\n"
     ]
    },
    {
     "name": "stderr",
     "output_type": "stream",
     "text": [
      "100%|██████████| 100/100 [00:05<00:00, 19.64it/s]\n"
     ]
    },
    {
     "name": "stdout",
     "output_type": "stream",
     "text": [
      "k-fold validation 3/4\n"
     ]
    },
    {
     "name": "stderr",
     "output_type": "stream",
     "text": [
      "100%|██████████| 100/100 [00:04<00:00, 23.37it/s]\n"
     ]
    },
    {
     "name": "stdout",
     "output_type": "stream",
     "text": [
      "k-fold validation 4/4\n"
     ]
    },
    {
     "name": "stderr",
     "output_type": "stream",
     "text": [
      "100%|██████████| 100/100 [00:04<00:00, 24.08it/s]\n"
     ]
    },
    {
     "name": "stdout",
     "output_type": "stream",
     "text": [
      "{'learning_rate': 0.0010000000000000002, 'l2_regularization_factor': 0.01, 'n_layers': 4, 'hidden_units': [64, 64, 256, 16]}\n",
      "trying parameter search 3 / 10\n",
      "k-fold validation 1/4\n"
     ]
    },
    {
     "name": "stderr",
     "output_type": "stream",
     "text": [
      "100%|██████████| 100/100 [00:03<00:00, 29.78it/s]\n"
     ]
    },
    {
     "name": "stdout",
     "output_type": "stream",
     "text": [
      "k-fold validation 2/4\n"
     ]
    },
    {
     "name": "stderr",
     "output_type": "stream",
     "text": [
      "100%|██████████| 100/100 [00:04<00:00, 23.80it/s]\n"
     ]
    },
    {
     "name": "stdout",
     "output_type": "stream",
     "text": [
      "k-fold validation 3/4\n"
     ]
    },
    {
     "name": "stderr",
     "output_type": "stream",
     "text": [
      "100%|██████████| 100/100 [00:03<00:00, 28.35it/s]\n"
     ]
    },
    {
     "name": "stdout",
     "output_type": "stream",
     "text": [
      "k-fold validation 4/4\n"
     ]
    },
    {
     "name": "stderr",
     "output_type": "stream",
     "text": [
      "100%|██████████| 100/100 [00:03<00:00, 27.51it/s]\n"
     ]
    },
    {
     "name": "stdout",
     "output_type": "stream",
     "text": [
      "{'learning_rate': 0.0010000000000000002, 'l2_regularization_factor': 0.01, 'n_layers': 4, 'hidden_units': [64, 16, 16, 256]}\n",
      "trying parameter search 4 / 10\n",
      "k-fold validation 1/4\n"
     ]
    },
    {
     "name": "stderr",
     "output_type": "stream",
     "text": [
      "100%|██████████| 100/100 [00:03<00:00, 25.65it/s]\n"
     ]
    },
    {
     "name": "stdout",
     "output_type": "stream",
     "text": [
      "k-fold validation 2/4\n"
     ]
    },
    {
     "name": "stderr",
     "output_type": "stream",
     "text": [
      "100%|██████████| 100/100 [00:03<00:00, 27.23it/s]\n"
     ]
    },
    {
     "name": "stdout",
     "output_type": "stream",
     "text": [
      "k-fold validation 3/4\n"
     ]
    },
    {
     "name": "stderr",
     "output_type": "stream",
     "text": [
      "100%|██████████| 100/100 [00:03<00:00, 31.31it/s]\n"
     ]
    },
    {
     "name": "stdout",
     "output_type": "stream",
     "text": [
      "k-fold validation 4/4\n"
     ]
    },
    {
     "name": "stderr",
     "output_type": "stream",
     "text": [
      "100%|██████████| 100/100 [00:03<00:00, 29.97it/s]\n"
     ]
    },
    {
     "name": "stdout",
     "output_type": "stream",
     "text": [
      "{'learning_rate': 0.010000000000000002, 'l2_regularization_factor': 0.01, 'n_layers': 4, 'hidden_units': [16, 16, 256, 16]}\n",
      "trying parameter search 5 / 10\n",
      "k-fold validation 1/4\n"
     ]
    },
    {
     "name": "stderr",
     "output_type": "stream",
     "text": [
      "100%|██████████| 100/100 [00:03<00:00, 29.71it/s]\n"
     ]
    },
    {
     "name": "stdout",
     "output_type": "stream",
     "text": [
      "k-fold validation 2/4\n"
     ]
    },
    {
     "name": "stderr",
     "output_type": "stream",
     "text": [
      "100%|██████████| 100/100 [00:03<00:00, 25.65it/s]\n"
     ]
    },
    {
     "name": "stdout",
     "output_type": "stream",
     "text": [
      "k-fold validation 3/4\n"
     ]
    },
    {
     "name": "stderr",
     "output_type": "stream",
     "text": [
      "100%|██████████| 100/100 [00:05<00:00, 19.55it/s]\n"
     ]
    },
    {
     "name": "stdout",
     "output_type": "stream",
     "text": [
      "k-fold validation 4/4\n"
     ]
    },
    {
     "name": "stderr",
     "output_type": "stream",
     "text": [
      "100%|██████████| 100/100 [00:03<00:00, 30.12it/s]\n"
     ]
    },
    {
     "name": "stdout",
     "output_type": "stream",
     "text": [
      "{'learning_rate': 0.010000000000000002, 'l2_regularization_factor': 0.01, 'n_layers': 3, 'hidden_units': [256, 256, 64]}\n",
      "trying parameter search 6 / 10\n",
      "k-fold validation 1/4\n"
     ]
    },
    {
     "name": "stderr",
     "output_type": "stream",
     "text": [
      "100%|██████████| 100/100 [00:03<00:00, 31.81it/s]\n"
     ]
    },
    {
     "name": "stdout",
     "output_type": "stream",
     "text": [
      "k-fold validation 2/4\n"
     ]
    },
    {
     "name": "stderr",
     "output_type": "stream",
     "text": [
      "100%|██████████| 100/100 [00:03<00:00, 28.19it/s]\n"
     ]
    },
    {
     "name": "stdout",
     "output_type": "stream",
     "text": [
      "k-fold validation 3/4\n"
     ]
    },
    {
     "name": "stderr",
     "output_type": "stream",
     "text": [
      "100%|██████████| 100/100 [00:03<00:00, 29.36it/s]\n"
     ]
    },
    {
     "name": "stdout",
     "output_type": "stream",
     "text": [
      "k-fold validation 4/4\n"
     ]
    },
    {
     "name": "stderr",
     "output_type": "stream",
     "text": [
      "100%|██████████| 100/100 [00:03<00:00, 27.42it/s]\n"
     ]
    },
    {
     "name": "stdout",
     "output_type": "stream",
     "text": [
      "{'learning_rate': 0.010000000000000002, 'l2_regularization_factor': 0.01, 'n_layers': 3, 'hidden_units': [16, 64, 64]}\n",
      "trying parameter search 7 / 10\n",
      "k-fold validation 1/4\n"
     ]
    },
    {
     "name": "stderr",
     "output_type": "stream",
     "text": [
      "100%|██████████| 100/100 [00:03<00:00, 28.67it/s]\n"
     ]
    },
    {
     "name": "stdout",
     "output_type": "stream",
     "text": [
      "k-fold validation 2/4\n"
     ]
    },
    {
     "name": "stderr",
     "output_type": "stream",
     "text": [
      "100%|██████████| 100/100 [00:02<00:00, 35.12it/s]\n"
     ]
    },
    {
     "name": "stdout",
     "output_type": "stream",
     "text": [
      "k-fold validation 3/4\n"
     ]
    },
    {
     "name": "stderr",
     "output_type": "stream",
     "text": [
      "100%|██████████| 100/100 [00:02<00:00, 33.92it/s]\n"
     ]
    },
    {
     "name": "stdout",
     "output_type": "stream",
     "text": [
      "k-fold validation 4/4\n"
     ]
    },
    {
     "name": "stderr",
     "output_type": "stream",
     "text": [
      "100%|██████████| 100/100 [00:03<00:00, 26.31it/s]\n"
     ]
    },
    {
     "name": "stdout",
     "output_type": "stream",
     "text": [
      "{'learning_rate': 0.0010000000000000002, 'l2_regularization_factor': 0.01, 'n_layers': 3, 'hidden_units': [256, 64, 64]}\n",
      "trying parameter search 8 / 10\n",
      "k-fold validation 1/4\n"
     ]
    },
    {
     "name": "stderr",
     "output_type": "stream",
     "text": [
      "100%|██████████| 100/100 [00:03<00:00, 25.54it/s]\n"
     ]
    },
    {
     "name": "stdout",
     "output_type": "stream",
     "text": [
      "k-fold validation 2/4\n"
     ]
    },
    {
     "name": "stderr",
     "output_type": "stream",
     "text": [
      "100%|██████████| 100/100 [00:03<00:00, 32.29it/s]\n"
     ]
    },
    {
     "name": "stdout",
     "output_type": "stream",
     "text": [
      "k-fold validation 3/4\n"
     ]
    },
    {
     "name": "stderr",
     "output_type": "stream",
     "text": [
      "100%|██████████| 100/100 [00:03<00:00, 29.44it/s]\n"
     ]
    },
    {
     "name": "stdout",
     "output_type": "stream",
     "text": [
      "k-fold validation 4/4\n"
     ]
    },
    {
     "name": "stderr",
     "output_type": "stream",
     "text": [
      "100%|██████████| 100/100 [00:05<00:00, 19.84it/s]\n"
     ]
    },
    {
     "name": "stdout",
     "output_type": "stream",
     "text": [
      "{'learning_rate': 0.0010000000000000002, 'l2_regularization_factor': 0.01, 'n_layers': 3, 'hidden_units': [256, 256, 64]}\n",
      "trying parameter search 9 / 10\n",
      "k-fold validation 1/4\n"
     ]
    },
    {
     "name": "stderr",
     "output_type": "stream",
     "text": [
      "100%|██████████| 100/100 [00:03<00:00, 31.65it/s]\n"
     ]
    },
    {
     "name": "stdout",
     "output_type": "stream",
     "text": [
      "k-fold validation 2/4\n"
     ]
    },
    {
     "name": "stderr",
     "output_type": "stream",
     "text": [
      "100%|██████████| 100/100 [00:03<00:00, 30.54it/s]\n"
     ]
    },
    {
     "name": "stdout",
     "output_type": "stream",
     "text": [
      "k-fold validation 3/4\n"
     ]
    },
    {
     "name": "stderr",
     "output_type": "stream",
     "text": [
      "100%|██████████| 100/100 [00:03<00:00, 30.63it/s]\n"
     ]
    },
    {
     "name": "stdout",
     "output_type": "stream",
     "text": [
      "k-fold validation 4/4\n"
     ]
    },
    {
     "name": "stderr",
     "output_type": "stream",
     "text": [
      "100%|██████████| 100/100 [00:03<00:00, 30.51it/s]\n"
     ]
    },
    {
     "name": "stdout",
     "output_type": "stream",
     "text": [
      "{'learning_rate': 0.1, 'l2_regularization_factor': 0.01, 'n_layers': 2, 'hidden_units': [16, 256]}\n",
      "trying parameter search 10 / 10\n",
      "k-fold validation 1/4\n"
     ]
    },
    {
     "name": "stderr",
     "output_type": "stream",
     "text": [
      "100%|██████████| 100/100 [00:03<00:00, 31.07it/s]\n"
     ]
    },
    {
     "name": "stdout",
     "output_type": "stream",
     "text": [
      "k-fold validation 2/4\n"
     ]
    },
    {
     "name": "stderr",
     "output_type": "stream",
     "text": [
      "100%|██████████| 100/100 [00:03<00:00, 33.13it/s]\n"
     ]
    },
    {
     "name": "stdout",
     "output_type": "stream",
     "text": [
      "k-fold validation 3/4\n"
     ]
    },
    {
     "name": "stderr",
     "output_type": "stream",
     "text": [
      "100%|██████████| 100/100 [00:03<00:00, 32.30it/s]\n"
     ]
    },
    {
     "name": "stdout",
     "output_type": "stream",
     "text": [
      "k-fold validation 4/4\n"
     ]
    },
    {
     "name": "stderr",
     "output_type": "stream",
     "text": [
      "100%|██████████| 100/100 [00:04<00:00, 22.55it/s]"
     ]
    },
    {
     "name": "stdout",
     "output_type": "stream",
     "text": [
      "{'learning_rate': 0.010000000000000002, 'l2_regularization_factor': 0.01, 'n_layers': 3, 'hidden_units': [256, 256, 64]}\n"
     ]
    },
    {
     "name": "stderr",
     "output_type": "stream",
     "text": [
      "\n"
     ]
    }
   ],
   "source": [
    "## check if in correct directory\n",
    "if 'data' not in os.listdir():\n",
    "    print('Change directory to ''simulation''')\n"
   ]
  },
  {
   "cell_type": "code",
   "execution_count": null,
   "id": "e301b3a8",
   "metadata": {},
   "outputs": [],
   "source": [
    "\n",
    "regularizer = False\n",
    "cluster_type = None\n",
    "model_name = 'GLMMNet_l2'\n"
   ]
  },
  {
   "cell_type": "code",
   "execution_count": null,
   "id": "dc10bd12",
   "metadata": {},
   "outputs": [],
   "source": [
    "top_hyperparameters, tuning_results, hyperparameters_tested, val_scores_all = GLMMNet_hyperparameter_tuning_k_fold(exp_id, k, regularizer, cluster_type, y_dist, n_search, n_prediction_samples)"
   ]
  },
  {
   "cell_type": "code",
   "execution_count": null,
   "id": "a6fa05a2",
   "metadata": {},
   "outputs": [],
   "source": [
    "np.save(f\"k_fold_results/experiment_{exp_id}/{model_name}/top_hyperparameters_{k}_fold.npy\", top_hyperparameters)"
   ]
  },
  {
   "cell_type": "code",
   "execution_count": null,
   "id": "9a97433d-94f9-463c-9e51-6b6b995259d5",
   "metadata": {},
   "outputs": [
    {
     "name": "stdout",
     "output_type": "stream",
     "text": [
      "evaluating train-test performance\n"
     ]
    },
    {
     "name": "stderr",
     "output_type": "stream",
     "text": [
      "100%|██████████| 100/100 [00:05<00:00, 19.54it/s]\n",
      "100%|██████████| 100/100 [00:03<00:00, 25.36it/s]\n"
     ]
    },
    {
     "name": "stdout",
     "output_type": "stream",
     "text": [
      "0\n"
     ]
    },
    {
     "name": "stderr",
     "output_type": "stream",
     "text": [
      "100%|██████████| 100/100 [00:04<00:00, 22.61it/s]\n",
      "100%|██████████| 100/100 [00:04<00:00, 24.13it/s]\n"
     ]
    },
    {
     "name": "stdout",
     "output_type": "stream",
     "text": [
      "1\n"
     ]
    },
    {
     "name": "stderr",
     "output_type": "stream",
     "text": [
      "100%|██████████| 100/100 [00:08<00:00, 11.45it/s]\n",
      "100%|██████████| 100/100 [00:03<00:00, 30.47it/s]\n"
     ]
    },
    {
     "name": "stdout",
     "output_type": "stream",
     "text": [
      "2\n"
     ]
    },
    {
     "name": "stderr",
     "output_type": "stream",
     "text": [
      "100%|██████████| 100/100 [00:05<00:00, 18.47it/s]\n",
      "100%|██████████| 100/100 [00:03<00:00, 31.91it/s]\n"
     ]
    },
    {
     "name": "stdout",
     "output_type": "stream",
     "text": [
      "3\n"
     ]
    },
    {
     "name": "stderr",
     "output_type": "stream",
     "text": [
      "100%|██████████| 100/100 [00:03<00:00, 27.03it/s]\n",
      "100%|██████████| 100/100 [00:04<00:00, 22.99it/s]\n"
     ]
    },
    {
     "name": "stdout",
     "output_type": "stream",
     "text": [
      "4\n"
     ]
    },
    {
     "name": "stderr",
     "output_type": "stream",
     "text": [
      "100%|██████████| 100/100 [00:03<00:00, 27.06it/s]\n",
      "100%|██████████| 100/100 [00:03<00:00, 30.18it/s]\n"
     ]
    },
    {
     "name": "stdout",
     "output_type": "stream",
     "text": [
      "5\n"
     ]
    },
    {
     "name": "stderr",
     "output_type": "stream",
     "text": [
      "100%|██████████| 100/100 [00:03<00:00, 26.68it/s]\n",
      "100%|██████████| 100/100 [00:03<00:00, 27.59it/s]\n"
     ]
    },
    {
     "name": "stdout",
     "output_type": "stream",
     "text": [
      "6\n"
     ]
    },
    {
     "name": "stderr",
     "output_type": "stream",
     "text": [
      "100%|██████████| 100/100 [00:04<00:00, 22.56it/s]\n",
      "100%|██████████| 100/100 [00:04<00:00, 23.06it/s]\n"
     ]
    },
    {
     "name": "stdout",
     "output_type": "stream",
     "text": [
      "7\n"
     ]
    },
    {
     "name": "stderr",
     "output_type": "stream",
     "text": [
      "100%|██████████| 100/100 [00:04<00:00, 24.55it/s]\n",
      "100%|██████████| 100/100 [00:03<00:00, 30.61it/s]\n"
     ]
    },
    {
     "name": "stdout",
     "output_type": "stream",
     "text": [
      "8\n"
     ]
    },
    {
     "name": "stderr",
     "output_type": "stream",
     "text": [
      "100%|██████████| 100/100 [00:04<00:00, 24.13it/s]\n",
      "100%|██████████| 100/100 [00:03<00:00, 29.69it/s]\n"
     ]
    },
    {
     "name": "stdout",
     "output_type": "stream",
     "text": [
      "9\n"
     ]
    },
    {
     "name": "stderr",
     "output_type": "stream",
     "text": [
      "100%|██████████| 100/100 [00:04<00:00, 24.06it/s]\n",
      "100%|██████████| 100/100 [00:03<00:00, 29.52it/s]\n"
     ]
    },
    {
     "name": "stdout",
     "output_type": "stream",
     "text": [
      "10\n"
     ]
    },
    {
     "name": "stderr",
     "output_type": "stream",
     "text": [
      "100%|██████████| 100/100 [00:03<00:00, 25.90it/s]\n",
      "100%|██████████| 100/100 [00:03<00:00, 29.55it/s]\n"
     ]
    },
    {
     "name": "stdout",
     "output_type": "stream",
     "text": [
      "11\n"
     ]
    },
    {
     "name": "stderr",
     "output_type": "stream",
     "text": [
      "100%|██████████| 100/100 [00:05<00:00, 18.57it/s]\n",
      "100%|██████████| 100/100 [00:03<00:00, 29.03it/s]\n"
     ]
    },
    {
     "name": "stdout",
     "output_type": "stream",
     "text": [
      "12\n"
     ]
    },
    {
     "name": "stderr",
     "output_type": "stream",
     "text": [
      "100%|██████████| 100/100 [00:03<00:00, 25.41it/s]\n",
      "100%|██████████| 100/100 [00:03<00:00, 29.46it/s]\n"
     ]
    },
    {
     "name": "stdout",
     "output_type": "stream",
     "text": [
      "13\n"
     ]
    },
    {
     "name": "stderr",
     "output_type": "stream",
     "text": [
      "100%|██████████| 100/100 [00:04<00:00, 23.76it/s]\n",
      "100%|██████████| 100/100 [00:03<00:00, 27.02it/s]\n"
     ]
    },
    {
     "name": "stdout",
     "output_type": "stream",
     "text": [
      "14\n"
     ]
    },
    {
     "name": "stderr",
     "output_type": "stream",
     "text": [
      "100%|██████████| 100/100 [00:06<00:00, 16.17it/s]\n",
      "100%|██████████| 100/100 [00:03<00:00, 29.19it/s]\n"
     ]
    },
    {
     "name": "stdout",
     "output_type": "stream",
     "text": [
      "15\n"
     ]
    },
    {
     "name": "stderr",
     "output_type": "stream",
     "text": [
      "100%|██████████| 100/100 [00:04<00:00, 24.89it/s]\n",
      "100%|██████████| 100/100 [00:03<00:00, 27.74it/s]\n"
     ]
    },
    {
     "name": "stdout",
     "output_type": "stream",
     "text": [
      "16\n"
     ]
    },
    {
     "name": "stderr",
     "output_type": "stream",
     "text": [
      "100%|██████████| 100/100 [00:04<00:00, 23.07it/s]\n",
      "100%|██████████| 100/100 [00:03<00:00, 30.08it/s]\n"
     ]
    },
    {
     "name": "stdout",
     "output_type": "stream",
     "text": [
      "17\n"
     ]
    },
    {
     "name": "stderr",
     "output_type": "stream",
     "text": [
      "100%|██████████| 100/100 [00:04<00:00, 20.02it/s]\n",
      "100%|██████████| 100/100 [00:03<00:00, 29.09it/s]\n"
     ]
    },
    {
     "name": "stdout",
     "output_type": "stream",
     "text": [
      "18\n"
     ]
    },
    {
     "name": "stderr",
     "output_type": "stream",
     "text": [
      "100%|██████████| 100/100 [00:04<00:00, 24.72it/s]\n",
      "100%|██████████| 100/100 [00:03<00:00, 29.65it/s]\n"
     ]
    },
    {
     "name": "stdout",
     "output_type": "stream",
     "text": [
      "19\n"
     ]
    },
    {
     "name": "stderr",
     "output_type": "stream",
     "text": [
      "100%|██████████| 100/100 [00:03<00:00, 25.96it/s]\n",
      "100%|██████████| 100/100 [00:03<00:00, 31.35it/s]\n"
     ]
    },
    {
     "name": "stdout",
     "output_type": "stream",
     "text": [
      "20\n"
     ]
    },
    {
     "name": "stderr",
     "output_type": "stream",
     "text": [
      "100%|██████████| 100/100 [00:03<00:00, 27.55it/s]\n",
      "100%|██████████| 100/100 [00:03<00:00, 31.61it/s]\n"
     ]
    },
    {
     "name": "stdout",
     "output_type": "stream",
     "text": [
      "21\n"
     ]
    },
    {
     "name": "stderr",
     "output_type": "stream",
     "text": [
      "100%|██████████| 100/100 [00:04<00:00, 24.18it/s]\n",
      "100%|██████████| 100/100 [00:03<00:00, 25.40it/s]\n"
     ]
    },
    {
     "name": "stdout",
     "output_type": "stream",
     "text": [
      "22\n"
     ]
    },
    {
     "name": "stderr",
     "output_type": "stream",
     "text": [
      "100%|██████████| 100/100 [00:04<00:00, 22.74it/s]\n",
      "100%|██████████| 100/100 [00:04<00:00, 22.09it/s]\n"
     ]
    },
    {
     "name": "stdout",
     "output_type": "stream",
     "text": [
      "23\n"
     ]
    },
    {
     "name": "stderr",
     "output_type": "stream",
     "text": [
      "100%|██████████| 100/100 [00:04<00:00, 22.03it/s]\n",
      "100%|██████████| 100/100 [00:03<00:00, 26.35it/s]\n"
     ]
    },
    {
     "name": "stdout",
     "output_type": "stream",
     "text": [
      "24\n"
     ]
    },
    {
     "name": "stderr",
     "output_type": "stream",
     "text": [
      "100%|██████████| 100/100 [00:04<00:00, 23.57it/s]\n",
      "100%|██████████| 100/100 [00:04<00:00, 24.80it/s]\n"
     ]
    },
    {
     "name": "stdout",
     "output_type": "stream",
     "text": [
      "25\n"
     ]
    },
    {
     "name": "stderr",
     "output_type": "stream",
     "text": [
      "100%|██████████| 100/100 [00:04<00:00, 24.90it/s]\n",
      "100%|██████████| 100/100 [00:03<00:00, 31.73it/s]\n"
     ]
    },
    {
     "name": "stdout",
     "output_type": "stream",
     "text": [
      "26\n"
     ]
    },
    {
     "name": "stderr",
     "output_type": "stream",
     "text": [
      "100%|██████████| 100/100 [00:05<00:00, 18.59it/s]\n",
      "100%|██████████| 100/100 [00:02<00:00, 34.32it/s]\n"
     ]
    },
    {
     "name": "stdout",
     "output_type": "stream",
     "text": [
      "27\n"
     ]
    },
    {
     "name": "stderr",
     "output_type": "stream",
     "text": [
      "100%|██████████| 100/100 [00:03<00:00, 28.44it/s]\n",
      "100%|██████████| 100/100 [00:02<00:00, 33.36it/s]\n"
     ]
    },
    {
     "name": "stdout",
     "output_type": "stream",
     "text": [
      "28\n"
     ]
    },
    {
     "name": "stderr",
     "output_type": "stream",
     "text": [
      "100%|██████████| 100/100 [00:03<00:00, 27.38it/s]\n",
      "100%|██████████| 100/100 [00:02<00:00, 33.41it/s]\n"
     ]
    },
    {
     "name": "stdout",
     "output_type": "stream",
     "text": [
      "29\n"
     ]
    },
    {
     "name": "stderr",
     "output_type": "stream",
     "text": [
      "100%|██████████| 100/100 [00:03<00:00, 28.79it/s]\n",
      "100%|██████████| 100/100 [00:03<00:00, 33.03it/s]\n"
     ]
    },
    {
     "name": "stdout",
     "output_type": "stream",
     "text": [
      "30\n"
     ]
    },
    {
     "name": "stderr",
     "output_type": "stream",
     "text": [
      "100%|██████████| 100/100 [00:03<00:00, 28.53it/s]\n",
      "100%|██████████| 100/100 [00:02<00:00, 33.65it/s]\n"
     ]
    },
    {
     "name": "stdout",
     "output_type": "stream",
     "text": [
      "31\n"
     ]
    },
    {
     "name": "stderr",
     "output_type": "stream",
     "text": [
      "100%|██████████| 100/100 [00:03<00:00, 28.44it/s]\n",
      "100%|██████████| 100/100 [00:03<00:00, 27.88it/s]\n"
     ]
    },
    {
     "name": "stdout",
     "output_type": "stream",
     "text": [
      "32\n"
     ]
    },
    {
     "name": "stderr",
     "output_type": "stream",
     "text": [
      "100%|██████████| 100/100 [00:03<00:00, 28.42it/s]\n",
      "100%|██████████| 100/100 [00:03<00:00, 31.84it/s]\n"
     ]
    },
    {
     "name": "stdout",
     "output_type": "stream",
     "text": [
      "33\n"
     ]
    },
    {
     "name": "stderr",
     "output_type": "stream",
     "text": [
      "100%|██████████| 100/100 [00:03<00:00, 28.09it/s]\n",
      "100%|██████████| 100/100 [00:03<00:00, 32.43it/s]\n"
     ]
    },
    {
     "name": "stdout",
     "output_type": "stream",
     "text": [
      "34\n"
     ]
    },
    {
     "name": "stderr",
     "output_type": "stream",
     "text": [
      "100%|██████████| 100/100 [00:04<00:00, 21.98it/s]\n",
      "100%|██████████| 100/100 [00:03<00:00, 30.43it/s]\n"
     ]
    },
    {
     "name": "stdout",
     "output_type": "stream",
     "text": [
      "35\n"
     ]
    },
    {
     "name": "stderr",
     "output_type": "stream",
     "text": [
      "100%|██████████| 100/100 [00:04<00:00, 24.39it/s]\n",
      "100%|██████████| 100/100 [00:03<00:00, 31.85it/s]\n"
     ]
    },
    {
     "name": "stdout",
     "output_type": "stream",
     "text": [
      "36\n"
     ]
    },
    {
     "name": "stderr",
     "output_type": "stream",
     "text": [
      "100%|██████████| 100/100 [00:03<00:00, 27.21it/s]\n",
      "100%|██████████| 100/100 [00:03<00:00, 31.14it/s]\n"
     ]
    },
    {
     "name": "stdout",
     "output_type": "stream",
     "text": [
      "37\n"
     ]
    },
    {
     "name": "stderr",
     "output_type": "stream",
     "text": [
      "100%|██████████| 100/100 [00:04<00:00, 24.79it/s]\n",
      "100%|██████████| 100/100 [00:03<00:00, 29.45it/s]\n"
     ]
    },
    {
     "name": "stdout",
     "output_type": "stream",
     "text": [
      "38\n"
     ]
    },
    {
     "name": "stderr",
     "output_type": "stream",
     "text": [
      "100%|██████████| 100/100 [00:04<00:00, 23.43it/s]\n",
      "100%|██████████| 100/100 [00:04<00:00, 20.55it/s]\n"
     ]
    },
    {
     "name": "stdout",
     "output_type": "stream",
     "text": [
      "39\n"
     ]
    },
    {
     "name": "stderr",
     "output_type": "stream",
     "text": [
      "100%|██████████| 100/100 [00:06<00:00, 15.25it/s]\n",
      "100%|██████████| 100/100 [00:03<00:00, 32.03it/s]\n"
     ]
    },
    {
     "name": "stdout",
     "output_type": "stream",
     "text": [
      "40\n"
     ]
    },
    {
     "name": "stderr",
     "output_type": "stream",
     "text": [
      "100%|██████████| 100/100 [00:04<00:00, 24.90it/s]\n",
      "100%|██████████| 100/100 [00:03<00:00, 30.86it/s]\n"
     ]
    },
    {
     "name": "stdout",
     "output_type": "stream",
     "text": [
      "41\n"
     ]
    },
    {
     "name": "stderr",
     "output_type": "stream",
     "text": [
      "100%|██████████| 100/100 [00:03<00:00, 25.88it/s]\n",
      "100%|██████████| 100/100 [00:03<00:00, 29.70it/s]\n"
     ]
    },
    {
     "name": "stdout",
     "output_type": "stream",
     "text": [
      "42\n"
     ]
    },
    {
     "name": "stderr",
     "output_type": "stream",
     "text": [
      "100%|██████████| 100/100 [00:03<00:00, 27.38it/s]\n",
      "100%|██████████| 100/100 [00:03<00:00, 30.78it/s]\n"
     ]
    },
    {
     "name": "stdout",
     "output_type": "stream",
     "text": [
      "43\n"
     ]
    },
    {
     "name": "stderr",
     "output_type": "stream",
     "text": [
      "100%|██████████| 100/100 [00:04<00:00, 22.24it/s]\n",
      "100%|██████████| 100/100 [00:03<00:00, 28.53it/s]\n"
     ]
    },
    {
     "name": "stdout",
     "output_type": "stream",
     "text": [
      "44\n"
     ]
    },
    {
     "name": "stderr",
     "output_type": "stream",
     "text": [
      "100%|██████████| 100/100 [00:04<00:00, 23.93it/s]\n",
      "100%|██████████| 100/100 [00:03<00:00, 28.57it/s]\n"
     ]
    },
    {
     "name": "stdout",
     "output_type": "stream",
     "text": [
      "45\n"
     ]
    },
    {
     "name": "stderr",
     "output_type": "stream",
     "text": [
      "100%|██████████| 100/100 [00:03<00:00, 26.25it/s]\n",
      "100%|██████████| 100/100 [00:03<00:00, 28.56it/s]\n"
     ]
    },
    {
     "name": "stdout",
     "output_type": "stream",
     "text": [
      "46\n"
     ]
    },
    {
     "name": "stderr",
     "output_type": "stream",
     "text": [
      "100%|██████████| 100/100 [00:03<00:00, 25.75it/s]\n",
      "100%|██████████| 100/100 [00:03<00:00, 30.35it/s]\n"
     ]
    },
    {
     "name": "stdout",
     "output_type": "stream",
     "text": [
      "47\n"
     ]
    },
    {
     "name": "stderr",
     "output_type": "stream",
     "text": [
      "100%|██████████| 100/100 [00:04<00:00, 24.36it/s]\n",
      "100%|██████████| 100/100 [00:03<00:00, 26.17it/s]\n"
     ]
    },
    {
     "name": "stdout",
     "output_type": "stream",
     "text": [
      "48\n"
     ]
    },
    {
     "name": "stderr",
     "output_type": "stream",
     "text": [
      "100%|██████████| 100/100 [00:04<00:00, 20.72it/s]\n",
      "100%|██████████| 100/100 [00:03<00:00, 28.09it/s]"
     ]
    },
    {
     "name": "stdout",
     "output_type": "stream",
     "text": [
      "49\n"
     ]
    },
    {
     "name": "stderr",
     "output_type": "stream",
     "text": [
      "\n"
     ]
    }
   ],
   "source": [
    "print(\"evaluating train-test performance\")\n",
    "train_scores_model, test_scores_model = get_train_test_scores_glmmnet(exp_id, regularizer, y_dist, top_hyperparameters)"
   ]
  },
  {
   "cell_type": "code",
   "execution_count": null,
   "id": "9b397b87",
   "metadata": {},
   "outputs": [],
   "source": [
    "np.save(f\"k_fold_results/experiment_{exp_id}/{model_name}/train_scores_{k}_fold.npy\", train_scores_model)\n",
    "np.save(f\"k_fold_results/experiment_{exp_id}/{model_name}/test_scores_{k}_fold.npy\", test_scores_model)"
   ]
  },
  {
   "cell_type": "code",
   "execution_count": null,
   "id": "b90b892c-ba20-4249-afc0-9e093e52a81d",
   "metadata": {},
   "outputs": [],
   "source": [
    "train_scores_dict[model_name] = train_scores_model\n",
    "test_scores_dict[model_name] = test_scores_model\n",
    "top_hyperparameters_dict[model_name] = top_hyperparameters"
   ]
  },
  {
   "cell_type": "markdown",
   "id": "fc32f8f2-8712-4d1b-865d-95d5de7f1b3e",
   "metadata": {},
   "source": [
    "### NN_ee"
   ]
  },
  {
   "cell_type": "code",
   "execution_count": null,
   "id": "71599013-857e-4385-b20a-ebcf6b360063",
   "metadata": {},
   "outputs": [
    {
     "name": "stdout",
     "output_type": "stream",
     "text": [
      "{'learning_rate': 0.01, 'dropout_rate': 0.2, 'n_layers': 3, 'hidden_units': [64, 32, 16]}\n",
      "yes\n",
      "trying parameter search 1 / 10\n",
      "k-fold validation 1/4\n",
      "Restoring model weights from the end of the best epoch: 15.\n",
      "Epoch 65: early stopping\n",
      "59/59 [==============================] - 0s 1ms/step\n",
      "k-fold validation 2/4\n",
      "Restoring model weights from the end of the best epoch: 19.\n",
      "Epoch 69: early stopping\n",
      "59/59 [==============================] - 0s 1ms/step\n",
      "k-fold validation 3/4\n",
      "Restoring model weights from the end of the best epoch: 15.\n",
      "Epoch 65: early stopping\n",
      "59/59 [==============================] - 0s 928us/step\n",
      "k-fold validation 4/4\n",
      "Restoring model weights from the end of the best epoch: 6.\n",
      "Epoch 56: early stopping\n",
      "59/59 [==============================] - 0s 1ms/step\n",
      "results\n",
      "{'learning_rate': 0.010000000000000002, 'dropout_rate': 0.3, 'n_layers': 3, 'hidden_units': [16, 256, 16]}\n",
      "yes\n",
      "trying parameter search 2 / 10\n",
      "k-fold validation 1/4\n",
      "Restoring model weights from the end of the best epoch: 5.\n",
      "Epoch 55: early stopping\n",
      "59/59 [==============================] - 0s 882us/step\n",
      "k-fold validation 2/4\n",
      "Restoring model weights from the end of the best epoch: 4.\n",
      "Epoch 54: early stopping\n",
      "59/59 [==============================] - 0s 1ms/step\n",
      "k-fold validation 3/4\n",
      "Restoring model weights from the end of the best epoch: 27.\n",
      "Epoch 77: early stopping\n",
      "59/59 [==============================] - 0s 823us/step\n",
      "k-fold validation 4/4\n",
      "Restoring model weights from the end of the best epoch: 12.\n",
      "Epoch 62: early stopping\n",
      "59/59 [==============================] - 0s 1ms/step\n",
      "results\n",
      "{'learning_rate': 0.010000000000000002, 'dropout_rate': 0.1, 'n_layers': 4, 'hidden_units': [16, 256, 256, 16]}\n",
      "yes\n",
      "trying parameter search 3 / 10\n",
      "k-fold validation 1/4\n",
      "Restoring model weights from the end of the best epoch: 18.\n",
      "Epoch 68: early stopping\n",
      "59/59 [==============================] - 0s 1ms/step\n",
      "k-fold validation 2/4\n",
      "Restoring model weights from the end of the best epoch: 10.\n",
      "Epoch 60: early stopping\n",
      "59/59 [==============================] - 0s 1ms/step\n",
      "k-fold validation 3/4\n",
      "Restoring model weights from the end of the best epoch: 6.\n",
      "Epoch 56: early stopping\n",
      "59/59 [==============================] - 0s 1ms/step\n",
      "k-fold validation 4/4\n",
      "Restoring model weights from the end of the best epoch: 36.\n",
      "Epoch 86: early stopping\n",
      "59/59 [==============================] - 0s 998us/step\n",
      "results\n",
      "{'learning_rate': 0.0010000000000000002, 'dropout_rate': 0.2, 'n_layers': 3, 'hidden_units': [256, 16, 16]}\n",
      "yes\n",
      "trying parameter search 4 / 10\n",
      "k-fold validation 1/4\n",
      "Restoring model weights from the end of the best epoch: 45.\n",
      "Epoch 95: early stopping\n",
      "59/59 [==============================] - 0s 882us/step\n",
      "k-fold validation 2/4\n",
      "Restoring model weights from the end of the best epoch: 40.\n",
      "Epoch 90: early stopping\n",
      "59/59 [==============================] - 0s 903us/step\n",
      "k-fold validation 3/4\n",
      "Restoring model weights from the end of the best epoch: 33.\n",
      "Epoch 83: early stopping\n",
      "59/59 [==============================] - 0s 916us/step\n",
      "k-fold validation 4/4\n",
      "Restoring model weights from the end of the best epoch: 37.\n",
      "Epoch 87: early stopping\n",
      "59/59 [==============================] - 0s 891us/step\n",
      "results\n",
      "{'learning_rate': 0.1, 'dropout_rate': 0.1, 'n_layers': 4, 'hidden_units': [256, 16, 256, 16]}\n",
      "yes\n",
      "trying parameter search 5 / 10\n",
      "k-fold validation 1/4\n",
      "Restoring model weights from the end of the best epoch: 27.\n",
      "Epoch 77: early stopping\n",
      "59/59 [==============================] - 0s 1ms/step\n",
      "k-fold validation 2/4\n",
      "Restoring model weights from the end of the best epoch: 25.\n",
      "Epoch 75: early stopping\n",
      "59/59 [==============================] - 0s 928us/step\n",
      "k-fold validation 3/4\n",
      "Restoring model weights from the end of the best epoch: 29.\n",
      "Epoch 79: early stopping\n",
      "59/59 [==============================] - 0s 918us/step\n",
      "k-fold validation 4/4\n",
      "Restoring model weights from the end of the best epoch: 37.\n",
      "Epoch 87: early stopping\n",
      "59/59 [==============================] - 0s 886us/step\n",
      "results\n",
      "{'learning_rate': 0.0010000000000000002, 'dropout_rate': 0.1, 'n_layers': 4, 'hidden_units': [16, 256, 64, 64]}\n",
      "yes\n",
      "trying parameter search 6 / 10\n",
      "k-fold validation 1/4\n",
      "Restoring model weights from the end of the best epoch: 34.\n",
      "Epoch 84: early stopping\n",
      "59/59 [==============================] - 0s 1ms/step\n",
      "k-fold validation 2/4\n",
      "Restoring model weights from the end of the best epoch: 31.\n",
      "Epoch 81: early stopping\n",
      "59/59 [==============================] - 0s 966us/step\n",
      "k-fold validation 3/4\n",
      "Restoring model weights from the end of the best epoch: 20.\n",
      "Epoch 70: early stopping\n",
      "59/59 [==============================] - 0s 965us/step\n",
      "k-fold validation 4/4\n",
      "Restoring model weights from the end of the best epoch: 32.\n",
      "Epoch 82: early stopping\n",
      "59/59 [==============================] - 0s 899us/step\n",
      "results\n",
      "{'learning_rate': 0.1, 'dropout_rate': 0.2, 'n_layers': 3, 'hidden_units': [64, 256, 64]}\n",
      "yes\n",
      "trying parameter search 7 / 10\n",
      "k-fold validation 1/4\n",
      "Restoring model weights from the end of the best epoch: 59.\n",
      "Epoch 109: early stopping\n",
      "59/59 [==============================] - 0s 941us/step\n",
      "k-fold validation 2/4\n",
      "Restoring model weights from the end of the best epoch: 27.\n",
      "Epoch 77: early stopping\n",
      "59/59 [==============================] - 0s 875us/step\n",
      "k-fold validation 3/4\n",
      "Restoring model weights from the end of the best epoch: 65.\n",
      "Epoch 115: early stopping\n",
      "59/59 [==============================] - 0s 966us/step\n",
      "k-fold validation 4/4\n",
      "Restoring model weights from the end of the best epoch: 13.\n",
      "Epoch 63: early stopping\n",
      "59/59 [==============================] - 0s 1ms/step\n",
      "results\n",
      "{'learning_rate': 0.0010000000000000002, 'dropout_rate': 0.2, 'n_layers': 3, 'hidden_units': [16, 16, 64]}\n",
      "yes\n",
      "trying parameter search 8 / 10\n",
      "k-fold validation 1/4\n",
      "Restoring model weights from the end of the best epoch: 21.\n",
      "Epoch 71: early stopping\n",
      "59/59 [==============================] - 0s 809us/step\n",
      "k-fold validation 2/4\n",
      "Restoring model weights from the end of the best epoch: 62.\n",
      "Epoch 112: early stopping\n",
      "59/59 [==============================] - 0s 856us/step\n",
      "k-fold validation 3/4\n",
      "Restoring model weights from the end of the best epoch: 39.\n",
      "Epoch 89: early stopping\n",
      "59/59 [==============================] - 0s 842us/step\n",
      "k-fold validation 4/4\n",
      "Restoring model weights from the end of the best epoch: 62.\n",
      "Epoch 112: early stopping\n",
      "59/59 [==============================] - 0s 899us/step\n",
      "results\n",
      "{'learning_rate': 0.010000000000000002, 'dropout_rate': 0.1, 'n_layers': 4, 'hidden_units': [256, 64, 64, 64]}\n",
      "yes\n",
      "trying parameter search 9 / 10\n",
      "k-fold validation 1/4\n",
      "Restoring model weights from the end of the best epoch: 21.\n",
      "Epoch 71: early stopping\n",
      "59/59 [==============================] - 0s 961us/step\n",
      "k-fold validation 2/4\n",
      "Restoring model weights from the end of the best epoch: 14.\n",
      "Epoch 64: early stopping\n",
      "59/59 [==============================] - 0s 958us/step\n",
      "k-fold validation 3/4\n",
      "Restoring model weights from the end of the best epoch: 16.\n",
      "Epoch 66: early stopping\n",
      "59/59 [==============================] - 0s 1ms/step\n",
      "k-fold validation 4/4\n",
      "Restoring model weights from the end of the best epoch: 12.\n",
      "Epoch 62: early stopping\n",
      "59/59 [==============================] - 0s 873us/step\n",
      "results\n",
      "{'learning_rate': 0.010000000000000002, 'dropout_rate': 0.3, 'n_layers': 2, 'hidden_units': [16, 64]}\n",
      "yes\n",
      "trying parameter search 10 / 10\n",
      "k-fold validation 1/4\n",
      "Restoring model weights from the end of the best epoch: 21.\n",
      "Epoch 71: early stopping\n",
      "59/59 [==============================] - 0s 1ms/step\n",
      "k-fold validation 2/4\n",
      "Restoring model weights from the end of the best epoch: 18.\n",
      "Epoch 68: early stopping\n",
      "59/59 [==============================] - 0s 934us/step\n",
      "k-fold validation 3/4\n",
      "Restoring model weights from the end of the best epoch: 34.\n",
      "Epoch 84: early stopping\n",
      "59/59 [==============================] - 0s 855us/step\n",
      "k-fold validation 4/4\n",
      "Restoring model weights from the end of the best epoch: 6.\n",
      "Epoch 56: early stopping\n",
      "59/59 [==============================] - 0s 938us/step\n",
      "results\n",
      "{'learning_rate': 0.0010000000000000002, 'dropout_rate': 0.2, 'n_layers': 3, 'hidden_units': [256, 16, 16]}\n",
      "evaluating train-test performance\n",
      "Restoring model weights from the end of the best epoch: 46.\n",
      "Epoch 96: early stopping\n",
      "157/157 [==============================] - 0s 915us/step\n",
      "79/79 [==============================] - 0s 882us/step\n",
      "0\n",
      "Restoring model weights from the end of the best epoch: 25.\n",
      "Epoch 75: early stopping\n",
      "157/157 [==============================] - 0s 889us/step\n",
      "79/79 [==============================] - 0s 1ms/step\n",
      "Restoring model weights from the end of the best epoch: 38.\n",
      "Epoch 88: early stopping\n",
      "157/157 [==============================] - 0s 954us/step\n",
      "79/79 [==============================] - 0s 914us/step\n",
      "Restoring model weights from the end of the best epoch: 49.\n",
      "Epoch 99: early stopping\n",
      "157/157 [==============================] - 0s 916us/step\n",
      "79/79 [==============================] - 0s 909us/step\n",
      "Restoring model weights from the end of the best epoch: 53.\n",
      "Epoch 103: early stopping\n",
      "157/157 [==============================] - 0s 891us/step\n",
      "79/79 [==============================] - 0s 892us/step\n",
      "Restoring model weights from the end of the best epoch: 43.\n",
      "Epoch 93: early stopping\n",
      "157/157 [==============================] - 0s 942us/step\n",
      "79/79 [==============================] - 0s 946us/step\n",
      "Restoring model weights from the end of the best epoch: 52.\n",
      "Epoch 102: early stopping\n",
      "157/157 [==============================] - 0s 1ms/step\n",
      "79/79 [==============================] - 0s 927us/step\n",
      "Restoring model weights from the end of the best epoch: 8.\n",
      "Epoch 58: early stopping\n",
      "157/157 [==============================] - 0s 1ms/step\n",
      "79/79 [==============================] - 0s 898us/step\n",
      "Restoring model weights from the end of the best epoch: 38.\n",
      "Epoch 88: early stopping\n",
      "157/157 [==============================] - 0s 893us/step\n",
      "79/79 [==============================] - 0s 904us/step\n",
      "Restoring model weights from the end of the best epoch: 13.\n",
      "Epoch 63: early stopping\n",
      "157/157 [==============================] - 0s 1ms/step\n",
      "79/79 [==============================] - 0s 853us/step\n",
      "Restoring model weights from the end of the best epoch: 52.\n",
      "Epoch 102: early stopping\n",
      "157/157 [==============================] - 0s 979us/step\n",
      "79/79 [==============================] - 0s 900us/step\n",
      "10\n",
      "Restoring model weights from the end of the best epoch: 26.\n",
      "Epoch 76: early stopping\n",
      "157/157 [==============================] - 0s 998us/step\n",
      "79/79 [==============================] - 0s 1ms/step\n",
      "Restoring model weights from the end of the best epoch: 47.\n",
      "Epoch 97: early stopping\n",
      "157/157 [==============================] - 0s 907us/step\n",
      "79/79 [==============================] - 0s 878us/step\n",
      "Restoring model weights from the end of the best epoch: 53.\n",
      "Epoch 103: early stopping\n",
      "157/157 [==============================] - 0s 1ms/step\n",
      "79/79 [==============================] - 0s 907us/step\n",
      "Restoring model weights from the end of the best epoch: 51.\n",
      "Epoch 101: early stopping\n",
      "157/157 [==============================] - 0s 917us/step\n",
      "79/79 [==============================] - 0s 902us/step\n",
      "Restoring model weights from the end of the best epoch: 63.\n",
      "Epoch 113: early stopping\n",
      "157/157 [==============================] - 0s 923us/step\n",
      "79/79 [==============================] - 0s 880us/step\n",
      "Restoring model weights from the end of the best epoch: 44.\n",
      "Epoch 94: early stopping\n",
      "157/157 [==============================] - 0s 901us/step\n",
      "79/79 [==============================] - 0s 1ms/step\n",
      "Restoring model weights from the end of the best epoch: 54.\n",
      "Epoch 104: early stopping\n",
      "157/157 [==============================] - 0s 850us/step\n",
      "79/79 [==============================] - 0s 837us/step\n",
      "Restoring model weights from the end of the best epoch: 13.\n",
      "Epoch 63: early stopping\n",
      "157/157 [==============================] - 0s 913us/step\n",
      "79/79 [==============================] - 0s 902us/step\n",
      "Restoring model weights from the end of the best epoch: 61.\n",
      "Epoch 111: early stopping\n",
      "157/157 [==============================] - 0s 865us/step\n",
      "79/79 [==============================] - 0s 899us/step\n",
      "Restoring model weights from the end of the best epoch: 55.\n",
      "Epoch 105: early stopping\n",
      "157/157 [==============================] - 0s 859us/step\n",
      "79/79 [==============================] - 0s 867us/step\n",
      "20\n",
      "Restoring model weights from the end of the best epoch: 58.\n",
      "Epoch 108: early stopping\n",
      "157/157 [==============================] - 0s 860us/step\n",
      "79/79 [==============================] - 0s 907us/step\n",
      "Restoring model weights from the end of the best epoch: 24.\n",
      "Epoch 74: early stopping\n",
      "157/157 [==============================] - 0s 835us/step\n",
      "79/79 [==============================] - 0s 978us/step\n",
      "Restoring model weights from the end of the best epoch: 8.\n",
      "Epoch 58: early stopping\n",
      "157/157 [==============================] - 0s 1ms/step\n",
      "79/79 [==============================] - 0s 1ms/step\n",
      "Restoring model weights from the end of the best epoch: 39.\n",
      "Epoch 89: early stopping\n",
      "157/157 [==============================] - 0s 857us/step\n",
      "79/79 [==============================] - 0s 868us/step\n",
      "Restoring model weights from the end of the best epoch: 56.\n",
      "Epoch 106: early stopping\n",
      "157/157 [==============================] - 0s 849us/step\n",
      "79/79 [==============================] - 0s 948us/step\n",
      "Restoring model weights from the end of the best epoch: 42.\n",
      "Epoch 92: early stopping\n",
      "157/157 [==============================] - 0s 860us/step\n",
      "79/79 [==============================] - 0s 901us/step\n",
      "Restoring model weights from the end of the best epoch: 16.\n",
      "Epoch 66: early stopping\n",
      "157/157 [==============================] - 0s 818us/step\n",
      "79/79 [==============================] - 0s 882us/step\n",
      "Restoring model weights from the end of the best epoch: 59.\n",
      "Epoch 109: early stopping\n",
      "157/157 [==============================] - 0s 848us/step\n",
      "79/79 [==============================] - 0s 854us/step\n",
      "Restoring model weights from the end of the best epoch: 35.\n",
      "Epoch 85: early stopping\n",
      "157/157 [==============================] - 0s 825us/step\n",
      "79/79 [==============================] - 0s 813us/step\n",
      "Restoring model weights from the end of the best epoch: 55.\n",
      "Epoch 105: early stopping\n",
      "157/157 [==============================] - 0s 1ms/step\n",
      "79/79 [==============================] - 0s 1ms/step\n",
      "30\n",
      "Restoring model weights from the end of the best epoch: 45.\n",
      "Epoch 95: early stopping\n",
      "157/157 [==============================] - 0s 836us/step\n",
      "79/79 [==============================] - 0s 847us/step\n",
      "Restoring model weights from the end of the best epoch: 61.\n",
      "Epoch 111: early stopping\n",
      "157/157 [==============================] - 0s 948us/step\n",
      "79/79 [==============================] - 0s 920us/step\n",
      "Restoring model weights from the end of the best epoch: 36.\n",
      "Epoch 86: early stopping\n",
      "157/157 [==============================] - 0s 869us/step\n",
      "79/79 [==============================] - 0s 929us/step\n",
      "Restoring model weights from the end of the best epoch: 50.\n",
      "Epoch 100: early stopping\n",
      "157/157 [==============================] - 0s 811us/step\n",
      "79/79 [==============================] - 0s 909us/step\n",
      "Restoring model weights from the end of the best epoch: 44.\n",
      "Epoch 94: early stopping\n",
      "157/157 [==============================] - 0s 850us/step\n",
      "79/79 [==============================] - 0s 887us/step\n",
      "Restoring model weights from the end of the best epoch: 38.\n",
      "Epoch 88: early stopping\n",
      "157/157 [==============================] - 0s 851us/step\n",
      "79/79 [==============================] - 0s 807us/step\n",
      "Restoring model weights from the end of the best epoch: 37.\n",
      "Epoch 87: early stopping\n",
      "157/157 [==============================] - 0s 867us/step\n",
      "79/79 [==============================] - 0s 897us/step\n",
      "Restoring model weights from the end of the best epoch: 7.\n",
      "Epoch 57: early stopping\n",
      "157/157 [==============================] - 0s 865us/step\n",
      "79/79 [==============================] - 0s 838us/step\n",
      "Restoring model weights from the end of the best epoch: 23.\n",
      "Epoch 73: early stopping\n",
      "157/157 [==============================] - 0s 1ms/step\n",
      "79/79 [==============================] - 0s 933us/step\n",
      "Restoring model weights from the end of the best epoch: 48.\n",
      "Epoch 98: early stopping\n",
      "157/157 [==============================] - 0s 1ms/step\n",
      "79/79 [==============================] - 0s 1ms/step\n",
      "40\n",
      "Restoring model weights from the end of the best epoch: 51.\n",
      "Epoch 101: early stopping\n",
      "157/157 [==============================] - 0s 977us/step\n",
      "79/79 [==============================] - 0s 986us/step\n",
      "Restoring model weights from the end of the best epoch: 37.\n",
      "Epoch 87: early stopping\n",
      "157/157 [==============================] - 0s 1ms/step\n",
      "79/79 [==============================] - 0s 1ms/step\n",
      "Restoring model weights from the end of the best epoch: 46.\n",
      "Epoch 96: early stopping\n",
      "157/157 [==============================] - 0s 934us/step\n",
      "79/79 [==============================] - 0s 974us/step\n",
      "Restoring model weights from the end of the best epoch: 50.\n",
      "Epoch 100: early stopping\n",
      "157/157 [==============================] - 0s 1ms/step\n",
      "79/79 [==============================] - 0s 1ms/step\n",
      "Restoring model weights from the end of the best epoch: 58.\n",
      "Epoch 108: early stopping\n",
      "157/157 [==============================] - 0s 1ms/step\n",
      "79/79 [==============================] - 0s 988us/step\n",
      "Restoring model weights from the end of the best epoch: 37.\n",
      "Epoch 87: early stopping\n",
      "157/157 [==============================] - 0s 1ms/step\n",
      "79/79 [==============================] - 0s 1ms/step\n",
      "Restoring model weights from the end of the best epoch: 49.\n",
      "Epoch 99: early stopping\n",
      "157/157 [==============================] - 0s 972us/step\n",
      "79/79 [==============================] - 0s 993us/step\n",
      "Restoring model weights from the end of the best epoch: 43.\n",
      "Epoch 93: early stopping\n",
      "157/157 [==============================] - 0s 1ms/step\n",
      "79/79 [==============================] - 0s 1ms/step\n",
      "Restoring model weights from the end of the best epoch: 37.\n",
      "Epoch 87: early stopping\n",
      "157/157 [==============================] - 0s 1ms/step\n",
      "79/79 [==============================] - 0s 985us/step\n"
     ]
    }
   ],
   "source": [
    "model_name = 'NN_ee'"
   ]
  },
  {
   "cell_type": "code",
   "execution_count": null,
   "id": "5b85898e",
   "metadata": {},
   "outputs": [],
   "source": [
    "top_hyperparameters, tuning_results, hyperparameters_tested, val_scores_all = NN_ee_hyperparameter_tuning_k_fold(exp_id, k, y_dist, n_search)\n",
    "np.save(f\"k_fold_results/experiment_{exp_id}/{model_name}/top_hyperparameters_{k}_fold.npy\", top_hyperparameters)"
   ]
  },
  {
   "cell_type": "code",
   "execution_count": null,
   "id": "63648fe1",
   "metadata": {},
   "outputs": [],
   "source": [
    "print(\"evaluating train-test performance\")\n",
    "train_scores_model, test_scores_model = get_train_test_scores_nn_ee(exp_id, y_dist, top_hyperparameters)"
   ]
  },
  {
   "cell_type": "code",
   "execution_count": null,
   "id": "255dab86",
   "metadata": {},
   "outputs": [],
   "source": [
    "np.save(f\"k_fold_results/experiment_{exp_id}/{model_name}/train_scores_{k}_fold.npy\", train_scores_model)\n",
    "np.save(f\"k_fold_results/experiment_{exp_id}/{model_name}/test_scores_{k}_fold.npy\", test_scores_model)"
   ]
  },
  {
   "cell_type": "code",
   "execution_count": null,
   "id": "bb956212-8792-4672-99b8-e2c1d09695ff",
   "metadata": {},
   "outputs": [],
   "source": [
    "train_scores_dict[model_name] = train_scores_model\n",
    "test_scores_dict[model_name] = test_scores_model\n",
    "top_hyperparameters_dict[model_name] = top_hyperparameters"
   ]
  },
  {
   "cell_type": "markdown",
   "id": "18cacd68",
   "metadata": {},
   "source": [
    "### Save results dictionaries"
   ]
  },
  {
   "cell_type": "code",
   "execution_count": null,
   "id": "b49d0c5c-a228-49fb-a526-42507414c679",
   "metadata": {},
   "outputs": [],
   "source": [
    "if 'k_fold_results' not in os.getcwd():\n",
    "    print('Change directory')"
   ]
  },
  {
   "cell_type": "code",
   "execution_count": null,
   "id": "4a44cc95-3a80-44d0-b2e1-ee2e4578b2eb",
   "metadata": {},
   "outputs": [
    {
     "name": "stdout",
     "output_type": "stream",
     "text": [
      "8\n"
     ]
    },
    {
     "ename": "NameError",
     "evalue": "name 'train_scores_dict' is not defined",
     "output_type": "error",
     "traceback": [
      "\u001b[0;31m---------------------------------------------------------------------------\u001b[0m",
      "\u001b[0;31mNameError\u001b[0m                                 Traceback (most recent call last)",
      "\u001b[0;32m/var/folders/06/8g5vvm250gd__pt9y78h8m2h0000gn/T/ipykernel_1147/3358517376.py\u001b[0m in \u001b[0;36m<module>\u001b[0;34m\u001b[0m\n\u001b[1;32m      1\u001b[0m \u001b[0mprint\u001b[0m\u001b[0;34m(\u001b[0m\u001b[0mexp_id\u001b[0m\u001b[0;34m)\u001b[0m\u001b[0;34m\u001b[0m\u001b[0;34m\u001b[0m\u001b[0m\n\u001b[1;32m      2\u001b[0m \u001b[0mos\u001b[0m\u001b[0;34m.\u001b[0m\u001b[0mchdir\u001b[0m\u001b[0;34m(\u001b[0m\u001b[0;34mf'/Users/jovanakolar/Library/CloudStorage/OneDrive-UNSW/glmmnet-main/simulation/data/experiment_{exp_id}'\u001b[0m\u001b[0;34m)\u001b[0m\u001b[0;34m\u001b[0m\u001b[0;34m\u001b[0m\u001b[0m\n\u001b[0;32m----> 3\u001b[0;31m \u001b[0mnp\u001b[0m\u001b[0;34m.\u001b[0m\u001b[0msave\u001b[0m\u001b[0;34m(\u001b[0m\u001b[0;34mf'train_scores_dict_{exp_id}.npy'\u001b[0m\u001b[0;34m,\u001b[0m \u001b[0mtrain_scores_dict\u001b[0m\u001b[0;34m)\u001b[0m\u001b[0;34m\u001b[0m\u001b[0;34m\u001b[0m\u001b[0m\n\u001b[0m\u001b[1;32m      4\u001b[0m \u001b[0mnp\u001b[0m\u001b[0;34m.\u001b[0m\u001b[0msave\u001b[0m\u001b[0;34m(\u001b[0m\u001b[0;34mf'test_scores_dict_{exp_id}.npy'\u001b[0m\u001b[0;34m,\u001b[0m \u001b[0mtest_scores_dict\u001b[0m\u001b[0;34m)\u001b[0m\u001b[0;34m\u001b[0m\u001b[0;34m\u001b[0m\u001b[0m\n\u001b[1;32m      5\u001b[0m \u001b[0mnp\u001b[0m\u001b[0;34m.\u001b[0m\u001b[0msave\u001b[0m\u001b[0;34m(\u001b[0m\u001b[0;34mf'top_hyperparameters_dict_{exp_id}.npy'\u001b[0m\u001b[0;34m,\u001b[0m \u001b[0mtop_hyperparameters_dict\u001b[0m\u001b[0;34m)\u001b[0m\u001b[0;34m\u001b[0m\u001b[0;34m\u001b[0m\u001b[0m\n",
      "\u001b[0;31mNameError\u001b[0m: name 'train_scores_dict' is not defined"
     ]
    }
   ],
   "source": [
    "np.save(f'k_fold_results/experiment_{exp_id}/train_scores_dict_{exp_id}.npy', train_scores_dict)\n",
    "np.save(f'k_fold_results/experiment_{exp_id}/test_scores_dict_{exp_id}.npy', test_scores_dict)\n",
    "np.save(f'k_fold_results/experiment_{exp_id}/top_hyperparameters_dict_{exp_id}.npy', top_hyperparameters_dict)"
   ]
  },
  {
   "cell_type": "markdown",
   "id": "cc04f838",
   "metadata": {},
   "source": [
    "## GPBoost "
   ]
  },
  {
   "cell_type": "code",
   "execution_count": 32,
   "id": "e3f7893e",
   "metadata": {},
   "outputs": [
    {
     "name": "stdout",
     "output_type": "stream",
     "text": [
      "Pause and run R script GPBoost_simulation_hyperparameter_tuning.R - change exp_id and y_dist\n"
     ]
    }
   ],
   "source": [
    "print(\"Pause and run R script GPBoost_simulation_hyperparameter_tuning.R - change exp_id and y_dist\")"
   ]
  }
 ],
 "metadata": {
  "kernelspec": {
   "display_name": "Python 3 (ipykernel)",
   "language": "python",
   "name": "python3"
  },
  "language_info": {
   "codemirror_mode": {
    "name": "ipython",
    "version": 3
   },
   "file_extension": ".py",
   "mimetype": "text/x-python",
   "name": "python",
   "nbconvert_exporter": "python",
   "pygments_lexer": "ipython3",
   "version": "3.10.12"
  }
 },
 "nbformat": 4,
 "nbformat_minor": 5
}
